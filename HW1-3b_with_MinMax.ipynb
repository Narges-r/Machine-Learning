{
 "cells": [
  {
   "cell_type": "code",
   "execution_count": 1,
   "id": "2931c77c-0492-4bb7-95a1-7c3ada52292b",
   "metadata": {},
   "outputs": [],
   "source": [
    "import numpy as np\n",
    "import pandas as pd\n",
    "import matplotlib.pyplot  as  plt"
   ]
  },
  {
   "cell_type": "code",
   "execution_count": 2,
   "id": "1f193d18-5751-4f6d-a0db-429e03ee5219",
   "metadata": {},
   "outputs": [
    {
     "data": {
      "text/html": [
       "<div>\n",
       "<style scoped>\n",
       "    .dataframe tbody tr th:only-of-type {\n",
       "        vertical-align: middle;\n",
       "    }\n",
       "\n",
       "    .dataframe tbody tr th {\n",
       "        vertical-align: top;\n",
       "    }\n",
       "\n",
       "    .dataframe thead th {\n",
       "        text-align: right;\n",
       "    }\n",
       "</style>\n",
       "<table border=\"1\" class=\"dataframe\">\n",
       "  <thead>\n",
       "    <tr style=\"text-align: right;\">\n",
       "      <th></th>\n",
       "      <th>price</th>\n",
       "      <th>area</th>\n",
       "      <th>bedrooms</th>\n",
       "      <th>bathrooms</th>\n",
       "      <th>stories</th>\n",
       "      <th>mainroad</th>\n",
       "      <th>guestroom</th>\n",
       "      <th>basement</th>\n",
       "      <th>hotwaterheating</th>\n",
       "      <th>airconditioning</th>\n",
       "      <th>parking</th>\n",
       "      <th>prefarea</th>\n",
       "      <th>furnishingstatus</th>\n",
       "    </tr>\n",
       "  </thead>\n",
       "  <tbody>\n",
       "    <tr>\n",
       "      <th>0</th>\n",
       "      <td>13300000</td>\n",
       "      <td>7420</td>\n",
       "      <td>4</td>\n",
       "      <td>2</td>\n",
       "      <td>3</td>\n",
       "      <td>yes</td>\n",
       "      <td>no</td>\n",
       "      <td>no</td>\n",
       "      <td>no</td>\n",
       "      <td>yes</td>\n",
       "      <td>2</td>\n",
       "      <td>yes</td>\n",
       "      <td>furnished</td>\n",
       "    </tr>\n",
       "    <tr>\n",
       "      <th>1</th>\n",
       "      <td>12250000</td>\n",
       "      <td>8960</td>\n",
       "      <td>4</td>\n",
       "      <td>4</td>\n",
       "      <td>4</td>\n",
       "      <td>yes</td>\n",
       "      <td>no</td>\n",
       "      <td>no</td>\n",
       "      <td>no</td>\n",
       "      <td>yes</td>\n",
       "      <td>3</td>\n",
       "      <td>no</td>\n",
       "      <td>furnished</td>\n",
       "    </tr>\n",
       "    <tr>\n",
       "      <th>2</th>\n",
       "      <td>12250000</td>\n",
       "      <td>9960</td>\n",
       "      <td>3</td>\n",
       "      <td>2</td>\n",
       "      <td>2</td>\n",
       "      <td>yes</td>\n",
       "      <td>no</td>\n",
       "      <td>yes</td>\n",
       "      <td>no</td>\n",
       "      <td>no</td>\n",
       "      <td>2</td>\n",
       "      <td>yes</td>\n",
       "      <td>semi-furnished</td>\n",
       "    </tr>\n",
       "    <tr>\n",
       "      <th>3</th>\n",
       "      <td>12215000</td>\n",
       "      <td>7500</td>\n",
       "      <td>4</td>\n",
       "      <td>2</td>\n",
       "      <td>2</td>\n",
       "      <td>yes</td>\n",
       "      <td>no</td>\n",
       "      <td>yes</td>\n",
       "      <td>no</td>\n",
       "      <td>yes</td>\n",
       "      <td>3</td>\n",
       "      <td>yes</td>\n",
       "      <td>furnished</td>\n",
       "    </tr>\n",
       "    <tr>\n",
       "      <th>4</th>\n",
       "      <td>11410000</td>\n",
       "      <td>7420</td>\n",
       "      <td>4</td>\n",
       "      <td>1</td>\n",
       "      <td>2</td>\n",
       "      <td>yes</td>\n",
       "      <td>yes</td>\n",
       "      <td>yes</td>\n",
       "      <td>no</td>\n",
       "      <td>yes</td>\n",
       "      <td>2</td>\n",
       "      <td>no</td>\n",
       "      <td>furnished</td>\n",
       "    </tr>\n",
       "  </tbody>\n",
       "</table>\n",
       "</div>"
      ],
      "text/plain": [
       "      price  area  bedrooms  bathrooms  stories mainroad guestroom basement  \\\n",
       "0  13300000  7420         4          2        3      yes        no       no   \n",
       "1  12250000  8960         4          4        4      yes        no       no   \n",
       "2  12250000  9960         3          2        2      yes        no      yes   \n",
       "3  12215000  7500         4          2        2      yes        no      yes   \n",
       "4  11410000  7420         4          1        2      yes       yes      yes   \n",
       "\n",
       "  hotwaterheating airconditioning  parking prefarea furnishingstatus  \n",
       "0              no             yes        2      yes        furnished  \n",
       "1              no             yes        3       no        furnished  \n",
       "2              no              no        2      yes   semi-furnished  \n",
       "3              no             yes        3      yes        furnished  \n",
       "4              no             yes        2       no        furnished  "
      ]
     },
     "execution_count": 2,
     "metadata": {},
     "output_type": "execute_result"
    }
   ],
   "source": [
    "housing=pd.read_csv('Housing.csv')\n",
    "housing.head(5)"
   ]
  },
  {
   "cell_type": "code",
   "execution_count": 3,
   "id": "b93ae715-e1d7-42bf-8c2e-07e382136ef1",
   "metadata": {
    "tags": []
   },
   "outputs": [
    {
     "data": {
      "text/html": [
       "<div>\n",
       "<style scoped>\n",
       "    .dataframe tbody tr th:only-of-type {\n",
       "        vertical-align: middle;\n",
       "    }\n",
       "\n",
       "    .dataframe tbody tr th {\n",
       "        vertical-align: top;\n",
       "    }\n",
       "\n",
       "    .dataframe thead th {\n",
       "        text-align: right;\n",
       "    }\n",
       "</style>\n",
       "<table border=\"1\" class=\"dataframe\">\n",
       "  <thead>\n",
       "    <tr style=\"text-align: right;\">\n",
       "      <th></th>\n",
       "      <th>price</th>\n",
       "      <th>area</th>\n",
       "      <th>bedrooms</th>\n",
       "      <th>bathrooms</th>\n",
       "      <th>stories</th>\n",
       "      <th>mainroad</th>\n",
       "      <th>guestroom</th>\n",
       "      <th>basement</th>\n",
       "      <th>hotwaterheating</th>\n",
       "      <th>airconditioning</th>\n",
       "      <th>parking</th>\n",
       "      <th>prefarea</th>\n",
       "      <th>furnishingstatus</th>\n",
       "    </tr>\n",
       "  </thead>\n",
       "  <tbody>\n",
       "    <tr>\n",
       "      <th>0</th>\n",
       "      <td>13300000</td>\n",
       "      <td>7420</td>\n",
       "      <td>4</td>\n",
       "      <td>2</td>\n",
       "      <td>3</td>\n",
       "      <td>1</td>\n",
       "      <td>0</td>\n",
       "      <td>0</td>\n",
       "      <td>0</td>\n",
       "      <td>1</td>\n",
       "      <td>2</td>\n",
       "      <td>1</td>\n",
       "      <td>furnished</td>\n",
       "    </tr>\n",
       "    <tr>\n",
       "      <th>1</th>\n",
       "      <td>12250000</td>\n",
       "      <td>8960</td>\n",
       "      <td>4</td>\n",
       "      <td>4</td>\n",
       "      <td>4</td>\n",
       "      <td>1</td>\n",
       "      <td>0</td>\n",
       "      <td>0</td>\n",
       "      <td>0</td>\n",
       "      <td>1</td>\n",
       "      <td>3</td>\n",
       "      <td>0</td>\n",
       "      <td>furnished</td>\n",
       "    </tr>\n",
       "    <tr>\n",
       "      <th>2</th>\n",
       "      <td>12250000</td>\n",
       "      <td>9960</td>\n",
       "      <td>3</td>\n",
       "      <td>2</td>\n",
       "      <td>2</td>\n",
       "      <td>1</td>\n",
       "      <td>0</td>\n",
       "      <td>1</td>\n",
       "      <td>0</td>\n",
       "      <td>0</td>\n",
       "      <td>2</td>\n",
       "      <td>1</td>\n",
       "      <td>semi-furnished</td>\n",
       "    </tr>\n",
       "    <tr>\n",
       "      <th>3</th>\n",
       "      <td>12215000</td>\n",
       "      <td>7500</td>\n",
       "      <td>4</td>\n",
       "      <td>2</td>\n",
       "      <td>2</td>\n",
       "      <td>1</td>\n",
       "      <td>0</td>\n",
       "      <td>1</td>\n",
       "      <td>0</td>\n",
       "      <td>1</td>\n",
       "      <td>3</td>\n",
       "      <td>1</td>\n",
       "      <td>furnished</td>\n",
       "    </tr>\n",
       "    <tr>\n",
       "      <th>4</th>\n",
       "      <td>11410000</td>\n",
       "      <td>7420</td>\n",
       "      <td>4</td>\n",
       "      <td>1</td>\n",
       "      <td>2</td>\n",
       "      <td>1</td>\n",
       "      <td>1</td>\n",
       "      <td>1</td>\n",
       "      <td>0</td>\n",
       "      <td>1</td>\n",
       "      <td>2</td>\n",
       "      <td>0</td>\n",
       "      <td>furnished</td>\n",
       "    </tr>\n",
       "  </tbody>\n",
       "</table>\n",
       "</div>"
      ],
      "text/plain": [
       "      price  area  bedrooms  bathrooms  stories  mainroad  guestroom  \\\n",
       "0  13300000  7420         4          2        3         1          0   \n",
       "1  12250000  8960         4          4        4         1          0   \n",
       "2  12250000  9960         3          2        2         1          0   \n",
       "3  12215000  7500         4          2        2         1          0   \n",
       "4  11410000  7420         4          1        2         1          1   \n",
       "\n",
       "   basement  hotwaterheating  airconditioning  parking  prefarea  \\\n",
       "0         0                0                1        2         1   \n",
       "1         0                0                1        3         0   \n",
       "2         1                0                0        2         1   \n",
       "3         1                0                1        3         1   \n",
       "4         1                0                1        2         0   \n",
       "\n",
       "  furnishingstatus  \n",
       "0        furnished  \n",
       "1        furnished  \n",
       "2   semi-furnished  \n",
       "3        furnished  \n",
       "4        furnished  "
      ]
     },
     "execution_count": 3,
     "metadata": {},
     "output_type": "execute_result"
    }
   ],
   "source": [
    "housing.mainroad = housing.mainroad.map(dict(yes=1,no=0))\n",
    "housing.guestroom = housing.guestroom.map(dict(yes=1,no=0))\n",
    "housing.basement = housing.basement.map(dict(yes=1,no=0))\n",
    "housing.hotwaterheating = housing.hotwaterheating.map(dict(yes=1,no=0))\n",
    "housing.airconditioning = housing.airconditioning.map(dict(yes=1,no=0))\n",
    "housing.prefarea = housing.prefarea.map(dict(yes=1,no=0))\n",
    "\n",
    "housing.head(5)"
   ]
  },
  {
   "cell_type": "code",
   "execution_count": 4,
   "id": "c4b78899-47a9-43cc-8b4e-83ad51c01994",
   "metadata": {},
   "outputs": [
    {
     "data": {
      "text/plain": [
       "(545, 13)"
      ]
     },
     "execution_count": 4,
     "metadata": {},
     "output_type": "execute_result"
    }
   ],
   "source": [
    "housing.shape"
   ]
  },
  {
   "cell_type": "code",
   "execution_count": 5,
   "id": "967ec3cc-5c7e-4843-8905-b4de07507297",
   "metadata": {},
   "outputs": [
    {
     "data": {
      "text/plain": [
       "(436, 13)"
      ]
     },
     "execution_count": 5,
     "metadata": {},
     "output_type": "execute_result"
    }
   ],
   "source": [
    "from sklearn.model_selection import train_test_split\n",
    "np.random.seed(0)\n",
    "df_train,df_test=train_test_split(housing, train_size=0.8, test_size=0.2)\n",
    "df_train.shape"
   ]
  },
  {
   "cell_type": "code",
   "execution_count": 6,
   "id": "fe9ea6ce-a34a-42a4-b81c-385a52c8392c",
   "metadata": {},
   "outputs": [
    {
     "data": {
      "text/plain": [
       "(109, 13)"
      ]
     },
     "execution_count": 6,
     "metadata": {},
     "output_type": "execute_result"
    }
   ],
   "source": [
    "df_test.shape"
   ]
  },
  {
   "cell_type": "code",
   "execution_count": 7,
   "id": "3b19c660-9729-4106-a085-f9c6f137bb39",
   "metadata": {},
   "outputs": [
    {
     "data": {
      "text/html": [
       "<div>\n",
       "<style scoped>\n",
       "    .dataframe tbody tr th:only-of-type {\n",
       "        vertical-align: middle;\n",
       "    }\n",
       "\n",
       "    .dataframe tbody tr th {\n",
       "        vertical-align: top;\n",
       "    }\n",
       "\n",
       "    .dataframe thead th {\n",
       "        text-align: right;\n",
       "    }\n",
       "</style>\n",
       "<table border=\"1\" class=\"dataframe\">\n",
       "  <thead>\n",
       "    <tr style=\"text-align: right;\">\n",
       "      <th></th>\n",
       "      <th>area</th>\n",
       "      <th>bathrooms</th>\n",
       "      <th>bedrooms</th>\n",
       "      <th>stories</th>\n",
       "      <th>mainroad</th>\n",
       "      <th>guestroom</th>\n",
       "      <th>basement</th>\n",
       "      <th>hotwaterheating</th>\n",
       "      <th>airconditioning</th>\n",
       "      <th>parking</th>\n",
       "      <th>prefarea</th>\n",
       "      <th>price</th>\n",
       "    </tr>\n",
       "  </thead>\n",
       "  <tbody>\n",
       "    <tr>\n",
       "      <th>542</th>\n",
       "      <td>3620</td>\n",
       "      <td>1</td>\n",
       "      <td>2</td>\n",
       "      <td>1</td>\n",
       "      <td>1</td>\n",
       "      <td>0</td>\n",
       "      <td>0</td>\n",
       "      <td>0</td>\n",
       "      <td>0</td>\n",
       "      <td>0</td>\n",
       "      <td>0</td>\n",
       "      <td>1750000</td>\n",
       "    </tr>\n",
       "    <tr>\n",
       "      <th>496</th>\n",
       "      <td>4000</td>\n",
       "      <td>1</td>\n",
       "      <td>2</td>\n",
       "      <td>1</td>\n",
       "      <td>1</td>\n",
       "      <td>0</td>\n",
       "      <td>0</td>\n",
       "      <td>0</td>\n",
       "      <td>0</td>\n",
       "      <td>0</td>\n",
       "      <td>0</td>\n",
       "      <td>2695000</td>\n",
       "    </tr>\n",
       "    <tr>\n",
       "      <th>484</th>\n",
       "      <td>3040</td>\n",
       "      <td>1</td>\n",
       "      <td>2</td>\n",
       "      <td>1</td>\n",
       "      <td>0</td>\n",
       "      <td>0</td>\n",
       "      <td>0</td>\n",
       "      <td>0</td>\n",
       "      <td>0</td>\n",
       "      <td>0</td>\n",
       "      <td>0</td>\n",
       "      <td>2870000</td>\n",
       "    </tr>\n",
       "    <tr>\n",
       "      <th>507</th>\n",
       "      <td>3600</td>\n",
       "      <td>1</td>\n",
       "      <td>2</td>\n",
       "      <td>1</td>\n",
       "      <td>1</td>\n",
       "      <td>0</td>\n",
       "      <td>0</td>\n",
       "      <td>0</td>\n",
       "      <td>0</td>\n",
       "      <td>0</td>\n",
       "      <td>0</td>\n",
       "      <td>2590000</td>\n",
       "    </tr>\n",
       "    <tr>\n",
       "      <th>252</th>\n",
       "      <td>9860</td>\n",
       "      <td>1</td>\n",
       "      <td>3</td>\n",
       "      <td>1</td>\n",
       "      <td>1</td>\n",
       "      <td>0</td>\n",
       "      <td>0</td>\n",
       "      <td>0</td>\n",
       "      <td>0</td>\n",
       "      <td>0</td>\n",
       "      <td>0</td>\n",
       "      <td>4515000</td>\n",
       "    </tr>\n",
       "  </tbody>\n",
       "</table>\n",
       "</div>"
      ],
      "text/plain": [
       "     area  bathrooms  bedrooms  stories  mainroad  guestroom  basement  \\\n",
       "542  3620          1         2        1         1          0         0   \n",
       "496  4000          1         2        1         1          0         0   \n",
       "484  3040          1         2        1         0          0         0   \n",
       "507  3600          1         2        1         1          0         0   \n",
       "252  9860          1         3        1         1          0         0   \n",
       "\n",
       "     hotwaterheating  airconditioning  parking  prefarea    price  \n",
       "542                0                0        0         0  1750000  \n",
       "496                0                0        0         0  2695000  \n",
       "484                0                0        0         0  2870000  \n",
       "507                0                0        0         0  2590000  \n",
       "252                0                0        0         0  4515000  "
      ]
     },
     "execution_count": 7,
     "metadata": {},
     "output_type": "execute_result"
    }
   ],
   "source": [
    "num_vars=['area','bathrooms','bedrooms', 'stories', 'mainroad', 'guestroom','basement', 'hotwaterheating', 'airconditioning','parking','prefarea', 'price']\n",
    "df_Newtrain=df_train[num_vars]\n",
    "df_Newtest=df_test[num_vars]\n",
    "df_Newtrain.head()\n",
    "\n"
   ]
  },
  {
   "cell_type": "code",
   "execution_count": 8,
   "id": "6961c76a-4a38-4602-9d2c-d6a35fda6380",
   "metadata": {},
   "outputs": [
    {
     "data": {
      "text/plain": [
       "(436, 12)"
      ]
     },
     "execution_count": 8,
     "metadata": {},
     "output_type": "execute_result"
    }
   ],
   "source": [
    "df_Newtrain.shape"
   ]
  },
  {
   "cell_type": "code",
   "execution_count": 9,
   "id": "1703f00c-ae9f-4f2c-a064-6498c6d356a5",
   "metadata": {},
   "outputs": [
    {
     "data": {
      "text/plain": [
       "(109, 12)"
      ]
     },
     "execution_count": 9,
     "metadata": {},
     "output_type": "execute_result"
    }
   ],
   "source": [
    "df_Newtest.shape"
   ]
  },
  {
   "cell_type": "code",
   "execution_count": 10,
   "id": "4a52bfdf-91e0-41a5-8937-77249c954f30",
   "metadata": {},
   "outputs": [
    {
     "name": "stderr",
     "output_type": "stream",
     "text": [
      "<ipython-input-10-8411c2f314fc>:3: SettingWithCopyWarning: \n",
      "A value is trying to be set on a copy of a slice from a DataFrame.\n",
      "Try using .loc[row_indexer,col_indexer] = value instead\n",
      "\n",
      "See the caveats in the documentation: https://pandas.pydata.org/pandas-docs/stable/user_guide/indexing.html#returning-a-view-versus-a-copy\n",
      "  df_Newtrain[num_vars]=scaler.fit_transform(df_Newtrain[num_vars])\n",
      "C:\\ProgramData\\Anaconda3\\lib\\site-packages\\pandas\\core\\indexing.py:1738: SettingWithCopyWarning: \n",
      "A value is trying to be set on a copy of a slice from a DataFrame.\n",
      "Try using .loc[row_indexer,col_indexer] = value instead\n",
      "\n",
      "See the caveats in the documentation: https://pandas.pydata.org/pandas-docs/stable/user_guide/indexing.html#returning-a-view-versus-a-copy\n",
      "  self._setitem_single_column(loc, value[:, i].tolist(), pi)\n"
     ]
    },
    {
     "data": {
      "text/html": [
       "<div>\n",
       "<style scoped>\n",
       "    .dataframe tbody tr th:only-of-type {\n",
       "        vertical-align: middle;\n",
       "    }\n",
       "\n",
       "    .dataframe tbody tr th {\n",
       "        vertical-align: top;\n",
       "    }\n",
       "\n",
       "    .dataframe thead th {\n",
       "        text-align: right;\n",
       "    }\n",
       "</style>\n",
       "<table border=\"1\" class=\"dataframe\">\n",
       "  <thead>\n",
       "    <tr style=\"text-align: right;\">\n",
       "      <th></th>\n",
       "      <th>area</th>\n",
       "      <th>bathrooms</th>\n",
       "      <th>bedrooms</th>\n",
       "      <th>stories</th>\n",
       "      <th>mainroad</th>\n",
       "      <th>guestroom</th>\n",
       "      <th>basement</th>\n",
       "      <th>hotwaterheating</th>\n",
       "      <th>airconditioning</th>\n",
       "      <th>parking</th>\n",
       "      <th>prefarea</th>\n",
       "      <th>price</th>\n",
       "    </tr>\n",
       "  </thead>\n",
       "  <tbody>\n",
       "    <tr>\n",
       "      <th>542</th>\n",
       "      <td>0.124199</td>\n",
       "      <td>0.0</td>\n",
       "      <td>0.2</td>\n",
       "      <td>0.0</td>\n",
       "      <td>1.0</td>\n",
       "      <td>0.0</td>\n",
       "      <td>0.0</td>\n",
       "      <td>0.0</td>\n",
       "      <td>0.0</td>\n",
       "      <td>0.0</td>\n",
       "      <td>0.0</td>\n",
       "      <td>0.000000</td>\n",
       "    </tr>\n",
       "    <tr>\n",
       "      <th>496</th>\n",
       "      <td>0.150654</td>\n",
       "      <td>0.0</td>\n",
       "      <td>0.2</td>\n",
       "      <td>0.0</td>\n",
       "      <td>1.0</td>\n",
       "      <td>0.0</td>\n",
       "      <td>0.0</td>\n",
       "      <td>0.0</td>\n",
       "      <td>0.0</td>\n",
       "      <td>0.0</td>\n",
       "      <td>0.0</td>\n",
       "      <td>0.081818</td>\n",
       "    </tr>\n",
       "    <tr>\n",
       "      <th>484</th>\n",
       "      <td>0.083821</td>\n",
       "      <td>0.0</td>\n",
       "      <td>0.2</td>\n",
       "      <td>0.0</td>\n",
       "      <td>0.0</td>\n",
       "      <td>0.0</td>\n",
       "      <td>0.0</td>\n",
       "      <td>0.0</td>\n",
       "      <td>0.0</td>\n",
       "      <td>0.0</td>\n",
       "      <td>0.0</td>\n",
       "      <td>0.096970</td>\n",
       "    </tr>\n",
       "    <tr>\n",
       "      <th>507</th>\n",
       "      <td>0.122807</td>\n",
       "      <td>0.0</td>\n",
       "      <td>0.2</td>\n",
       "      <td>0.0</td>\n",
       "      <td>1.0</td>\n",
       "      <td>0.0</td>\n",
       "      <td>0.0</td>\n",
       "      <td>0.0</td>\n",
       "      <td>0.0</td>\n",
       "      <td>0.0</td>\n",
       "      <td>0.0</td>\n",
       "      <td>0.072727</td>\n",
       "    </tr>\n",
       "    <tr>\n",
       "      <th>252</th>\n",
       "      <td>0.558619</td>\n",
       "      <td>0.0</td>\n",
       "      <td>0.4</td>\n",
       "      <td>0.0</td>\n",
       "      <td>1.0</td>\n",
       "      <td>0.0</td>\n",
       "      <td>0.0</td>\n",
       "      <td>0.0</td>\n",
       "      <td>0.0</td>\n",
       "      <td>0.0</td>\n",
       "      <td>0.0</td>\n",
       "      <td>0.239394</td>\n",
       "    </tr>\n",
       "  </tbody>\n",
       "</table>\n",
       "</div>"
      ],
      "text/plain": [
       "         area  bathrooms  bedrooms  stories  mainroad  guestroom  basement  \\\n",
       "542  0.124199        0.0       0.2      0.0       1.0        0.0       0.0   \n",
       "496  0.150654        0.0       0.2      0.0       1.0        0.0       0.0   \n",
       "484  0.083821        0.0       0.2      0.0       0.0        0.0       0.0   \n",
       "507  0.122807        0.0       0.2      0.0       1.0        0.0       0.0   \n",
       "252  0.558619        0.0       0.4      0.0       1.0        0.0       0.0   \n",
       "\n",
       "     hotwaterheating  airconditioning  parking  prefarea     price  \n",
       "542              0.0              0.0      0.0       0.0  0.000000  \n",
       "496              0.0              0.0      0.0       0.0  0.081818  \n",
       "484              0.0              0.0      0.0       0.0  0.096970  \n",
       "507              0.0              0.0      0.0       0.0  0.072727  \n",
       "252              0.0              0.0      0.0       0.0  0.239394  "
      ]
     },
     "execution_count": 10,
     "metadata": {},
     "output_type": "execute_result"
    }
   ],
   "source": [
    "from sklearn.preprocessing import MinMaxScaler,StandardScaler\n",
    "scaler=MinMaxScaler()\n",
    "df_Newtrain[num_vars]=scaler.fit_transform(df_Newtrain[num_vars])\n",
    "df_Newtrain.head(5)"
   ]
  },
  {
   "cell_type": "code",
   "execution_count": 11,
   "id": "ac967685-ca6a-4913-b2d6-ae8fc8a8d456",
   "metadata": {},
   "outputs": [
    {
     "name": "stdout",
     "output_type": "stream",
     "text": [
      "dataset= [[0.12419939 0.         0.2        0.         1.         0.\n",
      "  0.         0.         0.         0.         0.         0.        ]\n",
      " [0.15065441 0.         0.2        0.         1.         0.\n",
      "  0.         0.         0.         0.         0.         0.08181818]\n",
      " [0.08382066 0.         0.2        0.         0.         0.\n",
      "  0.         0.         0.         0.         0.         0.0969697 ]\n",
      " [0.12280702 0.         0.2        0.         1.         0.\n",
      "  0.         0.         0.         0.         0.         0.07272727]\n",
      " [0.55861877 0.         0.4        0.         1.         0.\n",
      "  0.         0.         0.         0.         0.         0.23939394]\n",
      " [0.14842662 0.         0.4        0.33333333 0.         0.\n",
      "  0.         0.         0.         0.         0.         0.23030303]\n",
      " [0.13951546 0.         0.4        0.33333333 1.         0.\n",
      "  0.         0.         0.         0.33333333 1.         0.24545455]\n",
      " [0.55444166 0.5        0.6        0.33333333 1.         1.\n",
      "  0.         0.         0.         0.66666667 0.         0.3030303 ]\n",
      " [0.12559176 0.         0.2        0.         1.         0.\n",
      "  0.         0.         0.         0.         0.         0.15757576]\n",
      " [0.11723754 0.5        0.2        0.         1.         0.\n",
      "  1.         0.         0.         0.         0.         0.16363636]\n",
      " [0.79114453 0.         0.4        0.33333333 1.         0.\n",
      "  1.         0.         1.         0.66666667 1.         0.6969697 ]\n",
      " [0.06015038 0.         0.2        0.         0.         0.\n",
      "  0.         0.         0.         0.         0.         0.1030303 ]\n",
      " [0.17153996 0.5        1.         0.33333333 1.         0.\n",
      "  0.         0.         0.         0.         0.         0.37515152]\n",
      " [0.18546366 0.         0.2        0.         0.         0.\n",
      "  0.         0.         0.         0.         0.         0.13030303]\n",
      " [0.21992481 0.5        0.6        0.         1.         0.\n",
      "  1.         0.         0.         0.         0.         0.27212121]\n",
      " [0.0858396  0.         0.2        0.         1.         0.\n",
      "  0.         0.         0.         0.33333333 0.         0.12121212]\n",
      " [0.17516012 0.         0.6        0.33333333 0.         0.\n",
      "  0.         0.         0.         0.33333333 0.         0.10606061]\n",
      " [0.49039265 0.5        0.4        0.33333333 1.         0.\n",
      "  1.         0.         1.         0.33333333 0.         0.44848485]\n",
      " [0.77332219 0.         0.4        0.         1.         0.\n",
      "  0.         0.         0.         0.         0.         0.15151515]\n",
      " [0.37064884 0.         0.4        0.         1.         0.\n",
      "  1.         0.         0.         0.66666667 1.         0.35757576]]\n"
     ]
    }
   ],
   "source": [
    "dataset= df_Newtrain.values[:,:]\n",
    "print('dataset=', dataset [:20,:])"
   ]
  },
  {
   "cell_type": "code",
   "execution_count": 12,
   "id": "923d2b45-c8ea-4429-9a6d-0af3bae8bb24",
   "metadata": {},
   "outputs": [
    {
     "data": {
      "text/plain": [
       "array([0.        , 0.08181818, 0.0969697 , 0.07272727, 0.23939394,\n",
       "       0.23030303, 0.24545455, 0.3030303 , 0.15757576, 0.16363636,\n",
       "       0.6969697 , 0.1030303 , 0.37515152, 0.13030303, 0.27212121,\n",
       "       0.12121212, 0.10606061, 0.44848485, 0.15151515, 0.35757576,\n",
       "       0.15151515, 0.21515152, 0.16969697, 0.2       , 0.05151515,\n",
       "       0.24242424, 0.72727273, 0.16363636, 0.07878788, 0.04181818,\n",
       "       0.03333333, 0.21878788, 0.38787879, 0.39393939, 0.18787879,\n",
       "       0.48484848, 0.57575758, 0.3       , 0.49090909, 0.38787879,\n",
       "       0.27272727, 0.24242424, 0.2       , 0.10909091, 0.48424242,\n",
       "       0.33333333, 0.46666667, 0.72727273, 0.7030303 , 0.17575758,\n",
       "       0.1030303 , 0.07818182, 0.18060606, 0.26060606, 0.53787879,\n",
       "       0.12060606, 0.15151515, 0.25454545, 0.22424242, 0.23939394,\n",
       "       0.00148485, 0.11515152, 0.36363636, 0.32727273, 0.12121212,\n",
       "       0.47272727, 0.09090909, 0.11212121, 0.09393939, 0.00606061,\n",
       "       0.14848485, 0.21212121, 0.28484848, 0.48484848, 0.3030303 ,\n",
       "       0.25454545, 0.27272727, 0.32424242, 0.        , 0.55151515,\n",
       "       0.16666667, 0.61818182, 0.18787879, 0.24242424, 0.04545455,\n",
       "       0.48484848, 0.42424242, 0.58121212, 0.3030303 , 0.4030303 ,\n",
       "       0.30606061, 0.83636364, 0.07393939, 0.3       , 0.24242424,\n",
       "       0.10909091, 0.78787879, 0.33787879, 0.18181818, 0.27272727,\n",
       "       0.34848485, 0.1030303 , 0.36363636, 0.5969697 , 0.44242424,\n",
       "       0.27272727, 0.60606061, 0.07818182, 0.16060606, 0.64848485,\n",
       "       0.3030303 , 0.19393939, 0.09090909, 0.24181818, 0.26363636,\n",
       "       0.0969697 , 0.45454545, 0.06060606, 0.24242424, 0.36363636,\n",
       "       0.42121212, 0.13939394, 0.17515152, 0.13333333, 0.21212121,\n",
       "       0.03030303, 0.04545455, 0.32121212, 0.03030303, 0.13636364,\n",
       "       0.23575758, 0.22787879, 0.17515152, 0.15151515, 0.49090909,\n",
       "       0.27878788, 0.28484848, 0.36969697, 0.10909091, 0.12727273,\n",
       "       0.31515152, 0.38181818, 0.15151515, 0.45757576, 0.06666667,\n",
       "       0.14848485, 0.29090909, 0.0569697 , 0.21818182, 0.06060606,\n",
       "       0.12727273, 0.2030303 , 0.39393939, 0.16909091, 0.10909091,\n",
       "       0.27575758, 0.33333333, 0.33333333, 0.53333333, 0.08484848,\n",
       "       0.1969697 , 0.23939394, 0.21212121, 0.11515152, 0.90909091,\n",
       "       0.26121212, 0.06363636, 0.33333333, 0.24242424, 0.2030303 ,\n",
       "       0.36969697, 0.16666667, 0.3030303 , 0.3030303 , 0.07878788,\n",
       "       0.18181818, 0.10484848, 0.34545455, 0.14545455, 0.23636364,\n",
       "       0.18787879, 0.21212121, 0.11851515, 0.1030303 , 0.23636364,\n",
       "       0.25151515, 0.35151515, 0.55757576, 0.40909091, 0.21212121,\n",
       "       0.5030303 , 0.46060606, 0.27333333, 0.2       , 0.05454545,\n",
       "       0.07878788, 0.18484848, 0.26666667, 0.21212121, 0.21212121,\n",
       "       0.42727273, 0.21212121, 0.54813333, 0.18181818, 0.57575758,\n",
       "       0.07878788, 0.15090909, 0.04848485, 0.20606061, 0.05454545,\n",
       "       0.26666667, 0.57575758, 0.09393939, 0.18181818, 0.32666667,\n",
       "       0.10909091, 0.14545455, 0.34545455, 0.27212121, 0.38484848,\n",
       "       0.14545455, 0.14545455, 0.14242424, 0.26666667, 0.11818182,\n",
       "       0.28484848, 0.26969697, 0.07878788, 0.27272727, 0.24848485,\n",
       "       0.23575758, 0.44545455, 0.59090909, 0.26666667, 0.21212121,\n",
       "       0.26060606, 0.3569697 , 0.37575758, 0.30909091, 0.07878788,\n",
       "       0.10909091, 0.53030303, 0.22424242, 0.13939394, 0.42424242,\n",
       "       0.12848485, 0.16363636, 0.19393939, 0.64848485, 0.21212121,\n",
       "       0.19393939, 0.06363636, 0.23939394, 0.25454545, 0.14484848,\n",
       "       0.32121212, 0.41818182, 0.36363636, 0.58787879, 0.37575758,\n",
       "       0.33333333, 0.33030303, 0.63636364, 0.15151515, 0.18787879,\n",
       "       0.37575758, 0.14242424, 0.34545455, 0.24848485, 0.23575758,\n",
       "       0.17575758, 0.13939394, 0.2       , 0.1969697 , 0.1030303 ,\n",
       "       0.24181818, 0.06666667, 0.06060606, 0.61515152, 0.19393939,\n",
       "       0.21212121, 0.12121212, 0.22727273, 0.16969697, 0.25454545,\n",
       "       0.11818182, 0.90606061, 0.14545455, 0.3630303 , 0.21818182,\n",
       "       0.21515152, 0.42424242, 0.29090909, 0.16363636, 0.12121212,\n",
       "       0.03030303, 0.22242424, 0.21212121, 0.06060606, 0.29393939,\n",
       "       0.56666667, 0.42242424, 0.20909091, 0.23636364, 0.68666667,\n",
       "       0.16969697, 0.13030303, 0.41212121, 0.22969697, 0.54484848,\n",
       "       0.28424242, 0.47272727, 0.52727273, 0.22424242, 0.14545455,\n",
       "       0.49090909, 0.27272727, 0.10848485, 0.00909091, 0.08484848,\n",
       "       0.36363636, 0.26060606, 0.13939394, 0.46060606, 0.1030303 ,\n",
       "       0.16363636, 0.35636364, 0.29090909, 0.5969697 , 0.12727273,\n",
       "       0.51515152, 0.16363636, 0.15151515, 1.        , 0.15757576,\n",
       "       0.27272727, 0.14848485, 0.16666667, 0.07272727, 0.39333333,\n",
       "       0.15151515, 0.17575758, 0.21151515, 0.13939394, 0.21212121,\n",
       "       0.30121212, 0.16666667, 0.23636364, 0.39393939, 0.27757576,\n",
       "       0.39393939, 0.04242424, 0.31818182, 0.3030303 , 0.43636364,\n",
       "       0.21151515, 0.49393939, 0.18181818, 0.16363636, 0.15151515,\n",
       "       0.27272727, 0.21818182, 0.07272727, 0.25454545, 0.33333333,\n",
       "       0.33333333, 0.18787879, 0.3       , 0.17515152, 0.11575758,\n",
       "       0.35151515, 0.35757576, 0.4969697 , 0.12121212, 0.23333333,\n",
       "       0.19545455, 0.27272727, 0.41212121, 0.13878788, 0.36363636,\n",
       "       0.01212121, 0.06060606, 0.04545455, 0.15151515, 0.15757576,\n",
       "       0.40424242, 0.42121212, 0.13333333, 0.22969697, 0.36363636,\n",
       "       0.17272727, 0.21212121, 0.47575758, 0.13939394, 0.0969697 ,\n",
       "       0.1969697 , 0.23636364, 0.16363636, 0.57575758, 0.12727273,\n",
       "       0.51515152, 0.38181818, 0.15151515, 0.18787879, 0.22424242,\n",
       "       0.09545455, 0.48484848, 0.06060606, 0.3569697 , 0.57575758,\n",
       "       0.29393939, 0.11818182, 0.06666667, 0.33030303, 0.24242424,\n",
       "       0.22969697, 0.21212121, 0.13939394, 0.33333333, 0.30242424,\n",
       "       0.39090909, 0.12121212, 0.13333333, 0.36969697, 0.43030303,\n",
       "       0.3030303 , 0.40909091, 0.0969697 , 0.2030303 , 0.15151515,\n",
       "       0.10909091, 0.43636364, 0.22121212, 0.6969697 , 0.16969697,\n",
       "       0.28484848])"
      ]
     },
     "execution_count": 12,
     "metadata": {},
     "output_type": "execute_result"
    }
   ],
   "source": [
    "x1= df_Newtrain.values [:,0]\n",
    "x2= df_Newtrain.values [:,1]\n",
    "x3= df_Newtrain.values [:,2]\n",
    "x4= df_Newtrain.values [:,3]\n",
    "x5= df_Newtrain.values [:,4]\n",
    "x6= df_Newtrain.values [:,5]\n",
    "x7= df_Newtrain.values [:,6]\n",
    "x8= df_Newtrain.values [:,7]\n",
    "x9= df_Newtrain.values [:,8]\n",
    "x10= df_Newtrain.values [:,9]\n",
    "x11= df_Newtrain.values [:,10]\n",
    "y= df_Newtrain.values[:,11]\n",
    "m= len(y)\n",
    "y\n"
   ]
  },
  {
   "cell_type": "code",
   "execution_count": 13,
   "id": "4fc65fc9-82b8-4e5a-bc19-951d5a7d9b7e",
   "metadata": {},
   "outputs": [
    {
     "name": "stdout",
     "output_type": "stream",
     "text": [
      "x_1= [[0.12419939]\n",
      " [0.15065441]\n",
      " [0.08382066]\n",
      " [0.12280702]\n",
      " [0.55861877]]\n"
     ]
    }
   ],
   "source": [
    "x_1=x1.reshape(m,1)\n",
    "print('x_1=', x_1[:5,:])"
   ]
  },
  {
   "cell_type": "code",
   "execution_count": 14,
   "id": "c069a6c4-3946-4259-9fdc-f45353724f9b",
   "metadata": {},
   "outputs": [],
   "source": [
    "x_2=x2.reshape(m,1)\n",
    "x_3=x3.reshape(m,1)\n",
    "x_4=x4.reshape(m,1)\n",
    "x_5=x5.reshape(m,1)\n",
    "x_6=x6.reshape(m,1)\n",
    "x_7=x7.reshape(m,1)\n",
    "x_8=x8.reshape(m,1)\n",
    "x_9=x9.reshape(m,1)\n",
    "x_10=x10.reshape(m,1)\n",
    "x_11=x11.reshape(m,1)"
   ]
  },
  {
   "cell_type": "code",
   "execution_count": 15,
   "id": "f10eb9cb-2e37-4d85-ab3a-47a0323f89eb",
   "metadata": {},
   "outputs": [
    {
     "data": {
      "text/plain": [
       "(array([[1.],\n",
       "        [1.],\n",
       "        [1.],\n",
       "        [1.],\n",
       "        [1.]]),\n",
       " 436)"
      ]
     },
     "execution_count": 15,
     "metadata": {},
     "output_type": "execute_result"
    }
   ],
   "source": [
    "x_0=np.ones((m,1))\n",
    "x_0[:5], len(x_0)\n"
   ]
  },
  {
   "cell_type": "code",
   "execution_count": 16,
   "id": "c0dbf330-329d-474c-8631-e845c016f1e3",
   "metadata": {},
   "outputs": [
    {
     "data": {
      "text/plain": [
       "array([[1.        , 0.12419939, 0.        , 0.2       , 0.        ,\n",
       "        1.        , 0.        , 0.        , 0.        , 0.        ,\n",
       "        0.        , 0.        ],\n",
       "       [1.        , 0.15065441, 0.        , 0.2       , 0.        ,\n",
       "        1.        , 0.        , 0.        , 0.        , 0.        ,\n",
       "        0.        , 0.        ],\n",
       "       [1.        , 0.08382066, 0.        , 0.2       , 0.        ,\n",
       "        0.        , 0.        , 0.        , 0.        , 0.        ,\n",
       "        0.        , 0.        ],\n",
       "       [1.        , 0.12280702, 0.        , 0.2       , 0.        ,\n",
       "        1.        , 0.        , 0.        , 0.        , 0.        ,\n",
       "        0.        , 0.        ],\n",
       "       [1.        , 0.55861877, 0.        , 0.4       , 0.        ,\n",
       "        1.        , 0.        , 0.        , 0.        , 0.        ,\n",
       "        0.        , 0.        ]])"
      ]
     },
     "execution_count": 16,
     "metadata": {},
     "output_type": "execute_result"
    }
   ],
   "source": [
    "x=np.hstack((x_0, x_1, x_2, x_3, x_4, x_5,x_6,x_7,x_8,x_9,x_10,x_11 ))\n",
    "x[:5]"
   ]
  },
  {
   "cell_type": "code",
   "execution_count": 17,
   "id": "e54f3e81-6e08-4185-a125-1fb0023cb0eb",
   "metadata": {},
   "outputs": [
    {
     "name": "stderr",
     "output_type": "stream",
     "text": [
      "<ipython-input-17-76df33ce5514>:1: SettingWithCopyWarning: \n",
      "A value is trying to be set on a copy of a slice from a DataFrame.\n",
      "Try using .loc[row_indexer,col_indexer] = value instead\n",
      "\n",
      "See the caveats in the documentation: https://pandas.pydata.org/pandas-docs/stable/user_guide/indexing.html#returning-a-view-versus-a-copy\n",
      "  df_Newtest[num_vars]=scaler.fit_transform(df_Newtest[num_vars])\n",
      "C:\\ProgramData\\Anaconda3\\lib\\site-packages\\pandas\\core\\indexing.py:1738: SettingWithCopyWarning: \n",
      "A value is trying to be set on a copy of a slice from a DataFrame.\n",
      "Try using .loc[row_indexer,col_indexer] = value instead\n",
      "\n",
      "See the caveats in the documentation: https://pandas.pydata.org/pandas-docs/stable/user_guide/indexing.html#returning-a-view-versus-a-copy\n",
      "  self._setitem_single_column(loc, value[:, i].tolist(), pi)\n"
     ]
    },
    {
     "data": {
      "text/html": [
       "<div>\n",
       "<style scoped>\n",
       "    .dataframe tbody tr th:only-of-type {\n",
       "        vertical-align: middle;\n",
       "    }\n",
       "\n",
       "    .dataframe tbody tr th {\n",
       "        vertical-align: top;\n",
       "    }\n",
       "\n",
       "    .dataframe thead th {\n",
       "        text-align: right;\n",
       "    }\n",
       "</style>\n",
       "<table border=\"1\" class=\"dataframe\">\n",
       "  <thead>\n",
       "    <tr style=\"text-align: right;\">\n",
       "      <th></th>\n",
       "      <th>area</th>\n",
       "      <th>bathrooms</th>\n",
       "      <th>bedrooms</th>\n",
       "      <th>stories</th>\n",
       "      <th>mainroad</th>\n",
       "      <th>guestroom</th>\n",
       "      <th>basement</th>\n",
       "      <th>hotwaterheating</th>\n",
       "      <th>airconditioning</th>\n",
       "      <th>parking</th>\n",
       "      <th>prefarea</th>\n",
       "      <th>price</th>\n",
       "    </tr>\n",
       "  </thead>\n",
       "  <tbody>\n",
       "    <tr>\n",
       "      <th>239</th>\n",
       "      <td>0.203463</td>\n",
       "      <td>0.0</td>\n",
       "      <td>0.50</td>\n",
       "      <td>0.333333</td>\n",
       "      <td>1.0</td>\n",
       "      <td>0.0</td>\n",
       "      <td>0.0</td>\n",
       "      <td>0.0</td>\n",
       "      <td>0.0</td>\n",
       "      <td>0.333333</td>\n",
       "      <td>0.0</td>\n",
       "      <td>0.270000</td>\n",
       "    </tr>\n",
       "    <tr>\n",
       "      <th>113</th>\n",
       "      <td>0.690043</td>\n",
       "      <td>0.0</td>\n",
       "      <td>0.50</td>\n",
       "      <td>0.000000</td>\n",
       "      <td>1.0</td>\n",
       "      <td>0.0</td>\n",
       "      <td>1.0</td>\n",
       "      <td>0.0</td>\n",
       "      <td>0.0</td>\n",
       "      <td>0.666667</td>\n",
       "      <td>1.0</td>\n",
       "      <td>0.412667</td>\n",
       "    </tr>\n",
       "    <tr>\n",
       "      <th>325</th>\n",
       "      <td>0.156710</td>\n",
       "      <td>0.0</td>\n",
       "      <td>0.75</td>\n",
       "      <td>0.333333</td>\n",
       "      <td>1.0</td>\n",
       "      <td>0.0</td>\n",
       "      <td>0.0</td>\n",
       "      <td>0.0</td>\n",
       "      <td>1.0</td>\n",
       "      <td>0.000000</td>\n",
       "      <td>0.0</td>\n",
       "      <td>0.215000</td>\n",
       "    </tr>\n",
       "    <tr>\n",
       "      <th>66</th>\n",
       "      <td>1.000000</td>\n",
       "      <td>0.0</td>\n",
       "      <td>0.25</td>\n",
       "      <td>0.000000</td>\n",
       "      <td>1.0</td>\n",
       "      <td>0.0</td>\n",
       "      <td>1.0</td>\n",
       "      <td>1.0</td>\n",
       "      <td>0.0</td>\n",
       "      <td>0.333333</td>\n",
       "      <td>0.0</td>\n",
       "      <td>0.493333</td>\n",
       "    </tr>\n",
       "    <tr>\n",
       "      <th>479</th>\n",
       "      <td>0.174026</td>\n",
       "      <td>0.0</td>\n",
       "      <td>0.75</td>\n",
       "      <td>0.333333</td>\n",
       "      <td>0.0</td>\n",
       "      <td>0.0</td>\n",
       "      <td>0.0</td>\n",
       "      <td>0.0</td>\n",
       "      <td>0.0</td>\n",
       "      <td>0.000000</td>\n",
       "      <td>0.0</td>\n",
       "      <td>0.113333</td>\n",
       "    </tr>\n",
       "  </tbody>\n",
       "</table>\n",
       "</div>"
      ],
      "text/plain": [
       "         area  bathrooms  bedrooms   stories  mainroad  guestroom  basement  \\\n",
       "239  0.203463        0.0      0.50  0.333333       1.0        0.0       0.0   \n",
       "113  0.690043        0.0      0.50  0.000000       1.0        0.0       1.0   \n",
       "325  0.156710        0.0      0.75  0.333333       1.0        0.0       0.0   \n",
       "66   1.000000        0.0      0.25  0.000000       1.0        0.0       1.0   \n",
       "479  0.174026        0.0      0.75  0.333333       0.0        0.0       0.0   \n",
       "\n",
       "     hotwaterheating  airconditioning   parking  prefarea     price  \n",
       "239              0.0              0.0  0.333333       0.0  0.270000  \n",
       "113              0.0              0.0  0.666667       1.0  0.412667  \n",
       "325              0.0              1.0  0.000000       0.0  0.215000  \n",
       "66               1.0              0.0  0.333333       0.0  0.493333  \n",
       "479              0.0              0.0  0.000000       0.0  0.113333  "
      ]
     },
     "execution_count": 17,
     "metadata": {},
     "output_type": "execute_result"
    }
   ],
   "source": [
    "df_Newtest[num_vars]=scaler.fit_transform(df_Newtest[num_vars])\n",
    "df_Newtest.head(5)"
   ]
  },
  {
   "cell_type": "code",
   "execution_count": 18,
   "id": "e5ce1cec-8629-4d03-8020-b9e469504040",
   "metadata": {},
   "outputs": [
    {
     "name": "stdout",
     "output_type": "stream",
     "text": [
      "dataset= [[0.2034632  0.         0.5        0.33333333 1.         0.\n",
      "  0.         0.         0.         0.33333333 0.         0.27      ]\n",
      " [0.69004329 0.         0.5        0.         1.         0.\n",
      "  1.         0.         0.         0.66666667 1.         0.41266667]\n",
      " [0.15670996 0.         0.75       0.33333333 1.         0.\n",
      "  0.         0.         1.         0.         0.         0.215     ]\n",
      " [1.         0.         0.25       0.         1.         0.\n",
      "  1.         1.         0.         0.33333333 0.         0.49333333]\n",
      " [0.17402597 0.         0.75       0.33333333 0.         0.\n",
      "  0.         0.         0.         0.         0.         0.11333333]\n",
      " [0.40692641 0.33333333 0.5        0.66666667 1.         1.\n",
      "  0.         0.         1.         0.         0.         0.42333333]\n",
      " [0.19047619 0.         0.5        0.         1.         0.\n",
      "  0.         0.         0.         0.66666667 0.         0.17      ]\n",
      " [0.15844156 0.         0.5        0.33333333 0.         0.\n",
      "  0.         0.         0.         0.33333333 0.         0.11333333]\n",
      " [0.16121212 0.         0.25       0.         1.         0.\n",
      "  0.         0.         0.         0.33333333 1.         0.16666667]\n",
      " [0.63636364 0.33333333 0.75       1.         1.         0.\n",
      "  0.         0.         1.         0.66666667 0.         0.59333333]\n",
      " [0.37662338 0.33333333 0.75       1.         1.         0.\n",
      "  0.         0.         1.         0.         0.         0.47666667]\n",
      " [0.2        0.         0.5        0.33333333 1.         0.\n",
      "  0.         0.         0.         0.         0.         0.21333333]\n",
      " [0.15584416 0.         0.5        0.33333333 1.         0.\n",
      "  1.         0.         0.         0.         0.         0.13333333]\n",
      " [0.38181818 0.         0.5        0.         1.         1.\n",
      "  1.         0.         0.         0.         0.         0.14666667]\n",
      " [0.37532468 0.         0.5        0.         1.         0.\n",
      "  1.         0.         0.         0.         0.         0.22666667]\n",
      " [0.06753247 0.         0.5        0.         0.         0.\n",
      "  0.         0.         0.         0.         0.         0.08666667]\n",
      " [0.28138528 0.         0.25       0.33333333 1.         0.\n",
      "  1.         0.         0.         0.         0.         0.25333333]\n",
      " [0.37835498 0.         0.5        0.         1.         0.\n",
      "  0.         0.         0.         0.         0.         0.18666667]\n",
      " [0.12554113 0.         0.5        0.33333333 0.         0.\n",
      "  1.         0.         0.         0.         0.         0.15333333]\n",
      " [0.24675325 0.         0.25       0.         1.         0.\n",
      "  0.         0.         1.         0.66666667 0.         0.24      ]]\n"
     ]
    }
   ],
   "source": [
    "dataset_test= df_Newtest.values[:,:]\n",
    "print('dataset=', dataset_test[:20,:])"
   ]
  },
  {
   "cell_type": "code",
   "execution_count": 19,
   "id": "aaaba387-e651-44f7-82fe-35b53301b538",
   "metadata": {},
   "outputs": [
    {
     "data": {
      "text/plain": [
       "array([0.2034632 , 0.69004329, 0.15670996, 1.        , 0.17402597,\n",
       "       0.40692641, 0.19047619, 0.15844156, 0.16121212, 0.63636364,\n",
       "       0.37662338, 0.2       , 0.15584416, 0.38181818, 0.37532468,\n",
       "       0.06753247, 0.28138528, 0.37835498, 0.12554113, 0.24675325,\n",
       "       0.56277056, 0.41558442, 0.29004329, 0.004329  , 0.41298701,\n",
       "       0.12987013, 0.46320346, 0.34891775, 0.14285714, 0.41298701,\n",
       "       0.23809524, 0.05411255, 0.58441558, 0.20692641, 0.12727273,\n",
       "       0.41471861, 0.37662338, 0.12      , 0.15584416, 0.04545455,\n",
       "       0.59307359, 0.36796537, 0.35930736, 0.33290043, 0.16190476,\n",
       "       0.37662338, 0.21731602, 0.20692641, 0.20744589, 0.35064935,\n",
       "       0.27619048, 0.69411255, 0.        , 0.19047619, 0.36623377,\n",
       "       0.35238095, 0.57142857, 0.25887446, 0.16883117, 0.46320346,\n",
       "       0.97402597, 0.42857143, 0.04199134, 0.37662338, 0.08571429,\n",
       "       0.10103896, 0.47662338, 0.23896104, 0.24675325, 0.4025974 ,\n",
       "       0.04285714, 0.33333333, 0.16883117, 0.22597403, 0.18441558,\n",
       "       0.10562771, 0.15324675, 0.6       , 0.10909091, 0.2034632 ,\n",
       "       0.04285714, 0.5225974 , 0.24761905, 0.47636364, 0.25541126,\n",
       "       0.13766234, 0.15324675, 0.35930736, 0.12987013, 0.20995671,\n",
       "       0.49991342, 0.63636364, 0.17229437, 0.12987013, 0.04285714,\n",
       "       0.63290043, 0.04415584, 0.42424242, 0.52987013, 0.58441558,\n",
       "       0.76623377, 0.15844156, 0.09844156, 0.11688312, 0.41298701,\n",
       "       0.30735931, 0.38181818, 0.24675325, 0.38528139])"
      ]
     },
     "execution_count": 19,
     "metadata": {},
     "output_type": "execute_result"
    }
   ],
   "source": [
    "x1t= df_Newtest.values [:,0]\n",
    "x2t= df_Newtest.values [:,1]\n",
    "x3t= df_Newtest.values [:,2]\n",
    "x4t= df_Newtest.values [:,3]\n",
    "x5t= df_Newtest.values [:,4]\n",
    "x6t= df_Newtest.values [:,5]\n",
    "x7t= df_Newtest.values [:,6]\n",
    "x8t= df_Newtest.values [:,7]\n",
    "x9t= df_Newtest.values [:,8]\n",
    "x10t= df_Newtest.values [:,9]\n",
    "x11t= df_Newtest.values [:,10]\n",
    "yt= df_Newtest.values[:,11]\n",
    "n= len(yt)\n",
    "x1t"
   ]
  },
  {
   "cell_type": "code",
   "execution_count": 20,
   "id": "d32aec23-9fd0-43d2-9d7b-8ad9bede6d7b",
   "metadata": {},
   "outputs": [
    {
     "data": {
      "text/plain": [
       "array([0.27      , 0.41266667, 0.215     , 0.49333333, 0.11333333,\n",
       "       0.42333333, 0.17      , 0.11333333, 0.16666667, 0.59333333,\n",
       "       0.47666667, 0.21333333, 0.13333333, 0.14666667, 0.22666667,\n",
       "       0.08666667, 0.25333333, 0.18666667, 0.15333333, 0.24      ,\n",
       "       0.31      , 0.346     , 0.44666667, 0.01333333, 0.41666667,\n",
       "       0.35333333, 0.386     , 0.27333333, 0.36      , 0.4       ,\n",
       "       0.24333333, 0.18      , 0.33333333, 0.15      , 0.186     ,\n",
       "       0.286     , 0.7       , 0.16666667, 0.13333333, 0.24      ,\n",
       "       0.68666667, 0.22      , 0.38      , 0.13133333, 0.17933333,\n",
       "       0.55333333, 0.27333333, 0.14666667, 0.23      , 0.46666667,\n",
       "       0.23      , 0.28      , 0.13333333, 0.2       , 0.14666667,\n",
       "       0.31666667, 0.45333333, 0.38      , 0.19333333, 0.29      ,\n",
       "       0.3       , 0.35333333, 0.16666667, 0.55      , 0.10333333,\n",
       "       0.35666667, 0.66      , 0.23333333, 0.23333333, 0.3       ,\n",
       "       0.15066667, 0.42333333, 0.22366667, 0.46666667, 0.20333333,\n",
       "       0.27333333, 0.02      , 0.44666667, 0.        , 0.17666667,\n",
       "       0.14666667, 0.30666667, 0.27266667, 0.2       , 0.16666667,\n",
       "       0.415     , 0.19333333, 0.3       , 0.17333333, 0.24666667,\n",
       "       0.16666667, 0.43333333, 0.15666667, 0.19666667, 0.20666667,\n",
       "       1.        , 0.12666667, 0.72      , 0.24      , 0.19333333,\n",
       "       0.36666667, 0.14666667, 0.06      , 0.32      , 0.46666667,\n",
       "       0.38666667, 0.226     , 0.12666667, 0.36      ])"
      ]
     },
     "execution_count": 20,
     "metadata": {},
     "output_type": "execute_result"
    }
   ],
   "source": [
    "yt"
   ]
  },
  {
   "cell_type": "code",
   "execution_count": 21,
   "id": "493de28b-127b-42c0-9156-86f5182d9889",
   "metadata": {},
   "outputs": [
    {
     "data": {
      "text/plain": [
       "(array([[1.],\n",
       "        [1.],\n",
       "        [1.],\n",
       "        [1.],\n",
       "        [1.],\n",
       "        [1.],\n",
       "        [1.],\n",
       "        [1.],\n",
       "        [1.],\n",
       "        [1.],\n",
       "        [1.],\n",
       "        [1.],\n",
       "        [1.],\n",
       "        [1.],\n",
       "        [1.],\n",
       "        [1.],\n",
       "        [1.],\n",
       "        [1.],\n",
       "        [1.],\n",
       "        [1.],\n",
       "        [1.],\n",
       "        [1.],\n",
       "        [1.],\n",
       "        [1.],\n",
       "        [1.],\n",
       "        [1.],\n",
       "        [1.],\n",
       "        [1.],\n",
       "        [1.],\n",
       "        [1.],\n",
       "        [1.],\n",
       "        [1.],\n",
       "        [1.],\n",
       "        [1.],\n",
       "        [1.],\n",
       "        [1.],\n",
       "        [1.],\n",
       "        [1.],\n",
       "        [1.],\n",
       "        [1.]]),\n",
       " 109)"
      ]
     },
     "execution_count": 21,
     "metadata": {},
     "output_type": "execute_result"
    }
   ],
   "source": [
    "x_1t=x1t.reshape(n,1)\n",
    "x_2t=x2t.reshape(n,1)\n",
    "x_3t=x3t.reshape(n,1)\n",
    "x_4t=x4t.reshape(n,1)\n",
    "x_5t=x5t.reshape(n,1)\n",
    "x_6t=x6t.reshape(n,1)\n",
    "x_7t=x7t.reshape(n,1)\n",
    "x_8t=x8t.reshape(n,1)\n",
    "x_9t=x9t.reshape(n,1)\n",
    "x_10t=x10t.reshape(n,1)\n",
    "x_11t=x11t.reshape(n,1)\n",
    "x_0t=np.ones((n,1))\n",
    "x_0t[:40], len(x_0t)"
   ]
  },
  {
   "cell_type": "code",
   "execution_count": 22,
   "id": "c7e0e8fc-e28e-4b78-b31f-c34df59da481",
   "metadata": {},
   "outputs": [
    {
     "data": {
      "text/plain": [
       "array([[1.        , 0.2034632 , 0.        , 0.5       , 0.33333333,\n",
       "        1.        , 0.        , 0.        , 0.        , 0.        ,\n",
       "        0.33333333, 0.        ],\n",
       "       [1.        , 0.69004329, 0.        , 0.5       , 0.        ,\n",
       "        1.        , 0.        , 1.        , 0.        , 0.        ,\n",
       "        0.66666667, 1.        ],\n",
       "       [1.        , 0.15670996, 0.        , 0.75      , 0.33333333,\n",
       "        1.        , 0.        , 0.        , 0.        , 1.        ,\n",
       "        0.        , 0.        ],\n",
       "       [1.        , 1.        , 0.        , 0.25      , 0.        ,\n",
       "        1.        , 0.        , 1.        , 1.        , 0.        ,\n",
       "        0.33333333, 0.        ],\n",
       "       [1.        , 0.17402597, 0.        , 0.75      , 0.33333333,\n",
       "        0.        , 0.        , 0.        , 0.        , 0.        ,\n",
       "        0.        , 0.        ]])"
      ]
     },
     "execution_count": 22,
     "metadata": {},
     "output_type": "execute_result"
    }
   ],
   "source": [
    "xt=np.hstack((x_0t, x_1t, x_2t, x_3t, x_4t, x_5t, x_6t,x_7t,x_8t,x_9t,x_10t,x_11t))\n",
    "xt[:5]"
   ]
  },
  {
   "cell_type": "code",
   "execution_count": 23,
   "id": "efc4e89b-c0c7-40f4-b72a-003a456cb27e",
   "metadata": {},
   "outputs": [
    {
     "data": {
      "text/plain": [
       "array([[0.],\n",
       "       [0.],\n",
       "       [0.],\n",
       "       [0.],\n",
       "       [0.],\n",
       "       [0.],\n",
       "       [0.],\n",
       "       [0.],\n",
       "       [0.],\n",
       "       [0.],\n",
       "       [0.],\n",
       "       [0.]])"
      ]
     },
     "execution_count": 23,
     "metadata": {},
     "output_type": "execute_result"
    }
   ],
   "source": [
    "theta=np.zeros((12,1))\n",
    "theta"
   ]
  },
  {
   "cell_type": "code",
   "execution_count": 24,
   "id": "8d60baf9-8dc7-41e4-bcbc-fe6b12b64ba5",
   "metadata": {},
   "outputs": [],
   "source": [
    "def compute_loss(x,y, theta , lambdav):\n",
    "    \n",
    "    predictions = x.dot(theta)\n",
    "    errors = np.subtract(predictions, y)\n",
    "    sqrErrors = np.square(errors)\n",
    "    \n",
    "    sqrthetas = np.square(theta)\n",
    "    penalty= (lambdav / (2 * m)) * np.sum(sqrthetas) \n",
    "    \n",
    "    J= 1 / (2 * m) * np.sum(sqrErrors) \n",
    "  \n",
    "    \n",
    "    \n",
    "    return (J+penalty)"
   ]
  },
  {
   "cell_type": "code",
   "execution_count": 26,
   "id": "257e541b-856e-4bca-ad0d-7648d0c4d825",
   "metadata": {},
   "outputs": [],
   "source": [
    "def validation_compute_loss(x,y, theta):\n",
    "    \n",
    "    predictions = x.dot(theta)\n",
    "    errors = np.subtract(predictions, y)\n",
    "    sqrErrors = np.square(errors)\n",
    "    J= 1 / (2 * m) * np.sum(sqrErrors) \n",
    "    \n",
    "    return J"
   ]
  },
  {
   "cell_type": "code",
   "execution_count": 27,
   "id": "89b2e77f-f0a8-434b-8cc8-d7ae6227029f",
   "metadata": {},
   "outputs": [],
   "source": [
    "lambdav=0.5"
   ]
  },
  {
   "cell_type": "code",
   "execution_count": 28,
   "id": "3f484b61-b64f-4b18-868b-01fe4c149836",
   "metadata": {},
   "outputs": [
    {
     "name": "stdout",
     "output_type": "stream",
     "text": [
      "The cost for given values of theta_0,_1,_2,_3, ..., -11 is: 20.934727519081726\n"
     ]
    }
   ],
   "source": [
    "cost = compute_loss(x, y, theta, lambdav)\n",
    "print('The cost for given values of theta_0,_1,_2,_3, ..., -11 is:', cost)"
   ]
  },
  {
   "cell_type": "code",
   "execution_count": 29,
   "id": "8b5d12fe-cefa-4334-a6c6-50a03e51fd91",
   "metadata": {},
   "outputs": [],
   "source": [
    "def gradient_descent(x, y, theta, alpha, iterations,xt,yt, lambdav):\n",
    "    \n",
    "    loss_history= np.zeros(iterations)\n",
    "    t_loss_history= np.zeros(iterations)  \n",
    "    \n",
    "    for i in range(iterations):\n",
    "        predictions= x.dot(theta)\n",
    "        errors=np.subtract(predictions, y)\n",
    "        sum_delta=(alpha/ m)* x.transpose().dot(errors)\n",
    "        penaltyt=np.multiply(theta, lambdav/m)\n",
    "        theta= theta - sum_delta - (alpha*penaltyt)\n",
    "        \n",
    "        loss_history[i]= compute_loss(x,y,theta, lambdav)\n",
    "        t_loss_history[i]=validation_compute_loss(xt,yt,theta)\n",
    "        \n",
    "        \n",
    "    return theta, loss_history,t_loss_history"
   ]
  },
  {
   "cell_type": "code",
   "execution_count": 30,
   "id": "f2f98f3a-2c5f-4285-8570-b6ec5ad999e1",
   "metadata": {},
   "outputs": [],
   "source": [
    "theta=[0,0,0,0,0,0,0,0,0,0,0,0]\n",
    "iterations=5000;\n",
    "alpha=0.01;"
   ]
  },
  {
   "cell_type": "code",
   "execution_count": 31,
   "id": "6cfe3e97-50ea-4e14-99f0-3506bb8d2592",
   "metadata": {},
   "outputs": [
    {
     "name": "stdout",
     "output_type": "stream",
     "text": [
      "Final value of theta= [0.01223253 0.1892155  0.17424227 0.06892197 0.11076457 0.04731099\n",
      " 0.04339652 0.02616555 0.08839746 0.08213856 0.08552279 0.07131148]\n",
      "loss_history= [0.04602979 0.04414323 0.04235078 ... 0.00469789 0.00469785 0.00469781]\n",
      "validation_loss_history= [0.01275721 0.0122513  0.01176995 ... 0.00112978 0.00112976 0.00112975]\n"
     ]
    }
   ],
   "source": [
    "theta, loss_history,t_loss_history = gradient_descent(x,y, theta, alpha, iterations,xt,yt, lambdav)\n",
    "print('Final value of theta=', theta)\n",
    "print('loss_history=', loss_history)\n",
    "print('validation_loss_history=', t_loss_history)"
   ]
  },
  {
   "cell_type": "code",
   "execution_count": 33,
   "id": "66ef5eae-4f67-42d3-b770-4b4dbe260d78",
   "metadata": {},
   "outputs": [
    {
     "data": {
      "text/plain": [
       "Text(0.5, 1.0, 'Convergence of gradient descent')"
      ]
     },
     "execution_count": 33,
     "metadata": {},
     "output_type": "execute_result"
    },
    {
     "data": {
      "image/png": "[encoded data removed]",
      "text/plain": [
       "<Figure size 720x432 with 1 Axes>"
      ]
     },
     "metadata": {
      "needs_background": "light"
     },
     "output_type": "display_data"
    }
   ],
   "source": [
    "plt.plot(range(1, iterations +1), loss_history, color='blue')\n",
    "plt.plot(range(1, iterations +1), t_loss_history, color='green')\n",
    "plt.rcParams[\"figure.figsize\"]= (10,6)\n",
    "plt.grid()\n",
    "plt.xlabel('Number of iterations')\n",
    "plt.ylabel('loss (J)')\n",
    "plt.title('Convergence of gradient descent')"
   ]
  },
  {
   "cell_type": "code",
   "execution_count": null,
   "id": "f8528a9b-4260-4fed-b835-b914fae774d7",
   "metadata": {},
   "outputs": [],
   "source": []
  },
  {
   "cell_type": "code",
   "execution_count": null,
   "id": "d8c8da3c-19d0-43c6-b627-85eb166b68c8",
   "metadata": {},
   "outputs": [],
   "source": []
  }
 ],
 "metadata": {
  "kernelspec": {
   "display_name": "Python 3",
   "language": "python",
   "name": "python3"
  },
  "language_info": {
   "codemirror_mode": {
    "name": "ipython",
    "version": 3
   },
   "file_extension": ".py",
   "mimetype": "text/x-python",
   "name": "python",
   "nbconvert_exporter": "python",
   "pygments_lexer": "ipython3",
   "version": "3.8.8"
  }
 },
 "nbformat": 4,
 "nbformat_minor": 5
}
