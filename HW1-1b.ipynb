{
 "cells": [
  {
   "cell_type": "code",
   "execution_count": 13,
   "id": "c836b394-5b8e-41f0-b322-15f5227a7f7b",
   "metadata": {},
   "outputs": [],
   "source": [
    "import numpy as np\n",
    "import pandas as pd\n",
    "import matplotlib.pyplot  as  plt"
   ]
  },
  {
   "cell_type": "code",
   "execution_count": 14,
   "id": "845cf233-5fce-470c-a2ea-b6d4c3bf99f2",
   "metadata": {},
   "outputs": [
    {
     "data": {
      "text/html": [
       "<div>\n",
       "<style scoped>\n",
       "    .dataframe tbody tr th:only-of-type {\n",
       "        vertical-align: middle;\n",
       "    }\n",
       "\n",
       "    .dataframe tbody tr th {\n",
       "        vertical-align: top;\n",
       "    }\n",
       "\n",
       "    .dataframe thead th {\n",
       "        text-align: right;\n",
       "    }\n",
       "</style>\n",
       "<table border=\"1\" class=\"dataframe\">\n",
       "  <thead>\n",
       "    <tr style=\"text-align: right;\">\n",
       "      <th></th>\n",
       "      <th>price</th>\n",
       "      <th>area</th>\n",
       "      <th>bedrooms</th>\n",
       "      <th>bathrooms</th>\n",
       "      <th>stories</th>\n",
       "      <th>mainroad</th>\n",
       "      <th>guestroom</th>\n",
       "      <th>basement</th>\n",
       "      <th>hotwaterheating</th>\n",
       "      <th>airconditioning</th>\n",
       "      <th>parking</th>\n",
       "      <th>prefarea</th>\n",
       "      <th>furnishingstatus</th>\n",
       "    </tr>\n",
       "  </thead>\n",
       "  <tbody>\n",
       "    <tr>\n",
       "      <th>0</th>\n",
       "      <td>13300000</td>\n",
       "      <td>7420</td>\n",
       "      <td>4</td>\n",
       "      <td>2</td>\n",
       "      <td>3</td>\n",
       "      <td>yes</td>\n",
       "      <td>no</td>\n",
       "      <td>no</td>\n",
       "      <td>no</td>\n",
       "      <td>yes</td>\n",
       "      <td>2</td>\n",
       "      <td>yes</td>\n",
       "      <td>furnished</td>\n",
       "    </tr>\n",
       "    <tr>\n",
       "      <th>1</th>\n",
       "      <td>12250000</td>\n",
       "      <td>8960</td>\n",
       "      <td>4</td>\n",
       "      <td>4</td>\n",
       "      <td>4</td>\n",
       "      <td>yes</td>\n",
       "      <td>no</td>\n",
       "      <td>no</td>\n",
       "      <td>no</td>\n",
       "      <td>yes</td>\n",
       "      <td>3</td>\n",
       "      <td>no</td>\n",
       "      <td>furnished</td>\n",
       "    </tr>\n",
       "    <tr>\n",
       "      <th>2</th>\n",
       "      <td>12250000</td>\n",
       "      <td>9960</td>\n",
       "      <td>3</td>\n",
       "      <td>2</td>\n",
       "      <td>2</td>\n",
       "      <td>yes</td>\n",
       "      <td>no</td>\n",
       "      <td>yes</td>\n",
       "      <td>no</td>\n",
       "      <td>no</td>\n",
       "      <td>2</td>\n",
       "      <td>yes</td>\n",
       "      <td>semi-furnished</td>\n",
       "    </tr>\n",
       "    <tr>\n",
       "      <th>3</th>\n",
       "      <td>12215000</td>\n",
       "      <td>7500</td>\n",
       "      <td>4</td>\n",
       "      <td>2</td>\n",
       "      <td>2</td>\n",
       "      <td>yes</td>\n",
       "      <td>no</td>\n",
       "      <td>yes</td>\n",
       "      <td>no</td>\n",
       "      <td>yes</td>\n",
       "      <td>3</td>\n",
       "      <td>yes</td>\n",
       "      <td>furnished</td>\n",
       "    </tr>\n",
       "    <tr>\n",
       "      <th>4</th>\n",
       "      <td>11410000</td>\n",
       "      <td>7420</td>\n",
       "      <td>4</td>\n",
       "      <td>1</td>\n",
       "      <td>2</td>\n",
       "      <td>yes</td>\n",
       "      <td>yes</td>\n",
       "      <td>yes</td>\n",
       "      <td>no</td>\n",
       "      <td>yes</td>\n",
       "      <td>2</td>\n",
       "      <td>no</td>\n",
       "      <td>furnished</td>\n",
       "    </tr>\n",
       "  </tbody>\n",
       "</table>\n",
       "</div>"
      ],
      "text/plain": [
       "      price  area  bedrooms  bathrooms  stories mainroad guestroom basement  \\\n",
       "0  13300000  7420         4          2        3      yes        no       no   \n",
       "1  12250000  8960         4          4        4      yes        no       no   \n",
       "2  12250000  9960         3          2        2      yes        no      yes   \n",
       "3  12215000  7500         4          2        2      yes        no      yes   \n",
       "4  11410000  7420         4          1        2      yes       yes      yes   \n",
       "\n",
       "  hotwaterheating airconditioning  parking prefarea furnishingstatus  \n",
       "0              no             yes        2      yes        furnished  \n",
       "1              no             yes        3       no        furnished  \n",
       "2              no              no        2      yes   semi-furnished  \n",
       "3              no             yes        3      yes        furnished  \n",
       "4              no             yes        2       no        furnished  "
      ]
     },
     "execution_count": 14,
     "metadata": {},
     "output_type": "execute_result"
    }
   ],
   "source": [
    "housing=pd.read_csv('Housing.csv')\n",
    "housing.head(5)"
   ]
  },
  {
   "cell_type": "code",
   "execution_count": 15,
   "id": "3986ada2-c413-4dfb-b322-8e7190c754a6",
   "metadata": {
    "tags": []
   },
   "outputs": [
    {
     "data": {
      "text/html": [
       "<div>\n",
       "<style scoped>\n",
       "    .dataframe tbody tr th:only-of-type {\n",
       "        vertical-align: middle;\n",
       "    }\n",
       "\n",
       "    .dataframe tbody tr th {\n",
       "        vertical-align: top;\n",
       "    }\n",
       "\n",
       "    .dataframe thead th {\n",
       "        text-align: right;\n",
       "    }\n",
       "</style>\n",
       "<table border=\"1\" class=\"dataframe\">\n",
       "  <thead>\n",
       "    <tr style=\"text-align: right;\">\n",
       "      <th></th>\n",
       "      <th>price</th>\n",
       "      <th>area</th>\n",
       "      <th>bedrooms</th>\n",
       "      <th>bathrooms</th>\n",
       "      <th>stories</th>\n",
       "      <th>mainroad</th>\n",
       "      <th>guestroom</th>\n",
       "      <th>basement</th>\n",
       "      <th>hotwaterheating</th>\n",
       "      <th>airconditioning</th>\n",
       "      <th>parking</th>\n",
       "      <th>prefarea</th>\n",
       "      <th>furnishingstatus</th>\n",
       "    </tr>\n",
       "  </thead>\n",
       "  <tbody>\n",
       "    <tr>\n",
       "      <th>0</th>\n",
       "      <td>13300000</td>\n",
       "      <td>7420</td>\n",
       "      <td>4</td>\n",
       "      <td>2</td>\n",
       "      <td>3</td>\n",
       "      <td>1</td>\n",
       "      <td>0</td>\n",
       "      <td>0</td>\n",
       "      <td>0</td>\n",
       "      <td>1</td>\n",
       "      <td>2</td>\n",
       "      <td>1</td>\n",
       "      <td>furnished</td>\n",
       "    </tr>\n",
       "    <tr>\n",
       "      <th>1</th>\n",
       "      <td>12250000</td>\n",
       "      <td>8960</td>\n",
       "      <td>4</td>\n",
       "      <td>4</td>\n",
       "      <td>4</td>\n",
       "      <td>1</td>\n",
       "      <td>0</td>\n",
       "      <td>0</td>\n",
       "      <td>0</td>\n",
       "      <td>1</td>\n",
       "      <td>3</td>\n",
       "      <td>0</td>\n",
       "      <td>furnished</td>\n",
       "    </tr>\n",
       "    <tr>\n",
       "      <th>2</th>\n",
       "      <td>12250000</td>\n",
       "      <td>9960</td>\n",
       "      <td>3</td>\n",
       "      <td>2</td>\n",
       "      <td>2</td>\n",
       "      <td>1</td>\n",
       "      <td>0</td>\n",
       "      <td>1</td>\n",
       "      <td>0</td>\n",
       "      <td>0</td>\n",
       "      <td>2</td>\n",
       "      <td>1</td>\n",
       "      <td>semi-furnished</td>\n",
       "    </tr>\n",
       "    <tr>\n",
       "      <th>3</th>\n",
       "      <td>12215000</td>\n",
       "      <td>7500</td>\n",
       "      <td>4</td>\n",
       "      <td>2</td>\n",
       "      <td>2</td>\n",
       "      <td>1</td>\n",
       "      <td>0</td>\n",
       "      <td>1</td>\n",
       "      <td>0</td>\n",
       "      <td>1</td>\n",
       "      <td>3</td>\n",
       "      <td>1</td>\n",
       "      <td>furnished</td>\n",
       "    </tr>\n",
       "    <tr>\n",
       "      <th>4</th>\n",
       "      <td>11410000</td>\n",
       "      <td>7420</td>\n",
       "      <td>4</td>\n",
       "      <td>1</td>\n",
       "      <td>2</td>\n",
       "      <td>1</td>\n",
       "      <td>1</td>\n",
       "      <td>1</td>\n",
       "      <td>0</td>\n",
       "      <td>1</td>\n",
       "      <td>2</td>\n",
       "      <td>0</td>\n",
       "      <td>furnished</td>\n",
       "    </tr>\n",
       "  </tbody>\n",
       "</table>\n",
       "</div>"
      ],
      "text/plain": [
       "      price  area  bedrooms  bathrooms  stories  mainroad  guestroom  \\\n",
       "0  13300000  7420         4          2        3         1          0   \n",
       "1  12250000  8960         4          4        4         1          0   \n",
       "2  12250000  9960         3          2        2         1          0   \n",
       "3  12215000  7500         4          2        2         1          0   \n",
       "4  11410000  7420         4          1        2         1          1   \n",
       "\n",
       "   basement  hotwaterheating  airconditioning  parking  prefarea  \\\n",
       "0         0                0                1        2         1   \n",
       "1         0                0                1        3         0   \n",
       "2         1                0                0        2         1   \n",
       "3         1                0                1        3         1   \n",
       "4         1                0                1        2         0   \n",
       "\n",
       "  furnishingstatus  \n",
       "0        furnished  \n",
       "1        furnished  \n",
       "2   semi-furnished  \n",
       "3        furnished  \n",
       "4        furnished  "
      ]
     },
     "execution_count": 15,
     "metadata": {},
     "output_type": "execute_result"
    }
   ],
   "source": [
    "housing.mainroad = housing.mainroad.map(dict(yes=1,no=0))\n",
    "housing.guestroom = housing.guestroom.map(dict(yes=1,no=0))\n",
    "housing.basement = housing.basement.map(dict(yes=1,no=0))\n",
    "housing.hotwaterheating = housing.hotwaterheating.map(dict(yes=1,no=0))\n",
    "housing.airconditioning = housing.airconditioning.map(dict(yes=1,no=0))\n",
    "housing.prefarea = housing.prefarea.map(dict(yes=1,no=0))\n",
    "\n",
    "housing.head(5)"
   ]
  },
  {
   "cell_type": "code",
   "execution_count": 16,
   "id": "713d43dd-493a-48a3-8c23-60d7018a8a11",
   "metadata": {},
   "outputs": [
    {
     "data": {
      "text/plain": [
       "(545, 13)"
      ]
     },
     "execution_count": 16,
     "metadata": {},
     "output_type": "execute_result"
    }
   ],
   "source": [
    "housing.shape"
   ]
  },
  {
   "cell_type": "code",
   "execution_count": 17,
   "id": "813476ac-d09b-463b-bce7-ca9a4260393b",
   "metadata": {},
   "outputs": [
    {
     "data": {
      "text/plain": [
       "(436, 13)"
      ]
     },
     "execution_count": 17,
     "metadata": {},
     "output_type": "execute_result"
    }
   ],
   "source": [
    "from sklearn.model_selection import train_test_split\n",
    "np.random.seed(0)\n",
    "df_train,df_test=train_test_split(housing, train_size=0.8, test_size=0.2)\n",
    "df_train.shape"
   ]
  },
  {
   "cell_type": "code",
   "execution_count": 18,
   "id": "86d0bf60-3af0-4727-9b34-70f8b2f49757",
   "metadata": {},
   "outputs": [
    {
     "data": {
      "text/plain": [
       "(109, 13)"
      ]
     },
     "execution_count": 18,
     "metadata": {},
     "output_type": "execute_result"
    }
   ],
   "source": [
    "df_test.shape"
   ]
  },
  {
   "cell_type": "code",
   "execution_count": 19,
   "id": "ac527e1a-08aa-489a-9461-1604da5e7770",
   "metadata": {},
   "outputs": [
    {
     "data": {
      "text/html": [
       "<div>\n",
       "<style scoped>\n",
       "    .dataframe tbody tr th:only-of-type {\n",
       "        vertical-align: middle;\n",
       "    }\n",
       "\n",
       "    .dataframe tbody tr th {\n",
       "        vertical-align: top;\n",
       "    }\n",
       "\n",
       "    .dataframe thead th {\n",
       "        text-align: right;\n",
       "    }\n",
       "</style>\n",
       "<table border=\"1\" class=\"dataframe\">\n",
       "  <thead>\n",
       "    <tr style=\"text-align: right;\">\n",
       "      <th></th>\n",
       "      <th>area</th>\n",
       "      <th>bathrooms</th>\n",
       "      <th>bedrooms</th>\n",
       "      <th>stories</th>\n",
       "      <th>mainroad</th>\n",
       "      <th>guestroom</th>\n",
       "      <th>basement</th>\n",
       "      <th>hotwaterheating</th>\n",
       "      <th>airconditioning</th>\n",
       "      <th>parking</th>\n",
       "      <th>prefarea</th>\n",
       "      <th>price</th>\n",
       "    </tr>\n",
       "  </thead>\n",
       "  <tbody>\n",
       "    <tr>\n",
       "      <th>542</th>\n",
       "      <td>3620</td>\n",
       "      <td>1</td>\n",
       "      <td>2</td>\n",
       "      <td>1</td>\n",
       "      <td>1</td>\n",
       "      <td>0</td>\n",
       "      <td>0</td>\n",
       "      <td>0</td>\n",
       "      <td>0</td>\n",
       "      <td>0</td>\n",
       "      <td>0</td>\n",
       "      <td>1750000</td>\n",
       "    </tr>\n",
       "    <tr>\n",
       "      <th>496</th>\n",
       "      <td>4000</td>\n",
       "      <td>1</td>\n",
       "      <td>2</td>\n",
       "      <td>1</td>\n",
       "      <td>1</td>\n",
       "      <td>0</td>\n",
       "      <td>0</td>\n",
       "      <td>0</td>\n",
       "      <td>0</td>\n",
       "      <td>0</td>\n",
       "      <td>0</td>\n",
       "      <td>2695000</td>\n",
       "    </tr>\n",
       "    <tr>\n",
       "      <th>484</th>\n",
       "      <td>3040</td>\n",
       "      <td>1</td>\n",
       "      <td>2</td>\n",
       "      <td>1</td>\n",
       "      <td>0</td>\n",
       "      <td>0</td>\n",
       "      <td>0</td>\n",
       "      <td>0</td>\n",
       "      <td>0</td>\n",
       "      <td>0</td>\n",
       "      <td>0</td>\n",
       "      <td>2870000</td>\n",
       "    </tr>\n",
       "    <tr>\n",
       "      <th>507</th>\n",
       "      <td>3600</td>\n",
       "      <td>1</td>\n",
       "      <td>2</td>\n",
       "      <td>1</td>\n",
       "      <td>1</td>\n",
       "      <td>0</td>\n",
       "      <td>0</td>\n",
       "      <td>0</td>\n",
       "      <td>0</td>\n",
       "      <td>0</td>\n",
       "      <td>0</td>\n",
       "      <td>2590000</td>\n",
       "    </tr>\n",
       "    <tr>\n",
       "      <th>252</th>\n",
       "      <td>9860</td>\n",
       "      <td>1</td>\n",
       "      <td>3</td>\n",
       "      <td>1</td>\n",
       "      <td>1</td>\n",
       "      <td>0</td>\n",
       "      <td>0</td>\n",
       "      <td>0</td>\n",
       "      <td>0</td>\n",
       "      <td>0</td>\n",
       "      <td>0</td>\n",
       "      <td>4515000</td>\n",
       "    </tr>\n",
       "  </tbody>\n",
       "</table>\n",
       "</div>"
      ],
      "text/plain": [
       "     area  bathrooms  bedrooms  stories  mainroad  guestroom  basement  \\\n",
       "542  3620          1         2        1         1          0         0   \n",
       "496  4000          1         2        1         1          0         0   \n",
       "484  3040          1         2        1         0          0         0   \n",
       "507  3600          1         2        1         1          0         0   \n",
       "252  9860          1         3        1         1          0         0   \n",
       "\n",
       "     hotwaterheating  airconditioning  parking  prefarea    price  \n",
       "542                0                0        0         0  1750000  \n",
       "496                0                0        0         0  2695000  \n",
       "484                0                0        0         0  2870000  \n",
       "507                0                0        0         0  2590000  \n",
       "252                0                0        0         0  4515000  "
      ]
     },
     "execution_count": 19,
     "metadata": {},
     "output_type": "execute_result"
    }
   ],
   "source": [
    "num_vars=['area','bathrooms','bedrooms', 'stories', 'mainroad', 'guestroom','basement', 'hotwaterheating', 'airconditioning','parking','prefarea', 'price']\n",
    "df_Newtrain=df_train[num_vars]\n",
    "df_Newtest=df_test[num_vars]\n",
    "df_Newtrain.head()"
   ]
  },
  {
   "cell_type": "code",
   "execution_count": 20,
   "id": "58d6f1fe-4922-4d45-9aa7-16def4170e23",
   "metadata": {},
   "outputs": [
    {
     "data": {
      "text/plain": [
       "(436, 12)"
      ]
     },
     "execution_count": 20,
     "metadata": {},
     "output_type": "execute_result"
    }
   ],
   "source": [
    "df_Newtrain.shape"
   ]
  },
  {
   "cell_type": "code",
   "execution_count": 21,
   "id": "6ea9f485-4fc9-4e4e-a5d7-1941e8954d44",
   "metadata": {},
   "outputs": [
    {
     "data": {
      "text/plain": [
       "(109, 12)"
      ]
     },
     "execution_count": 21,
     "metadata": {},
     "output_type": "execute_result"
    }
   ],
   "source": [
    "df_Newtest.shape"
   ]
  },
  {
   "cell_type": "code",
   "execution_count": 22,
   "id": "e301d14f-34f8-4962-b5f0-719e03e8eb58",
   "metadata": {},
   "outputs": [
    {
     "name": "stdout",
     "output_type": "stream",
     "text": [
      "dataset= [[   3620       1       2       1       1       0       0       0       0\n",
      "        0       0 1750000]\n",
      " [   4000       1       2       1       1       0       0       0       0\n",
      "        0       0 2695000]\n",
      " [   3040       1       2       1       0       0       0       0       0\n",
      "        0       0 2870000]\n",
      " [   3600       1       2       1       1       0       0       0       0\n",
      "        0       0 2590000]\n",
      " [   9860       1       3       1       1       0       0       0       0\n",
      "        0       0 4515000]\n",
      " [   3968       1       3       2       0       0       0       0       0\n",
      "        0       0 4410000]\n",
      " [   3840       1       3       2       1       0       0       0       0\n",
      "        1       1 4585000]\n",
      " [   9800       2       4       2       1       1       0       0       0\n",
      "        2       0 5250000]\n",
      " [   3640       1       2       1       1       0       0       0       0\n",
      "        0       0 3570000]\n",
      " [   3520       2       2       1       1       0       1       0       0\n",
      "        0       0 3640000]\n",
      " [  13200       1       3       2       1       0       1       0       1\n",
      "        2       1 9800000]\n",
      " [   2700       1       2       1       0       0       0       0       0\n",
      "        0       0 2940000]\n",
      " [   4300       2       6       2       1       0       0       0       0\n",
      "        0       0 6083000]\n",
      " [   4500       1       2       1       0       0       0       0       0\n",
      "        0       0 3255000]\n",
      " [   4995       2       4       1       1       0       1       0       0\n",
      "        0       0 4893000]\n",
      " [   3069       1       2       1       1       0       0       0       0\n",
      "        1       0 3150000]\n",
      " [   4352       1       4       2       0       0       0       0       0\n",
      "        1       0 2975000]\n",
      " [   8880       2       3       2       1       0       1       0       1\n",
      "        1       0 6930000]\n",
      " [  12944       1       3       1       1       0       0       0       0\n",
      "        0       0 3500000]\n",
      " [   7160       1       3       1       1       0       1       0       0\n",
      "        2       1 5880000]]\n"
     ]
    }
   ],
   "source": [
    "dataset= df_Newtrain.values[:,:]\n",
    "print('dataset=', dataset [:20,:])"
   ]
  },
  {
   "cell_type": "code",
   "execution_count": 23,
   "id": "478cf762-0d9b-4493-84ec-e921d3f7350d",
   "metadata": {},
   "outputs": [
    {
     "data": {
      "text/plain": [
       "array([ 1750000,  2695000,  2870000,  2590000,  4515000,  4410000,\n",
       "        4585000,  5250000,  3570000,  3640000,  9800000,  2940000,\n",
       "        6083000,  3255000,  4893000,  3150000,  2975000,  6930000,\n",
       "        3500000,  5880000,  3500000,  4235000,  3710000,  4060000,\n",
       "        2345000,  4550000, 10150000,  3640000,  2660000,  2233000,\n",
       "        2135000,  4277000,  6230000,  6300000,  3920000,  7350000,\n",
       "        8400000,  5215000,  7420000,  6230000,  4900000,  4550000,\n",
       "        4060000,  3010000,  7343000,  5600000,  7140000, 10150000,\n",
       "        9870000,  3780000,  2940000,  2653000,  3836000,  4760000,\n",
       "        7962500,  3143000,  3500000,  4690000,  4340000,  4515000,\n",
       "        1767150,  3080000,  5950000,  5530000,  3150000,  7210000,\n",
       "        2800000,  3045000,  2835000,  1820000,  3465000,  4200000,\n",
       "        5040000,  7350000,  5250000,  4690000,  4900000,  5495000,\n",
       "        1750000,  8120000,  3675000,  8890000,  3920000,  4550000,\n",
       "        2275000,  7350000,  6650000,  8463000,  5250000,  6405000,\n",
       "        5285000, 11410000,  2604000,  5215000,  4550000,  3010000,\n",
       "       10850000,  5652500,  3850000,  4900000,  5775000,  2940000,\n",
       "        5950000,  8645000,  6860000,  4900000,  8750000,  2653000,\n",
       "        3605000,  9240000,  5250000,  3990000,  2800000,  4543000,\n",
       "        4795000,  2870000,  7000000,  2450000,  4550000,  5950000,\n",
       "        6615000,  3360000,  3773000,  3290000,  4200000,  2100000,\n",
       "        2275000,  5460000,  2100000,  3325000,  4473000,  4382000,\n",
       "        3773000,  3500000,  7420000,  4970000,  5040000,  6020000,\n",
       "        3010000,  3220000,  5390000,  6160000,  3500000,  7035000,\n",
       "        2520000,  3465000,  5110000,  2408000,  4270000,  2450000,\n",
       "        3220000,  4095000,  6300000,  3703000,  3010000,  4935000,\n",
       "        5600000,  5600000,  7910000,  2730000,  4025000,  4515000,\n",
       "        4200000,  3080000, 12250000,  4767000,  2485000,  5600000,\n",
       "        4550000,  4095000,  6020000,  3675000,  5250000,  5250000,\n",
       "        2660000,  3850000,  2961000,  5740000,  3430000,  4480000,\n",
       "        3920000,  4200000,  3118850,  2940000,  4480000,  4655000,\n",
       "        5810000,  8190000,  6475000,  4200000,  7560000,  7070000,\n",
       "        4907000,  4060000,  2380000,  2660000,  3885000,  4830000,\n",
       "        4200000,  4200000,  6685000,  4200000,  8080940,  3850000,\n",
       "        8400000,  2660000,  3493000,  2310000,  4130000,  2380000,\n",
       "        4830000,  8400000,  2835000,  3850000,  5523000,  3010000,\n",
       "        3430000,  5740000,  4893000,  6195000,  3430000,  3430000,\n",
       "        3395000,  4830000,  3115000,  5040000,  4865000,  2660000,\n",
       "        4900000,  4620000,  4473000,  6895000,  8575000,  4830000,\n",
       "        4200000,  4760000,  5873000,  6090000,  5320000,  2660000,\n",
       "        3010000,  7875000,  4340000,  3360000,  6650000,  3234000,\n",
       "        3640000,  3990000,  9240000,  4200000,  3990000,  2485000,\n",
       "        4515000,  4690000,  3423000,  5460000,  6580000,  5950000,\n",
       "        8540000,  6090000,  5600000,  5565000,  9100000,  3500000,\n",
       "        3920000,  6090000,  3395000,  5740000,  4620000,  4473000,\n",
       "        3780000,  3360000,  4060000,  4025000,  2940000,  4543000,\n",
       "        2520000,  2450000,  8855000,  3990000,  4200000,  3150000,\n",
       "        4375000,  3710000,  4690000,  3115000, 12215000,  3430000,\n",
       "        5943000,  4270000,  4235000,  6650000,  5110000,  3640000,\n",
       "        3150000,  2100000,  4319000,  4200000,  2450000,  5145000,\n",
       "        8295000,  6629000,  4165000,  4480000,  9681000,  3710000,\n",
       "        3255000,  6510000,  4403000,  8043000,  5033000,  7210000,\n",
       "        7840000,  4340000,  3430000,  7420000,  4900000,  3003000,\n",
       "        1855000,  2730000,  5950000,  4760000,  3360000,  7070000,\n",
       "        2940000,  3640000,  5866000,  5110000,  8645000,  3220000,\n",
       "        7700000,  3640000,  3500000, 13300000,  3570000,  4900000,\n",
       "        3465000,  3675000,  2590000,  6293000,  3500000,  3780000,\n",
       "        4193000,  3360000,  4200000,  5229000,  3675000,  4480000,\n",
       "        6300000,  4956000,  6300000,  2240000,  5425000,  5250000,\n",
       "        6790000,  4193000,  7455000,  3850000,  3640000,  3500000,\n",
       "        4900000,  4270000,  2590000,  4690000,  5600000,  5600000,\n",
       "        3920000,  5215000,  3773000,  3087000,  5810000,  5880000,\n",
       "        7490000,  3150000,  4445000,  4007500,  4900000,  6510000,\n",
       "        3353000,  5950000,  1890000,  2450000,  2275000,  3500000,\n",
       "        3570000,  6419000,  6615000,  3290000,  4403000,  5950000,\n",
       "        3745000,  4200000,  7245000,  3360000,  2870000,  4025000,\n",
       "        4480000,  3640000,  8400000,  3220000,  7700000,  6160000,\n",
       "        3500000,  3920000,  4340000,  2852500,  7350000,  2450000,\n",
       "        5873000,  8400000,  5145000,  3115000,  2520000,  5565000,\n",
       "        4550000,  4403000,  4200000,  3360000,  5600000,  5243000,\n",
       "        6265000,  3150000,  3290000,  6020000,  6720000,  5250000,\n",
       "        6475000,  2870000,  4095000,  3500000,  3010000,  6790000,\n",
       "        4305000,  9800000,  3710000,  5040000], dtype=int64)"
      ]
     },
     "execution_count": 23,
     "metadata": {},
     "output_type": "execute_result"
    }
   ],
   "source": [
    "x1= df_Newtrain.values [:,0]\n",
    "x2= df_Newtrain.values [:,1]\n",
    "x3= df_Newtrain.values [:,2]\n",
    "x4= df_Newtrain.values [:,3]\n",
    "x5= df_Newtrain.values [:,4]\n",
    "x6= df_Newtrain.values [:,5]\n",
    "x7= df_Newtrain.values [:,6]\n",
    "x8= df_Newtrain.values [:,7]\n",
    "x9= df_Newtrain.values [:,8]\n",
    "x10= df_Newtrain.values [:,9]\n",
    "x11= df_Newtrain.values [:,10]\n",
    "y= df_Newtrain.values[:,11]\n",
    "m= len(y)\n",
    "y\n"
   ]
  },
  {
   "cell_type": "code",
   "execution_count": 24,
   "id": "794e1881-7a50-4033-8cd0-179d9facce29",
   "metadata": {},
   "outputs": [
    {
     "name": "stdout",
     "output_type": "stream",
     "text": [
      "x_1= [[3620]\n",
      " [4000]\n",
      " [3040]\n",
      " [3600]\n",
      " [9860]]\n"
     ]
    }
   ],
   "source": [
    "x_1=x1.reshape(m,1)\n",
    "print('x_1=', x_1[:5,:])"
   ]
  },
  {
   "cell_type": "code",
   "execution_count": 25,
   "id": "e344231e-941b-4e81-bd52-dcd2e52ae2e5",
   "metadata": {},
   "outputs": [],
   "source": [
    "x_2=x2.reshape(m,1)\n",
    "x_3=x3.reshape(m,1)\n",
    "x_4=x4.reshape(m,1)\n",
    "x_5=x5.reshape(m,1)\n",
    "x_6=x6.reshape(m,1)\n",
    "x_7=x7.reshape(m,1)\n",
    "x_8=x8.reshape(m,1)\n",
    "x_9=x9.reshape(m,1)\n",
    "x_10=x10.reshape(m,1)\n",
    "x_11=x11.reshape(m,1)"
   ]
  },
  {
   "cell_type": "code",
   "execution_count": 26,
   "id": "0bcd602b-d1da-438d-8124-e0de4ed875c6",
   "metadata": {},
   "outputs": [
    {
     "data": {
      "text/plain": [
       "(array([[1.],\n",
       "        [1.],\n",
       "        [1.],\n",
       "        [1.],\n",
       "        [1.]]),\n",
       " 436)"
      ]
     },
     "execution_count": 26,
     "metadata": {},
     "output_type": "execute_result"
    }
   ],
   "source": [
    "x_0=np.ones((m,1))\n",
    "x_0[:5], len(x_0)\n"
   ]
  },
  {
   "cell_type": "code",
   "execution_count": 27,
   "id": "c5509ce9-6a0b-4a69-a74a-8b00d7b19e17",
   "metadata": {},
   "outputs": [
    {
     "data": {
      "text/plain": [
       "array([[1.00e+00, 3.62e+03, 1.00e+00, 2.00e+00, 1.00e+00, 1.00e+00,\n",
       "        0.00e+00, 0.00e+00, 0.00e+00, 0.00e+00, 0.00e+00, 0.00e+00],\n",
       "       [1.00e+00, 4.00e+03, 1.00e+00, 2.00e+00, 1.00e+00, 1.00e+00,\n",
       "        0.00e+00, 0.00e+00, 0.00e+00, 0.00e+00, 0.00e+00, 0.00e+00],\n",
       "       [1.00e+00, 3.04e+03, 1.00e+00, 2.00e+00, 1.00e+00, 0.00e+00,\n",
       "        0.00e+00, 0.00e+00, 0.00e+00, 0.00e+00, 0.00e+00, 0.00e+00],\n",
       "       [1.00e+00, 3.60e+03, 1.00e+00, 2.00e+00, 1.00e+00, 1.00e+00,\n",
       "        0.00e+00, 0.00e+00, 0.00e+00, 0.00e+00, 0.00e+00, 0.00e+00],\n",
       "       [1.00e+00, 9.86e+03, 1.00e+00, 3.00e+00, 1.00e+00, 1.00e+00,\n",
       "        0.00e+00, 0.00e+00, 0.00e+00, 0.00e+00, 0.00e+00, 0.00e+00]])"
      ]
     },
     "execution_count": 27,
     "metadata": {},
     "output_type": "execute_result"
    }
   ],
   "source": [
    "x=np.hstack((x_0, x_1, x_2, x_3, x_4, x_5,x_6,x_7,x_8,x_9,x_10,x_11 ))\n",
    "x[:5]"
   ]
  },
  {
   "cell_type": "code",
   "execution_count": 28,
   "id": "e60cfe76-e65d-4d95-a5f7-4349d7359d66",
   "metadata": {},
   "outputs": [
    {
     "name": "stdout",
     "output_type": "stream",
     "text": [
      "dataset= [[   4000       1       3       2       1       0       0       0       0\n",
      "        1       0 4585000]\n",
      " [   9620       1       3       1       1       0       1       0       0\n",
      "        2       1 6083000]\n",
      " [   3460       1       4       2       1       0       0       0       1\n",
      "        0       0 4007500]\n",
      " [  13200       1       2       1       1       0       1       1       0\n",
      "        1       0 6930000]\n",
      " [   3660       1       4       2       0       0       0       0       0\n",
      "        0       0 2940000]\n",
      " [   6350       2       3       3       1       1       0       0       1\n",
      "        0       0 6195000]\n",
      " [   3850       1       3       1       1       0       0       0       0\n",
      "        2       0 3535000]\n",
      " [   3480       1       3       2       0       0       0       0       0\n",
      "        1       0 2940000]\n",
      " [   3512       1       2       1       1       0       0       0       0\n",
      "        1       1 3500000]\n",
      " [   9000       2       4       4       1       0       0       0       1\n",
      "        2       0 7980000]\n",
      " [   6000       2       4       4       1       0       0       0       1\n",
      "        0       0 6755000]\n",
      " [   3960       1       3       2       1       0       0       0       0\n",
      "        0       0 3990000]\n",
      " [   3450       1       3       2       1       0       1       0       0\n",
      "        0       0 3150000]\n",
      " [   6060       1       3       1       1       1       1       0       0\n",
      "        0       0 3290000]\n",
      " [   5985       1       3       1       1       0       1       0       0\n",
      "        0       0 4130000]\n",
      " [   2430       1       3       1       0       0       0       0       0\n",
      "        0       0 2660000]\n",
      " [   4900       1       2       2       1       0       1       0       0\n",
      "        0       0 4410000]\n",
      " [   6020       1       3       1       1       0       0       0       0\n",
      "        0       0 3710000]\n",
      " [   3100       1       3       2       0       0       1       0       0\n",
      "        0       0 3360000]\n",
      " [   4500       1       2       1       1       0       0       0       1\n",
      "        2       0 4270000]]\n"
     ]
    }
   ],
   "source": [
    "dataset_test= df_Newtest.values[:,:]\n",
    "print('dataset=', dataset_test[:20,:])"
   ]
  },
  {
   "cell_type": "code",
   "execution_count": 29,
   "id": "ce6c30d3-750a-43d2-8cf9-14cce13b1896",
   "metadata": {},
   "outputs": [
    {
     "data": {
      "text/plain": [
       "array([ 4000,  9620,  3460, 13200,  3660,  6350,  3850,  3480,  3512,\n",
       "        9000,  6000,  3960,  3450,  6060,  5985,  2430,  4900,  6020,\n",
       "        3100,  4500,  8150,  6450,  5000,  1700,  6420,  3150,  7000,\n",
       "        5680,  3300,  6420,  4400,  2275,  8400,  4040,  3120,  6440,\n",
       "        6000,  3036,  3450,  2175,  8500,  5900,  5800,  5495,  3520,\n",
       "        6000,  4160,  4040,  4046,  5700,  4840,  9667,  1650,  3850,\n",
       "        5880,  5720,  8250,  4640,  3600,  7000, 12900,  6600,  2135,\n",
       "        6000,  2640,  2817,  7155,  4410,  4500,  6300,  2145,  5500,\n",
       "        3600,  4260,  3780,  2870,  3420,  8580,  2910,  4000,  2145,\n",
       "        7686,  4510,  7152,  4600,  3240,  3420,  5800,  3150,  4075,\n",
       "        7424,  9000,  3640,  3150,  2145,  8960,  2160,  6550,  7770,\n",
       "        8400, 10500,  3480,  2787,  3000,  6420,  5200,  6060,  4500,\n",
       "        6100], dtype=int64)"
      ]
     },
     "execution_count": 29,
     "metadata": {},
     "output_type": "execute_result"
    }
   ],
   "source": [
    "x1t= df_Newtest.values [:,0]\n",
    "x2t= df_Newtest.values [:,1]\n",
    "x3t= df_Newtest.values [:,2]\n",
    "x4t= df_Newtest.values [:,3]\n",
    "x5t= df_Newtest.values [:,4]\n",
    "x6t= df_Newtest.values [:,5]\n",
    "x7t= df_Newtest.values [:,6]\n",
    "x8t= df_Newtest.values [:,7]\n",
    "x9t= df_Newtest.values [:,8]\n",
    "x10t= df_Newtest.values [:,9]\n",
    "x11t= df_Newtest.values [:,10]\n",
    "yt= df_Newtest.values[:,11]\n",
    "n= len(yt)\n",
    "x1t"
   ]
  },
  {
   "cell_type": "code",
   "execution_count": 30,
   "id": "e59770f4-f41f-476c-a52a-2279eb8baa7d",
   "metadata": {},
   "outputs": [
    {
     "data": {
      "text/plain": [
       "array([ 4585000,  6083000,  4007500,  6930000,  2940000,  6195000,\n",
       "        3535000,  2940000,  3500000,  7980000,  6755000,  3990000,\n",
       "        3150000,  3290000,  4130000,  2660000,  4410000,  3710000,\n",
       "        3360000,  4270000,  5005000,  5383000,  6440000,  1890000,\n",
       "        6125000,  5460000,  5803000,  4620000,  5530000,  5950000,\n",
       "        4305000,  3640000,  5250000,  3325000,  3703000,  4753000,\n",
       "        9100000,  3500000,  3150000,  4270000,  8960000,  4060000,\n",
       "        5740000,  3129000,  3633000,  7560000,  4620000,  3290000,\n",
       "        4165000,  6650000,  4165000,  4690000,  3150000,  3850000,\n",
       "        3290000,  5075000,  6510000,  5740000,  3780000,  4795000,\n",
       "        4900000,  5460000,  3500000,  7525000,  2835000,  5495000,\n",
       "        8680000,  4200000,  4200000,  4900000,  3332000,  6195000,\n",
       "        4098500,  6650000,  3885000,  4620000,  1960000,  6440000,\n",
       "        1750000,  3605000,  3290000,  4970000,  4613000,  3850000,\n",
       "        3500000,  6107500,  3780000,  4900000,  3570000,  4340000,\n",
       "        3500000,  6300000,  3395000,  3815000,  3920000, 12250000,\n",
       "        3080000,  9310000,  4270000,  3780000,  5600000,  3290000,\n",
       "        2380000,  5110000,  6650000,  5810000,  4123000,  3080000,\n",
       "        5530000], dtype=int64)"
      ]
     },
     "execution_count": 30,
     "metadata": {},
     "output_type": "execute_result"
    }
   ],
   "source": [
    "yt"
   ]
  },
  {
   "cell_type": "code",
   "execution_count": 31,
   "id": "2c944ba3-c93b-4420-82d6-c420ef479f50",
   "metadata": {},
   "outputs": [
    {
     "data": {
      "text/plain": [
       "(array([[1.],\n",
       "        [1.],\n",
       "        [1.],\n",
       "        [1.],\n",
       "        [1.],\n",
       "        [1.],\n",
       "        [1.],\n",
       "        [1.],\n",
       "        [1.],\n",
       "        [1.],\n",
       "        [1.],\n",
       "        [1.],\n",
       "        [1.],\n",
       "        [1.],\n",
       "        [1.],\n",
       "        [1.],\n",
       "        [1.],\n",
       "        [1.],\n",
       "        [1.],\n",
       "        [1.],\n",
       "        [1.],\n",
       "        [1.],\n",
       "        [1.],\n",
       "        [1.],\n",
       "        [1.],\n",
       "        [1.],\n",
       "        [1.],\n",
       "        [1.],\n",
       "        [1.],\n",
       "        [1.],\n",
       "        [1.],\n",
       "        [1.],\n",
       "        [1.],\n",
       "        [1.],\n",
       "        [1.],\n",
       "        [1.],\n",
       "        [1.],\n",
       "        [1.],\n",
       "        [1.],\n",
       "        [1.]]),\n",
       " 109)"
      ]
     },
     "execution_count": 31,
     "metadata": {},
     "output_type": "execute_result"
    }
   ],
   "source": [
    "x_1t=x1t.reshape(n,1)\n",
    "x_2t=x2t.reshape(n,1)\n",
    "x_3t=x3t.reshape(n,1)\n",
    "x_4t=x4t.reshape(n,1)\n",
    "x_5t=x5t.reshape(n,1)\n",
    "x_6t=x6t.reshape(n,1)\n",
    "x_7t=x7t.reshape(n,1)\n",
    "x_8t=x8t.reshape(n,1)\n",
    "x_9t=x9t.reshape(n,1)\n",
    "x_10t=x10t.reshape(n,1)\n",
    "x_11t=x11t.reshape(n,1)\n",
    "x_0t=np.ones((n,1))\n",
    "x_0t[:40], len(x_0t)"
   ]
  },
  {
   "cell_type": "code",
   "execution_count": 32,
   "id": "4673fbdc-8a52-485a-b596-5552d9c7b6e5",
   "metadata": {},
   "outputs": [
    {
     "data": {
      "text/plain": [
       "array([[1.00e+00, 4.00e+03, 1.00e+00, 3.00e+00, 2.00e+00, 1.00e+00,\n",
       "        0.00e+00, 0.00e+00, 0.00e+00, 0.00e+00, 1.00e+00, 0.00e+00],\n",
       "       [1.00e+00, 9.62e+03, 1.00e+00, 3.00e+00, 1.00e+00, 1.00e+00,\n",
       "        0.00e+00, 1.00e+00, 0.00e+00, 0.00e+00, 2.00e+00, 1.00e+00],\n",
       "       [1.00e+00, 3.46e+03, 1.00e+00, 4.00e+00, 2.00e+00, 1.00e+00,\n",
       "        0.00e+00, 0.00e+00, 0.00e+00, 1.00e+00, 0.00e+00, 0.00e+00],\n",
       "       [1.00e+00, 1.32e+04, 1.00e+00, 2.00e+00, 1.00e+00, 1.00e+00,\n",
       "        0.00e+00, 1.00e+00, 1.00e+00, 0.00e+00, 1.00e+00, 0.00e+00],\n",
       "       [1.00e+00, 3.66e+03, 1.00e+00, 4.00e+00, 2.00e+00, 0.00e+00,\n",
       "        0.00e+00, 0.00e+00, 0.00e+00, 0.00e+00, 0.00e+00, 0.00e+00]])"
      ]
     },
     "execution_count": 32,
     "metadata": {},
     "output_type": "execute_result"
    }
   ],
   "source": [
    "xt=np.hstack((x_0t, x_1t, x_2t, x_3t, x_4t, x_5t, x_6t,x_7t,x_8t,x_9t,x_10t,x_11t))\n",
    "xt[:5]"
   ]
  },
  {
   "cell_type": "code",
   "execution_count": 33,
   "id": "a810d04d-6d81-45d9-a680-be1c214f9b19",
   "metadata": {},
   "outputs": [
    {
     "data": {
      "text/plain": [
       "array([[0.],\n",
       "       [0.],\n",
       "       [0.],\n",
       "       [0.],\n",
       "       [0.],\n",
       "       [0.],\n",
       "       [0.],\n",
       "       [0.],\n",
       "       [0.],\n",
       "       [0.],\n",
       "       [0.],\n",
       "       [0.]])"
      ]
     },
     "execution_count": 33,
     "metadata": {},
     "output_type": "execute_result"
    }
   ],
   "source": [
    "theta=np.zeros((12,1))\n",
    "theta"
   ]
  },
  {
   "cell_type": "code",
   "execution_count": 34,
   "id": "52107cca-efe4-4f49-a0de-ff0664f135da",
   "metadata": {},
   "outputs": [],
   "source": [
    "def compute_loss(x,y, theta):\n",
    "    \n",
    "    predictions = x.dot(theta)\n",
    "    errors = np.subtract(predictions, y)\n",
    "    sqrErrors = np.square(errors)\n",
    "    J= 1 / (2 * m) * np.sum(sqrErrors) \n",
    "    \n",
    "    return J"
   ]
  },
  {
   "cell_type": "code",
   "execution_count": 35,
   "id": "665f04ec-cc87-419c-bb0d-1e99540d1df2",
   "metadata": {},
   "outputs": [
    {
     "name": "stdout",
     "output_type": "stream",
     "text": [
      "The cost for given values of theta_0,_1,_2,_3, ..., -11 is: 5770455632864301.0\n"
     ]
    }
   ],
   "source": [
    "cost = compute_loss(x, y, theta)\n",
    "print('The cost for given values of theta_0,_1,_2,_3, ..., -11 is:', cost)"
   ]
  },
  {
   "cell_type": "code",
   "execution_count": 41,
   "id": "2a352295-5c5e-462a-b128-3894f75131c7",
   "metadata": {},
   "outputs": [],
   "source": [
    "def gradient_descent(x, y, theta, alpha, iterations,xt,yt):\n",
    "    \n",
    "    loss_history= np.zeros(iterations)\n",
    "    v_loss_history= np.zeros(iterations)  \n",
    "    \n",
    "    for i in range(iterations):\n",
    "        predictions= x.dot(theta)\n",
    "        errors=np.subtract(predictions, y)\n",
    "        sum_delta=(alpha/ m)* x.transpose().dot(errors)\n",
    "        theta= theta - sum_delta\n",
    "        loss_history[i]= compute_loss(x,y,theta)\n",
    "        v_loss_history[i]=compute_loss(xt,yt,theta)\n",
    "        \n",
    "        \n",
    "    return theta, loss_history,v_loss_history"
   ]
  },
  {
   "cell_type": "code",
   "execution_count": 42,
   "id": "b5f53bda-c583-40de-9d14-da3f4e5938ec",
   "metadata": {},
   "outputs": [],
   "source": [
    "theta=[0,0,0,0,0,0,0,0,0,0,0,0]\n",
    "iterations=5000;\n",
    "alpha=0.000000001;"
   ]
  },
  {
   "cell_type": "code",
   "execution_count": 43,
   "id": "dd1a8a8f-cc72-4399-aa1a-9e340ca52e78",
   "metadata": {},
   "outputs": [
    {
     "name": "stdout",
     "output_type": "stream",
     "text": [
      "Final value of theta= [1.85215316e+00 8.61030423e+02 3.94199903e+00 7.10237505e+00\n",
      " 6.06243568e+00 1.67990243e+00 8.28934177e-01 1.35664511e+00\n",
      " 3.56408073e-01 1.58722843e+00 1.78150897e+00 8.52306275e-01]\n",
      "loss_history= [1.25288426e+13 1.18659414e+13 1.12436378e+13 ... 1.70459293e+12\n",
      " 1.70459292e+12 1.70459292e+12]\n",
      "validation_loss_history= [2.97416916e+12 2.81053667e+12 2.65708806e+12 ... 3.87660190e+11\n",
      " 3.87660189e+11 3.87660188e+11]\n"
     ]
    }
   ],
   "source": [
    "theta, loss_history,v_loss_history = gradient_descent(x,y, theta, alpha, iterations,xt,yt)\n",
    "print('Final value of theta=', theta)\n",
    "print('loss_history=', loss_history)\n",
    "print('validation_loss_history=', v_loss_history)"
   ]
  },
  {
   "cell_type": "code",
   "execution_count": 44,
   "id": "bb2f9e0f-a24f-40e1-b1f9-f99d49f5a124",
   "metadata": {},
   "outputs": [
    {
     "data": {
      "text/plain": [
       "Text(0.5, 1.0, 'Convergence of gradient descent')"
      ]
     },
     "execution_count": 44,
     "metadata": {},
     "output_type": "execute_result"
    },
    {
     "data": {
      "image/png": "[encoded data removed]",
      "text/plain": [
       "<Figure size 720x432 with 1 Axes>"
      ]
     },
     "metadata": {
      "needs_background": "light"
     },
     "output_type": "display_data"
    }
   ],
   "source": [
    "plt.plot(range(1, iterations +1), loss_history, color='blue')\n",
    "plt.plot(range(1, iterations +1), v_loss_history, color='green')\n",
    "plt.rcParams[\"figure.figsize\"]= (10,6)\n",
    "plt.grid()\n",
    "plt.xlabel('Number of iterations')\n",
    "plt.ylabel('loss (J)')\n",
    "plt.title('Convergence of gradient descent')"
   ]
  },
  {
   "cell_type": "code",
   "execution_count": null,
   "id": "c8d18648-f31f-445b-b4e3-a99a43cd3fc0",
   "metadata": {},
   "outputs": [],
   "source": []
  },
  {
   "cell_type": "code",
   "execution_count": null,
   "id": "85887875-a923-4ceb-82cd-6c39482d492a",
   "metadata": {},
   "outputs": [],
   "source": []
  }
 ],
 "metadata": {
  "kernelspec": {
   "display_name": "Python 3",
   "language": "python",
   "name": "python3"
  },
  "language_info": {
   "codemirror_mode": {
    "name": "ipython",
    "version": 3
   },
   "file_extension": ".py",
   "mimetype": "text/x-python",
   "name": "python",
   "nbconvert_exporter": "python",
   "pygments_lexer": "ipython3",
   "version": "3.8.8"
  }
 },
 "nbformat": 4,
 "nbformat_minor": 5
}
