{
 "cells": [
  {
   "cell_type": "code",
   "execution_count": 31,
   "id": "ac910e72-948a-4755-bcb8-1e29634947b7",
   "metadata": {},
   "outputs": [],
   "source": [
    "import numpy as np\n",
    "import pandas as pd\n",
    "import matplotlib.pyplot  as  plt"
   ]
  },
  {
   "cell_type": "code",
   "execution_count": 32,
   "id": "fff51495-7615-48f0-a747-205b4a4bb904",
   "metadata": {},
   "outputs": [
    {
     "data": {
      "text/html": [
       "<div>\n",
       "<style scoped>\n",
       "    .dataframe tbody tr th:only-of-type {\n",
       "        vertical-align: middle;\n",
       "    }\n",
       "\n",
       "    .dataframe tbody tr th {\n",
       "        vertical-align: top;\n",
       "    }\n",
       "\n",
       "    .dataframe thead th {\n",
       "        text-align: right;\n",
       "    }\n",
       "</style>\n",
       "<table border=\"1\" class=\"dataframe\">\n",
       "  <thead>\n",
       "    <tr style=\"text-align: right;\">\n",
       "      <th></th>\n",
       "      <th>price</th>\n",
       "      <th>area</th>\n",
       "      <th>bedrooms</th>\n",
       "      <th>bathrooms</th>\n",
       "      <th>stories</th>\n",
       "      <th>mainroad</th>\n",
       "      <th>guestroom</th>\n",
       "      <th>basement</th>\n",
       "      <th>hotwaterheating</th>\n",
       "      <th>airconditioning</th>\n",
       "      <th>parking</th>\n",
       "      <th>prefarea</th>\n",
       "      <th>furnishingstatus</th>\n",
       "    </tr>\n",
       "  </thead>\n",
       "  <tbody>\n",
       "    <tr>\n",
       "      <th>0</th>\n",
       "      <td>13300000</td>\n",
       "      <td>7420</td>\n",
       "      <td>4</td>\n",
       "      <td>2</td>\n",
       "      <td>3</td>\n",
       "      <td>yes</td>\n",
       "      <td>no</td>\n",
       "      <td>no</td>\n",
       "      <td>no</td>\n",
       "      <td>yes</td>\n",
       "      <td>2</td>\n",
       "      <td>yes</td>\n",
       "      <td>furnished</td>\n",
       "    </tr>\n",
       "    <tr>\n",
       "      <th>1</th>\n",
       "      <td>12250000</td>\n",
       "      <td>8960</td>\n",
       "      <td>4</td>\n",
       "      <td>4</td>\n",
       "      <td>4</td>\n",
       "      <td>yes</td>\n",
       "      <td>no</td>\n",
       "      <td>no</td>\n",
       "      <td>no</td>\n",
       "      <td>yes</td>\n",
       "      <td>3</td>\n",
       "      <td>no</td>\n",
       "      <td>furnished</td>\n",
       "    </tr>\n",
       "    <tr>\n",
       "      <th>2</th>\n",
       "      <td>12250000</td>\n",
       "      <td>9960</td>\n",
       "      <td>3</td>\n",
       "      <td>2</td>\n",
       "      <td>2</td>\n",
       "      <td>yes</td>\n",
       "      <td>no</td>\n",
       "      <td>yes</td>\n",
       "      <td>no</td>\n",
       "      <td>no</td>\n",
       "      <td>2</td>\n",
       "      <td>yes</td>\n",
       "      <td>semi-furnished</td>\n",
       "    </tr>\n",
       "    <tr>\n",
       "      <th>3</th>\n",
       "      <td>12215000</td>\n",
       "      <td>7500</td>\n",
       "      <td>4</td>\n",
       "      <td>2</td>\n",
       "      <td>2</td>\n",
       "      <td>yes</td>\n",
       "      <td>no</td>\n",
       "      <td>yes</td>\n",
       "      <td>no</td>\n",
       "      <td>yes</td>\n",
       "      <td>3</td>\n",
       "      <td>yes</td>\n",
       "      <td>furnished</td>\n",
       "    </tr>\n",
       "    <tr>\n",
       "      <th>4</th>\n",
       "      <td>11410000</td>\n",
       "      <td>7420</td>\n",
       "      <td>4</td>\n",
       "      <td>1</td>\n",
       "      <td>2</td>\n",
       "      <td>yes</td>\n",
       "      <td>yes</td>\n",
       "      <td>yes</td>\n",
       "      <td>no</td>\n",
       "      <td>yes</td>\n",
       "      <td>2</td>\n",
       "      <td>no</td>\n",
       "      <td>furnished</td>\n",
       "    </tr>\n",
       "  </tbody>\n",
       "</table>\n",
       "</div>"
      ],
      "text/plain": [
       "      price  area  bedrooms  bathrooms  stories mainroad guestroom basement  \\\n",
       "0  13300000  7420         4          2        3      yes        no       no   \n",
       "1  12250000  8960         4          4        4      yes        no       no   \n",
       "2  12250000  9960         3          2        2      yes        no      yes   \n",
       "3  12215000  7500         4          2        2      yes        no      yes   \n",
       "4  11410000  7420         4          1        2      yes       yes      yes   \n",
       "\n",
       "  hotwaterheating airconditioning  parking prefarea furnishingstatus  \n",
       "0              no             yes        2      yes        furnished  \n",
       "1              no             yes        3       no        furnished  \n",
       "2              no              no        2      yes   semi-furnished  \n",
       "3              no             yes        3      yes        furnished  \n",
       "4              no             yes        2       no        furnished  "
      ]
     },
     "execution_count": 32,
     "metadata": {},
     "output_type": "execute_result"
    }
   ],
   "source": [
    "housing=pd.read_csv('Housing.csv')\n",
    "housing.head(5)"
   ]
  },
  {
   "cell_type": "code",
   "execution_count": 33,
   "id": "f61e57c1-0e1a-47e7-9c0e-994c059b2eca",
   "metadata": {
    "tags": []
   },
   "outputs": [
    {
     "data": {
      "text/html": [
       "<div>\n",
       "<style scoped>\n",
       "    .dataframe tbody tr th:only-of-type {\n",
       "        vertical-align: middle;\n",
       "    }\n",
       "\n",
       "    .dataframe tbody tr th {\n",
       "        vertical-align: top;\n",
       "    }\n",
       "\n",
       "    .dataframe thead th {\n",
       "        text-align: right;\n",
       "    }\n",
       "</style>\n",
       "<table border=\"1\" class=\"dataframe\">\n",
       "  <thead>\n",
       "    <tr style=\"text-align: right;\">\n",
       "      <th></th>\n",
       "      <th>price</th>\n",
       "      <th>area</th>\n",
       "      <th>bedrooms</th>\n",
       "      <th>bathrooms</th>\n",
       "      <th>stories</th>\n",
       "      <th>mainroad</th>\n",
       "      <th>guestroom</th>\n",
       "      <th>basement</th>\n",
       "      <th>hotwaterheating</th>\n",
       "      <th>airconditioning</th>\n",
       "      <th>parking</th>\n",
       "      <th>prefarea</th>\n",
       "      <th>furnishingstatus</th>\n",
       "    </tr>\n",
       "  </thead>\n",
       "  <tbody>\n",
       "    <tr>\n",
       "      <th>0</th>\n",
       "      <td>13300000</td>\n",
       "      <td>7420</td>\n",
       "      <td>4</td>\n",
       "      <td>2</td>\n",
       "      <td>3</td>\n",
       "      <td>1</td>\n",
       "      <td>0</td>\n",
       "      <td>0</td>\n",
       "      <td>0</td>\n",
       "      <td>1</td>\n",
       "      <td>2</td>\n",
       "      <td>1</td>\n",
       "      <td>furnished</td>\n",
       "    </tr>\n",
       "    <tr>\n",
       "      <th>1</th>\n",
       "      <td>12250000</td>\n",
       "      <td>8960</td>\n",
       "      <td>4</td>\n",
       "      <td>4</td>\n",
       "      <td>4</td>\n",
       "      <td>1</td>\n",
       "      <td>0</td>\n",
       "      <td>0</td>\n",
       "      <td>0</td>\n",
       "      <td>1</td>\n",
       "      <td>3</td>\n",
       "      <td>0</td>\n",
       "      <td>furnished</td>\n",
       "    </tr>\n",
       "    <tr>\n",
       "      <th>2</th>\n",
       "      <td>12250000</td>\n",
       "      <td>9960</td>\n",
       "      <td>3</td>\n",
       "      <td>2</td>\n",
       "      <td>2</td>\n",
       "      <td>1</td>\n",
       "      <td>0</td>\n",
       "      <td>1</td>\n",
       "      <td>0</td>\n",
       "      <td>0</td>\n",
       "      <td>2</td>\n",
       "      <td>1</td>\n",
       "      <td>semi-furnished</td>\n",
       "    </tr>\n",
       "    <tr>\n",
       "      <th>3</th>\n",
       "      <td>12215000</td>\n",
       "      <td>7500</td>\n",
       "      <td>4</td>\n",
       "      <td>2</td>\n",
       "      <td>2</td>\n",
       "      <td>1</td>\n",
       "      <td>0</td>\n",
       "      <td>1</td>\n",
       "      <td>0</td>\n",
       "      <td>1</td>\n",
       "      <td>3</td>\n",
       "      <td>1</td>\n",
       "      <td>furnished</td>\n",
       "    </tr>\n",
       "    <tr>\n",
       "      <th>4</th>\n",
       "      <td>11410000</td>\n",
       "      <td>7420</td>\n",
       "      <td>4</td>\n",
       "      <td>1</td>\n",
       "      <td>2</td>\n",
       "      <td>1</td>\n",
       "      <td>1</td>\n",
       "      <td>1</td>\n",
       "      <td>0</td>\n",
       "      <td>1</td>\n",
       "      <td>2</td>\n",
       "      <td>0</td>\n",
       "      <td>furnished</td>\n",
       "    </tr>\n",
       "  </tbody>\n",
       "</table>\n",
       "</div>"
      ],
      "text/plain": [
       "      price  area  bedrooms  bathrooms  stories  mainroad  guestroom  \\\n",
       "0  13300000  7420         4          2        3         1          0   \n",
       "1  12250000  8960         4          4        4         1          0   \n",
       "2  12250000  9960         3          2        2         1          0   \n",
       "3  12215000  7500         4          2        2         1          0   \n",
       "4  11410000  7420         4          1        2         1          1   \n",
       "\n",
       "   basement  hotwaterheating  airconditioning  parking  prefarea  \\\n",
       "0         0                0                1        2         1   \n",
       "1         0                0                1        3         0   \n",
       "2         1                0                0        2         1   \n",
       "3         1                0                1        3         1   \n",
       "4         1                0                1        2         0   \n",
       "\n",
       "  furnishingstatus  \n",
       "0        furnished  \n",
       "1        furnished  \n",
       "2   semi-furnished  \n",
       "3        furnished  \n",
       "4        furnished  "
      ]
     },
     "execution_count": 33,
     "metadata": {},
     "output_type": "execute_result"
    }
   ],
   "source": [
    "housing.mainroad = housing.mainroad.map(dict(yes=1,no=0))\n",
    "housing.guestroom = housing.guestroom.map(dict(yes=1,no=0))\n",
    "housing.basement = housing.basement.map(dict(yes=1,no=0))\n",
    "housing.hotwaterheating = housing.hotwaterheating.map(dict(yes=1,no=0))\n",
    "housing.airconditioning = housing.airconditioning.map(dict(yes=1,no=0))\n",
    "housing.prefarea = housing.prefarea.map(dict(yes=1,no=0))\n",
    "\n",
    "housing.head(5)"
   ]
  },
  {
   "cell_type": "code",
   "execution_count": 34,
   "id": "2c8e1aaa-398c-46bc-aace-33d952c758d8",
   "metadata": {},
   "outputs": [
    {
     "data": {
      "text/plain": [
       "(545, 13)"
      ]
     },
     "execution_count": 34,
     "metadata": {},
     "output_type": "execute_result"
    }
   ],
   "source": [
    "housing.shape"
   ]
  },
  {
   "cell_type": "code",
   "execution_count": 35,
   "id": "5e7df211-1f35-46e0-bab1-72a3f0d9c5b3",
   "metadata": {},
   "outputs": [
    {
     "data": {
      "text/plain": [
       "(436, 13)"
      ]
     },
     "execution_count": 35,
     "metadata": {},
     "output_type": "execute_result"
    }
   ],
   "source": [
    "from sklearn.model_selection import train_test_split\n",
    "np.random.seed(0)\n",
    "df_train,df_test=train_test_split(housing, train_size=0.8, test_size=0.2)\n",
    "df_train.shape"
   ]
  },
  {
   "cell_type": "code",
   "execution_count": 36,
   "id": "07581881-62dc-4889-8a81-337d930e7fa5",
   "metadata": {},
   "outputs": [
    {
     "data": {
      "text/plain": [
       "(109, 13)"
      ]
     },
     "execution_count": 36,
     "metadata": {},
     "output_type": "execute_result"
    }
   ],
   "source": [
    "df_test.shape"
   ]
  },
  {
   "cell_type": "code",
   "execution_count": 37,
   "id": "1c01a3d5-aa0b-4763-a90f-67f439bd8834",
   "metadata": {},
   "outputs": [
    {
     "data": {
      "text/html": [
       "<div>\n",
       "<style scoped>\n",
       "    .dataframe tbody tr th:only-of-type {\n",
       "        vertical-align: middle;\n",
       "    }\n",
       "\n",
       "    .dataframe tbody tr th {\n",
       "        vertical-align: top;\n",
       "    }\n",
       "\n",
       "    .dataframe thead th {\n",
       "        text-align: right;\n",
       "    }\n",
       "</style>\n",
       "<table border=\"1\" class=\"dataframe\">\n",
       "  <thead>\n",
       "    <tr style=\"text-align: right;\">\n",
       "      <th></th>\n",
       "      <th>area</th>\n",
       "      <th>bathrooms</th>\n",
       "      <th>bedrooms</th>\n",
       "      <th>stories</th>\n",
       "      <th>parking</th>\n",
       "      <th>price</th>\n",
       "    </tr>\n",
       "  </thead>\n",
       "  <tbody>\n",
       "    <tr>\n",
       "      <th>542</th>\n",
       "      <td>3620</td>\n",
       "      <td>1</td>\n",
       "      <td>2</td>\n",
       "      <td>1</td>\n",
       "      <td>0</td>\n",
       "      <td>1750000</td>\n",
       "    </tr>\n",
       "    <tr>\n",
       "      <th>496</th>\n",
       "      <td>4000</td>\n",
       "      <td>1</td>\n",
       "      <td>2</td>\n",
       "      <td>1</td>\n",
       "      <td>0</td>\n",
       "      <td>2695000</td>\n",
       "    </tr>\n",
       "    <tr>\n",
       "      <th>484</th>\n",
       "      <td>3040</td>\n",
       "      <td>1</td>\n",
       "      <td>2</td>\n",
       "      <td>1</td>\n",
       "      <td>0</td>\n",
       "      <td>2870000</td>\n",
       "    </tr>\n",
       "    <tr>\n",
       "      <th>507</th>\n",
       "      <td>3600</td>\n",
       "      <td>1</td>\n",
       "      <td>2</td>\n",
       "      <td>1</td>\n",
       "      <td>0</td>\n",
       "      <td>2590000</td>\n",
       "    </tr>\n",
       "    <tr>\n",
       "      <th>252</th>\n",
       "      <td>9860</td>\n",
       "      <td>1</td>\n",
       "      <td>3</td>\n",
       "      <td>1</td>\n",
       "      <td>0</td>\n",
       "      <td>4515000</td>\n",
       "    </tr>\n",
       "  </tbody>\n",
       "</table>\n",
       "</div>"
      ],
      "text/plain": [
       "     area  bathrooms  bedrooms  stories  parking    price\n",
       "542  3620          1         2        1        0  1750000\n",
       "496  4000          1         2        1        0  2695000\n",
       "484  3040          1         2        1        0  2870000\n",
       "507  3600          1         2        1        0  2590000\n",
       "252  9860          1         3        1        0  4515000"
      ]
     },
     "execution_count": 37,
     "metadata": {},
     "output_type": "execute_result"
    }
   ],
   "source": [
    "num_vars=['area','bathrooms','bedrooms', 'stories','parking', 'price']\n",
    "df_Newtrain=df_train[num_vars]\n",
    "df_Newtest=df_test[num_vars]\n",
    "df_Newtrain.head(5)"
   ]
  },
  {
   "cell_type": "code",
   "execution_count": 38,
   "id": "a4188e06-2d36-4f6a-9995-e2fd1bcfae23",
   "metadata": {},
   "outputs": [
    {
     "data": {
      "text/plain": [
       "(436, 6)"
      ]
     },
     "execution_count": 38,
     "metadata": {},
     "output_type": "execute_result"
    }
   ],
   "source": [
    "df_Newtrain.shape"
   ]
  },
  {
   "cell_type": "code",
   "execution_count": 39,
   "id": "5c11fdc9-05ad-4f06-8e5e-15691f6e38d3",
   "metadata": {},
   "outputs": [
    {
     "data": {
      "text/plain": [
       "(109, 6)"
      ]
     },
     "execution_count": 39,
     "metadata": {},
     "output_type": "execute_result"
    }
   ],
   "source": [
    "df_Newtest.shape"
   ]
  },
  {
   "cell_type": "code",
   "execution_count": 10,
   "id": "fc50c04e-684b-4b10-9813-a7bccd232059",
   "metadata": {},
   "outputs": [
    {
     "name": "stderr",
     "output_type": "stream",
     "text": [
      "<ipython-input-10-44faa95bc614>:3: SettingWithCopyWarning: \n",
      "A value is trying to be set on a copy of a slice from a DataFrame.\n",
      "Try using .loc[row_indexer,col_indexer] = value instead\n",
      "\n",
      "See the caveats in the documentation: https://pandas.pydata.org/pandas-docs/stable/user_guide/indexing.html#returning-a-view-versus-a-copy\n",
      "  df_Newtrain[num_vars]=scaler.fit_transform(df_Newtrain[num_vars])\n",
      "C:\\ProgramData\\Anaconda3\\lib\\site-packages\\pandas\\core\\indexing.py:1738: SettingWithCopyWarning: \n",
      "A value is trying to be set on a copy of a slice from a DataFrame.\n",
      "Try using .loc[row_indexer,col_indexer] = value instead\n",
      "\n",
      "See the caveats in the documentation: https://pandas.pydata.org/pandas-docs/stable/user_guide/indexing.html#returning-a-view-versus-a-copy\n",
      "  self._setitem_single_column(loc, value[:, i].tolist(), pi)\n"
     ]
    },
    {
     "data": {
      "text/html": [
       "<div>\n",
       "<style scoped>\n",
       "    .dataframe tbody tr th:only-of-type {\n",
       "        vertical-align: middle;\n",
       "    }\n",
       "\n",
       "    .dataframe tbody tr th {\n",
       "        vertical-align: top;\n",
       "    }\n",
       "\n",
       "    .dataframe thead th {\n",
       "        text-align: right;\n",
       "    }\n",
       "</style>\n",
       "<table border=\"1\" class=\"dataframe\">\n",
       "  <thead>\n",
       "    <tr style=\"text-align: right;\">\n",
       "      <th></th>\n",
       "      <th>area</th>\n",
       "      <th>bathrooms</th>\n",
       "      <th>bedrooms</th>\n",
       "      <th>stories</th>\n",
       "      <th>parking</th>\n",
       "      <th>price</th>\n",
       "    </tr>\n",
       "  </thead>\n",
       "  <tbody>\n",
       "    <tr>\n",
       "      <th>542</th>\n",
       "      <td>-0.716772</td>\n",
       "      <td>-0.573307</td>\n",
       "      <td>-1.294376</td>\n",
       "      <td>-0.933142</td>\n",
       "      <td>-0.819149</td>\n",
       "      <td>-1.586001</td>\n",
       "    </tr>\n",
       "    <tr>\n",
       "      <th>496</th>\n",
       "      <td>-0.538936</td>\n",
       "      <td>-0.573307</td>\n",
       "      <td>-1.294376</td>\n",
       "      <td>-0.933142</td>\n",
       "      <td>-0.819149</td>\n",
       "      <td>-1.090971</td>\n",
       "    </tr>\n",
       "    <tr>\n",
       "      <th>484</th>\n",
       "      <td>-0.988206</td>\n",
       "      <td>-0.573307</td>\n",
       "      <td>-1.294376</td>\n",
       "      <td>-0.933142</td>\n",
       "      <td>-0.819149</td>\n",
       "      <td>-0.999299</td>\n",
       "    </tr>\n",
       "    <tr>\n",
       "      <th>507</th>\n",
       "      <td>-0.726132</td>\n",
       "      <td>-0.573307</td>\n",
       "      <td>-1.294376</td>\n",
       "      <td>-0.933142</td>\n",
       "      <td>-0.819149</td>\n",
       "      <td>-1.145974</td>\n",
       "    </tr>\n",
       "    <tr>\n",
       "      <th>252</th>\n",
       "      <td>2.203478</td>\n",
       "      <td>-0.573307</td>\n",
       "      <td>0.052516</td>\n",
       "      <td>-0.933142</td>\n",
       "      <td>-0.819149</td>\n",
       "      <td>-0.137579</td>\n",
       "    </tr>\n",
       "  </tbody>\n",
       "</table>\n",
       "</div>"
      ],
      "text/plain": [
       "         area  bathrooms  bedrooms   stories   parking     price\n",
       "542 -0.716772  -0.573307 -1.294376 -0.933142 -0.819149 -1.586001\n",
       "496 -0.538936  -0.573307 -1.294376 -0.933142 -0.819149 -1.090971\n",
       "484 -0.988206  -0.573307 -1.294376 -0.933142 -0.819149 -0.999299\n",
       "507 -0.726132  -0.573307 -1.294376 -0.933142 -0.819149 -1.145974\n",
       "252  2.203478  -0.573307  0.052516 -0.933142 -0.819149 -0.137579"
      ]
     },
     "execution_count": 10,
     "metadata": {},
     "output_type": "execute_result"
    }
   ],
   "source": [
    "from sklearn.preprocessing import MinMaxScaler,StandardScaler\n",
    "scaler=StandardScaler()\n",
    "df_Newtrain[num_vars]=scaler.fit_transform(df_Newtrain[num_vars])\n",
    "df_Newtrain.head(5)"
   ]
  },
  {
   "cell_type": "code",
   "execution_count": 11,
   "id": "2e615bfb-c5ef-4d0b-affd-993aef438077",
   "metadata": {},
   "outputs": [
    {
     "name": "stdout",
     "output_type": "stream",
     "text": [
      "dataset= [[-0.71677205 -0.57330726 -1.29437561 -0.93314164 -0.81914879 -1.5860012 ]\n",
      " [-0.53893631 -0.57330726 -1.29437561 -0.93314164 -0.81914879 -1.09097091]\n",
      " [-0.98820554 -0.57330726 -1.29437561 -0.93314164 -0.81914879 -0.99929863]\n",
      " [-0.72613182 -0.57330726 -1.29437561 -0.93314164 -0.81914879 -1.14597428]\n",
      " [ 2.20347795 -0.57330726  0.05251643 -0.93314164 -0.81914879 -0.13757923]\n",
      " [-0.55391195 -0.57330726  0.05251643  0.21291401 -0.81914879 -0.1925826 ]\n",
      " [-0.61381451 -0.57330726  0.05251643  0.21291401  0.32555914 -0.10091032]\n",
      " [ 2.17539862  1.4755613   1.39940847  0.21291401  1.47026706  0.24744433]\n",
      " [-0.70741227 -0.57330726 -1.29437561 -0.93314164 -0.81914879 -0.63260953]\n",
      " [-0.76357092  1.4755613  -1.29437561 -0.93314164 -0.81914879 -0.59594061]\n",
      " [ 3.76656047 -0.57330726  0.05251643  0.21291401  1.47026706  2.63092353]\n",
      " [-1.14732172 -0.57330726 -1.29437561 -0.93314164 -0.81914879 -0.96262972]\n",
      " [-0.39853968  1.4755613   4.09319255  0.21291401 -0.81914879  0.68380437]\n",
      " [-0.30494192 -0.57330726 -1.29437561 -0.93314164 -0.81914879 -0.79761962]\n",
      " [-0.07328747  1.4755613   1.39940847 -0.93314164 -0.81914879  0.06043289]\n",
      " [-0.97463386 -0.57330726 -1.29437561 -0.93314164  0.32555914 -0.85262299]\n",
      " [-0.37420426 -0.57330726  1.39940847  0.21291401  0.32555914 -0.94429527]\n",
      " [ 1.74484894  1.4755613   0.05251643  0.21291401  0.32555914  1.12749819]\n",
      " [ 3.64675535 -0.57330726  0.05251643 -0.93314164 -0.81914879 -0.66927844]\n",
      " [ 0.93990824 -0.57330726  0.05251643 -0.93314164  1.47026706  0.57746453]]\n"
     ]
    }
   ],
   "source": [
    "dataset= df_Newtrain.values[:,:]\n",
    "print('dataset=', dataset [:20,:])"
   ]
  },
  {
   "cell_type": "code",
   "execution_count": 12,
   "id": "56234a8f-baa9-468f-a763-7858ac3c2ab3",
   "metadata": {},
   "outputs": [
    {
     "data": {
      "text/plain": [
       "array([-1.5860012 , -1.09097091, -0.99929863, -1.14597428, -0.13757923,\n",
       "       -0.1925826 , -0.10091032,  0.24744433, -0.63260953, -0.59594061,\n",
       "        2.63092353, -0.96262972,  0.68380437, -0.79761962,  0.06043289,\n",
       "       -0.85262299, -0.94429527,  1.12749819, -0.66927844,  0.57746453,\n",
       "       -0.66927844, -0.28425487, -0.5592717 , -0.37592715, -1.27431546,\n",
       "       -0.11924477,  2.81426809, -0.59594061, -1.10930536, -1.33298572,\n",
       "       -1.3843222 , -0.26225353,  0.76080908,  0.79747799, -0.44926497,\n",
       "        1.34751166,  1.89754532,  0.22910988,  1.38418057,  0.76080908,\n",
       "        0.06409978, -0.11924477, -0.37592715, -0.92596081,  1.34384476,\n",
       "        0.43078889,  1.23750492,  2.81426809,  2.66759244, -0.52260279,\n",
       "       -0.96262972, -1.11297226, -0.49326766, -0.00923804,  1.66836462,\n",
       "       -0.85628988, -0.66927844, -0.04590695, -0.22925151, -0.13757923,\n",
       "       -1.57701732, -0.8892919 ,  0.61413344,  0.39411998, -0.85262299,\n",
       "        1.27417383, -1.03596754, -0.90762636, -1.01763309, -1.54933229,\n",
       "       -0.68761289, -0.30258933,  0.1374376 ,  1.34751166,  0.24744433,\n",
       "       -0.04590695,  0.06409978,  0.37578552, -1.5860012 ,  1.75086967,\n",
       "       -0.57760616,  2.15422769, -0.44926497, -0.11924477, -1.31098437,\n",
       "        1.34751166,  0.98082255,  1.93054734,  0.24744433,  0.85248136,\n",
       "        0.26577879,  3.47430848, -1.13864049,  0.22910988, -0.11924477,\n",
       "       -0.92596081,  3.18095719,  0.45829057, -0.48593388,  0.06409978,\n",
       "        0.52246116, -0.96262972,  0.61413344,  2.0258865 ,  1.09082928,\n",
       "        0.06409978,  2.08088987, -1.11297226, -0.61427507,  2.33757225,\n",
       "        0.24744433, -0.41259606, -1.03596754, -0.12291167,  0.00909641,\n",
       "       -0.99929863,  1.1641671 , -1.2193121 , -0.11924477,  0.61413344,\n",
       "        0.96248809, -0.74261626, -0.52626968, -0.77928517, -0.30258933,\n",
       "       -1.40265665, -1.31098437,  0.35745107, -1.40265665, -0.76095071,\n",
       "       -0.15958058, -0.20725016, -0.52626968, -0.66927844,  1.38418057,\n",
       "        0.10076869,  0.1374376 ,  0.65080235, -0.92596081, -0.81595408,\n",
       "        0.32078215,  0.72414017, -0.66927844,  1.18250156, -1.18264319,\n",
       "       -0.68761289,  0.17410651, -1.24131344, -0.26592042, -1.2193121 ,\n",
       "       -0.81595408, -0.35759269,  0.79747799, -0.56293859, -0.92596081,\n",
       "        0.08243423,  0.43078889,  0.43078889,  1.64086294, -1.07263645,\n",
       "       -0.39426161, -0.13757923, -0.30258933, -0.8892919 ,  3.91433541,\n",
       "       -0.00557115, -1.20097764,  0.43078889, -0.11924477, -0.35759269,\n",
       "        0.65080235, -0.57760616,  0.24744433,  0.24744433, -1.10930536,\n",
       "       -0.48593388, -0.95162905,  0.50412671, -0.70594735, -0.15591369,\n",
       "       -0.44926497, -0.30258933, -0.86894065, -0.96262972, -0.15591369,\n",
       "       -0.06424141,  0.54079562,  1.78753858,  0.88915027, -0.30258933,\n",
       "        1.45751839,  1.20083601,  0.06776667, -0.37592715, -1.25598101,\n",
       "       -1.10930536, -0.46759943,  0.02743087, -0.30258933, -0.30258933,\n",
       "        0.999157  , -0.30258933,  1.73040842, -0.48593388,  1.89754532,\n",
       "       -1.10930536, -0.67294533, -1.29264992, -0.33925824, -1.25598101,\n",
       "        0.02743087,  1.89754532, -1.01763309, -0.48593388,  0.39045308,\n",
       "       -0.92596081, -0.70594735,  0.50412671,  0.06043289,  0.74247463,\n",
       "       -0.70594735, -0.70594735, -0.7242818 ,  0.02743087, -0.87095745,\n",
       "        0.1374376 ,  0.04576532, -1.10930536,  0.06409978, -0.08257586,\n",
       "       -0.15958058,  1.10916374,  1.98921759,  0.02743087, -0.30258933,\n",
       "       -0.00923804,  0.57379764,  0.68747126,  0.28411324, -1.10930536,\n",
       "       -0.92596081,  1.62252849, -0.22925151, -0.74261626,  0.98082255,\n",
       "       -0.8086203 , -0.59594061, -0.41259606,  2.33757225, -0.30258933,\n",
       "       -0.41259606, -1.20097764, -0.13757923, -0.04590695, -0.70961424,\n",
       "        0.35745107,  0.94415364,  0.61413344,  1.97088314,  0.68747126,\n",
       "        0.43078889,  0.41245443,  2.26423442, -0.66927844, -0.44926497,\n",
       "        0.68747126, -0.7242818 ,  0.50412671, -0.08257586, -0.15958058,\n",
       "       -0.52260279, -0.74261626, -0.37592715, -0.39426161, -0.96262972,\n",
       "       -0.12291167, -1.18264319, -1.2193121 ,  2.13589324, -0.41259606,\n",
       "       -0.30258933, -0.85262299, -0.21091705, -0.5592717 , -0.04590695,\n",
       "       -0.87095745,  3.89600095, -0.70594735,  0.61046655, -0.26592042,\n",
       "       -0.28425487,  0.98082255,  0.17410651, -0.59594061, -0.85262299,\n",
       "       -1.40265665, -0.24025218, -0.30258933, -1.2193121 ,  0.19244097,\n",
       "        1.84254195,  0.96982187, -0.32092378, -0.15591369,  2.56858638,\n",
       "       -0.5592717 , -0.79761962,  0.90748473, -0.19624949,  1.71053387,\n",
       "        0.13377071,  1.27417383,  1.60419403, -0.22925151, -0.70594735,\n",
       "        1.38418057,  0.06409978, -0.9296277 , -1.53099784, -1.07263645,\n",
       "        0.61413344, -0.00923804, -0.74261626,  1.20083601, -0.96262972,\n",
       "       -0.59594061,  0.57013075,  0.17410651,  2.0258865 , -0.81595408,\n",
       "        1.53085621, -0.59594061, -0.66927844,  4.46436907, -0.63260953,\n",
       "        0.06409978, -0.68761289, -0.57760616, -1.14597428,  0.7938111 ,\n",
       "       -0.66927844, -0.52260279, -0.30625622, -0.74261626, -0.30258933,\n",
       "        0.23644366, -0.57760616, -0.15591369,  0.79747799,  0.09343491,\n",
       "        0.79747799, -1.32931883,  0.33911661,  0.24744433,  1.05416037,\n",
       "       -0.30625622,  1.40251502, -0.48593388, -0.59594061, -0.66927844,\n",
       "        0.06409978, -0.26592042, -1.14597428, -0.04590695,  0.43078889,\n",
       "        0.43078889, -0.44926497,  0.22910988, -0.52626968, -0.88562501,\n",
       "        0.54079562,  0.57746453,  1.42084948, -0.85262299, -0.17424814,\n",
       "       -0.40342883,  0.06409978,  0.90748473, -0.74628315,  0.61413344,\n",
       "       -1.51266338, -1.2193121 , -1.31098437, -0.66927844, -0.63260953,\n",
       "        0.85981514,  0.96248809, -0.77928517, -0.19624949,  0.61413344,\n",
       "       -0.54093725, -0.30258933,  1.29250829, -0.74261626, -0.99929863,\n",
       "       -0.39426161, -0.15591369, -0.59594061,  1.89754532, -0.81595408,\n",
       "        1.53085621,  0.72414017, -0.66927844, -0.44926497, -0.22925151,\n",
       "       -1.00846586,  1.34751166, -1.2193121 ,  0.57379764,  1.89754532,\n",
       "        0.19244097, -0.87095745, -1.18264319,  0.41245443, -0.11924477,\n",
       "       -0.19624949, -0.30258933, -0.74261626,  0.43078889,  0.24377744,\n",
       "        0.77914354, -0.85262299, -0.77928517,  0.65080235,  1.01749146,\n",
       "        0.24744433,  0.88915027, -0.99929863, -0.35759269, -0.66927844,\n",
       "       -0.92596081,  1.05416037, -0.24758596,  2.63092353, -0.5592717 ,\n",
       "        0.1374376 ])"
      ]
     },
     "execution_count": 12,
     "metadata": {},
     "output_type": "execute_result"
    }
   ],
   "source": [
    "x1= df_Newtrain.values [:,0]\n",
    "x2= df_Newtrain.values [:,1]\n",
    "x3= df_Newtrain.values [:,2]\n",
    "x4= df_Newtrain.values [:,3]\n",
    "x5= df_Newtrain.values [:,4]\n",
    "y= df_Newtrain.values[:,5]\n",
    "m= len(y)\n",
    "y\n"
   ]
  },
  {
   "cell_type": "code",
   "execution_count": 13,
   "id": "26cdeb60-0a57-4733-8972-5ce70a4c8393",
   "metadata": {},
   "outputs": [
    {
     "name": "stdout",
     "output_type": "stream",
     "text": [
      "x_1= [[-0.71677205]\n",
      " [-0.53893631]\n",
      " [-0.98820554]\n",
      " [-0.72613182]\n",
      " [ 2.20347795]]\n"
     ]
    }
   ],
   "source": [
    "x_1=x1.reshape(m,1)\n",
    "print('x_1=', x_1[:5,:])"
   ]
  },
  {
   "cell_type": "code",
   "execution_count": 14,
   "id": "2d31b4bb-6084-49e6-9f86-27d1d8036fb1",
   "metadata": {},
   "outputs": [],
   "source": [
    "x_2=x2.reshape(m,1)\n",
    "x_3=x3.reshape(m,1)\n",
    "x_4=x4.reshape(m,1)\n",
    "x_5=x5.reshape(m,1)"
   ]
  },
  {
   "cell_type": "code",
   "execution_count": 15,
   "id": "04f717a2-fb98-4366-b6f9-2488b2e918a5",
   "metadata": {},
   "outputs": [
    {
     "data": {
      "text/plain": [
       "(array([[1.],\n",
       "        [1.],\n",
       "        [1.],\n",
       "        [1.],\n",
       "        [1.]]),\n",
       " 436)"
      ]
     },
     "execution_count": 15,
     "metadata": {},
     "output_type": "execute_result"
    }
   ],
   "source": [
    "x_0=np.ones((m,1))\n",
    "x_0[:5], len(x_0)\n"
   ]
  },
  {
   "cell_type": "code",
   "execution_count": 16,
   "id": "94d7f324-7f5d-439a-9dae-02d748a3f7ff",
   "metadata": {},
   "outputs": [
    {
     "data": {
      "text/plain": [
       "array([[ 1.        , -0.71677205, -0.57330726, -1.29437561, -0.93314164,\n",
       "        -0.81914879],\n",
       "       [ 1.        , -0.53893631, -0.57330726, -1.29437561, -0.93314164,\n",
       "        -0.81914879],\n",
       "       [ 1.        , -0.98820554, -0.57330726, -1.29437561, -0.93314164,\n",
       "        -0.81914879],\n",
       "       [ 1.        , -0.72613182, -0.57330726, -1.29437561, -0.93314164,\n",
       "        -0.81914879],\n",
       "       [ 1.        ,  2.20347795, -0.57330726,  0.05251643, -0.93314164,\n",
       "        -0.81914879]])"
      ]
     },
     "execution_count": 16,
     "metadata": {},
     "output_type": "execute_result"
    }
   ],
   "source": [
    "x=np.hstack((x_0, x_1, x_2, x_3, x_4, x_5))\n",
    "x[:5]"
   ]
  },
  {
   "cell_type": "code",
   "execution_count": 17,
   "id": "44d0c0fd-6ad3-431c-b5c4-14813e7cd254",
   "metadata": {},
   "outputs": [
    {
     "name": "stderr",
     "output_type": "stream",
     "text": [
      "<ipython-input-17-76df33ce5514>:1: SettingWithCopyWarning: \n",
      "A value is trying to be set on a copy of a slice from a DataFrame.\n",
      "Try using .loc[row_indexer,col_indexer] = value instead\n",
      "\n",
      "See the caveats in the documentation: https://pandas.pydata.org/pandas-docs/stable/user_guide/indexing.html#returning-a-view-versus-a-copy\n",
      "  df_Newtest[num_vars]=scaler.fit_transform(df_Newtest[num_vars])\n",
      "C:\\ProgramData\\Anaconda3\\lib\\site-packages\\pandas\\core\\indexing.py:1738: SettingWithCopyWarning: \n",
      "A value is trying to be set on a copy of a slice from a DataFrame.\n",
      "Try using .loc[row_indexer,col_indexer] = value instead\n",
      "\n",
      "See the caveats in the documentation: https://pandas.pydata.org/pandas-docs/stable/user_guide/indexing.html#returning-a-view-versus-a-copy\n",
      "  self._setitem_single_column(loc, value[:, i].tolist(), pi)\n"
     ]
    },
    {
     "data": {
      "text/html": [
       "<div>\n",
       "<style scoped>\n",
       "    .dataframe tbody tr th:only-of-type {\n",
       "        vertical-align: middle;\n",
       "    }\n",
       "\n",
       "    .dataframe tbody tr th {\n",
       "        vertical-align: top;\n",
       "    }\n",
       "\n",
       "    .dataframe thead th {\n",
       "        text-align: right;\n",
       "    }\n",
       "</style>\n",
       "<table border=\"1\" class=\"dataframe\">\n",
       "  <thead>\n",
       "    <tr style=\"text-align: right;\">\n",
       "      <th></th>\n",
       "      <th>area</th>\n",
       "      <th>bathrooms</th>\n",
       "      <th>bedrooms</th>\n",
       "      <th>stories</th>\n",
       "      <th>parking</th>\n",
       "      <th>price</th>\n",
       "    </tr>\n",
       "  </thead>\n",
       "  <tbody>\n",
       "    <tr>\n",
       "      <th>239</th>\n",
       "      <td>-0.500735</td>\n",
       "      <td>-0.563545</td>\n",
       "      <td>0.025607</td>\n",
       "      <td>0.272416</td>\n",
       "      <td>0.492144</td>\n",
       "      <td>-0.081358</td>\n",
       "    </tr>\n",
       "    <tr>\n",
       "      <th>113</th>\n",
       "      <td>1.954229</td>\n",
       "      <td>-0.563545</td>\n",
       "      <td>0.025607</td>\n",
       "      <td>-0.915317</td>\n",
       "      <td>1.739673</td>\n",
       "      <td>0.801114</td>\n",
       "    </tr>\n",
       "    <tr>\n",
       "      <th>325</th>\n",
       "      <td>-0.736621</td>\n",
       "      <td>-0.563545</td>\n",
       "      <td>1.421209</td>\n",
       "      <td>0.272416</td>\n",
       "      <td>-0.755384</td>\n",
       "      <td>-0.421563</td>\n",
       "    </tr>\n",
       "    <tr>\n",
       "      <th>66</th>\n",
       "      <td>3.518067</td>\n",
       "      <td>-0.563545</td>\n",
       "      <td>-1.369995</td>\n",
       "      <td>-0.915317</td>\n",
       "      <td>0.492144</td>\n",
       "      <td>1.300082</td>\n",
       "    </tr>\n",
       "    <tr>\n",
       "      <th>479</th>\n",
       "      <td>-0.649256</td>\n",
       "      <td>-0.563545</td>\n",
       "      <td>1.421209</td>\n",
       "      <td>0.272416</td>\n",
       "      <td>-0.755384</td>\n",
       "      <td>-1.050428</td>\n",
       "    </tr>\n",
       "  </tbody>\n",
       "</table>\n",
       "</div>"
      ],
      "text/plain": [
       "         area  bathrooms  bedrooms   stories   parking     price\n",
       "239 -0.500735  -0.563545  0.025607  0.272416  0.492144 -0.081358\n",
       "113  1.954229  -0.563545  0.025607 -0.915317  1.739673  0.801114\n",
       "325 -0.736621  -0.563545  1.421209  0.272416 -0.755384 -0.421563\n",
       "66   3.518067  -0.563545 -1.369995 -0.915317  0.492144  1.300082\n",
       "479 -0.649256  -0.563545  1.421209  0.272416 -0.755384 -1.050428"
      ]
     },
     "execution_count": 17,
     "metadata": {},
     "output_type": "execute_result"
    }
   ],
   "source": [
    "df_Newtest[num_vars]=scaler.fit_transform(df_Newtest[num_vars])\n",
    "df_Newtest.head(5)\n"
   ]
  },
  {
   "cell_type": "code",
   "execution_count": 18,
   "id": "8e77ff2e-8a84-447d-805e-32ce55f53104",
   "metadata": {},
   "outputs": [
    {
     "name": "stdout",
     "output_type": "stream",
     "text": [
      "dataset= [[-0.50073521 -0.56354451  0.02560738  0.27241586  0.49214421 -0.08135801]\n",
      " [ 1.95422869 -0.56354451  0.02560738 -0.91531729  1.73967255  0.80111439]\n",
      " [-0.73662142 -0.56354451  1.42120937  0.27241586 -0.75538413 -0.42156349]\n",
      " [ 3.5180669  -0.56354451 -1.36999462 -0.91531729  0.49214421  1.30008243]\n",
      " [-0.64925616 -0.56354451  1.42120937  0.27241586 -0.75538413 -1.05042817]\n",
      " [ 0.52580664  1.2431129   0.02560738  1.46014902 -0.75538413  0.86709364]\n",
      " [-0.56625916 -0.56354451  0.02560738 -0.91531729  1.73967255 -0.69991343]\n",
      " [-0.72788489 -0.56354451  0.02560738  0.27241586  0.49214421 -1.05042817]\n",
      " [-0.71390645 -0.56354451 -1.36999462 -0.91531729  0.49214421 -0.72053194]\n",
      " [ 1.68339637  1.2431129   1.42120937  2.64788217  1.73967255  1.91863786]\n",
      " [ 0.37291742  1.2431129   1.42120937  2.64788217 -0.75538413  1.19698986]\n",
      " [-0.51820826 -0.56354451  0.02560738  0.27241586 -0.75538413 -0.43187275]\n",
      " [-0.74098968 -0.56354451  0.02560738  0.27241586 -0.75538413 -0.92671708]\n",
      " [ 0.399127   -0.56354451  0.02560738 -0.91531729 -0.75538413 -0.84424303]\n",
      " [ 0.36636503 -0.56354451  0.02560738 -0.91531729 -0.75538413 -0.34939869]\n",
      " [-1.18655253 -0.56354451  0.02560738 -0.91531729 -0.75538413 -1.21537628]\n",
      " [-0.10759152 -0.56354451 -1.36999462  0.27241586 -0.75538413 -0.18445058]\n",
      " [ 0.38165395 -0.56354451  0.02560738 -0.91531729 -0.75538413 -0.59682086]\n",
      " [-0.89387889 -0.56354451  0.02560738  0.27241586 -0.75538413 -0.803006  ]\n",
      " [-0.28232205 -0.56354451 -1.36999462 -0.91531729  1.73967255 -0.26692463]]\n"
     ]
    }
   ],
   "source": [
    "dataset_test= df_Newtest.values[:,:]\n",
    "print('dataset=', dataset_test[:20,:])"
   ]
  },
  {
   "cell_type": "code",
   "execution_count": 19,
   "id": "9afbae9d-57fe-4883-9b41-b22365bf9508",
   "metadata": {},
   "outputs": [
    {
     "data": {
      "text/plain": [
       "array([-0.50073521,  1.95422869, -0.73662142,  3.5180669 , -0.64925616,\n",
       "        0.52580664, -0.56625916, -0.72788489, -0.71390645,  1.68339637,\n",
       "        0.37291742, -0.51820826, -0.74098968,  0.399127  ,  0.36636503,\n",
       "       -1.18655253, -0.10759152,  0.38165395, -0.89387889, -0.28232205,\n",
       "        1.31209401,  0.56948927, -0.06390889, -1.50543574,  0.55638448,\n",
       "       -0.87203758,  0.80974374,  0.233133  , -0.80651363,  0.55638448,\n",
       "       -0.32600468, -1.25426061,  1.42130058, -0.48326216, -0.88514237,\n",
       "        0.565121  ,  0.37291742, -0.92183578, -0.74098968, -1.29794324,\n",
       "        1.46498322,  0.32923479,  0.28555216,  0.15232013, -0.71041184,\n",
       "        0.37291742, -0.430843  , -0.48326216, -0.4806412 ,  0.24186953,\n",
       "       -0.1338011 ,  1.97475953, -1.52727705, -0.56625916,  0.32049827,\n",
       "        0.25060606,  1.35577664, -0.22116637, -0.67546574,  0.80974374,\n",
       "        3.38701901,  0.63501321, -1.31541629,  0.37291742, -1.094819  ,\n",
       "       -1.01750074,  0.87745182, -0.32163642, -0.28232205,  0.50396532,\n",
       "       -1.31104803,  0.15450427, -0.67546574, -0.38716037, -0.596837  ,\n",
       "       -0.99434895, -0.75409447,  1.49992932, -0.97687589, -0.50073521,\n",
       "       -1.31104803,  1.10940659, -0.27795379,  0.87614134, -0.23863942,\n",
       "       -0.83272321, -0.75409447,  0.28555216, -0.87203758, -0.46797324,\n",
       "        0.9949581 ,  1.68339637, -0.65799268, -0.87203758, -1.31104803,\n",
       "        1.66592332, -1.30449563,  0.6131719 ,  1.1461    ,  1.42130058,\n",
       "        2.33863585, -0.72788489, -1.03060553, -0.93756153,  0.55638448,\n",
       "        0.02345637,  0.399127  , -0.28232205,  0.41660006])"
      ]
     },
     "execution_count": 19,
     "metadata": {},
     "output_type": "execute_result"
    }
   ],
   "source": [
    "x1t= df_Newtest.values [:,0]\n",
    "x2t= df_Newtest.values [:,1]\n",
    "x3t= df_Newtest.values [:,2]\n",
    "x4t= df_Newtest.values [:,3]\n",
    "x5t= df_Newtest.values [:,4]\n",
    "yt= df_Newtest.values[:,5]\n",
    "n= len(yt)\n",
    "x1t"
   ]
  },
  {
   "cell_type": "code",
   "execution_count": 20,
   "id": "952a9c26-e711-45d8-a28c-f82522b5dffb",
   "metadata": {},
   "outputs": [
    {
     "data": {
      "text/plain": [
       "array([-0.08135801,  0.80111439, -0.42156349,  1.30008243, -1.05042817,\n",
       "        0.86709364, -0.69991343, -1.05042817, -0.72053194,  1.91863786,\n",
       "        1.19698986, -0.43187275, -0.92671708, -0.84424303, -0.34939869,\n",
       "       -1.21537628, -0.18445058, -0.59682086, -0.803006  , -0.26692463,\n",
       "        0.16606416,  0.38874411,  1.01142324, -1.66898359,  0.82585661,\n",
       "        0.43410484,  0.63616628, -0.06073949,  0.47534187,  0.72276404,\n",
       "       -0.24630612, -0.63805789,  0.31039376, -0.82362451, -0.60094456,\n",
       "        0.01761086,  2.5784303 , -0.72053194, -0.92671708, -0.26692463,\n",
       "        2.49595625, -0.39063572,  0.59905296, -0.93908819, -0.64218159,\n",
       "        1.67121569, -0.06073949, -0.84424303, -0.32878018,  1.13513432,\n",
       "       -0.32878018, -0.01950247, -0.92671708, -0.5143468 , -0.84424303,\n",
       "        0.20730119,  1.05266026,  0.59905296, -0.55558383,  0.04235308,\n",
       "        0.10420862,  0.43410484, -0.72053194,  1.65059717, -1.11228371,\n",
       "        0.45472336,  2.33100814, -0.30816166, -0.30816166,  0.10420862,\n",
       "       -0.81950081,  0.86709364, -0.36795535,  1.13513432, -0.49372829,\n",
       "       -0.06073949, -1.62774656,  1.01142324, -1.75145765, -0.6586764 ,\n",
       "       -0.84424303,  0.14544565, -0.0648632 , -0.5143468 , -0.72053194,\n",
       "        0.81554735, -0.55558383,  0.10420862, -0.67929492, -0.22568761,\n",
       "       -0.72053194,  0.92894918, -0.78238749, -0.53496532, -0.47310978,\n",
       "        4.43409657, -0.96795411,  2.70214139, -0.26692463, -0.55558383,\n",
       "        0.5165789 , -0.84424303, -1.38032439,  0.2279197 ,  1.13513432,\n",
       "        0.64028998, -0.35352239, -0.96795411,  0.47534187])"
      ]
     },
     "execution_count": 20,
     "metadata": {},
     "output_type": "execute_result"
    }
   ],
   "source": [
    "yt"
   ]
  },
  {
   "cell_type": "code",
   "execution_count": 21,
   "id": "31b5c519-7690-4516-b6f8-16c637765203",
   "metadata": {},
   "outputs": [
    {
     "data": {
      "text/plain": [
       "(array([[1.],\n",
       "        [1.],\n",
       "        [1.],\n",
       "        [1.],\n",
       "        [1.]]),\n",
       " 436)"
      ]
     },
     "execution_count": 21,
     "metadata": {},
     "output_type": "execute_result"
    }
   ],
   "source": [
    "x_1t=x1t.reshape(n,1)\n",
    "x_2t=x2t.reshape(n,1)\n",
    "x_3t=x3t.reshape(n,1)\n",
    "x_4t=x4t.reshape(n,1)\n",
    "x_5t=x5t.reshape(n,1)\n",
    "x_0t=np.ones((n,1))\n",
    "x_0t[:5], len(x_0)\n"
   ]
  },
  {
   "cell_type": "code",
   "execution_count": 22,
   "id": "4c492910-3b01-4810-bd8f-36e4894aebe2",
   "metadata": {},
   "outputs": [
    {
     "data": {
      "text/plain": [
       "array([[ 1.        , -0.50073521, -0.56354451,  0.02560738,  0.27241586,\n",
       "         0.49214421],\n",
       "       [ 1.        ,  1.95422869, -0.56354451,  0.02560738, -0.91531729,\n",
       "         1.73967255],\n",
       "       [ 1.        , -0.73662142, -0.56354451,  1.42120937,  0.27241586,\n",
       "        -0.75538413],\n",
       "       [ 1.        ,  3.5180669 , -0.56354451, -1.36999462, -0.91531729,\n",
       "         0.49214421],\n",
       "       [ 1.        , -0.64925616, -0.56354451,  1.42120937,  0.27241586,\n",
       "        -0.75538413]])"
      ]
     },
     "execution_count": 22,
     "metadata": {},
     "output_type": "execute_result"
    }
   ],
   "source": [
    "xt=np.hstack((x_0t, x_1t, x_2t, x_3t, x_4t, x_5t))\n",
    "xt[:5]"
   ]
  },
  {
   "cell_type": "code",
   "execution_count": 23,
   "id": "66a96e90-a344-48f0-bc0f-91337000ec3a",
   "metadata": {},
   "outputs": [
    {
     "data": {
      "text/plain": [
       "array([[0.],\n",
       "       [0.],\n",
       "       [0.],\n",
       "       [0.],\n",
       "       [0.],\n",
       "       [0.]])"
      ]
     },
     "execution_count": 23,
     "metadata": {},
     "output_type": "execute_result"
    }
   ],
   "source": [
    "theta=np.zeros((6,1))\n",
    "theta"
   ]
  },
  {
   "cell_type": "code",
   "execution_count": 24,
   "id": "b9cfa5c5-7114-4a4f-8030-5470c1432786",
   "metadata": {},
   "outputs": [],
   "source": [
    "def compute_loss(x,y, theta):\n",
    "    \n",
    "    predictions = x.dot(theta)\n",
    "    errors = np.subtract(predictions, y)\n",
    "    sqrErrors = np.square(errors)\n",
    "    J= 1 / (2 * m) * np.sum(sqrErrors) \n",
    "    \n",
    "    return J"
   ]
  },
  {
   "cell_type": "code",
   "execution_count": 25,
   "id": "5f30df07-c139-4859-b73d-014f41741b55",
   "metadata": {},
   "outputs": [
    {
     "name": "stdout",
     "output_type": "stream",
     "text": [
      "The cost for given values of theta_0,_1,_2,_3, ..., -6 is: 218.00000000000006\n"
     ]
    }
   ],
   "source": [
    "cost = compute_loss(x, y, theta)\n",
    "print('The cost for given values of theta_0,_1,_2,_3, ..., -6 is:', cost)"
   ]
  },
  {
   "cell_type": "code",
   "execution_count": 26,
   "id": "8be5260a-94a9-4303-9c44-1ce1cde30e66",
   "metadata": {},
   "outputs": [],
   "source": [
    "def gradient_descent(x, y, theta, alpha, iterations,xt,yt):\n",
    "    \n",
    "    loss_history= np.zeros(iterations)\n",
    "    t_loss_history= np.zeros(iterations)  \n",
    "    \n",
    "    for i in range(iterations):\n",
    "        predictions= x.dot(theta)\n",
    "        errors=np.subtract(predictions, y)\n",
    "        sum_delta=(alpha/ m)* x.transpose().dot(errors)\n",
    "        theta= theta - sum_delta\n",
    "        loss_history[i]= compute_loss(x,y,theta)\n",
    "        t_loss_history[i]=compute_loss(xt,yt,theta)\n",
    "        \n",
    "        \n",
    "    return theta, loss_history,t_loss_history"
   ]
  },
  {
   "cell_type": "code",
   "execution_count": 27,
   "id": "e60289e7-7fad-4ebd-81ac-1b8f1d16c3ad",
   "metadata": {},
   "outputs": [],
   "source": [
    "theta=[0,0,0,0,0,0]\n",
    "iterations=5000;\n",
    "alpha=0.01;"
   ]
  },
  {
   "cell_type": "code",
   "execution_count": 28,
   "id": "efe6359b-38a1-4463-a27b-6a31c85f8026",
   "metadata": {},
   "outputs": [
    {
     "name": "stdout",
     "output_type": "stream",
     "text": [
      "Final value of theta= [2.63810380e-16 3.88481823e-01 3.04158794e-01 8.90638389e-02\n",
      " 2.40439813e-01 1.60108157e-01]\n"
     ]
    }
   ],
   "source": [
    "theta, loss_history,t_loss_history = gradient_descent(x,y, theta, alpha, iterations,xt,yt)\n",
    "print('Final value of theta=', theta)\n",
    "#print('loss_history=', loss_history)\n",
    "#print('validation_loss_history=', t_loss_history)"
   ]
  },
  {
   "cell_type": "code",
   "execution_count": 30,
   "id": "df61b365-7f11-4c16-83c8-89dfe6456b48",
   "metadata": {},
   "outputs": [
    {
     "data": {
      "text/plain": [
       "Text(0.5, 1.0, 'Convergence of gradient descent')"
      ]
     },
     "execution_count": 30,
     "metadata": {},
     "output_type": "execute_result"
    },
    {
     "data": {
      "image/png": "[encoded data removed]",
      "text/plain": [
       "<Figure size 720x432 with 1 Axes>"
      ]
     },
     "metadata": {
      "needs_background": "light"
     },
     "output_type": "display_data"
    }
   ],
   "source": [
    "plt.plot(range(1, iterations +1), loss_history, color='blue')\n",
    "plt.plot(range(1, iterations +1), t_loss_history, color='green')\n",
    "plt.rcParams[\"figure.figsize\"]= (10,6)\n",
    "plt.grid()\n",
    "plt.xlabel('Number of iterations')\n",
    "plt.ylabel('loss (J)')\n",
    "plt.title('Convergence of gradient descent')"
   ]
  },
  {
   "cell_type": "code",
   "execution_count": null,
   "id": "7cfb401a-bb58-4c9d-a0b7-8bfdfd56bda6",
   "metadata": {},
   "outputs": [],
   "source": []
  },
  {
   "cell_type": "code",
   "execution_count": null,
   "id": "e3b79bdb-63fe-41f2-b58a-deeee685bb4a",
   "metadata": {},
   "outputs": [],
   "source": []
  },
  {
   "cell_type": "code",
   "execution_count": null,
   "id": "1913e4a9-1f4a-4499-8b00-578130bc1e6a",
   "metadata": {},
   "outputs": [],
   "source": []
  },
  {
   "cell_type": "code",
   "execution_count": null,
   "id": "31ba45ac-8e81-46f6-bb69-57c31a7f9be9",
   "metadata": {},
   "outputs": [],
   "source": []
  },
  {
   "cell_type": "code",
   "execution_count": null,
   "id": "3d41c436-e6a5-45a1-a528-b636bb5e1127",
   "metadata": {},
   "outputs": [],
   "source": []
  },
  {
   "cell_type": "code",
   "execution_count": null,
   "id": "d5590a3f-6f76-467c-9114-bea08cc5cd71",
   "metadata": {},
   "outputs": [],
   "source": []
  },
  {
   "cell_type": "code",
   "execution_count": null,
   "id": "e9ab9f55-19d8-4448-9923-663aad5c5794",
   "metadata": {},
   "outputs": [],
   "source": []
  },
  {
   "cell_type": "code",
   "execution_count": null,
   "id": "01ea1e7d-ffe1-4183-af51-26de42d19d11",
   "metadata": {},
   "outputs": [],
   "source": []
  }
 ],
 "metadata": {
  "kernelspec": {
   "display_name": "Python 3",
   "language": "python",
   "name": "python3"
  },
  "language_info": {
   "codemirror_mode": {
    "name": "ipython",
    "version": 3
   },
   "file_extension": ".py",
   "mimetype": "text/x-python",
   "name": "python",
   "nbconvert_exporter": "python",
   "pygments_lexer": "ipython3",
   "version": "3.8.8"
  }
 },
 "nbformat": 4,
 "nbformat_minor": 5
}
