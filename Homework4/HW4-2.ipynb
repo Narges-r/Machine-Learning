{
 "cells": [
  {
   "cell_type": "code",
   "execution_count": 28,
   "id": "3728252f-78fd-4ade-8164-2d95ab18c280",
   "metadata": {},
   "outputs": [],
   "source": [
    "import numpy as np\n",
    "import pandas as pd\n",
    "import matplotlib.pyplot  as  plt\n",
    "from sklearn.svm import SVR\n",
    "import numpy as np\n",
    "import matplotlib.pyplot as plt\n",
    "import pandas as pd\n",
    "from sklearn.model_selection import train_test_split\n",
    "from sklearn.decomposition import PCA\n",
    "from sklearn.linear_model import LogisticRegression\n",
    "from sklearn.model_selection import cross_val_score\n",
    "import seaborn as sns\n",
    "from sklearn.datasets import load_breast_cancer\n",
    "from sklearn import metrics\n",
    "from sklearn.metrics import confusion_matrix\n",
    "from sklearn.preprocessing import StandardScaler\n",
    "from sklearn import svm\n",
    "from sklearn.svm import SVR\n",
    "from sklearn.metrics import mean_squared_error"
   ]
  },
  {
   "cell_type": "code",
   "execution_count": 29,
   "id": "613c21b5-2264-4b7a-84ca-eab6ea1621fa",
   "metadata": {},
   "outputs": [
    {
     "data": {
      "text/html": [
       "<div>\n",
       "<style scoped>\n",
       "    .dataframe tbody tr th:only-of-type {\n",
       "        vertical-align: middle;\n",
       "    }\n",
       "\n",
       "    .dataframe tbody tr th {\n",
       "        vertical-align: top;\n",
       "    }\n",
       "\n",
       "    .dataframe thead th {\n",
       "        text-align: right;\n",
       "    }\n",
       "</style>\n",
       "<table border=\"1\" class=\"dataframe\">\n",
       "  <thead>\n",
       "    <tr style=\"text-align: right;\">\n",
       "      <th></th>\n",
       "      <th>price</th>\n",
       "      <th>area</th>\n",
       "      <th>bedrooms</th>\n",
       "      <th>bathrooms</th>\n",
       "      <th>stories</th>\n",
       "      <th>mainroad</th>\n",
       "      <th>guestroom</th>\n",
       "      <th>basement</th>\n",
       "      <th>hotwaterheating</th>\n",
       "      <th>airconditioning</th>\n",
       "      <th>parking</th>\n",
       "      <th>prefarea</th>\n",
       "      <th>furnishingstatus</th>\n",
       "    </tr>\n",
       "  </thead>\n",
       "  <tbody>\n",
       "    <tr>\n",
       "      <th>0</th>\n",
       "      <td>13300000</td>\n",
       "      <td>7420</td>\n",
       "      <td>4</td>\n",
       "      <td>2</td>\n",
       "      <td>3</td>\n",
       "      <td>yes</td>\n",
       "      <td>no</td>\n",
       "      <td>no</td>\n",
       "      <td>no</td>\n",
       "      <td>yes</td>\n",
       "      <td>2</td>\n",
       "      <td>yes</td>\n",
       "      <td>furnished</td>\n",
       "    </tr>\n",
       "    <tr>\n",
       "      <th>1</th>\n",
       "      <td>12250000</td>\n",
       "      <td>8960</td>\n",
       "      <td>4</td>\n",
       "      <td>4</td>\n",
       "      <td>4</td>\n",
       "      <td>yes</td>\n",
       "      <td>no</td>\n",
       "      <td>no</td>\n",
       "      <td>no</td>\n",
       "      <td>yes</td>\n",
       "      <td>3</td>\n",
       "      <td>no</td>\n",
       "      <td>furnished</td>\n",
       "    </tr>\n",
       "    <tr>\n",
       "      <th>2</th>\n",
       "      <td>12250000</td>\n",
       "      <td>9960</td>\n",
       "      <td>3</td>\n",
       "      <td>2</td>\n",
       "      <td>2</td>\n",
       "      <td>yes</td>\n",
       "      <td>no</td>\n",
       "      <td>yes</td>\n",
       "      <td>no</td>\n",
       "      <td>no</td>\n",
       "      <td>2</td>\n",
       "      <td>yes</td>\n",
       "      <td>semi-furnished</td>\n",
       "    </tr>\n",
       "    <tr>\n",
       "      <th>3</th>\n",
       "      <td>12215000</td>\n",
       "      <td>7500</td>\n",
       "      <td>4</td>\n",
       "      <td>2</td>\n",
       "      <td>2</td>\n",
       "      <td>yes</td>\n",
       "      <td>no</td>\n",
       "      <td>yes</td>\n",
       "      <td>no</td>\n",
       "      <td>yes</td>\n",
       "      <td>3</td>\n",
       "      <td>yes</td>\n",
       "      <td>furnished</td>\n",
       "    </tr>\n",
       "    <tr>\n",
       "      <th>4</th>\n",
       "      <td>11410000</td>\n",
       "      <td>7420</td>\n",
       "      <td>4</td>\n",
       "      <td>1</td>\n",
       "      <td>2</td>\n",
       "      <td>yes</td>\n",
       "      <td>yes</td>\n",
       "      <td>yes</td>\n",
       "      <td>no</td>\n",
       "      <td>yes</td>\n",
       "      <td>2</td>\n",
       "      <td>no</td>\n",
       "      <td>furnished</td>\n",
       "    </tr>\n",
       "  </tbody>\n",
       "</table>\n",
       "</div>"
      ],
      "text/plain": [
       "      price  area  bedrooms  bathrooms  stories mainroad guestroom basement  \\\n",
       "0  13300000  7420         4          2        3      yes        no       no   \n",
       "1  12250000  8960         4          4        4      yes        no       no   \n",
       "2  12250000  9960         3          2        2      yes        no      yes   \n",
       "3  12215000  7500         4          2        2      yes        no      yes   \n",
       "4  11410000  7420         4          1        2      yes       yes      yes   \n",
       "\n",
       "  hotwaterheating airconditioning  parking prefarea furnishingstatus  \n",
       "0              no             yes        2      yes        furnished  \n",
       "1              no             yes        3       no        furnished  \n",
       "2              no              no        2      yes   semi-furnished  \n",
       "3              no             yes        3      yes        furnished  \n",
       "4              no             yes        2       no        furnished  "
      ]
     },
     "execution_count": 29,
     "metadata": {},
     "output_type": "execute_result"
    }
   ],
   "source": [
    "housing=pd.read_csv('Housing.csv')\n",
    "housing.head(5)"
   ]
  },
  {
   "cell_type": "code",
   "execution_count": 30,
   "id": "b72fb9d9-d613-4f9a-a962-801df6e171db",
   "metadata": {},
   "outputs": [
    {
     "data": {
      "text/html": [
       "<div>\n",
       "<style scoped>\n",
       "    .dataframe tbody tr th:only-of-type {\n",
       "        vertical-align: middle;\n",
       "    }\n",
       "\n",
       "    .dataframe tbody tr th {\n",
       "        vertical-align: top;\n",
       "    }\n",
       "\n",
       "    .dataframe thead th {\n",
       "        text-align: right;\n",
       "    }\n",
       "</style>\n",
       "<table border=\"1\" class=\"dataframe\">\n",
       "  <thead>\n",
       "    <tr style=\"text-align: right;\">\n",
       "      <th></th>\n",
       "      <th>price</th>\n",
       "      <th>area</th>\n",
       "      <th>bedrooms</th>\n",
       "      <th>bathrooms</th>\n",
       "      <th>stories</th>\n",
       "      <th>mainroad</th>\n",
       "      <th>guestroom</th>\n",
       "      <th>basement</th>\n",
       "      <th>hotwaterheating</th>\n",
       "      <th>airconditioning</th>\n",
       "      <th>parking</th>\n",
       "      <th>prefarea</th>\n",
       "      <th>furnishingstatus</th>\n",
       "    </tr>\n",
       "  </thead>\n",
       "  <tbody>\n",
       "    <tr>\n",
       "      <th>0</th>\n",
       "      <td>13300000</td>\n",
       "      <td>7420</td>\n",
       "      <td>4</td>\n",
       "      <td>2</td>\n",
       "      <td>3</td>\n",
       "      <td>1</td>\n",
       "      <td>0</td>\n",
       "      <td>0</td>\n",
       "      <td>0</td>\n",
       "      <td>1</td>\n",
       "      <td>2</td>\n",
       "      <td>1</td>\n",
       "      <td>furnished</td>\n",
       "    </tr>\n",
       "    <tr>\n",
       "      <th>1</th>\n",
       "      <td>12250000</td>\n",
       "      <td>8960</td>\n",
       "      <td>4</td>\n",
       "      <td>4</td>\n",
       "      <td>4</td>\n",
       "      <td>1</td>\n",
       "      <td>0</td>\n",
       "      <td>0</td>\n",
       "      <td>0</td>\n",
       "      <td>1</td>\n",
       "      <td>3</td>\n",
       "      <td>0</td>\n",
       "      <td>furnished</td>\n",
       "    </tr>\n",
       "    <tr>\n",
       "      <th>2</th>\n",
       "      <td>12250000</td>\n",
       "      <td>9960</td>\n",
       "      <td>3</td>\n",
       "      <td>2</td>\n",
       "      <td>2</td>\n",
       "      <td>1</td>\n",
       "      <td>0</td>\n",
       "      <td>1</td>\n",
       "      <td>0</td>\n",
       "      <td>0</td>\n",
       "      <td>2</td>\n",
       "      <td>1</td>\n",
       "      <td>semi-furnished</td>\n",
       "    </tr>\n",
       "    <tr>\n",
       "      <th>3</th>\n",
       "      <td>12215000</td>\n",
       "      <td>7500</td>\n",
       "      <td>4</td>\n",
       "      <td>2</td>\n",
       "      <td>2</td>\n",
       "      <td>1</td>\n",
       "      <td>0</td>\n",
       "      <td>1</td>\n",
       "      <td>0</td>\n",
       "      <td>1</td>\n",
       "      <td>3</td>\n",
       "      <td>1</td>\n",
       "      <td>furnished</td>\n",
       "    </tr>\n",
       "    <tr>\n",
       "      <th>4</th>\n",
       "      <td>11410000</td>\n",
       "      <td>7420</td>\n",
       "      <td>4</td>\n",
       "      <td>1</td>\n",
       "      <td>2</td>\n",
       "      <td>1</td>\n",
       "      <td>1</td>\n",
       "      <td>1</td>\n",
       "      <td>0</td>\n",
       "      <td>1</td>\n",
       "      <td>2</td>\n",
       "      <td>0</td>\n",
       "      <td>furnished</td>\n",
       "    </tr>\n",
       "  </tbody>\n",
       "</table>\n",
       "</div>"
      ],
      "text/plain": [
       "      price  area  bedrooms  bathrooms  stories  mainroad  guestroom  \\\n",
       "0  13300000  7420         4          2        3         1          0   \n",
       "1  12250000  8960         4          4        4         1          0   \n",
       "2  12250000  9960         3          2        2         1          0   \n",
       "3  12215000  7500         4          2        2         1          0   \n",
       "4  11410000  7420         4          1        2         1          1   \n",
       "\n",
       "   basement  hotwaterheating  airconditioning  parking  prefarea  \\\n",
       "0         0                0                1        2         1   \n",
       "1         0                0                1        3         0   \n",
       "2         1                0                0        2         1   \n",
       "3         1                0                1        3         1   \n",
       "4         1                0                1        2         0   \n",
       "\n",
       "  furnishingstatus  \n",
       "0        furnished  \n",
       "1        furnished  \n",
       "2   semi-furnished  \n",
       "3        furnished  \n",
       "4        furnished  "
      ]
     },
     "execution_count": 30,
     "metadata": {},
     "output_type": "execute_result"
    }
   ],
   "source": [
    "housing.mainroad = housing.mainroad.map(dict(yes=1,no=0))\n",
    "housing.guestroom = housing.guestroom.map(dict(yes=1,no=0))\n",
    "housing.basement = housing.basement.map(dict(yes=1,no=0))\n",
    "housing.hotwaterheating = housing.hotwaterheating.map(dict(yes=1,no=0))\n",
    "housing.airconditioning = housing.airconditioning.map(dict(yes=1,no=0))\n",
    "housing.prefarea = housing.prefarea.map(dict(yes=1,no=0))\n",
    "\n",
    "housing.head(5)"
   ]
  },
  {
   "cell_type": "code",
   "execution_count": 31,
   "id": "a95da7e9-663b-4a84-84b4-91c0abb6c1d2",
   "metadata": {},
   "outputs": [
    {
     "data": {
      "text/plain": [
       "(545, 13)"
      ]
     },
     "execution_count": 31,
     "metadata": {},
     "output_type": "execute_result"
    }
   ],
   "source": [
    "housing.shape"
   ]
  },
  {
   "cell_type": "code",
   "execution_count": 32,
   "id": "cec6c30c-db7a-4c81-b034-2c3a15dded4e",
   "metadata": {},
   "outputs": [
    {
     "data": {
      "text/plain": [
       "array([[7420,    4,    2, ...,    1,    2,    1],\n",
       "       [8960,    4,    4, ...,    1,    3,    0],\n",
       "       [9960,    3,    2, ...,    0,    2,    1],\n",
       "       ...,\n",
       "       [3620,    2,    1, ...,    0,    0,    0],\n",
       "       [2910,    3,    1, ...,    0,    0,    0],\n",
       "       [3850,    3,    1, ...,    0,    0,    0]], dtype=int64)"
      ]
     },
     "execution_count": 32,
     "metadata": {},
     "output_type": "execute_result"
    }
   ],
   "source": [
    "X = housing.iloc[:, 1:12].values\n",
    "X.shape\n",
    "X"
   ]
  },
  {
   "cell_type": "code",
   "execution_count": 33,
   "id": "6f3695dd-b1f4-4f20-8ded-adc43a29ad9c",
   "metadata": {},
   "outputs": [
    {
     "data": {
      "text/plain": [
       "(545,)"
      ]
     },
     "execution_count": 33,
     "metadata": {},
     "output_type": "execute_result"
    }
   ],
   "source": [
    "Y = housing.iloc[:, 0].values\n",
    "Y.shape"
   ]
  },
  {
   "cell_type": "code",
   "execution_count": 34,
   "id": "ba10461a-2587-4522-a359-15734bce5868",
   "metadata": {},
   "outputs": [
    {
     "data": {
      "text/plain": [
       "(545, 1)"
      ]
     },
     "execution_count": 34,
     "metadata": {},
     "output_type": "execute_result"
    }
   ],
   "source": [
    "scaler = StandardScaler()\n",
    "X = scaler.fit_transform(X)\n",
    "Y =Y.reshape(-1,1)\n",
    "Y.shape\n",
    "#Y= scaler.fit_transform(Y)"
   ]
  },
  {
   "cell_type": "code",
   "execution_count": 35,
   "id": "bd9c2bf8-1d19-4bb7-bfbf-71fc7a705dec",
   "metadata": {},
   "outputs": [
    {
     "data": {
      "text/plain": [
       "(545, 1)"
      ]
     },
     "execution_count": 35,
     "metadata": {},
     "output_type": "execute_result"
    }
   ],
   "source": [
    "Y_st= scaler.fit_transform(Y)\n",
    "Y_st.shape"
   ]
  },
  {
   "cell_type": "code",
   "execution_count": 36,
   "id": "b0292e89-2074-41f5-a4cd-50de342d591b",
   "metadata": {},
   "outputs": [
    {
     "name": "stdout",
     "output_type": "stream",
     "text": [
      "nunmber of components (new features)= 1\n",
      "MSE: 0.37040277607999555\n",
      "nunmber of components (new features)= 2\n",
      "MSE: 0.35942733295888774\n",
      "nunmber of components (new features)= 3\n",
      "MSE: 0.32288754128708935\n",
      "nunmber of components (new features)= 4\n",
      "MSE: 0.31643026462970064\n",
      "nunmber of components (new features)= 5\n",
      "MSE: 0.32943023788456605\n",
      "nunmber of components (new features)= 6\n",
      "MSE: 0.32580232694916295\n",
      "nunmber of components (new features)= 7\n",
      "MSE: 0.3217177291777344\n",
      "nunmber of components (new features)= 8\n",
      "MSE: 0.3276750583528447\n",
      "nunmber of components (new features)= 9\n",
      "MSE: 0.3496016814302716\n",
      "nunmber of components (new features)= 10\n",
      "MSE: 0.3499788045877958\n",
      "nunmber of components (new features)= 11\n",
      "MSE: 0.34800643643616724\n"
     ]
    }
   ],
   "source": [
    " MSE=np.zeros(12)\n",
    "for k in range(1,12):  \n",
    "    pca = PCA(n_components = k)\n",
    "    principalComponents = pca.fit_transform(X)\n",
    "    \n",
    "    X_train, X_test, Y_train, Y_test = train_test_split(principalComponents, Y_st, test_size = 0.2, random_state = 0)\n",
    "    \n",
    "    print (f\"nunmber of components (new features)= {k}\")\n",
    "    svr = SVR(kernel='rbf').fit(X_train, Y_train.ravel())\n",
    "    yfit = svr.predict(X_test)\n",
    "    #score = svr.score(X_train,Y_train)\n",
    "    MSE[k] = mean_squared_error(Y_test, yfit)\n",
    "    #print(\"R-squared:\", score)\n",
    "    print(\"MSE:\", MSE[k])\n"
   ]
  },
  {
   "cell_type": "code",
   "execution_count": 37,
   "id": "8ef999d8-b4c5-4820-b103-287207dec913",
   "metadata": {},
   "outputs": [
    {
     "data": {
      "image/png": "[encoded data removed]",
      "text/plain": [
       "<Figure size 600x400 with 1 Axes>"
      ]
     },
     "metadata": {
      "needs_background": "light"
     },
     "output_type": "display_data"
    }
   ],
   "source": [
    "xaxis = range(1,13)\n",
    "fig = plt.figure(dpi=100)\n",
    "plt.ylim([0.1, 1.05])\n",
    "plt.xlabel(\"Number of Principal Components (K)\", fontsize = 12)\n",
    "plt.ylabel(\"MSE\", fontsize = 12)\n",
    "plt.title('Performance for RBF Kernel ')\n",
    "plt.plot(xaxis, MSE, label=\"MSE\", color = 'purple') \n",
    "fig.legend(loc = \"upper right\")\n",
    "plt.grid()"
   ]
  },
  {
   "cell_type": "code",
   "execution_count": 38,
   "id": "f9c7c7d1-7008-40fd-91d4-71ed6241de82",
   "metadata": {},
   "outputs": [
    {
     "name": "stdout",
     "output_type": "stream",
     "text": [
      "nunmber of components (new features)= 1\n",
      "MSE: 0.28606110203015395\n",
      "nunmber of components (new features)= 2\n",
      "MSE: 0.28072317074858766\n",
      "nunmber of components (new features)= 3\n",
      "MSE: 0.2799131286707927\n",
      "nunmber of components (new features)= 4\n",
      "MSE: 0.2792874543178448\n",
      "nunmber of components (new features)= 5\n",
      "MSE: 0.28813713940168734\n",
      "nunmber of components (new features)= 6\n",
      "MSE: 0.2897500103339163\n",
      "nunmber of components (new features)= 7\n",
      "MSE: 0.3040787045421742\n",
      "nunmber of components (new features)= 8\n",
      "MSE: 0.30125245863242384\n",
      "nunmber of components (new features)= 9\n",
      "MSE: 0.2870638035450679\n",
      "nunmber of components (new features)= 10\n",
      "MSE: 0.28772432580320967\n",
      "nunmber of components (new features)= 11\n",
      "MSE: 0.27130339592234887\n"
     ]
    }
   ],
   "source": [
    "MSE=np.zeros(12)\n",
    "for k in range(1,12):  \n",
    "    pca = PCA(n_components = k)\n",
    "    principalComponents = pca.fit_transform(X)\n",
    "    \n",
    "    X_train, X_test, Y_train, Y_test = train_test_split(principalComponents, Y_st, test_size = 0.2, random_state = 0)\n",
    "    \n",
    "    print (f\"nunmber of components (new features)= {k}\")\n",
    "    svr = SVR(kernel='linear').fit(X_train, Y_train.ravel())\n",
    "    yfit = svr.predict(X_test)\n",
    "    #score = svr.score(X_train,Y_train)\n",
    "    MSE[k] = mean_squared_error(Y_test, yfit)\n",
    "    #print(\"R-squared:\", score)\n",
    "    print(\"MSE:\", MSE[k])"
   ]
  },
  {
   "cell_type": "code",
   "execution_count": 39,
   "id": "ee3efbc7-078f-4545-9eb6-769b12fe25e5",
   "metadata": {},
   "outputs": [
    {
     "data": {
      "image/png": "[encoded data removed]",
      "text/plain": [
       "<Figure size 600x400 with 1 Axes>"
      ]
     },
     "metadata": {
      "needs_background": "light"
     },
     "output_type": "display_data"
    }
   ],
   "source": [
    "xaxis = range(1,13)\n",
    "fig = plt.figure(dpi=100)\n",
    "plt.ylim([0.1, 1.05])\n",
    "plt.xlabel(\"Number of Principal Components (K)\", fontsize = 12)\n",
    "plt.ylabel(\"MSE\", fontsize = 12)\n",
    "plt.plot(xaxis, MSE, label=\"MSE\", color = 'purple') \n",
    "plt.title('Performance for Linear Kernel ')\n",
    "fig.legend(loc = \"upper right\")\n",
    "plt.grid()"
   ]
  },
  {
   "cell_type": "code",
   "execution_count": 40,
   "id": "03aaca28-1507-4222-a0a6-aae2c6106a60",
   "metadata": {},
   "outputs": [
    {
     "name": "stdout",
     "output_type": "stream",
     "text": [
      "nunmber of components (new features)= 1\n",
      "MSE: 341.1569136038757\n",
      "nunmber of components (new features)= 2\n",
      "MSE: 108.87894281148964\n",
      "nunmber of components (new features)= 3\n",
      "MSE: 41.429350566944336\n",
      "nunmber of components (new features)= 4\n",
      "MSE: 21.70423857522601\n",
      "nunmber of components (new features)= 5\n",
      "MSE: 20.496533039964493\n",
      "nunmber of components (new features)= 6\n",
      "MSE: 14.168494051949748\n",
      "nunmber of components (new features)= 7\n",
      "MSE: 8.532233065517865\n",
      "nunmber of components (new features)= 8\n",
      "MSE: 5.215687694642771\n",
      "nunmber of components (new features)= 9\n",
      "MSE: 4.299875330696744\n",
      "nunmber of components (new features)= 10\n",
      "MSE: 3.156523665260074\n",
      "nunmber of components (new features)= 11\n",
      "MSE: 3.970678141150567\n"
     ]
    }
   ],
   "source": [
    "MSE=np.zeros(12)\n",
    "for k in range(1,12):  \n",
    "    pca = PCA(n_components = k)\n",
    "    principalComponents = pca.fit_transform(X)\n",
    "    \n",
    "    X_train, X_test, Y_train, Y_test = train_test_split(principalComponents, Y_st, test_size = 0.2, random_state = 0)\n",
    "    \n",
    "    print (f\"nunmber of components (new features)= {k}\")\n",
    "    #svr = SVR(kernel='poly', C=1e3, gamma=0.1).fit(X_train, Y_train)\n",
    "    svr = SVR(kernel='sigmoid').fit(X_train, Y_train.ravel())\n",
    "    yfit = svr.predict(X_test)\n",
    "    #score = svr.score(X_train,Y_train)\n",
    "    MSE[k] = mean_squared_error(Y_test, yfit)\n",
    "    #print(\"R-squared:\", score)\n",
    "    print(\"MSE:\", MSE[k])"
   ]
  },
  {
   "cell_type": "code",
   "execution_count": 41,
   "id": "4d8924b2-fb83-489e-92fe-ffd93f81dc4e",
   "metadata": {},
   "outputs": [
    {
     "data": {
      "image/png": "[encoded data removed]",
      "text/plain": [
       "<Figure size 600x400 with 1 Axes>"
      ]
     },
     "metadata": {
      "needs_background": "light"
     },
     "output_type": "display_data"
    }
   ],
   "source": [
    "xaxis = range(1,13)\n",
    "fig = plt.figure(dpi=100)\n",
    "plt.ylim([0, 400])\n",
    "plt.xlabel(\"Number of Principal Components (K)\", fontsize = 12)\n",
    "plt.ylabel(\"MSE\", fontsize = 12)\n",
    "plt.plot(xaxis, MSE, label=\"MSE\", color = 'purple') \n",
    "plt.title('Performance for Sigmoid Kernel ')\n",
    "fig.legend(loc = \"upper right\")\n",
    "plt.grid()"
   ]
  },
  {
   "cell_type": "code",
   "execution_count": 42,
   "id": "9f57e99a-8da2-4f95-8232-367385f7b515",
   "metadata": {},
   "outputs": [
    {
     "name": "stdout",
     "output_type": "stream",
     "text": [
      "nunmber of components (new features)= 1\n",
      "MSE: 0.2860611020301914\n",
      "nunmber of components (new features)= 2\n",
      "MSE: 0.2807231707485901\n",
      "nunmber of components (new features)= 3\n",
      "MSE: 0.27991312867079127\n",
      "nunmber of components (new features)= 4\n",
      "MSE: 0.27928745431830737\n",
      "nunmber of components (new features)= 5\n",
      "MSE: 0.2881371394016716\n",
      "nunmber of components (new features)= 6\n",
      "MSE: 0.2897500103329501\n",
      "nunmber of components (new features)= 7\n",
      "MSE: 0.30407870454200336\n",
      "nunmber of components (new features)= 8\n",
      "MSE: 0.3012524586323785\n",
      "nunmber of components (new features)= 9\n",
      "MSE: 0.28706380354507577\n",
      "nunmber of components (new features)= 10\n",
      "MSE: 0.28772432580320023\n",
      "nunmber of components (new features)= 11\n",
      "MSE: 0.27130339592234853\n"
     ]
    }
   ],
   "source": [
    "MSE=np.zeros(12)\n",
    "for k in range(1,12):  \n",
    "    pca = PCA(n_components = k)\n",
    "    principalComponents = pca.fit_transform(X)\n",
    "    \n",
    "    X_train, X_test, Y_train, Y_test = train_test_split(principalComponents, Y_st, test_size = 0.2, random_state = 0)\n",
    "    \n",
    "    print (f\"nunmber of components (new features)= {k}\")\n",
    "    #svr = SVR(kernel='poly', C=1e3, gamma=0.1).fit(X_train, Y_train)\n",
    "    #svr = SVR(kernel='precomputed').fit(X_train, Y_train.ravel())\n",
    "    #yfit = svr.predict(X_test)\n",
    "    #score = svr.score(X_train,Y_train)\n",
    "    #MSE[k] = mean_squared_error(Y_test, yfit)\n",
    "    #print(\"R-squared:\", score)\n",
    "    \n",
    "    \n",
    "    \n",
    "    kernel_train=np.dot(X_train, X_train.T)\n",
    "    svr=SVR(kernel='precomputed').fit(kernel_train, Y_train.ravel())\n",
    "    kernel_test=np.dot(X_test, X_train.T)\n",
    "    yfit=svr.predict(kernel_test)\n",
    "    MSE[k]=mean_squared_error(Y_test, yfit)\n",
    "    print(\"MSE:\", MSE[k])\n",
    "    \n",
    "    \n",
    " \n",
    "    #confusion_matrix = metrics.confusion_matrix(Y_expected, Y_predic)\n",
    "   #print (f\"nunmber of components (new features)= {k}\")\n",
    "    #Accuracy[k] = metrics.accuracy_score(Y_expected, Y_predic)\n",
    "    #Precision[k] = metrics.precision_score(Y_expected, Y_predic, pos_label=\"Benign\")\n",
    "    #Recall[k] = metrics.recall_score(Y_expected, Y_predic, pos_label=\"Benign\")\n",
    "    #print('Accuracy:',  Accuracy[k])\n",
    "    #print(metrics.classification_report(Y_expected, Y_predic))\n",
    "    #print(metrics.confusion_matrix(Y_expected, Y_predic))\n",
    "    #print(\"\\n\\n\")"
   ]
  },
  {
   "cell_type": "code",
   "execution_count": 43,
   "id": "596fa56c-4069-4ee3-955c-617968547c6a",
   "metadata": {},
   "outputs": [
    {
     "data": {
      "image/png": "[encoded data removed]",
      "text/plain": [
       "<Figure size 600x400 with 1 Axes>"
      ]
     },
     "metadata": {
      "needs_background": "light"
     },
     "output_type": "display_data"
    }
   ],
   "source": [
    "xaxis = range(1,13)\n",
    "fig = plt.figure(dpi=100)\n",
    "plt.ylim([0, 0.35])\n",
    "plt.xlabel(\"Number of Principal Components (K)\", fontsize = 12)\n",
    "plt.title('Performance for Precomputed Kernel ')\n",
    "plt.ylabel(\"MSE\", fontsize = 12)\n",
    "plt.plot(xaxis, MSE, label=\"MSE\", color = 'purple') \n",
    "fig.legend(loc = \"upper right\")\n",
    "plt.grid()"
   ]
  },
  {
   "cell_type": "code",
   "execution_count": null,
   "id": "26fabbbb-18e6-46d4-95f0-ad0ae7d0d7ba",
   "metadata": {},
   "outputs": [],
   "source": []
  },
  {
   "cell_type": "code",
   "execution_count": null,
   "id": "0f1f74b8-e2a2-4eb8-9ede-3695a16e5d8e",
   "metadata": {},
   "outputs": [],
   "source": []
  }
 ],
 "metadata": {
  "kernelspec": {
   "display_name": "Python 3 (ipykernel)",
   "language": "python",
   "name": "python3"
  },
  "language_info": {
   "codemirror_mode": {
    "name": "ipython",
    "version": 3
   },
   "file_extension": ".py",
   "mimetype": "text/x-python",
   "name": "python",
   "nbconvert_exporter": "python",
   "pygments_lexer": "ipython3",
   "version": "3.9.12"
  }
 },
 "nbformat": 4,
 "nbformat_minor": 5
}
