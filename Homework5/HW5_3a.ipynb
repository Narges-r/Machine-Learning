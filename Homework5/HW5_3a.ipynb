{
 "cells": [
  {
   "cell_type": "code",
   "execution_count": 946,
   "id": "61c27b73-6ecf-4d00-85c0-d9f17341c8d2",
   "metadata": {},
   "outputs": [],
   "source": [
    "import numpy as np\n",
    "import pandas as pd\n",
    "import numpy as np\n",
    "import matplotlib.pyplot as plt\n",
    "import pandas as pd\n",
    "from sklearn.model_selection import train_test_split\n",
    "import seaborn as sns\n",
    "from sklearn import metrics\n",
    "from sklearn.preprocessing import StandardScaler\n",
    "from sklearn.metrics import mean_squared_error\n",
    "import torch.nn as nn\n",
    "from __future__ import print_function\n",
    "import torch\n",
    "import torch.optim as optim\n",
    "from sklearn.preprocessing import MinMaxScaler, StandardScaler"
   ]
  },
  {
   "cell_type": "code",
   "execution_count": 947,
   "id": "14b2fedf-c4d6-4cea-9006-19eb1cd4e7a6",
   "metadata": {},
   "outputs": [
    {
     "data": {
      "text/html": [
       "<div>\n",
       "<style scoped>\n",
       "    .dataframe tbody tr th:only-of-type {\n",
       "        vertical-align: middle;\n",
       "    }\n",
       "\n",
       "    .dataframe tbody tr th {\n",
       "        vertical-align: top;\n",
       "    }\n",
       "\n",
       "    .dataframe thead th {\n",
       "        text-align: right;\n",
       "    }\n",
       "</style>\n",
       "<table border=\"1\" class=\"dataframe\">\n",
       "  <thead>\n",
       "    <tr style=\"text-align: right;\">\n",
       "      <th></th>\n",
       "      <th>price</th>\n",
       "      <th>area</th>\n",
       "      <th>bedrooms</th>\n",
       "      <th>bathrooms</th>\n",
       "      <th>stories</th>\n",
       "      <th>mainroad</th>\n",
       "      <th>guestroom</th>\n",
       "      <th>basement</th>\n",
       "      <th>hotwaterheating</th>\n",
       "      <th>airconditioning</th>\n",
       "      <th>parking</th>\n",
       "      <th>prefarea</th>\n",
       "      <th>furnishingstatus</th>\n",
       "    </tr>\n",
       "  </thead>\n",
       "  <tbody>\n",
       "    <tr>\n",
       "      <th>0</th>\n",
       "      <td>13300000</td>\n",
       "      <td>7420</td>\n",
       "      <td>4</td>\n",
       "      <td>2</td>\n",
       "      <td>3</td>\n",
       "      <td>yes</td>\n",
       "      <td>no</td>\n",
       "      <td>no</td>\n",
       "      <td>no</td>\n",
       "      <td>yes</td>\n",
       "      <td>2</td>\n",
       "      <td>yes</td>\n",
       "      <td>furnished</td>\n",
       "    </tr>\n",
       "    <tr>\n",
       "      <th>1</th>\n",
       "      <td>12250000</td>\n",
       "      <td>8960</td>\n",
       "      <td>4</td>\n",
       "      <td>4</td>\n",
       "      <td>4</td>\n",
       "      <td>yes</td>\n",
       "      <td>no</td>\n",
       "      <td>no</td>\n",
       "      <td>no</td>\n",
       "      <td>yes</td>\n",
       "      <td>3</td>\n",
       "      <td>no</td>\n",
       "      <td>furnished</td>\n",
       "    </tr>\n",
       "    <tr>\n",
       "      <th>2</th>\n",
       "      <td>12250000</td>\n",
       "      <td>9960</td>\n",
       "      <td>3</td>\n",
       "      <td>2</td>\n",
       "      <td>2</td>\n",
       "      <td>yes</td>\n",
       "      <td>no</td>\n",
       "      <td>yes</td>\n",
       "      <td>no</td>\n",
       "      <td>no</td>\n",
       "      <td>2</td>\n",
       "      <td>yes</td>\n",
       "      <td>semi-furnished</td>\n",
       "    </tr>\n",
       "    <tr>\n",
       "      <th>3</th>\n",
       "      <td>12215000</td>\n",
       "      <td>7500</td>\n",
       "      <td>4</td>\n",
       "      <td>2</td>\n",
       "      <td>2</td>\n",
       "      <td>yes</td>\n",
       "      <td>no</td>\n",
       "      <td>yes</td>\n",
       "      <td>no</td>\n",
       "      <td>yes</td>\n",
       "      <td>3</td>\n",
       "      <td>yes</td>\n",
       "      <td>furnished</td>\n",
       "    </tr>\n",
       "    <tr>\n",
       "      <th>4</th>\n",
       "      <td>11410000</td>\n",
       "      <td>7420</td>\n",
       "      <td>4</td>\n",
       "      <td>1</td>\n",
       "      <td>2</td>\n",
       "      <td>yes</td>\n",
       "      <td>yes</td>\n",
       "      <td>yes</td>\n",
       "      <td>no</td>\n",
       "      <td>yes</td>\n",
       "      <td>2</td>\n",
       "      <td>no</td>\n",
       "      <td>furnished</td>\n",
       "    </tr>\n",
       "  </tbody>\n",
       "</table>\n",
       "</div>"
      ],
      "text/plain": [
       "      price  area  bedrooms  bathrooms  stories mainroad guestroom basement  \\\n",
       "0  13300000  7420         4          2        3      yes        no       no   \n",
       "1  12250000  8960         4          4        4      yes        no       no   \n",
       "2  12250000  9960         3          2        2      yes        no      yes   \n",
       "3  12215000  7500         4          2        2      yes        no      yes   \n",
       "4  11410000  7420         4          1        2      yes       yes      yes   \n",
       "\n",
       "  hotwaterheating airconditioning  parking prefarea furnishingstatus  \n",
       "0              no             yes        2      yes        furnished  \n",
       "1              no             yes        3       no        furnished  \n",
       "2              no              no        2      yes   semi-furnished  \n",
       "3              no             yes        3      yes        furnished  \n",
       "4              no             yes        2       no        furnished  "
      ]
     },
     "execution_count": 947,
     "metadata": {},
     "output_type": "execute_result"
    }
   ],
   "source": [
    "housing=pd.read_csv('Housing.csv')\n",
    "housing.head(5)"
   ]
  },
  {
   "cell_type": "code",
   "execution_count": 948,
   "id": "cb141932-6102-4da6-9993-4b36fdb86ee7",
   "metadata": {},
   "outputs": [
    {
     "data": {
      "text/html": [
       "<div>\n",
       "<style scoped>\n",
       "    .dataframe tbody tr th:only-of-type {\n",
       "        vertical-align: middle;\n",
       "    }\n",
       "\n",
       "    .dataframe tbody tr th {\n",
       "        vertical-align: top;\n",
       "    }\n",
       "\n",
       "    .dataframe thead th {\n",
       "        text-align: right;\n",
       "    }\n",
       "</style>\n",
       "<table border=\"1\" class=\"dataframe\">\n",
       "  <thead>\n",
       "    <tr style=\"text-align: right;\">\n",
       "      <th></th>\n",
       "      <th>price</th>\n",
       "      <th>area</th>\n",
       "      <th>bedrooms</th>\n",
       "      <th>bathrooms</th>\n",
       "      <th>stories</th>\n",
       "      <th>mainroad</th>\n",
       "      <th>guestroom</th>\n",
       "      <th>basement</th>\n",
       "      <th>hotwaterheating</th>\n",
       "      <th>airconditioning</th>\n",
       "      <th>parking</th>\n",
       "      <th>prefarea</th>\n",
       "      <th>furnishingstatus</th>\n",
       "    </tr>\n",
       "  </thead>\n",
       "  <tbody>\n",
       "    <tr>\n",
       "      <th>0</th>\n",
       "      <td>13300000</td>\n",
       "      <td>7420</td>\n",
       "      <td>4</td>\n",
       "      <td>2</td>\n",
       "      <td>3</td>\n",
       "      <td>1</td>\n",
       "      <td>0</td>\n",
       "      <td>0</td>\n",
       "      <td>0</td>\n",
       "      <td>1</td>\n",
       "      <td>2</td>\n",
       "      <td>1</td>\n",
       "      <td>furnished</td>\n",
       "    </tr>\n",
       "    <tr>\n",
       "      <th>1</th>\n",
       "      <td>12250000</td>\n",
       "      <td>8960</td>\n",
       "      <td>4</td>\n",
       "      <td>4</td>\n",
       "      <td>4</td>\n",
       "      <td>1</td>\n",
       "      <td>0</td>\n",
       "      <td>0</td>\n",
       "      <td>0</td>\n",
       "      <td>1</td>\n",
       "      <td>3</td>\n",
       "      <td>0</td>\n",
       "      <td>furnished</td>\n",
       "    </tr>\n",
       "    <tr>\n",
       "      <th>2</th>\n",
       "      <td>12250000</td>\n",
       "      <td>9960</td>\n",
       "      <td>3</td>\n",
       "      <td>2</td>\n",
       "      <td>2</td>\n",
       "      <td>1</td>\n",
       "      <td>0</td>\n",
       "      <td>1</td>\n",
       "      <td>0</td>\n",
       "      <td>0</td>\n",
       "      <td>2</td>\n",
       "      <td>1</td>\n",
       "      <td>semi-furnished</td>\n",
       "    </tr>\n",
       "    <tr>\n",
       "      <th>3</th>\n",
       "      <td>12215000</td>\n",
       "      <td>7500</td>\n",
       "      <td>4</td>\n",
       "      <td>2</td>\n",
       "      <td>2</td>\n",
       "      <td>1</td>\n",
       "      <td>0</td>\n",
       "      <td>1</td>\n",
       "      <td>0</td>\n",
       "      <td>1</td>\n",
       "      <td>3</td>\n",
       "      <td>1</td>\n",
       "      <td>furnished</td>\n",
       "    </tr>\n",
       "    <tr>\n",
       "      <th>4</th>\n",
       "      <td>11410000</td>\n",
       "      <td>7420</td>\n",
       "      <td>4</td>\n",
       "      <td>1</td>\n",
       "      <td>2</td>\n",
       "      <td>1</td>\n",
       "      <td>1</td>\n",
       "      <td>1</td>\n",
       "      <td>0</td>\n",
       "      <td>1</td>\n",
       "      <td>2</td>\n",
       "      <td>0</td>\n",
       "      <td>furnished</td>\n",
       "    </tr>\n",
       "  </tbody>\n",
       "</table>\n",
       "</div>"
      ],
      "text/plain": [
       "      price  area  bedrooms  bathrooms  stories  mainroad  guestroom  \\\n",
       "0  13300000  7420         4          2        3         1          0   \n",
       "1  12250000  8960         4          4        4         1          0   \n",
       "2  12250000  9960         3          2        2         1          0   \n",
       "3  12215000  7500         4          2        2         1          0   \n",
       "4  11410000  7420         4          1        2         1          1   \n",
       "\n",
       "   basement  hotwaterheating  airconditioning  parking  prefarea  \\\n",
       "0         0                0                1        2         1   \n",
       "1         0                0                1        3         0   \n",
       "2         1                0                0        2         1   \n",
       "3         1                0                1        3         1   \n",
       "4         1                0                1        2         0   \n",
       "\n",
       "  furnishingstatus  \n",
       "0        furnished  \n",
       "1        furnished  \n",
       "2   semi-furnished  \n",
       "3        furnished  \n",
       "4        furnished  "
      ]
     },
     "execution_count": 948,
     "metadata": {},
     "output_type": "execute_result"
    }
   ],
   "source": [
    "housing.mainroad = housing.mainroad.map(dict(yes=1,no=0))\n",
    "housing.guestroom = housing.guestroom.map(dict(yes=1,no=0))\n",
    "housing.basement = housing.basement.map(dict(yes=1,no=0))\n",
    "housing.hotwaterheating = housing.hotwaterheating.map(dict(yes=1,no=0))\n",
    "housing.airconditioning = housing.airconditioning.map(dict(yes=1,no=0))\n",
    "housing.prefarea = housing.prefarea.map(dict(yes=1,no=0))\n",
    "\n",
    "housing.head(5)"
   ]
  },
  {
   "cell_type": "code",
   "execution_count": 949,
   "id": "c58984c1-d4a0-4562-9872-88efaf9f874b",
   "metadata": {},
   "outputs": [
    {
     "data": {
      "text/plain": [
       "(545, 13)"
      ]
     },
     "execution_count": 949,
     "metadata": {},
     "output_type": "execute_result"
    }
   ],
   "source": [
    "housing.shape"
   ]
  },
  {
   "cell_type": "code",
   "execution_count": 950,
   "id": "2280bbf9-9ffc-4dee-a16a-9af546e262dc",
   "metadata": {},
   "outputs": [
    {
     "data": {
      "text/html": [
       "<div>\n",
       "<style scoped>\n",
       "    .dataframe tbody tr th:only-of-type {\n",
       "        vertical-align: middle;\n",
       "    }\n",
       "\n",
       "    .dataframe tbody tr th {\n",
       "        vertical-align: top;\n",
       "    }\n",
       "\n",
       "    .dataframe thead th {\n",
       "        text-align: right;\n",
       "    }\n",
       "</style>\n",
       "<table border=\"1\" class=\"dataframe\">\n",
       "  <thead>\n",
       "    <tr style=\"text-align: right;\">\n",
       "      <th></th>\n",
       "      <th>price</th>\n",
       "      <th>area</th>\n",
       "      <th>bathrooms</th>\n",
       "      <th>bedrooms</th>\n",
       "      <th>stories</th>\n",
       "      <th>parking</th>\n",
       "    </tr>\n",
       "  </thead>\n",
       "  <tbody>\n",
       "    <tr>\n",
       "      <th>0</th>\n",
       "      <td>13300000</td>\n",
       "      <td>7420</td>\n",
       "      <td>2</td>\n",
       "      <td>4</td>\n",
       "      <td>3</td>\n",
       "      <td>2</td>\n",
       "    </tr>\n",
       "    <tr>\n",
       "      <th>1</th>\n",
       "      <td>12250000</td>\n",
       "      <td>8960</td>\n",
       "      <td>4</td>\n",
       "      <td>4</td>\n",
       "      <td>4</td>\n",
       "      <td>3</td>\n",
       "    </tr>\n",
       "    <tr>\n",
       "      <th>2</th>\n",
       "      <td>12250000</td>\n",
       "      <td>9960</td>\n",
       "      <td>2</td>\n",
       "      <td>3</td>\n",
       "      <td>2</td>\n",
       "      <td>2</td>\n",
       "    </tr>\n",
       "    <tr>\n",
       "      <th>3</th>\n",
       "      <td>12215000</td>\n",
       "      <td>7500</td>\n",
       "      <td>2</td>\n",
       "      <td>4</td>\n",
       "      <td>2</td>\n",
       "      <td>3</td>\n",
       "    </tr>\n",
       "    <tr>\n",
       "      <th>4</th>\n",
       "      <td>11410000</td>\n",
       "      <td>7420</td>\n",
       "      <td>1</td>\n",
       "      <td>4</td>\n",
       "      <td>2</td>\n",
       "      <td>2</td>\n",
       "    </tr>\n",
       "  </tbody>\n",
       "</table>\n",
       "</div>"
      ],
      "text/plain": [
       "      price  area  bathrooms  bedrooms  stories  parking\n",
       "0  13300000  7420          2         4        3        2\n",
       "1  12250000  8960          4         4        4        3\n",
       "2  12250000  9960          2         3        2        2\n",
       "3  12215000  7500          2         4        2        3\n",
       "4  11410000  7420          1         4        2        2"
      ]
     },
     "execution_count": 950,
     "metadata": {},
     "output_type": "execute_result"
    }
   ],
   "source": [
    "num_vars=['price', 'area','bathrooms','bedrooms', 'stories', 'parking']\n",
    "data_set=housing[num_vars]\n",
    "data_set.head()"
   ]
  },
  {
   "cell_type": "code",
   "execution_count": 951,
   "id": "1b7b7f89-aa85-49cc-8e5c-19fbc807245e",
   "metadata": {},
   "outputs": [
    {
     "data": {
      "text/plain": [
       "(545, 6)"
      ]
     },
     "execution_count": 951,
     "metadata": {},
     "output_type": "execute_result"
    }
   ],
   "source": [
    "data_set.shape"
   ]
  },
  {
   "cell_type": "code",
   "execution_count": 952,
   "id": "7a034bef-cf1f-4f32-a2ce-1bdfa3c5b591",
   "metadata": {},
   "outputs": [
    {
     "name": "stderr",
     "output_type": "stream",
     "text": [
      "C:\\Users\\nrashvan\\AppData\\Local\\Temp\\1\\ipykernel_16504\\1593678094.py:2: SettingWithCopyWarning: \n",
      "A value is trying to be set on a copy of a slice from a DataFrame.\n",
      "Try using .loc[row_indexer,col_indexer] = value instead\n",
      "\n",
      "See the caveats in the documentation: https://pandas.pydata.org/pandas-docs/stable/user_guide/indexing.html#returning-a-view-versus-a-copy\n",
      "  data_set[num_vars]= scaler.fit_transform(data_set[num_vars])\n"
     ]
    },
    {
     "data": {
      "text/html": [
       "<div>\n",
       "<style scoped>\n",
       "    .dataframe tbody tr th:only-of-type {\n",
       "        vertical-align: middle;\n",
       "    }\n",
       "\n",
       "    .dataframe tbody tr th {\n",
       "        vertical-align: top;\n",
       "    }\n",
       "\n",
       "    .dataframe thead th {\n",
       "        text-align: right;\n",
       "    }\n",
       "</style>\n",
       "<table border=\"1\" class=\"dataframe\">\n",
       "  <thead>\n",
       "    <tr style=\"text-align: right;\">\n",
       "      <th></th>\n",
       "      <th>price</th>\n",
       "      <th>area</th>\n",
       "      <th>bathrooms</th>\n",
       "      <th>bedrooms</th>\n",
       "      <th>stories</th>\n",
       "      <th>parking</th>\n",
       "    </tr>\n",
       "  </thead>\n",
       "  <tbody>\n",
       "    <tr>\n",
       "      <th>0</th>\n",
       "      <td>1.000000</td>\n",
       "      <td>0.396564</td>\n",
       "      <td>0.333333</td>\n",
       "      <td>0.6</td>\n",
       "      <td>0.666667</td>\n",
       "      <td>0.666667</td>\n",
       "    </tr>\n",
       "    <tr>\n",
       "      <th>1</th>\n",
       "      <td>0.909091</td>\n",
       "      <td>0.502405</td>\n",
       "      <td>1.000000</td>\n",
       "      <td>0.6</td>\n",
       "      <td>1.000000</td>\n",
       "      <td>1.000000</td>\n",
       "    </tr>\n",
       "    <tr>\n",
       "      <th>2</th>\n",
       "      <td>0.909091</td>\n",
       "      <td>0.571134</td>\n",
       "      <td>0.333333</td>\n",
       "      <td>0.4</td>\n",
       "      <td>0.333333</td>\n",
       "      <td>0.666667</td>\n",
       "    </tr>\n",
       "    <tr>\n",
       "      <th>3</th>\n",
       "      <td>0.906061</td>\n",
       "      <td>0.402062</td>\n",
       "      <td>0.333333</td>\n",
       "      <td>0.6</td>\n",
       "      <td>0.333333</td>\n",
       "      <td>1.000000</td>\n",
       "    </tr>\n",
       "    <tr>\n",
       "      <th>4</th>\n",
       "      <td>0.836364</td>\n",
       "      <td>0.396564</td>\n",
       "      <td>0.000000</td>\n",
       "      <td>0.6</td>\n",
       "      <td>0.333333</td>\n",
       "      <td>0.666667</td>\n",
       "    </tr>\n",
       "  </tbody>\n",
       "</table>\n",
       "</div>"
      ],
      "text/plain": [
       "      price      area  bathrooms  bedrooms   stories   parking\n",
       "0  1.000000  0.396564   0.333333       0.6  0.666667  0.666667\n",
       "1  0.909091  0.502405   1.000000       0.6  1.000000  1.000000\n",
       "2  0.909091  0.571134   0.333333       0.4  0.333333  0.666667\n",
       "3  0.906061  0.402062   0.333333       0.6  0.333333  1.000000\n",
       "4  0.836364  0.396564   0.000000       0.6  0.333333  0.666667"
      ]
     },
     "execution_count": 952,
     "metadata": {},
     "output_type": "execute_result"
    }
   ],
   "source": [
    "scaler = MinMaxScaler()\n",
    "data_set[num_vars]= scaler.fit_transform(data_set[num_vars])\n",
    "data_set.head()"
   ]
  },
  {
   "cell_type": "code",
   "execution_count": 953,
   "id": "8b9c3574-c9ab-4a26-a8c8-d4418e5ff1f7",
   "metadata": {},
   "outputs": [
    {
     "data": {
      "text/plain": [
       "(545, 5)"
      ]
     },
     "execution_count": 953,
     "metadata": {},
     "output_type": "execute_result"
    }
   ],
   "source": [
    "X = data_set.iloc[:, 1:6].values\n",
    "X.shape\n"
   ]
  },
  {
   "cell_type": "code",
   "execution_count": 954,
   "id": "aa47efc6-2289-498a-b09b-0dcbf3edc460",
   "metadata": {},
   "outputs": [
    {
     "data": {
      "text/plain": [
       "(545,)"
      ]
     },
     "execution_count": 954,
     "metadata": {},
     "output_type": "execute_result"
    }
   ],
   "source": [
    "Y = data_set.iloc[:, 0].values\n",
    "Y.shape"
   ]
  },
  {
   "cell_type": "code",
   "execution_count": 955,
   "id": "f427617a-12fe-442e-8de7-5a530b25a57a",
   "metadata": {},
   "outputs": [
    {
     "data": {
      "text/plain": [
       "(545, 1)"
      ]
     },
     "execution_count": 955,
     "metadata": {},
     "output_type": "execute_result"
    }
   ],
   "source": [
    "Y =Y.reshape(-1,1)\n",
    "Y.shape"
   ]
  },
  {
   "cell_type": "code",
   "execution_count": 956,
   "id": "dab2380c-3404-4297-a7fa-85d8d01ef586",
   "metadata": {},
   "outputs": [
    {
     "data": {
      "text/plain": [
       "torch.Size([545, 1])"
      ]
     },
     "execution_count": 956,
     "metadata": {},
     "output_type": "execute_result"
    }
   ],
   "source": [
    "t_u=torch.tensor(X)\n",
    "t_c=torch.tensor(Y)\n",
    "t_c.shape"
   ]
  },
  {
   "cell_type": "code",
   "execution_count": 957,
   "id": "2675bfb7-647e-41e0-8209-9c42d5415096",
   "metadata": {},
   "outputs": [
    {
     "data": {
      "text/plain": [
       "torch.Size([545, 5])"
      ]
     },
     "execution_count": 957,
     "metadata": {},
     "output_type": "execute_result"
    }
   ],
   "source": [
    "t_u.shape"
   ]
  },
  {
   "cell_type": "code",
   "execution_count": 958,
   "id": "411be827-d343-4622-a2bd-e84019516096",
   "metadata": {},
   "outputs": [
    {
     "data": {
      "text/plain": [
       "(tensor([452, 178,  90,  92,   5, 223,  98, 503, 429, 240, 405, 351, 360, 500,\n",
       "         125, 349, 196, 439, 136, 279, 542, 516, 247, 194, 303, 220,  51,  39,\n",
       "         501,   9, 221,  72, 121, 266, 298, 334, 244, 338, 532, 493, 379,  34,\n",
       "         462, 506, 400, 325,  54, 248, 509, 239, 151, 488, 394, 337, 273, 149,\n",
       "         472, 296, 459, 300, 135, 146,  16, 132, 420,  38, 396, 260, 278,  84,\n",
       "         478, 130, 186, 440, 252, 253, 232, 290, 384, 116, 475, 416, 359, 456,\n",
       "         409, 203, 189, 101, 301, 191, 451, 508, 374,  42,  69,  40, 115, 207,\n",
       "         293, 352,  76, 286, 147, 222, 184, 110, 117, 246, 218, 295, 377, 343,\n",
       "         517, 525, 490, 407, 431, 314, 534, 373, 281, 454, 141,  71,  63, 378,\n",
       "         272, 320, 539,  25, 109, 521,  55, 474,   1, 283, 254, 127, 463, 527,\n",
       "         519, 161,  88, 241, 181,  57, 205, 450, 496,  43,  10, 172, 399,  32,\n",
       "         211, 289, 413,  45, 120, 169, 263, 261,  37, 306, 368,  81, 345, 236,\n",
       "         250, 510, 140, 299, 425, 144, 235, 212,  73, 142, 382, 426, 199, 177,\n",
       "         412, 312, 105, 357,  50, 481, 336, 411, 305, 363,   4, 197, 392, 371,\n",
       "         330, 385, 333, 262, 387,  86,  19, 179, 297, 271, 162, 473,  52, 369,\n",
       "         323,   0, 438, 511, 455, 376, 457,  46, 375, 536, 154, 100, 171, 397,\n",
       "         112, 226,  66,  87, 129, 466, 128, 123, 224,  82, 124,   7, 315, 479,\n",
       "         418,  28, 495, 353, 251, 515, 432,  74,  35, 256, 404,  26, 442, 419,\n",
       "         340,   8, 192, 449, 468,  44, 227, 245, 372, 268, 446, 259, 453, 274,\n",
       "          14, 188, 291, 264, 119, 217, 401,  93, 441,  60, 208,  75, 173, 126,\n",
       "         421, 138,  83, 491, 497, 155, 390, 464, 356, 198,  22, 483,  61,  17,\n",
       "         104, 328, 486, 282, 430, 108, 265,  13, 276, 170, 403, 160, 230, 229,\n",
       "          65,  58, 520, 436, 190, 292, 424, 414, 535, 231, 234, 406, 367, 469,\n",
       "         164, 175,  41, 111, 461,  24, 143, 157, 362, 470, 415, 148, 422, 134,\n",
       "         137, 437, 275, 270, 538, 284, 342,  21, 448, 118, 484, 537, 165, 444,\n",
       "         285,  97, 238, 410, 103,  18, 258,  94, 530, 485, 458, 531, 543, 398,\n",
       "         354, 393,  27, 215, 443, 529, 487, 243,  70,  85,  49, 277, 255,  12,\n",
       "         370, 269,  62, 145, 498, 341, 327,  20, 249, 267, 544, 541,  11,  15,\n",
       "         391, 395, 512, 433, 280, 139, 311, 482, 180,  96, 168, 152, 319, 287,\n",
       "         505, 193,  77, 182,  89, 202, 540, 107, 206, 326, 317, 214, 489, 131,\n",
       "         225, 480, 346,  48, 523, 183, 318, 526, 159, 499, 388, 219,  95, 257,\n",
       "         347, 167]),\n",
       " tensor([122, 492, 233,  56, 502, 237, 383, 447, 156, 435,  78, 524,  30, 166,\n",
       "          67, 332, 355, 467, 106, 304, 313, 465,  68, 348,   6, 310,  64, 185,\n",
       "         389, 201, 528,  47,  79,  29, 102,  36, 381, 423, 163,   3, 408, 335,\n",
       "         187, 344, 150,  91, 380, 365, 434, 307, 533, 428, 329, 324,  53,  33,\n",
       "         200,  80, 417, 308, 216, 494, 158, 302, 366, 209, 174, 210, 133, 476,\n",
       "         522, 477, 309, 228, 331,  31, 321, 213,   2, 513, 113, 507, 242, 361,\n",
       "         350,  23, 445, 294,  99, 471, 114, 504, 427, 358, 386, 195, 176, 460,\n",
       "         288, 204, 402, 316, 153, 518, 322,  59, 339, 514, 364]))"
      ]
     },
     "execution_count": 958,
     "metadata": {},
     "output_type": "execute_result"
    }
   ],
   "source": [
    "n_samples= t_u.shape[0]\n",
    "n_val= int(0.2 * n_samples)\n",
    "\n",
    "shuffled_indices= torch.randperm(n_samples)\n",
    "\n",
    "train_indices= shuffled_indices[:-n_val]\n",
    "val_indices= shuffled_indices[-n_val:]\n",
    "\n",
    "train_indices, val_indices"
   ]
  },
  {
   "cell_type": "code",
   "execution_count": 959,
   "id": "cff4f309-08e9-452a-be1f-888a133622fe",
   "metadata": {},
   "outputs": [],
   "source": [
    "train_t_u= t_u[train_indices]\n",
    "train_t_c=t_c[train_indices]\n",
    "\n",
    "val_t_u= t_u[val_indices]\n",
    "val_t_c= t_c[val_indices]\n"
   ]
  },
  {
   "cell_type": "code",
   "execution_count": 960,
   "id": "3133720a-6611-48bd-b4f6-bd00d54ba8de",
   "metadata": {},
   "outputs": [],
   "source": [
    "from collections import OrderedDict"
   ]
  },
  {
   "cell_type": "code",
   "execution_count": 961,
   "id": "26b3535a-a030-43b7-b90d-18567d6f94ed",
   "metadata": {},
   "outputs": [
    {
     "data": {
      "text/plain": [
       "Sequential(\n",
       "  (hidden_linear): Linear(in_features=5, out_features=8, bias=True)\n",
       "  (hidden_activation): Tanh()\n",
       "  (output_linear): Linear(in_features=8, out_features=1, bias=True)\n",
       ")"
      ]
     },
     "execution_count": 961,
     "metadata": {},
     "output_type": "execute_result"
    }
   ],
   "source": [
    "seq_model=nn.Sequential(OrderedDict([\n",
    "    ('hidden_linear', nn.Linear(5, 8)),\n",
    "    ('hidden_activation', nn.Tanh()), \n",
    "    ('output_linear', nn.Linear(8, 1))\n",
    "]))\n",
    "\n",
    "seq_model"
   ]
  },
  {
   "cell_type": "code",
   "execution_count": 962,
   "id": "992918ea-2b53-44bc-891d-04a949241824",
   "metadata": {},
   "outputs": [
    {
     "name": "stdout",
     "output_type": "stream",
     "text": [
      "hidden_linear.weight torch.Size([8, 5])\n",
      "hidden_linear.bias torch.Size([8])\n",
      "output_linear.weight torch.Size([1, 8])\n",
      "output_linear.bias torch.Size([1])\n"
     ]
    }
   ],
   "source": [
    "for name, param in seq_model.named_parameters():\n",
    "    print(name, param.shape)"
   ]
  },
  {
   "cell_type": "code",
   "execution_count": 963,
   "id": "eb44bd34-8b29-4260-b081-6242a76f67d3",
   "metadata": {},
   "outputs": [
    {
     "data": {
      "text/plain": [
       "Parameter containing:\n",
       "tensor([0.2115], requires_grad=True)"
      ]
     },
     "execution_count": 963,
     "metadata": {},
     "output_type": "execute_result"
    }
   ],
   "source": [
    "seq_model.output_linear.bias"
   ]
  },
  {
   "cell_type": "code",
   "execution_count": 964,
   "id": "44623ae0-0be3-4e1e-9ca1-da8e2a578f43",
   "metadata": {},
   "outputs": [],
   "source": [
    "def training_loop(n_epochs, optimizer, model, loss_fn, train_t_u, val_t_u, train_t_c, val_t_c):\n",
    "    for epoch in range(1,n_epochs +1):\n",
    "        \n",
    "        t_p_train=model(train_t_u)\n",
    "        loss_train= loss_fn(t_p_train, train_t_c)\n",
    "        \n",
    "        t_p_val=model(val_t_u)\n",
    "        loss_val= loss_fn(t_p_val, val_t_c)\n",
    "        \n",
    "        optimizer.zero_grad()\n",
    "        loss_train.backward()\n",
    "        optimizer.step()\n",
    "        \n",
    "        if epoch ==1 or epoch % 20==0:\n",
    "            print(f\"Epoch {epoch}, Training loss {loss_train.item():.4f}, \"\n",
    "                  f\" Validation loss {loss_val.item():.4f}\")"
   ]
  },
  {
   "cell_type": "code",
   "execution_count": 965,
   "id": "0efffae2-fd79-48ee-a328-e790a2089420",
   "metadata": {},
   "outputs": [],
   "source": [
    "train_t_u = train_t_u.float()"
   ]
  },
  {
   "cell_type": "code",
   "execution_count": 966,
   "id": "443475bd-f7db-41e2-a78b-f1c1f8cf3a6d",
   "metadata": {},
   "outputs": [
    {
     "name": "stdout",
     "output_type": "stream",
     "text": [
      "torch.float32\n"
     ]
    }
   ],
   "source": [
    "print(train_t_u.dtype)"
   ]
  },
  {
   "cell_type": "code",
   "execution_count": 967,
   "id": "ed33284e-5a54-4c97-9b79-15cc29943468",
   "metadata": {},
   "outputs": [
    {
     "name": "stdout",
     "output_type": "stream",
     "text": [
      "torch.float32\n"
     ]
    }
   ],
   "source": [
    "val_t_u=val_t_u.float()\n",
    "print(val_t_u.dtype)"
   ]
  },
  {
   "cell_type": "code",
   "execution_count": 968,
   "id": "670d957f-b4d7-4da2-84ee-4a11621d5a9b",
   "metadata": {},
   "outputs": [
    {
     "name": "stdout",
     "output_type": "stream",
     "text": [
      "torch.float32\n"
     ]
    }
   ],
   "source": [
    "train_t_c=train_t_c.float()\n",
    "print(train_t_c.dtype)"
   ]
  },
  {
   "cell_type": "code",
   "execution_count": 969,
   "id": "4325531c-c2df-4265-a90b-5acad9505d34",
   "metadata": {},
   "outputs": [
    {
     "name": "stdout",
     "output_type": "stream",
     "text": [
      "torch.float32\n"
     ]
    }
   ],
   "source": [
    "val_t_c=val_t_c.float()\n",
    "print(val_t_c.dtype)"
   ]
  },
  {
   "cell_type": "code",
   "execution_count": 973,
   "id": "2ea958d9-e8fa-4571-9ca7-f482364b7127",
   "metadata": {},
   "outputs": [
    {
     "name": "stdout",
     "output_type": "stream",
     "text": [
      "Epoch 1, Training loss 0.0200,  Validation loss 0.0224\n",
      "Epoch 20, Training loss 0.0171,  Validation loss 0.0186\n",
      "Epoch 40, Training loss 0.0155,  Validation loss 0.0164\n",
      "Epoch 60, Training loss 0.0146,  Validation loss 0.0151\n",
      "Epoch 80, Training loss 0.0140,  Validation loss 0.0144\n",
      "Epoch 100, Training loss 0.0137,  Validation loss 0.0139\n",
      "Epoch 120, Training loss 0.0135,  Validation loss 0.0136\n",
      "Epoch 140, Training loss 0.0133,  Validation loss 0.0134\n",
      "Epoch 160, Training loss 0.0131,  Validation loss 0.0132\n",
      "Epoch 180, Training loss 0.0130,  Validation loss 0.0130\n",
      "Epoch 200, Training loss 0.0129,  Validation loss 0.0129\n",
      "output tensor([[0.3432],\n",
      "        [0.2204],\n",
      "        [0.1677],\n",
      "        [0.4481],\n",
      "        [0.1378],\n",
      "        [0.2278],\n",
      "        [0.3936],\n",
      "        [0.1006],\n",
      "        [0.2240],\n",
      "        [0.1117],\n",
      "        [0.2786],\n",
      "        [0.0957],\n",
      "        [0.4803],\n",
      "        [0.3205],\n",
      "        [0.3561],\n",
      "        [0.2913],\n",
      "        [0.3295],\n",
      "        [0.2743],\n",
      "        [0.2875],\n",
      "        [0.3691],\n",
      "        [0.2400],\n",
      "        [0.1068],\n",
      "        [0.2440],\n",
      "        [0.1277],\n",
      "        [0.5971],\n",
      "        [0.2053],\n",
      "        [0.3485],\n",
      "        [0.1871],\n",
      "        [0.2733],\n",
      "        [0.2093],\n",
      "        [0.0577],\n",
      "        [0.4528],\n",
      "        [0.3316],\n",
      "        [0.3741],\n",
      "        [0.4027],\n",
      "        [0.4024],\n",
      "        [0.1109],\n",
      "        [0.1592],\n",
      "        [0.2225],\n",
      "        [0.4891],\n",
      "        [0.1109],\n",
      "        [0.1858],\n",
      "        [0.2076],\n",
      "        [0.1078],\n",
      "        [0.2303],\n",
      "        [0.2446],\n",
      "        [0.1212],\n",
      "        [0.1409],\n",
      "        [0.2571],\n",
      "        [0.2909],\n",
      "        [0.1750],\n",
      "        [0.1492],\n",
      "        [0.2065],\n",
      "        [0.2175],\n",
      "        [0.4345],\n",
      "        [0.3660],\n",
      "        [0.2179],\n",
      "        [0.2876],\n",
      "        [0.1035],\n",
      "        [0.2484],\n",
      "        [0.2854],\n",
      "        [0.1688],\n",
      "        [0.3241],\n",
      "        [0.2525],\n",
      "        [0.1033],\n",
      "        [0.2203],\n",
      "        [0.2435],\n",
      "        [0.3020],\n",
      "        [0.2648],\n",
      "        [0.2846],\n",
      "        [0.1765],\n",
      "        [0.1308],\n",
      "        [0.2740],\n",
      "        [0.2820],\n",
      "        [0.3848],\n",
      "        [0.4237],\n",
      "        [0.3205],\n",
      "        [0.2780],\n",
      "        [0.4484],\n",
      "        [0.2154],\n",
      "        [0.3567],\n",
      "        [0.1026],\n",
      "        [0.2001],\n",
      "        [0.2060],\n",
      "        [0.1811],\n",
      "        [0.2988],\n",
      "        [0.0470],\n",
      "        [0.3026],\n",
      "        [0.3412],\n",
      "        [0.2023],\n",
      "        [0.2456],\n",
      "        [0.0941],\n",
      "        [0.1698],\n",
      "        [0.1002],\n",
      "        [0.2418],\n",
      "        [0.4279],\n",
      "        [0.3349],\n",
      "        [0.2323],\n",
      "        [0.2284],\n",
      "        [0.1802],\n",
      "        [0.1498],\n",
      "        [0.3822],\n",
      "        [0.2699],\n",
      "        [0.1006],\n",
      "        [0.2288],\n",
      "        [0.4127],\n",
      "        [0.2856],\n",
      "        [0.1871],\n",
      "        [0.1895]], grad_fn=<AddmmBackward0>)\n",
      "answer tensor([[0.3636],\n",
      "        [0.0909],\n",
      "        [0.2485],\n",
      "        [0.4842],\n",
      "        [0.0788],\n",
      "        [0.2485],\n",
      "        [0.1576],\n",
      "        [0.1212],\n",
      "        [0.3267],\n",
      "        [0.1333],\n",
      "        [0.4242],\n",
      "        [0.0545],\n",
      "        [0.5758],\n",
      "        [0.3091],\n",
      "        [0.4455],\n",
      "        [0.1879],\n",
      "        [0.1752],\n",
      "        [0.1091],\n",
      "        [0.3818],\n",
      "        [0.2115],\n",
      "        [0.2030],\n",
      "        [0.1121],\n",
      "        [0.4424],\n",
      "        [0.1788],\n",
      "        [0.7273],\n",
      "        [0.2061],\n",
      "        [0.4545],\n",
      "        [0.2909],\n",
      "        [0.1515],\n",
      "        [0.2727],\n",
      "        [0.0455],\n",
      "        [0.4970],\n",
      "        [0.4242],\n",
      "        [0.5758],\n",
      "        [0.3848],\n",
      "        [0.5448],\n",
      "        [0.1606],\n",
      "        [0.1394],\n",
      "        [0.3182],\n",
      "        [0.9061],\n",
      "        [0.1455],\n",
      "        [0.1879],\n",
      "        [0.2909],\n",
      "        [0.1818],\n",
      "        [0.3333],\n",
      "        [0.4042],\n",
      "        [0.1606],\n",
      "        [0.1691],\n",
      "        [0.1333],\n",
      "        [0.2091],\n",
      "        [0.0303],\n",
      "        [0.1364],\n",
      "        [0.1939],\n",
      "        [0.1955],\n",
      "        [0.4848],\n",
      "        [0.5576],\n",
      "        [0.2727],\n",
      "        [0.4224],\n",
      "        [0.1424],\n",
      "        [0.2091],\n",
      "        [0.2667],\n",
      "        [0.0848],\n",
      "        [0.3242],\n",
      "        [0.2121],\n",
      "        [0.1667],\n",
      "        [0.2727],\n",
      "        [0.3030],\n",
      "        [0.2727],\n",
      "        [0.3515],\n",
      "        [0.1030],\n",
      "        [0.0545],\n",
      "        [0.1030],\n",
      "        [0.2061],\n",
      "        [0.2545],\n",
      "        [0.1879],\n",
      "        [0.5758],\n",
      "        [0.1970],\n",
      "        [0.2721],\n",
      "        [0.9091],\n",
      "        [0.0636],\n",
      "        [0.3752],\n",
      "        [0.0727],\n",
      "        [0.2424],\n",
      "        [0.1697],\n",
      "        [0.1758],\n",
      "        [0.5970],\n",
      "        [0.1212],\n",
      "        [0.2121],\n",
      "        [0.3909],\n",
      "        [0.1091],\n",
      "        [0.3697],\n",
      "        [0.0782],\n",
      "        [0.1370],\n",
      "        [0.1727],\n",
      "        [0.1545],\n",
      "        [0.2788],\n",
      "        [0.3030],\n",
      "        [0.1158],\n",
      "        [0.2121],\n",
      "        [0.2727],\n",
      "        [0.1515],\n",
      "        [0.2000],\n",
      "        [0.3273],\n",
      "        [0.0606],\n",
      "        [0.1970],\n",
      "        [0.4727],\n",
      "        [0.1848],\n",
      "        [0.0636],\n",
      "        [0.1691]])\n",
      "hidden tensor([[-1.5359e-03, -2.6091e-03,  1.7095e-03, -4.4035e-04, -4.4061e-05],\n",
      "        [ 6.9040e-04,  1.0991e-03, -7.5145e-04,  1.7107e-04,  5.1062e-05],\n",
      "        [-1.0180e-03, -1.4949e-03,  7.1650e-04, -2.6493e-04, -2.1514e-04],\n",
      "        [ 4.4706e-04,  7.2130e-04, -5.8729e-04,  1.1986e-04, -8.7428e-06],\n",
      "        [ 1.4175e-03,  2.3962e-03, -1.4434e-03,  4.8045e-04,  2.5515e-04],\n",
      "        [-7.8621e-05, -1.0307e-04,  1.0608e-04,  1.9810e-05, -8.5730e-06],\n",
      "        [ 1.1458e-05,  2.1008e-05, -1.5436e-05,  3.7352e-06, -2.6928e-07],\n",
      "        [-7.7789e-04, -1.2768e-03,  8.8123e-04, -2.3633e-04, -8.7602e-05]])\n"
     ]
    }
   ],
   "source": [
    "optimizer= optim.SGD(seq_model.parameters(), lr=1e-1)\n",
    "training_loop(\n",
    "    n_epochs=200,\n",
    "    optimizer= optimizer,\n",
    "    model=seq_model,\n",
    "    loss_fn=nn.MSELoss(),\n",
    "   train_t_u=train_t_u,\n",
    "   val_t_u= val_t_u,\n",
    "     train_t_c= train_t_c,\n",
    "   val_t_c= val_t_c)\n",
    "\n",
    "print('output', seq_model(val_t_u))\n",
    "print('answer',  val_t_c)\n",
    "print('hidden', seq_model.hidden_linear.weight.grad)"
   ]
  },
  {
   "cell_type": "code",
   "execution_count": null,
   "id": "7d1c049d-59f5-44dc-8a63-d0e316010f45",
   "metadata": {},
   "outputs": [],
   "source": []
  },
  {
   "cell_type": "code",
   "execution_count": null,
   "id": "0f19c00f-bce6-4ef2-aab9-4edb2da298a4",
   "metadata": {},
   "outputs": [],
   "source": []
  },
  {
   "cell_type": "code",
   "execution_count": null,
   "id": "4d184c10-a4d3-4f56-bd28-ea1fcc0ca472",
   "metadata": {},
   "outputs": [],
   "source": []
  }
 ],
 "metadata": {
  "kernelspec": {
   "display_name": "Python 3 (ipykernel)",
   "language": "python",
   "name": "python3"
  },
  "language_info": {
   "codemirror_mode": {
    "name": "ipython",
    "version": 3
   },
   "file_extension": ".py",
   "mimetype": "text/x-python",
   "name": "python",
   "nbconvert_exporter": "python",
   "pygments_lexer": "ipython3",
   "version": "3.9.12"
  }
 },
 "nbformat": 4,
 "nbformat_minor": 5
}
