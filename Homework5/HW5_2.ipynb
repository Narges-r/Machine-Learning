{
 "cells": [
  {
   "cell_type": "code",
   "execution_count": 641,
   "id": "8a9a8c4e-7147-4757-9c30-f01adc007b27",
   "metadata": {},
   "outputs": [],
   "source": [
    "import numpy as np\n",
    "import pandas as pd\n",
    "import matplotlib.pyplot  as  plt\n",
    "from sklearn.svm import SVR\n",
    "import numpy as np\n",
    "import pandas as pd\n",
    "from sklearn.model_selection import train_test_split\n",
    "from sklearn.linear_model import LogisticRegression\n",
    "import seaborn as sns\n",
    "from sklearn.preprocessing import StandardScaler\n",
    "from sklearn.metrics import mean_squared_error\n",
    "from __future__ import print_function\n",
    "import torch\n",
    "from sklearn.preprocessing import MinMaxScaler, StandardScaler\n",
    "%matplotlib inline\n",
    "import torch.optim as optim\n",
    "from sklearn.model_selection import train_test_split"
   ]
  },
  {
   "cell_type": "code",
   "execution_count": 642,
   "id": "9522905b-a26d-4995-8637-e5c0d3895bbd",
   "metadata": {},
   "outputs": [
    {
     "data": {
      "text/html": [
       "<div>\n",
       "<style scoped>\n",
       "    .dataframe tbody tr th:only-of-type {\n",
       "        vertical-align: middle;\n",
       "    }\n",
       "\n",
       "    .dataframe tbody tr th {\n",
       "        vertical-align: top;\n",
       "    }\n",
       "\n",
       "    .dataframe thead th {\n",
       "        text-align: right;\n",
       "    }\n",
       "</style>\n",
       "<table border=\"1\" class=\"dataframe\">\n",
       "  <thead>\n",
       "    <tr style=\"text-align: right;\">\n",
       "      <th></th>\n",
       "      <th>price</th>\n",
       "      <th>area</th>\n",
       "      <th>bedrooms</th>\n",
       "      <th>bathrooms</th>\n",
       "      <th>stories</th>\n",
       "      <th>mainroad</th>\n",
       "      <th>guestroom</th>\n",
       "      <th>basement</th>\n",
       "      <th>hotwaterheating</th>\n",
       "      <th>airconditioning</th>\n",
       "      <th>parking</th>\n",
       "      <th>prefarea</th>\n",
       "      <th>furnishingstatus</th>\n",
       "    </tr>\n",
       "  </thead>\n",
       "  <tbody>\n",
       "    <tr>\n",
       "      <th>0</th>\n",
       "      <td>13300000</td>\n",
       "      <td>7420</td>\n",
       "      <td>4</td>\n",
       "      <td>2</td>\n",
       "      <td>3</td>\n",
       "      <td>yes</td>\n",
       "      <td>no</td>\n",
       "      <td>no</td>\n",
       "      <td>no</td>\n",
       "      <td>yes</td>\n",
       "      <td>2</td>\n",
       "      <td>yes</td>\n",
       "      <td>furnished</td>\n",
       "    </tr>\n",
       "    <tr>\n",
       "      <th>1</th>\n",
       "      <td>12250000</td>\n",
       "      <td>8960</td>\n",
       "      <td>4</td>\n",
       "      <td>4</td>\n",
       "      <td>4</td>\n",
       "      <td>yes</td>\n",
       "      <td>no</td>\n",
       "      <td>no</td>\n",
       "      <td>no</td>\n",
       "      <td>yes</td>\n",
       "      <td>3</td>\n",
       "      <td>no</td>\n",
       "      <td>furnished</td>\n",
       "    </tr>\n",
       "    <tr>\n",
       "      <th>2</th>\n",
       "      <td>12250000</td>\n",
       "      <td>9960</td>\n",
       "      <td>3</td>\n",
       "      <td>2</td>\n",
       "      <td>2</td>\n",
       "      <td>yes</td>\n",
       "      <td>no</td>\n",
       "      <td>yes</td>\n",
       "      <td>no</td>\n",
       "      <td>no</td>\n",
       "      <td>2</td>\n",
       "      <td>yes</td>\n",
       "      <td>semi-furnished</td>\n",
       "    </tr>\n",
       "    <tr>\n",
       "      <th>3</th>\n",
       "      <td>12215000</td>\n",
       "      <td>7500</td>\n",
       "      <td>4</td>\n",
       "      <td>2</td>\n",
       "      <td>2</td>\n",
       "      <td>yes</td>\n",
       "      <td>no</td>\n",
       "      <td>yes</td>\n",
       "      <td>no</td>\n",
       "      <td>yes</td>\n",
       "      <td>3</td>\n",
       "      <td>yes</td>\n",
       "      <td>furnished</td>\n",
       "    </tr>\n",
       "    <tr>\n",
       "      <th>4</th>\n",
       "      <td>11410000</td>\n",
       "      <td>7420</td>\n",
       "      <td>4</td>\n",
       "      <td>1</td>\n",
       "      <td>2</td>\n",
       "      <td>yes</td>\n",
       "      <td>yes</td>\n",
       "      <td>yes</td>\n",
       "      <td>no</td>\n",
       "      <td>yes</td>\n",
       "      <td>2</td>\n",
       "      <td>no</td>\n",
       "      <td>furnished</td>\n",
       "    </tr>\n",
       "  </tbody>\n",
       "</table>\n",
       "</div>"
      ],
      "text/plain": [
       "      price  area  bedrooms  bathrooms  stories mainroad guestroom basement  \\\n",
       "0  13300000  7420         4          2        3      yes        no       no   \n",
       "1  12250000  8960         4          4        4      yes        no       no   \n",
       "2  12250000  9960         3          2        2      yes        no      yes   \n",
       "3  12215000  7500         4          2        2      yes        no      yes   \n",
       "4  11410000  7420         4          1        2      yes       yes      yes   \n",
       "\n",
       "  hotwaterheating airconditioning  parking prefarea furnishingstatus  \n",
       "0              no             yes        2      yes        furnished  \n",
       "1              no             yes        3       no        furnished  \n",
       "2              no              no        2      yes   semi-furnished  \n",
       "3              no             yes        3      yes        furnished  \n",
       "4              no             yes        2       no        furnished  "
      ]
     },
     "execution_count": 642,
     "metadata": {},
     "output_type": "execute_result"
    }
   ],
   "source": [
    "housing=pd.read_csv('Housing.csv')\n",
    "housing.head(5)"
   ]
  },
  {
   "cell_type": "code",
   "execution_count": 643,
   "id": "07064728-4fb4-4c62-b3a3-3f7c270c9541",
   "metadata": {},
   "outputs": [
    {
     "data": {
      "text/html": [
       "<div>\n",
       "<style scoped>\n",
       "    .dataframe tbody tr th:only-of-type {\n",
       "        vertical-align: middle;\n",
       "    }\n",
       "\n",
       "    .dataframe tbody tr th {\n",
       "        vertical-align: top;\n",
       "    }\n",
       "\n",
       "    .dataframe thead th {\n",
       "        text-align: right;\n",
       "    }\n",
       "</style>\n",
       "<table border=\"1\" class=\"dataframe\">\n",
       "  <thead>\n",
       "    <tr style=\"text-align: right;\">\n",
       "      <th></th>\n",
       "      <th>price</th>\n",
       "      <th>area</th>\n",
       "      <th>bedrooms</th>\n",
       "      <th>bathrooms</th>\n",
       "      <th>stories</th>\n",
       "      <th>mainroad</th>\n",
       "      <th>guestroom</th>\n",
       "      <th>basement</th>\n",
       "      <th>hotwaterheating</th>\n",
       "      <th>airconditioning</th>\n",
       "      <th>parking</th>\n",
       "      <th>prefarea</th>\n",
       "      <th>furnishingstatus</th>\n",
       "    </tr>\n",
       "  </thead>\n",
       "  <tbody>\n",
       "    <tr>\n",
       "      <th>0</th>\n",
       "      <td>13300000</td>\n",
       "      <td>7420</td>\n",
       "      <td>4</td>\n",
       "      <td>2</td>\n",
       "      <td>3</td>\n",
       "      <td>1</td>\n",
       "      <td>0</td>\n",
       "      <td>0</td>\n",
       "      <td>0</td>\n",
       "      <td>1</td>\n",
       "      <td>2</td>\n",
       "      <td>1</td>\n",
       "      <td>furnished</td>\n",
       "    </tr>\n",
       "    <tr>\n",
       "      <th>1</th>\n",
       "      <td>12250000</td>\n",
       "      <td>8960</td>\n",
       "      <td>4</td>\n",
       "      <td>4</td>\n",
       "      <td>4</td>\n",
       "      <td>1</td>\n",
       "      <td>0</td>\n",
       "      <td>0</td>\n",
       "      <td>0</td>\n",
       "      <td>1</td>\n",
       "      <td>3</td>\n",
       "      <td>0</td>\n",
       "      <td>furnished</td>\n",
       "    </tr>\n",
       "    <tr>\n",
       "      <th>2</th>\n",
       "      <td>12250000</td>\n",
       "      <td>9960</td>\n",
       "      <td>3</td>\n",
       "      <td>2</td>\n",
       "      <td>2</td>\n",
       "      <td>1</td>\n",
       "      <td>0</td>\n",
       "      <td>1</td>\n",
       "      <td>0</td>\n",
       "      <td>0</td>\n",
       "      <td>2</td>\n",
       "      <td>1</td>\n",
       "      <td>semi-furnished</td>\n",
       "    </tr>\n",
       "    <tr>\n",
       "      <th>3</th>\n",
       "      <td>12215000</td>\n",
       "      <td>7500</td>\n",
       "      <td>4</td>\n",
       "      <td>2</td>\n",
       "      <td>2</td>\n",
       "      <td>1</td>\n",
       "      <td>0</td>\n",
       "      <td>1</td>\n",
       "      <td>0</td>\n",
       "      <td>1</td>\n",
       "      <td>3</td>\n",
       "      <td>1</td>\n",
       "      <td>furnished</td>\n",
       "    </tr>\n",
       "    <tr>\n",
       "      <th>4</th>\n",
       "      <td>11410000</td>\n",
       "      <td>7420</td>\n",
       "      <td>4</td>\n",
       "      <td>1</td>\n",
       "      <td>2</td>\n",
       "      <td>1</td>\n",
       "      <td>1</td>\n",
       "      <td>1</td>\n",
       "      <td>0</td>\n",
       "      <td>1</td>\n",
       "      <td>2</td>\n",
       "      <td>0</td>\n",
       "      <td>furnished</td>\n",
       "    </tr>\n",
       "  </tbody>\n",
       "</table>\n",
       "</div>"
      ],
      "text/plain": [
       "      price  area  bedrooms  bathrooms  stories  mainroad  guestroom  \\\n",
       "0  13300000  7420         4          2        3         1          0   \n",
       "1  12250000  8960         4          4        4         1          0   \n",
       "2  12250000  9960         3          2        2         1          0   \n",
       "3  12215000  7500         4          2        2         1          0   \n",
       "4  11410000  7420         4          1        2         1          1   \n",
       "\n",
       "   basement  hotwaterheating  airconditioning  parking  prefarea  \\\n",
       "0         0                0                1        2         1   \n",
       "1         0                0                1        3         0   \n",
       "2         1                0                0        2         1   \n",
       "3         1                0                1        3         1   \n",
       "4         1                0                1        2         0   \n",
       "\n",
       "  furnishingstatus  \n",
       "0        furnished  \n",
       "1        furnished  \n",
       "2   semi-furnished  \n",
       "3        furnished  \n",
       "4        furnished  "
      ]
     },
     "execution_count": 643,
     "metadata": {},
     "output_type": "execute_result"
    }
   ],
   "source": [
    "housing.mainroad = housing.mainroad.map(dict(yes=1,no=0))\n",
    "housing.guestroom = housing.guestroom.map(dict(yes=1,no=0))\n",
    "housing.basement = housing.basement.map(dict(yes=1,no=0))\n",
    "housing.hotwaterheating = housing.hotwaterheating.map(dict(yes=1,no=0))\n",
    "housing.airconditioning = housing.airconditioning.map(dict(yes=1,no=0))\n",
    "housing.prefarea = housing.prefarea.map(dict(yes=1,no=0))\n",
    "\n",
    "housing.head(5)"
   ]
  },
  {
   "cell_type": "code",
   "execution_count": 644,
   "id": "bb3d1b1e-cb48-4e53-b37a-d3898cdb2d88",
   "metadata": {},
   "outputs": [
    {
     "data": {
      "text/plain": [
       "(545, 13)"
      ]
     },
     "execution_count": 644,
     "metadata": {},
     "output_type": "execute_result"
    }
   ],
   "source": [
    "housing.shape"
   ]
  },
  {
   "cell_type": "code",
   "execution_count": 645,
   "id": "257c633d-a5b8-4447-aeaa-9b8f35f55b6b",
   "metadata": {},
   "outputs": [
    {
     "data": {
      "text/html": [
       "<div>\n",
       "<style scoped>\n",
       "    .dataframe tbody tr th:only-of-type {\n",
       "        vertical-align: middle;\n",
       "    }\n",
       "\n",
       "    .dataframe tbody tr th {\n",
       "        vertical-align: top;\n",
       "    }\n",
       "\n",
       "    .dataframe thead th {\n",
       "        text-align: right;\n",
       "    }\n",
       "</style>\n",
       "<table border=\"1\" class=\"dataframe\">\n",
       "  <thead>\n",
       "    <tr style=\"text-align: right;\">\n",
       "      <th></th>\n",
       "      <th>price</th>\n",
       "      <th>area</th>\n",
       "      <th>bathrooms</th>\n",
       "      <th>bedrooms</th>\n",
       "      <th>stories</th>\n",
       "      <th>parking</th>\n",
       "    </tr>\n",
       "  </thead>\n",
       "  <tbody>\n",
       "    <tr>\n",
       "      <th>0</th>\n",
       "      <td>13300000</td>\n",
       "      <td>7420</td>\n",
       "      <td>2</td>\n",
       "      <td>4</td>\n",
       "      <td>3</td>\n",
       "      <td>2</td>\n",
       "    </tr>\n",
       "    <tr>\n",
       "      <th>1</th>\n",
       "      <td>12250000</td>\n",
       "      <td>8960</td>\n",
       "      <td>4</td>\n",
       "      <td>4</td>\n",
       "      <td>4</td>\n",
       "      <td>3</td>\n",
       "    </tr>\n",
       "    <tr>\n",
       "      <th>2</th>\n",
       "      <td>12250000</td>\n",
       "      <td>9960</td>\n",
       "      <td>2</td>\n",
       "      <td>3</td>\n",
       "      <td>2</td>\n",
       "      <td>2</td>\n",
       "    </tr>\n",
       "    <tr>\n",
       "      <th>3</th>\n",
       "      <td>12215000</td>\n",
       "      <td>7500</td>\n",
       "      <td>2</td>\n",
       "      <td>4</td>\n",
       "      <td>2</td>\n",
       "      <td>3</td>\n",
       "    </tr>\n",
       "    <tr>\n",
       "      <th>4</th>\n",
       "      <td>11410000</td>\n",
       "      <td>7420</td>\n",
       "      <td>1</td>\n",
       "      <td>4</td>\n",
       "      <td>2</td>\n",
       "      <td>2</td>\n",
       "    </tr>\n",
       "  </tbody>\n",
       "</table>\n",
       "</div>"
      ],
      "text/plain": [
       "      price  area  bathrooms  bedrooms  stories  parking\n",
       "0  13300000  7420          2         4        3        2\n",
       "1  12250000  8960          4         4        4        3\n",
       "2  12250000  9960          2         3        2        2\n",
       "3  12215000  7500          2         4        2        3\n",
       "4  11410000  7420          1         4        2        2"
      ]
     },
     "execution_count": 645,
     "metadata": {},
     "output_type": "execute_result"
    }
   ],
   "source": [
    "num_vars=['price', 'area','bathrooms','bedrooms', 'stories', 'parking']\n",
    "data_set=housing[num_vars]\n",
    "data_set.head()"
   ]
  },
  {
   "cell_type": "code",
   "execution_count": 646,
   "id": "6b4a8c6e-e1c0-4c0c-92e2-3dd54d4a0de4",
   "metadata": {},
   "outputs": [
    {
     "data": {
      "text/plain": [
       "(545, 6)"
      ]
     },
     "execution_count": 646,
     "metadata": {},
     "output_type": "execute_result"
    }
   ],
   "source": [
    "\n",
    "data_set.shape\n"
   ]
  },
  {
   "cell_type": "code",
   "execution_count": 647,
   "id": "8284d19f-d39b-4341-92a3-7dfeec6dd912",
   "metadata": {},
   "outputs": [
    {
     "name": "stderr",
     "output_type": "stream",
     "text": [
      "C:\\Users\\nrashvan\\AppData\\Local\\Temp\\1\\ipykernel_11508\\1593678094.py:2: SettingWithCopyWarning: \n",
      "A value is trying to be set on a copy of a slice from a DataFrame.\n",
      "Try using .loc[row_indexer,col_indexer] = value instead\n",
      "\n",
      "See the caveats in the documentation: https://pandas.pydata.org/pandas-docs/stable/user_guide/indexing.html#returning-a-view-versus-a-copy\n",
      "  data_set[num_vars]= scaler.fit_transform(data_set[num_vars])\n"
     ]
    },
    {
     "data": {
      "text/html": [
       "<div>\n",
       "<style scoped>\n",
       "    .dataframe tbody tr th:only-of-type {\n",
       "        vertical-align: middle;\n",
       "    }\n",
       "\n",
       "    .dataframe tbody tr th {\n",
       "        vertical-align: top;\n",
       "    }\n",
       "\n",
       "    .dataframe thead th {\n",
       "        text-align: right;\n",
       "    }\n",
       "</style>\n",
       "<table border=\"1\" class=\"dataframe\">\n",
       "  <thead>\n",
       "    <tr style=\"text-align: right;\">\n",
       "      <th></th>\n",
       "      <th>price</th>\n",
       "      <th>area</th>\n",
       "      <th>bathrooms</th>\n",
       "      <th>bedrooms</th>\n",
       "      <th>stories</th>\n",
       "      <th>parking</th>\n",
       "    </tr>\n",
       "  </thead>\n",
       "  <tbody>\n",
       "    <tr>\n",
       "      <th>0</th>\n",
       "      <td>1.000000</td>\n",
       "      <td>0.396564</td>\n",
       "      <td>0.333333</td>\n",
       "      <td>0.6</td>\n",
       "      <td>0.666667</td>\n",
       "      <td>0.666667</td>\n",
       "    </tr>\n",
       "    <tr>\n",
       "      <th>1</th>\n",
       "      <td>0.909091</td>\n",
       "      <td>0.502405</td>\n",
       "      <td>1.000000</td>\n",
       "      <td>0.6</td>\n",
       "      <td>1.000000</td>\n",
       "      <td>1.000000</td>\n",
       "    </tr>\n",
       "    <tr>\n",
       "      <th>2</th>\n",
       "      <td>0.909091</td>\n",
       "      <td>0.571134</td>\n",
       "      <td>0.333333</td>\n",
       "      <td>0.4</td>\n",
       "      <td>0.333333</td>\n",
       "      <td>0.666667</td>\n",
       "    </tr>\n",
       "    <tr>\n",
       "      <th>3</th>\n",
       "      <td>0.906061</td>\n",
       "      <td>0.402062</td>\n",
       "      <td>0.333333</td>\n",
       "      <td>0.6</td>\n",
       "      <td>0.333333</td>\n",
       "      <td>1.000000</td>\n",
       "    </tr>\n",
       "    <tr>\n",
       "      <th>4</th>\n",
       "      <td>0.836364</td>\n",
       "      <td>0.396564</td>\n",
       "      <td>0.000000</td>\n",
       "      <td>0.6</td>\n",
       "      <td>0.333333</td>\n",
       "      <td>0.666667</td>\n",
       "    </tr>\n",
       "  </tbody>\n",
       "</table>\n",
       "</div>"
      ],
      "text/plain": [
       "      price      area  bathrooms  bedrooms   stories   parking\n",
       "0  1.000000  0.396564   0.333333       0.6  0.666667  0.666667\n",
       "1  0.909091  0.502405   1.000000       0.6  1.000000  1.000000\n",
       "2  0.909091  0.571134   0.333333       0.4  0.333333  0.666667\n",
       "3  0.906061  0.402062   0.333333       0.6  0.333333  1.000000\n",
       "4  0.836364  0.396564   0.000000       0.6  0.333333  0.666667"
      ]
     },
     "execution_count": 647,
     "metadata": {},
     "output_type": "execute_result"
    }
   ],
   "source": [
    "scaler = MinMaxScaler()\n",
    "data_set[num_vars]= scaler.fit_transform(data_set[num_vars])\n",
    "data_set.head()"
   ]
  },
  {
   "cell_type": "code",
   "execution_count": 648,
   "id": "2ed5b0f9-71b1-477e-b096-ea44b9c05b1f",
   "metadata": {},
   "outputs": [
    {
     "data": {
      "text/plain": [
       "array([[0.39656357, 0.33333333, 0.6       , 0.66666667, 0.66666667],\n",
       "       [0.5024055 , 1.        , 0.6       , 1.        , 1.        ],\n",
       "       [0.57113402, 0.33333333, 0.4       , 0.33333333, 0.66666667],\n",
       "       ...,\n",
       "       [0.13539519, 0.        , 0.2       , 0.        , 0.        ],\n",
       "       [0.08659794, 0.        , 0.4       , 0.        , 0.        ],\n",
       "       [0.15120275, 0.        , 0.4       , 0.33333333, 0.        ]])"
      ]
     },
     "execution_count": 648,
     "metadata": {},
     "output_type": "execute_result"
    }
   ],
   "source": [
    "X = data_set.iloc[:, 1:6].values\n",
    "X.shape\n",
    "X"
   ]
  },
  {
   "cell_type": "code",
   "execution_count": 649,
   "id": "8f714d10-f969-48f9-a9d8-70cd967e3896",
   "metadata": {},
   "outputs": [
    {
     "data": {
      "text/plain": [
       "(545,)"
      ]
     },
     "execution_count": 649,
     "metadata": {},
     "output_type": "execute_result"
    }
   ],
   "source": [
    "Y = data_set.iloc[:, 0].values\n",
    "Y.shape"
   ]
  },
  {
   "cell_type": "code",
   "execution_count": 650,
   "id": "88d8d819-12d7-4a6b-b002-994142217be4",
   "metadata": {},
   "outputs": [
    {
     "data": {
      "text/plain": [
       "tensor([[0.3966, 0.3333, 0.6000, 0.6667, 0.6667],\n",
       "        [0.5024, 1.0000, 0.6000, 1.0000, 1.0000],\n",
       "        [0.5711, 0.3333, 0.4000, 0.3333, 0.6667],\n",
       "        ...,\n",
       "        [0.1354, 0.0000, 0.2000, 0.0000, 0.0000],\n",
       "        [0.0866, 0.0000, 0.4000, 0.0000, 0.0000],\n",
       "        [0.1512, 0.0000, 0.4000, 0.3333, 0.0000]], dtype=torch.float64)"
      ]
     },
     "execution_count": 650,
     "metadata": {},
     "output_type": "execute_result"
    }
   ],
   "source": [
    "x=torch.tensor(X)\n",
    "y=torch.tensor(Y)\n",
    "x"
   ]
  },
  {
   "cell_type": "code",
   "execution_count": 651,
   "id": "0d236fb2-1f7d-4f71-8183-db24734db88f",
   "metadata": {},
   "outputs": [
    {
     "data": {
      "text/plain": [
       "torch.Size([545, 5])"
      ]
     },
     "execution_count": 651,
     "metadata": {},
     "output_type": "execute_result"
    }
   ],
   "source": [
    "x.size()"
   ]
  },
  {
   "cell_type": "code",
   "execution_count": 652,
   "id": "8d8f1407-be53-4ed1-b936-6de64b7f9508",
   "metadata": {},
   "outputs": [
    {
     "data": {
      "text/plain": [
       "torch.Size([545])"
      ]
     },
     "execution_count": 652,
     "metadata": {},
     "output_type": "execute_result"
    }
   ],
   "source": [
    "y.size()"
   ]
  },
  {
   "cell_type": "code",
   "execution_count": 653,
   "id": "a8da345f-e337-4c3f-a5e1-4cf42502aecf",
   "metadata": {},
   "outputs": [
    {
     "data": {
      "text/plain": [
       "torch.Size([545, 1])"
      ]
     },
     "execution_count": 653,
     "metadata": {},
     "output_type": "execute_result"
    }
   ],
   "source": [
    "y =y.reshape(-1,1)\n",
    "y.size()"
   ]
  },
  {
   "cell_type": "code",
   "execution_count": 654,
   "id": "09b2832a-0805-4e0f-8079-945e0b74ff3d",
   "metadata": {},
   "outputs": [],
   "source": [
    "def model(X5,X4, X3, X2, X1, w5, w4, w3 ,w2, w1, b):\n",
    "    return w5 * X5 + w4 * X4 + w3 * X3 + w2 * X2 + w1 * X1 + b"
   ]
  },
  {
   "cell_type": "code",
   "execution_count": 655,
   "id": "791e008a-cc84-4616-a8c6-5414e3e87277",
   "metadata": {},
   "outputs": [],
   "source": [
    "def loss_fn(y_p, y):\n",
    "    squared_diffs=(y_p - y) **2\n",
    "    return squared_diffs.mean()"
   ]
  },
  {
   "cell_type": "code",
   "execution_count": 656,
   "id": "f6db0cf5-8bc1-48c5-95d5-1d86af4aba21",
   "metadata": {},
   "outputs": [
    {
     "data": {
      "text/plain": [
       "109"
      ]
     },
     "execution_count": 656,
     "metadata": {},
     "output_type": "execute_result"
    }
   ],
   "source": [
    "n_samples= x.shape[0]\n",
    "n_val= int(0.2 * n_samples)\n",
    "\n",
    "shuffled_indices= torch.randperm(n_samples)\n",
    "\n",
    "train_indices= shuffled_indices[:-n_val]\n",
    "val_indices= shuffled_indices[-n_val:]\n",
    "\n",
    "n_samples\n",
    "n_val\n"
   ]
  },
  {
   "cell_type": "code",
   "execution_count": 657,
   "id": "c9fbf607-c53f-4ad9-8b8f-67c6026fed62",
   "metadata": {},
   "outputs": [
    {
     "data": {
      "text/plain": [
       "torch.Size([436, 1])"
      ]
     },
     "execution_count": 657,
     "metadata": {},
     "output_type": "execute_result"
    }
   ],
   "source": [
    "train_x= x[train_indices]\n",
    "train_y=y[train_indices]\n",
    "\n",
    "val_x= x[val_indices]\n",
    "val_y= y[val_indices]\n",
    "\n",
    "train_x_n= 0.1 * train_x\n",
    "val_x_n= 0.1 * val_x\n",
    "\n",
    "\n",
    "train_y.size()\n"
   ]
  },
  {
   "cell_type": "code",
   "execution_count": 658,
   "id": "67663d8c-5fe0-47cd-a43f-05e7277a4b2e",
   "metadata": {},
   "outputs": [
    {
     "data": {
      "text/plain": [
       "tensor([0.0135, 0.0162, 0.0261, 0.0443, 0.0092, 0.0093, 0.0093, 0.0091, 0.0173,\n",
       "        0.0144, 0.0093, 0.0340, 0.0216, 0.0302, 0.0332, 0.0324, 0.0299, 0.0189,\n",
       "        0.0299, 0.0126, 0.0368, 0.0313, 0.0072, 0.0223, 0.0295, 0.0215, 0.0175,\n",
       "        0.0105, 0.0181, 0.0442, 0.0216, 0.0328, 0.0423, 0.0137, 0.0265, 0.0378,\n",
       "        0.0299, 0.0299, 0.0113, 0.0416, 0.0165, 0.0066, 0.0184, 0.0128, 0.0099,\n",
       "        0.0291, 0.0232, 0.0265, 0.0170, 0.0162, 0.0332, 0.0145, 0.0548, 0.0179,\n",
       "        0.0165, 0.0251, 0.0323, 0.0384, 0.0145, 0.0129, 0.0354, 0.0140, 0.0035,\n",
       "        0.0415, 0.0265, 0.0235, 0.0170, 0.0043, 0.0242, 0.0093, 0.0164, 0.1000,\n",
       "        0.0189, 0.0386, 0.0134, 0.0137, 0.0164, 0.0414, 0.0113, 0.0265, 0.0127,\n",
       "        0.0122, 0.0058, 0.0196, 0.0122, 0.0081, 0.0240, 0.0356, 0.0398, 0.0196,\n",
       "        0.0462, 0.0265, 0.0402, 0.0167, 0.0078, 0.0196, 0.0126, 0.0196, 0.0390,\n",
       "        0.0287, 0.0200, 0.0203, 0.0034, 0.0101, 0.0348, 0.0213, 0.0103, 0.0265,\n",
       "        0.0072, 0.0093, 0.0261, 0.0454, 0.0159, 0.0336, 0.0206, 0.0440, 0.0299,\n",
       "        0.0340, 0.0168, 0.0340, 0.0368, 0.0137, 0.0252, 0.0151, 0.0093, 0.0034,\n",
       "        0.0095, 0.0299, 0.0299, 0.0203, 0.0021, 0.0196, 0.0368, 0.0303, 0.0251,\n",
       "        0.0299, 0.0285, 0.0265, 0.0137, 0.0124, 0.0127, 0.0271, 0.0159, 0.0230,\n",
       "        0.0328, 0.0100, 0.0244, 0.0167, 0.0241, 0.0436, 0.0162, 0.0302, 0.0216,\n",
       "        0.0134, 0.0230, 0.0167, 0.0296, 0.0124, 0.0184, 0.0105, 0.0111, 0.0021,\n",
       "        0.0333, 0.0258, 0.0128, 0.0105, 0.0054, 0.0348, 0.0454, 0.0155, 0.0361,\n",
       "        0.0130, 0.0337, 0.0151, 0.0324, 0.0227, 0.0185, 0.0136, 0.0197, 0.0162,\n",
       "        0.0227, 0.0655, 0.0196, 0.0464, 0.0497, 0.0230, 0.0148, 0.0218, 0.0673,\n",
       "        0.0402, 0.0197, 0.0129, 0.0299, 0.0564, 0.0124, 0.0299, 0.0084, 0.0218,\n",
       "        0.0196, 0.0018, 0.0258, 0.0134, 0.0374, 0.0608, 0.0124, 0.0335, 0.0471,\n",
       "        0.0622, 0.0540, 0.0164, 0.0128, 0.0321, 0.0136, 0.0337, 0.0298, 0.0340,\n",
       "        0.0285, 0.0299, 0.0196, 0.0162, 0.0126, 0.0126, 0.0265, 0.0103, 0.0421,\n",
       "        0.0105, 0.0173, 0.0219, 0.0258, 0.0105, 0.0291, 0.0159, 0.0136, 0.0255,\n",
       "        0.0146, 0.0093, 0.0306, 0.0052, 0.0299, 0.0093, 0.0368, 0.0136, 0.0087,\n",
       "        0.0324, 0.0151, 0.0132, 0.0472, 0.0225, 0.0299, 0.0592, 0.0051, 0.0126,\n",
       "        0.0159, 0.0505, 0.0464, 0.0227, 0.0344, 0.0159, 0.0099, 0.0157, 0.0034,\n",
       "        0.0129, 0.0134, 0.0344, 0.0340, 0.0363, 0.0144, 0.0162, 0.0416, 0.0396,\n",
       "        0.0168, 0.0397, 0.0109, 0.0113, 0.0164, 0.0216, 0.0034, 0.0397, 0.0082,\n",
       "        0.0219, 0.0137, 0.0299, 0.0025, 0.0153, 0.0203, 0.0060, 0.0124, 0.0068,\n",
       "        0.0104, 0.0133, 0.0036, 0.0137, 0.0285, 0.0083, 0.0164, 0.0278, 0.0299,\n",
       "        0.0186, 0.0090, 0.0162, 0.0299, 0.0233, 0.0162, 0.0340, 0.0368, 0.0361,\n",
       "        0.0003, 0.0299, 0.0134, 0.0097, 0.0227, 0.0093, 0.0168, 0.0134, 0.0136,\n",
       "        0.0196, 0.0292, 0.0129, 0.0164, 0.0329, 0.0093, 0.0251, 0.0674, 0.0157,\n",
       "        0.0105, 0.0075, 0.0599, 0.0274, 0.0340, 0.0608, 0.0299, 0.0062, 0.0136,\n",
       "        0.0057, 0.0184, 0.0109, 0.0117, 0.0476, 0.0093, 0.0196, 0.0162, 0.0369,\n",
       "        0.0196, 0.0214, 0.0098, 0.0141, 0.0454, 0.0258, 0.0144, 0.0071, 0.0105,\n",
       "        0.0101, 0.0168, 0.0148, 0.0197, 0.0381, 0.0103, 0.0401, 0.0187, 0.0282,\n",
       "        0.0571, 0.0258, 0.0205, 0.0101, 0.0378, 0.0142, 0.0244, 0.0476, 0.0151,\n",
       "        0.0096, 0.0505, 0.0159, 0.0178, 0.0435, 0.0080, 0.0341, 0.0000, 0.0046,\n",
       "        0.0340, 0.0381, 0.0336, 0.0129, 0.0066, 0.0144, 0.0189, 0.0299, 0.0121,\n",
       "        0.0222, 0.0321, 0.0137, 0.0205, 0.0502, 0.0034, 0.0328, 0.0165, 0.0491,\n",
       "        0.0162, 0.0186, 0.0196, 0.0400, 0.0379, 0.0333, 0.0186, 0.0137, 0.0103,\n",
       "        0.0127, 0.0134, 0.0230, 0.0345, 0.0560, 0.0127, 0.0505, 0.0151, 0.0223,\n",
       "        0.0122, 0.0590, 0.0184, 0.0320, 0.0222, 0.0079, 0.0167, 0.0292, 0.0341,\n",
       "        0.0085, 0.0464, 0.0079, 0.0093, 0.0447, 0.0109, 0.0069, 0.0454, 0.0137,\n",
       "        0.0324, 0.0179, 0.0409, 0.0127], dtype=torch.float64)"
      ]
     },
     "execution_count": 658,
     "metadata": {},
     "output_type": "execute_result"
    }
   ],
   "source": [
    "train_x_n[:,0]"
   ]
  },
  {
   "cell_type": "code",
   "execution_count": 659,
   "id": "62ef60c1-4707-42c4-87d1-a94c192428f1",
   "metadata": {},
   "outputs": [
    {
     "data": {
      "text/plain": [
       "torch.Size([436, 1])"
      ]
     },
     "execution_count": 659,
     "metadata": {},
     "output_type": "execute_result"
    }
   ],
   "source": [
    "train_y.size()"
   ]
  },
  {
   "cell_type": "code",
   "execution_count": 660,
   "id": "e2896109-9188-4c9a-83d1-2139d06e23cd",
   "metadata": {},
   "outputs": [],
   "source": [
    "def training_loop(n_epochs, optimizer, params, train_x, val_x, train_y, val_y):\n",
    "    for epoch in range (1, n_epochs +1):\n",
    "        \n",
    "        train_y_p=model(train_x[:,4],  train_x[:,3], train_x[:,2], train_x[:,1], train_x[:,0],*params)\n",
    "        train_loss= loss_fn(train_y_p, train_y)\n",
    "        \n",
    "        val_y_p=model(val_x[:,4], val_x[:,3], val_x[:,2],val_x[:,1],val_x[:,0],*params)\n",
    "        val_loss=loss_fn(val_y_p,val_y)\n",
    "\n",
    "        optimizer.zero_grad()\n",
    "        train_loss.backward()\n",
    "        optimizer.step()\n",
    "        \n",
    "        if epoch <=3 or epoch % 500 ==0:\n",
    "       \n",
    "            print(f\"Epoch {epoch}, Training loss {train_loss.item():.4f}, \"\n",
    "                  f\" Validation loss {val_loss.item():.4f} \")\n",
    "            \n",
    "    return params"
   ]
  },
  {
   "cell_type": "code",
   "execution_count": 661,
   "id": "3d2b26b0-fd9c-41e0-a19a-3122992c80d9",
   "metadata": {},
   "outputs": [
    {
     "name": "stdout",
     "output_type": "stream",
     "text": [
      "Epoch 1, Training loss 0.0494,  Validation loss 0.0495 \n",
      "Epoch 2, Training loss 0.0424,  Validation loss 0.0428 \n",
      "Epoch 3, Training loss 0.0380,  Validation loss 0.0385 \n",
      "Epoch 500, Training loss 0.0293,  Validation loss 0.0307 \n",
      "Epoch 1000, Training loss 0.0287,  Validation loss 0.0302 \n",
      "Epoch 1500, Training loss 0.0282,  Validation loss 0.0297 \n",
      "Epoch 2000, Training loss 0.0278,  Validation loss 0.0294 \n",
      "Epoch 2500, Training loss 0.0275,  Validation loss 0.0291 \n",
      "Epoch 3000, Training loss 0.0272,  Validation loss 0.0288 \n"
     ]
    },
    {
     "data": {
      "text/plain": [
       "tensor([0.4825, 0.4247, 0.7368, 0.6686, 0.7778, 0.1851], requires_grad=True)"
      ]
     },
     "execution_count": 661,
     "metadata": {},
     "output_type": "execute_result"
    }
   ],
   "source": [
    "import torch.optim as optim\n",
    "params=torch.tensor([1.0, 1.0, 1.0, 1.0, 1.0, 0.0], requires_grad=True)\n",
    "learning_rate=1e-1\n",
    "optimizer= optim.SGD([params], lr=learning_rate)\n",
    "\n",
    "\n",
    "training_loop( n_epochs=3000, optimizer=optimizer,params=params, train_x= train_x_n,\n",
    "              val_x=val_x_n,train_y=train_y, val_y= val_y)"
   ]
  },
  {
   "cell_type": "code",
   "execution_count": 662,
   "id": "88476e4b-a0b1-4625-bbf3-b87890bdf91a",
   "metadata": {},
   "outputs": [
    {
     "name": "stdout",
     "output_type": "stream",
     "text": [
      "Epoch 1, Training loss 0.0494,  Validation loss 0.0495 \n",
      "Epoch 2, Training loss 0.0486,  Validation loss 0.0488 \n",
      "Epoch 3, Training loss 0.0479,  Validation loss 0.0481 \n",
      "Epoch 500, Training loss 0.0300,  Validation loss 0.0312 \n",
      "Epoch 1000, Training loss 0.0299,  Validation loss 0.0312 \n",
      "Epoch 1500, Training loss 0.0298,  Validation loss 0.0311 \n",
      "Epoch 2000, Training loss 0.0298,  Validation loss 0.0310 \n",
      "Epoch 2500, Training loss 0.0297,  Validation loss 0.0310 \n",
      "Epoch 3000, Training loss 0.0296,  Validation loss 0.0309 \n"
     ]
    },
    {
     "data": {
      "text/plain": [
       "tensor([0.9356, 0.9271, 0.9719, 0.9599, 0.9757, 0.1445], requires_grad=True)"
      ]
     },
     "execution_count": 662,
     "metadata": {},
     "output_type": "execute_result"
    }
   ],
   "source": [
    "import torch.optim as optim\n",
    "params=torch.tensor([1.0, 1.0, 1.0, 1.0, 1.0, 0.0], requires_grad=True)\n",
    "learning_rate=1e-2\n",
    "optimizer= optim.SGD([params], lr=learning_rate)\n",
    "\n",
    "\n",
    "training_loop( n_epochs=3000, optimizer=optimizer,params=params, train_x= train_x_n,\n",
    "              val_x=val_x_n,train_y=train_y, val_y= val_y)"
   ]
  },
  {
   "cell_type": "code",
   "execution_count": 663,
   "id": "320d7164-aeb0-40ed-89a0-0783b3aa0e18",
   "metadata": {},
   "outputs": [
    {
     "name": "stdout",
     "output_type": "stream",
     "text": [
      "Epoch 1, Training loss 0.0494,  Validation loss 0.0495 \n",
      "Epoch 2, Training loss 0.0493,  Validation loss 0.0494 \n",
      "Epoch 3, Training loss 0.0493,  Validation loss 0.0494 \n",
      "Epoch 500, Training loss 0.0327,  Validation loss 0.0335 \n",
      "Epoch 1000, Training loss 0.0304,  Validation loss 0.0315 \n",
      "Epoch 1500, Training loss 0.0301,  Validation loss 0.0313 \n",
      "Epoch 2000, Training loss 0.0301,  Validation loss 0.0313 \n",
      "Epoch 2500, Training loss 0.0300,  Validation loss 0.0313 \n",
      "Epoch 3000, Training loss 0.0300,  Validation loss 0.0313 \n"
     ]
    },
    {
     "data": {
      "text/plain": [
       "tensor([0.9961, 0.9959, 1.0020, 0.9971, 1.0004, 0.1388], requires_grad=True)"
      ]
     },
     "execution_count": 663,
     "metadata": {},
     "output_type": "execute_result"
    }
   ],
   "source": [
    "import torch.optim as optim\n",
    "params=torch.tensor([1.0, 1.0, 1.0, 1.0, 1.0, 0.0], requires_grad=True)\n",
    "learning_rate=1e-3\n",
    "optimizer= optim.SGD([params], lr=learning_rate)\n",
    "\n",
    "\n",
    "training_loop( n_epochs=3000, optimizer=optimizer,params=params, train_x= train_x_n,\n",
    "              val_x=val_x_n,train_y=train_y, val_y= val_y)"
   ]
  },
  {
   "cell_type": "code",
   "execution_count": 664,
   "id": "107f7d94-3c77-408e-b16f-8e1459a067c1",
   "metadata": {},
   "outputs": [
    {
     "name": "stdout",
     "output_type": "stream",
     "text": [
      "Epoch 1, Training loss 0.0494,  Validation loss 0.0495 \n",
      "Epoch 2, Training loss 0.0494,  Validation loss 0.0495 \n",
      "Epoch 3, Training loss 0.0494,  Validation loss 0.0495 \n",
      "Epoch 500, Training loss 0.0459,  Validation loss 0.0461 \n",
      "Epoch 1000, Training loss 0.0430,  Validation loss 0.0433 \n",
      "Epoch 1500, Training loss 0.0407,  Validation loss 0.0411 \n",
      "Epoch 2000, Training loss 0.0387,  Validation loss 0.0392 \n",
      "Epoch 2500, Training loss 0.0372,  Validation loss 0.0377 \n",
      "Epoch 3000, Training loss 0.0359,  Validation loss 0.0365 \n"
     ]
    },
    {
     "data": {
      "text/plain": [
       "tensor([1.0007, 1.0010, 1.0021, 1.0002, 1.0012, 0.0627], requires_grad=True)"
      ]
     },
     "execution_count": 664,
     "metadata": {},
     "output_type": "execute_result"
    }
   ],
   "source": [
    "import torch.optim as optim\n",
    "params=torch.tensor([1.0, 1.0, 1.0, 1.0, 1.0, 0.0], requires_grad=True)\n",
    "learning_rate=1e-4\n",
    "optimizer= optim.SGD([params], lr=learning_rate)\n",
    "\n",
    "\n",
    "training_loop( n_epochs=3000, optimizer=optimizer,params=params, train_x= train_x_n,\n",
    "              val_x=val_x_n,train_y=train_y, val_y= val_y)"
   ]
  },
  {
   "cell_type": "code",
   "execution_count": 665,
   "id": "b691d8a0-2390-4960-8d62-811b634c83b5",
   "metadata": {},
   "outputs": [
    {
     "name": "stdout",
     "output_type": "stream",
     "text": [
      "Epoch 1, Training loss 0.0494,  Validation loss 0.0495 \n",
      "Epoch 2, Training loss 0.0494,  Validation loss 0.0495 \n",
      "Epoch 3, Training loss 0.0493,  Validation loss 0.0495 \n",
      "Epoch 500, Training loss 0.0383,  Validation loss 0.0387 \n",
      "Epoch 1000, Training loss 0.0332,  Validation loss 0.0339 \n",
      "Epoch 1500, Training loss 0.0311,  Validation loss 0.0321 \n",
      "Epoch 2000, Training loss 0.0302,  Validation loss 0.0314 \n",
      "Epoch 2500, Training loss 0.0297,  Validation loss 0.0310 \n",
      "Epoch 3000, Training loss 0.0293,  Validation loss 0.0307 \n"
     ]
    },
    {
     "data": {
      "text/plain": [
       "tensor([0.8587, 0.8822, 1.0743, 0.7765, 1.0410, 0.1399], requires_grad=True)"
      ]
     },
     "execution_count": 665,
     "metadata": {},
     "output_type": "execute_result"
    }
   ],
   "source": [
    "import torch.optim as optim\n",
    "params=torch.tensor([1.0, 1.0, 1.0, 1.0, 1.0, 0.0], requires_grad=True)\n",
    "learning_rate=1e-4\n",
    "optimizer= optim.Adam([params], lr=learning_rate)\n",
    "\n",
    "\n",
    "training_loop( n_epochs=3000, optimizer=optimizer,params=params, train_x= train_x_n,\n",
    "              val_x=val_x_n,train_y=train_y, val_y= val_y)"
   ]
  }
 ],
 "metadata": {
  "kernelspec": {
   "display_name": "Python 3 (ipykernel)",
   "language": "python",
   "name": "python3"
  },
  "language_info": {
   "codemirror_mode": {
    "name": "ipython",
    "version": 3
   },
   "file_extension": ".py",
   "mimetype": "text/x-python",
   "name": "python",
   "nbconvert_exporter": "python",
   "pygments_lexer": "ipython3",
   "version": "3.9.12"
  }
 },
 "nbformat": 4,
 "nbformat_minor": 5
}
