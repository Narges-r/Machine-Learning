{
 "cells": [
  {
   "cell_type": "code",
   "execution_count": 156,
   "id": "20193819-95e1-4880-9521-38f3411be76e",
   "metadata": {},
   "outputs": [],
   "source": [
    "import numpy as np\n",
    "import pandas as pd\n",
    "import numpy as np\n",
    "import matplotlib.pyplot as plt\n",
    "import pandas as pd\n",
    "from sklearn.model_selection import train_test_split\n",
    "import seaborn as sns\n",
    "from sklearn import metrics\n",
    "from sklearn.preprocessing import StandardScaler\n",
    "from sklearn.metrics import mean_squared_error\n",
    "import torch.nn as nn\n",
    "from __future__ import print_function\n",
    "import torch\n",
    "import torch.optim as optim\n",
    "from sklearn.preprocessing import MinMaxScaler, StandardScaler"
   ]
  },
  {
   "cell_type": "code",
   "execution_count": 157,
   "id": "0c1e271d-b875-4105-81fc-2755402079c1",
   "metadata": {},
   "outputs": [
    {
     "data": {
      "text/html": [
       "<div>\n",
       "<style scoped>\n",
       "    .dataframe tbody tr th:only-of-type {\n",
       "        vertical-align: middle;\n",
       "    }\n",
       "\n",
       "    .dataframe tbody tr th {\n",
       "        vertical-align: top;\n",
       "    }\n",
       "\n",
       "    .dataframe thead th {\n",
       "        text-align: right;\n",
       "    }\n",
       "</style>\n",
       "<table border=\"1\" class=\"dataframe\">\n",
       "  <thead>\n",
       "    <tr style=\"text-align: right;\">\n",
       "      <th></th>\n",
       "      <th>price</th>\n",
       "      <th>area</th>\n",
       "      <th>bedrooms</th>\n",
       "      <th>bathrooms</th>\n",
       "      <th>stories</th>\n",
       "      <th>mainroad</th>\n",
       "      <th>guestroom</th>\n",
       "      <th>basement</th>\n",
       "      <th>hotwaterheating</th>\n",
       "      <th>airconditioning</th>\n",
       "      <th>parking</th>\n",
       "      <th>prefarea</th>\n",
       "      <th>furnishingstatus</th>\n",
       "    </tr>\n",
       "  </thead>\n",
       "  <tbody>\n",
       "    <tr>\n",
       "      <th>0</th>\n",
       "      <td>13300000</td>\n",
       "      <td>7420</td>\n",
       "      <td>4</td>\n",
       "      <td>2</td>\n",
       "      <td>3</td>\n",
       "      <td>yes</td>\n",
       "      <td>no</td>\n",
       "      <td>no</td>\n",
       "      <td>no</td>\n",
       "      <td>yes</td>\n",
       "      <td>2</td>\n",
       "      <td>yes</td>\n",
       "      <td>furnished</td>\n",
       "    </tr>\n",
       "    <tr>\n",
       "      <th>1</th>\n",
       "      <td>12250000</td>\n",
       "      <td>8960</td>\n",
       "      <td>4</td>\n",
       "      <td>4</td>\n",
       "      <td>4</td>\n",
       "      <td>yes</td>\n",
       "      <td>no</td>\n",
       "      <td>no</td>\n",
       "      <td>no</td>\n",
       "      <td>yes</td>\n",
       "      <td>3</td>\n",
       "      <td>no</td>\n",
       "      <td>furnished</td>\n",
       "    </tr>\n",
       "    <tr>\n",
       "      <th>2</th>\n",
       "      <td>12250000</td>\n",
       "      <td>9960</td>\n",
       "      <td>3</td>\n",
       "      <td>2</td>\n",
       "      <td>2</td>\n",
       "      <td>yes</td>\n",
       "      <td>no</td>\n",
       "      <td>yes</td>\n",
       "      <td>no</td>\n",
       "      <td>no</td>\n",
       "      <td>2</td>\n",
       "      <td>yes</td>\n",
       "      <td>semi-furnished</td>\n",
       "    </tr>\n",
       "    <tr>\n",
       "      <th>3</th>\n",
       "      <td>12215000</td>\n",
       "      <td>7500</td>\n",
       "      <td>4</td>\n",
       "      <td>2</td>\n",
       "      <td>2</td>\n",
       "      <td>yes</td>\n",
       "      <td>no</td>\n",
       "      <td>yes</td>\n",
       "      <td>no</td>\n",
       "      <td>yes</td>\n",
       "      <td>3</td>\n",
       "      <td>yes</td>\n",
       "      <td>furnished</td>\n",
       "    </tr>\n",
       "    <tr>\n",
       "      <th>4</th>\n",
       "      <td>11410000</td>\n",
       "      <td>7420</td>\n",
       "      <td>4</td>\n",
       "      <td>1</td>\n",
       "      <td>2</td>\n",
       "      <td>yes</td>\n",
       "      <td>yes</td>\n",
       "      <td>yes</td>\n",
       "      <td>no</td>\n",
       "      <td>yes</td>\n",
       "      <td>2</td>\n",
       "      <td>no</td>\n",
       "      <td>furnished</td>\n",
       "    </tr>\n",
       "  </tbody>\n",
       "</table>\n",
       "</div>"
      ],
      "text/plain": [
       "      price  area  bedrooms  bathrooms  stories mainroad guestroom basement  \\\n",
       "0  13300000  7420         4          2        3      yes        no       no   \n",
       "1  12250000  8960         4          4        4      yes        no       no   \n",
       "2  12250000  9960         3          2        2      yes        no      yes   \n",
       "3  12215000  7500         4          2        2      yes        no      yes   \n",
       "4  11410000  7420         4          1        2      yes       yes      yes   \n",
       "\n",
       "  hotwaterheating airconditioning  parking prefarea furnishingstatus  \n",
       "0              no             yes        2      yes        furnished  \n",
       "1              no             yes        3       no        furnished  \n",
       "2              no              no        2      yes   semi-furnished  \n",
       "3              no             yes        3      yes        furnished  \n",
       "4              no             yes        2       no        furnished  "
      ]
     },
     "execution_count": 157,
     "metadata": {},
     "output_type": "execute_result"
    }
   ],
   "source": [
    "housing=pd.read_csv('Housing.csv')\n",
    "housing.head(5)"
   ]
  },
  {
   "cell_type": "code",
   "execution_count": 158,
   "id": "a7cee2c1-1f48-4daa-a3d4-24a6e033facb",
   "metadata": {},
   "outputs": [
    {
     "data": {
      "text/html": [
       "<div>\n",
       "<style scoped>\n",
       "    .dataframe tbody tr th:only-of-type {\n",
       "        vertical-align: middle;\n",
       "    }\n",
       "\n",
       "    .dataframe tbody tr th {\n",
       "        vertical-align: top;\n",
       "    }\n",
       "\n",
       "    .dataframe thead th {\n",
       "        text-align: right;\n",
       "    }\n",
       "</style>\n",
       "<table border=\"1\" class=\"dataframe\">\n",
       "  <thead>\n",
       "    <tr style=\"text-align: right;\">\n",
       "      <th></th>\n",
       "      <th>price</th>\n",
       "      <th>area</th>\n",
       "      <th>bedrooms</th>\n",
       "      <th>bathrooms</th>\n",
       "      <th>stories</th>\n",
       "      <th>mainroad</th>\n",
       "      <th>guestroom</th>\n",
       "      <th>basement</th>\n",
       "      <th>hotwaterheating</th>\n",
       "      <th>airconditioning</th>\n",
       "      <th>parking</th>\n",
       "      <th>prefarea</th>\n",
       "      <th>furnishingstatus</th>\n",
       "    </tr>\n",
       "  </thead>\n",
       "  <tbody>\n",
       "    <tr>\n",
       "      <th>0</th>\n",
       "      <td>13300000</td>\n",
       "      <td>7420</td>\n",
       "      <td>4</td>\n",
       "      <td>2</td>\n",
       "      <td>3</td>\n",
       "      <td>1</td>\n",
       "      <td>0</td>\n",
       "      <td>0</td>\n",
       "      <td>0</td>\n",
       "      <td>1</td>\n",
       "      <td>2</td>\n",
       "      <td>1</td>\n",
       "      <td>furnished</td>\n",
       "    </tr>\n",
       "    <tr>\n",
       "      <th>1</th>\n",
       "      <td>12250000</td>\n",
       "      <td>8960</td>\n",
       "      <td>4</td>\n",
       "      <td>4</td>\n",
       "      <td>4</td>\n",
       "      <td>1</td>\n",
       "      <td>0</td>\n",
       "      <td>0</td>\n",
       "      <td>0</td>\n",
       "      <td>1</td>\n",
       "      <td>3</td>\n",
       "      <td>0</td>\n",
       "      <td>furnished</td>\n",
       "    </tr>\n",
       "    <tr>\n",
       "      <th>2</th>\n",
       "      <td>12250000</td>\n",
       "      <td>9960</td>\n",
       "      <td>3</td>\n",
       "      <td>2</td>\n",
       "      <td>2</td>\n",
       "      <td>1</td>\n",
       "      <td>0</td>\n",
       "      <td>1</td>\n",
       "      <td>0</td>\n",
       "      <td>0</td>\n",
       "      <td>2</td>\n",
       "      <td>1</td>\n",
       "      <td>semi-furnished</td>\n",
       "    </tr>\n",
       "    <tr>\n",
       "      <th>3</th>\n",
       "      <td>12215000</td>\n",
       "      <td>7500</td>\n",
       "      <td>4</td>\n",
       "      <td>2</td>\n",
       "      <td>2</td>\n",
       "      <td>1</td>\n",
       "      <td>0</td>\n",
       "      <td>1</td>\n",
       "      <td>0</td>\n",
       "      <td>1</td>\n",
       "      <td>3</td>\n",
       "      <td>1</td>\n",
       "      <td>furnished</td>\n",
       "    </tr>\n",
       "    <tr>\n",
       "      <th>4</th>\n",
       "      <td>11410000</td>\n",
       "      <td>7420</td>\n",
       "      <td>4</td>\n",
       "      <td>1</td>\n",
       "      <td>2</td>\n",
       "      <td>1</td>\n",
       "      <td>1</td>\n",
       "      <td>1</td>\n",
       "      <td>0</td>\n",
       "      <td>1</td>\n",
       "      <td>2</td>\n",
       "      <td>0</td>\n",
       "      <td>furnished</td>\n",
       "    </tr>\n",
       "  </tbody>\n",
       "</table>\n",
       "</div>"
      ],
      "text/plain": [
       "      price  area  bedrooms  bathrooms  stories  mainroad  guestroom  \\\n",
       "0  13300000  7420         4          2        3         1          0   \n",
       "1  12250000  8960         4          4        4         1          0   \n",
       "2  12250000  9960         3          2        2         1          0   \n",
       "3  12215000  7500         4          2        2         1          0   \n",
       "4  11410000  7420         4          1        2         1          1   \n",
       "\n",
       "   basement  hotwaterheating  airconditioning  parking  prefarea  \\\n",
       "0         0                0                1        2         1   \n",
       "1         0                0                1        3         0   \n",
       "2         1                0                0        2         1   \n",
       "3         1                0                1        3         1   \n",
       "4         1                0                1        2         0   \n",
       "\n",
       "  furnishingstatus  \n",
       "0        furnished  \n",
       "1        furnished  \n",
       "2   semi-furnished  \n",
       "3        furnished  \n",
       "4        furnished  "
      ]
     },
     "execution_count": 158,
     "metadata": {},
     "output_type": "execute_result"
    }
   ],
   "source": [
    "housing.mainroad = housing.mainroad.map(dict(yes=1,no=0))\n",
    "housing.guestroom = housing.guestroom.map(dict(yes=1,no=0))\n",
    "housing.basement = housing.basement.map(dict(yes=1,no=0))\n",
    "housing.hotwaterheating = housing.hotwaterheating.map(dict(yes=1,no=0))\n",
    "housing.airconditioning = housing.airconditioning.map(dict(yes=1,no=0))\n",
    "housing.prefarea = housing.prefarea.map(dict(yes=1,no=0))\n",
    "\n",
    "housing.head(5)"
   ]
  },
  {
   "cell_type": "code",
   "execution_count": 159,
   "id": "2d5e6968-8198-476f-83f5-f78c19eb0895",
   "metadata": {},
   "outputs": [
    {
     "data": {
      "text/plain": [
       "(545, 13)"
      ]
     },
     "execution_count": 159,
     "metadata": {},
     "output_type": "execute_result"
    }
   ],
   "source": [
    "housing.shape"
   ]
  },
  {
   "cell_type": "code",
   "execution_count": 160,
   "id": "4ee820fa-6788-4ac4-8771-94d82725d8fd",
   "metadata": {},
   "outputs": [
    {
     "data": {
      "text/html": [
       "<div>\n",
       "<style scoped>\n",
       "    .dataframe tbody tr th:only-of-type {\n",
       "        vertical-align: middle;\n",
       "    }\n",
       "\n",
       "    .dataframe tbody tr th {\n",
       "        vertical-align: top;\n",
       "    }\n",
       "\n",
       "    .dataframe thead th {\n",
       "        text-align: right;\n",
       "    }\n",
       "</style>\n",
       "<table border=\"1\" class=\"dataframe\">\n",
       "  <thead>\n",
       "    <tr style=\"text-align: right;\">\n",
       "      <th></th>\n",
       "      <th>price</th>\n",
       "      <th>area</th>\n",
       "      <th>bathrooms</th>\n",
       "      <th>bedrooms</th>\n",
       "      <th>stories</th>\n",
       "      <th>parking</th>\n",
       "    </tr>\n",
       "  </thead>\n",
       "  <tbody>\n",
       "    <tr>\n",
       "      <th>0</th>\n",
       "      <td>13300000</td>\n",
       "      <td>7420</td>\n",
       "      <td>2</td>\n",
       "      <td>4</td>\n",
       "      <td>3</td>\n",
       "      <td>2</td>\n",
       "    </tr>\n",
       "    <tr>\n",
       "      <th>1</th>\n",
       "      <td>12250000</td>\n",
       "      <td>8960</td>\n",
       "      <td>4</td>\n",
       "      <td>4</td>\n",
       "      <td>4</td>\n",
       "      <td>3</td>\n",
       "    </tr>\n",
       "    <tr>\n",
       "      <th>2</th>\n",
       "      <td>12250000</td>\n",
       "      <td>9960</td>\n",
       "      <td>2</td>\n",
       "      <td>3</td>\n",
       "      <td>2</td>\n",
       "      <td>2</td>\n",
       "    </tr>\n",
       "    <tr>\n",
       "      <th>3</th>\n",
       "      <td>12215000</td>\n",
       "      <td>7500</td>\n",
       "      <td>2</td>\n",
       "      <td>4</td>\n",
       "      <td>2</td>\n",
       "      <td>3</td>\n",
       "    </tr>\n",
       "    <tr>\n",
       "      <th>4</th>\n",
       "      <td>11410000</td>\n",
       "      <td>7420</td>\n",
       "      <td>1</td>\n",
       "      <td>4</td>\n",
       "      <td>2</td>\n",
       "      <td>2</td>\n",
       "    </tr>\n",
       "  </tbody>\n",
       "</table>\n",
       "</div>"
      ],
      "text/plain": [
       "      price  area  bathrooms  bedrooms  stories  parking\n",
       "0  13300000  7420          2         4        3        2\n",
       "1  12250000  8960          4         4        4        3\n",
       "2  12250000  9960          2         3        2        2\n",
       "3  12215000  7500          2         4        2        3\n",
       "4  11410000  7420          1         4        2        2"
      ]
     },
     "execution_count": 160,
     "metadata": {},
     "output_type": "execute_result"
    }
   ],
   "source": [
    "num_vars=['price', 'area','bathrooms','bedrooms', 'stories', 'parking']\n",
    "data_set=housing[num_vars]\n",
    "data_set.head()"
   ]
  },
  {
   "cell_type": "code",
   "execution_count": 161,
   "id": "c569304e-6e48-44a6-8982-c87b381be629",
   "metadata": {},
   "outputs": [
    {
     "data": {
      "text/plain": [
       "(545, 6)"
      ]
     },
     "execution_count": 161,
     "metadata": {},
     "output_type": "execute_result"
    }
   ],
   "source": [
    "data_set.shape"
   ]
  },
  {
   "cell_type": "code",
   "execution_count": 162,
   "id": "0c705b24-3dcf-4742-946c-83f04d405507",
   "metadata": {},
   "outputs": [
    {
     "name": "stderr",
     "output_type": "stream",
     "text": [
      "C:\\Users\\nrashvan\\AppData\\Local\\Temp\\1\\ipykernel_15120\\1593678094.py:2: SettingWithCopyWarning: \n",
      "A value is trying to be set on a copy of a slice from a DataFrame.\n",
      "Try using .loc[row_indexer,col_indexer] = value instead\n",
      "\n",
      "See the caveats in the documentation: https://pandas.pydata.org/pandas-docs/stable/user_guide/indexing.html#returning-a-view-versus-a-copy\n",
      "  data_set[num_vars]= scaler.fit_transform(data_set[num_vars])\n"
     ]
    },
    {
     "data": {
      "text/html": [
       "<div>\n",
       "<style scoped>\n",
       "    .dataframe tbody tr th:only-of-type {\n",
       "        vertical-align: middle;\n",
       "    }\n",
       "\n",
       "    .dataframe tbody tr th {\n",
       "        vertical-align: top;\n",
       "    }\n",
       "\n",
       "    .dataframe thead th {\n",
       "        text-align: right;\n",
       "    }\n",
       "</style>\n",
       "<table border=\"1\" class=\"dataframe\">\n",
       "  <thead>\n",
       "    <tr style=\"text-align: right;\">\n",
       "      <th></th>\n",
       "      <th>price</th>\n",
       "      <th>area</th>\n",
       "      <th>bathrooms</th>\n",
       "      <th>bedrooms</th>\n",
       "      <th>stories</th>\n",
       "      <th>parking</th>\n",
       "    </tr>\n",
       "  </thead>\n",
       "  <tbody>\n",
       "    <tr>\n",
       "      <th>0</th>\n",
       "      <td>1.000000</td>\n",
       "      <td>0.396564</td>\n",
       "      <td>0.333333</td>\n",
       "      <td>0.6</td>\n",
       "      <td>0.666667</td>\n",
       "      <td>0.666667</td>\n",
       "    </tr>\n",
       "    <tr>\n",
       "      <th>1</th>\n",
       "      <td>0.909091</td>\n",
       "      <td>0.502405</td>\n",
       "      <td>1.000000</td>\n",
       "      <td>0.6</td>\n",
       "      <td>1.000000</td>\n",
       "      <td>1.000000</td>\n",
       "    </tr>\n",
       "    <tr>\n",
       "      <th>2</th>\n",
       "      <td>0.909091</td>\n",
       "      <td>0.571134</td>\n",
       "      <td>0.333333</td>\n",
       "      <td>0.4</td>\n",
       "      <td>0.333333</td>\n",
       "      <td>0.666667</td>\n",
       "    </tr>\n",
       "    <tr>\n",
       "      <th>3</th>\n",
       "      <td>0.906061</td>\n",
       "      <td>0.402062</td>\n",
       "      <td>0.333333</td>\n",
       "      <td>0.6</td>\n",
       "      <td>0.333333</td>\n",
       "      <td>1.000000</td>\n",
       "    </tr>\n",
       "    <tr>\n",
       "      <th>4</th>\n",
       "      <td>0.836364</td>\n",
       "      <td>0.396564</td>\n",
       "      <td>0.000000</td>\n",
       "      <td>0.6</td>\n",
       "      <td>0.333333</td>\n",
       "      <td>0.666667</td>\n",
       "    </tr>\n",
       "  </tbody>\n",
       "</table>\n",
       "</div>"
      ],
      "text/plain": [
       "      price      area  bathrooms  bedrooms   stories   parking\n",
       "0  1.000000  0.396564   0.333333       0.6  0.666667  0.666667\n",
       "1  0.909091  0.502405   1.000000       0.6  1.000000  1.000000\n",
       "2  0.909091  0.571134   0.333333       0.4  0.333333  0.666667\n",
       "3  0.906061  0.402062   0.333333       0.6  0.333333  1.000000\n",
       "4  0.836364  0.396564   0.000000       0.6  0.333333  0.666667"
      ]
     },
     "execution_count": 162,
     "metadata": {},
     "output_type": "execute_result"
    }
   ],
   "source": [
    "scaler = MinMaxScaler()\n",
    "data_set[num_vars]= scaler.fit_transform(data_set[num_vars])\n",
    "data_set.head()"
   ]
  },
  {
   "cell_type": "code",
   "execution_count": 163,
   "id": "e799b3e5-fa68-44c8-81e2-f5681ca34c2d",
   "metadata": {},
   "outputs": [
    {
     "data": {
      "text/plain": [
       "(545, 5)"
      ]
     },
     "execution_count": 163,
     "metadata": {},
     "output_type": "execute_result"
    }
   ],
   "source": [
    "X = data_set.iloc[:, 1:6].values\n",
    "X.shape\n"
   ]
  },
  {
   "cell_type": "code",
   "execution_count": 164,
   "id": "6e41ed73-180b-422b-9bef-0b6696fdcd5b",
   "metadata": {},
   "outputs": [
    {
     "data": {
      "text/plain": [
       "(545,)"
      ]
     },
     "execution_count": 164,
     "metadata": {},
     "output_type": "execute_result"
    }
   ],
   "source": [
    "Y = data_set.iloc[:, 0].values\n",
    "Y.shape"
   ]
  },
  {
   "cell_type": "code",
   "execution_count": 165,
   "id": "e01b468e-fcef-4a0a-98b5-4c22da3d5a78",
   "metadata": {},
   "outputs": [
    {
     "data": {
      "text/plain": [
       "(545, 1)"
      ]
     },
     "execution_count": 165,
     "metadata": {},
     "output_type": "execute_result"
    }
   ],
   "source": [
    "Y =Y.reshape(-1,1)\n",
    "Y.shape"
   ]
  },
  {
   "cell_type": "code",
   "execution_count": 166,
   "id": "a8820154-9004-4c2b-bd9a-d5c53197325c",
   "metadata": {},
   "outputs": [
    {
     "data": {
      "text/plain": [
       "torch.Size([545, 1])"
      ]
     },
     "execution_count": 166,
     "metadata": {},
     "output_type": "execute_result"
    }
   ],
   "source": [
    "t_u=torch.tensor(X)\n",
    "t_c=torch.tensor(Y)\n",
    "t_c.shape"
   ]
  },
  {
   "cell_type": "code",
   "execution_count": 167,
   "id": "b1365c0b-b728-4378-a038-d4b92483f7ed",
   "metadata": {},
   "outputs": [
    {
     "data": {
      "text/plain": [
       "torch.Size([545, 5])"
      ]
     },
     "execution_count": 167,
     "metadata": {},
     "output_type": "execute_result"
    }
   ],
   "source": [
    "t_u.shape"
   ]
  },
  {
   "cell_type": "code",
   "execution_count": 168,
   "id": "eca9b68e-c6ba-4149-b231-e60a923e2115",
   "metadata": {},
   "outputs": [
    {
     "data": {
      "text/plain": [
       "(tensor([ 50, 315, 325, 416,  95, 397, 293, 349, 445, 194,  74, 517,  80, 512,\n",
       "         214, 314,  70, 202, 340, 252, 188, 492, 199, 177, 429, 289,  47, 102,\n",
       "          97, 229, 225, 257,  48,   3, 259, 525, 527, 292, 204, 472, 379, 489,\n",
       "         403, 374, 454, 398, 270, 157, 271, 460, 514, 218,  84, 134, 466, 420,\n",
       "         196,  34, 285,  86, 419, 337, 328, 453, 250, 544,  57, 368, 329, 377,\n",
       "         413, 160, 333, 296, 476, 185, 467, 311,  49, 529, 440, 100, 166, 523,\n",
       "         140, 117, 258,  42, 459, 418, 146, 187, 104, 471, 540, 162, 247, 541,\n",
       "         111, 430, 273, 354, 145, 496, 347,   8, 493,  91,  38, 536,  22, 361,\n",
       "          28, 385, 255, 246,  60, 186, 530,  56, 244, 112, 176, 308, 399, 406,\n",
       "         330, 490,  32, 230, 276, 520, 226, 407, 138, 228, 515, 542, 422, 241,\n",
       "         510, 508,  11,  13, 462, 390, 487, 132, 363,  18, 394, 178, 414, 148,\n",
       "         306,  66, 172, 261,  92, 498, 268, 121, 404, 372, 243, 505, 383,  61,\n",
       "         428, 358, 163, 303, 316, 334, 310, 483, 366, 208, 123, 376,  36, 522,\n",
       "         263, 107, 266, 113, 353, 304, 254, 357, 381, 470, 283, 362, 408, 147,\n",
       "         264, 181,  14,  88, 412, 128, 400, 224, 245,  67, 441, 351, 215, 319,\n",
       "         159, 509, 373, 108, 464, 415,  73, 474,  93, 322,  72, 205, 179,  16,\n",
       "         203,  12, 198, 280, 478, 477, 532, 423, 265, 313, 345, 210,   2, 294,\n",
       "         343, 190, 537,  45, 235, 142, 238, 109, 184, 465, 513, 344, 321, 274,\n",
       "         239,  29, 411, 173,  51, 297, 287, 278, 236, 256, 291, 295, 479,  54,\n",
       "         393,  68, 519,  58, 468,  52, 207, 269, 298, 443, 495, 105, 240, 501,\n",
       "         206,  31, 143, 425,  98, 338, 154, 139, 301,  85, 435, 339,   1, 216,\n",
       "         356, 387,  81, 130, 282, 153,  90, 348,  64, 183, 327, 473, 497, 543,\n",
       "         485, 331, 481, 227, 305, 155, 277, 170, 450, 220, 380,  79, 103, 482,\n",
       "         365, 378, 133, 209, 364,  40,  62, 336, 433, 421,   7, 326, 491, 275,\n",
       "         131, 534, 502, 396,  65, 122,  26, 302, 279, 355, 126, 164, 499, 439,\n",
       "          41, 189,   6, 168, 332, 524,  76, 341, 284, 500,  77, 158, 234, 437,\n",
       "         431, 260, 192, 219, 389, 382, 115,  94,  63, 118, 149,  23, 211, 222,\n",
       "         169,  24, 424,  25, 267, 521, 156, 151, 375,  82, 201, 350, 193, 232,\n",
       "         446, 101, 452,  44, 116, 391,  21, 434, 486, 195, 535, 456, 539, 127,\n",
       "          69, 432,  99, 253, 463,  15, 144, 531, 538, 120, 286,  55, 401, 197,\n",
       "         231, 281, 392,  53, 346, 371, 106, 251, 233, 175,  30, 290, 469, 242,\n",
       "         300, 114]),\n",
       " tensor([212, 369, 165, 447, 299, 475, 288, 119,  96, 488, 427, 417, 213, 110,\n",
       "         171, 461, 359,  71, 167, 272, 136, 248, 516, 533,  37,  89, 388, 317,\n",
       "         503, 507,   9, 320, 455, 438, 200,  20,  10, 457, 480, 318, 352,  17,\n",
       "          27, 152, 370, 386,  19, 307, 506, 402, 323,  75, 342, 141, 137,  33,\n",
       "          39, 309, 504, 409, 129, 405, 161, 223,  43, 526, 518, 249, 221, 449,\n",
       "         335, 458,  87, 448,  35, 262, 217, 124, 494, 484, 135,  83, 125, 426,\n",
       "         237,   5, 360,   4, 324, 312, 436, 191, 410,  46, 182,  59, 384, 395,\n",
       "         180, 367, 444,  78, 511, 451,   0, 174, 528, 150, 442]))"
      ]
     },
     "execution_count": 168,
     "metadata": {},
     "output_type": "execute_result"
    }
   ],
   "source": [
    "n_samples= t_u.shape[0]\n",
    "n_val= int(0.2 * n_samples)\n",
    "\n",
    "shuffled_indices= torch.randperm(n_samples)\n",
    "\n",
    "train_indices= shuffled_indices[:-n_val]\n",
    "val_indices= shuffled_indices[-n_val:]\n",
    "\n",
    "train_indices, val_indices"
   ]
  },
  {
   "cell_type": "code",
   "execution_count": 169,
   "id": "8a198ad9-6941-4a04-b320-fb70bcc59fb4",
   "metadata": {},
   "outputs": [],
   "source": [
    "train_t_u= t_u[train_indices]\n",
    "train_t_c=t_c[train_indices]\n",
    "\n",
    "val_t_u= t_u[val_indices]\n",
    "val_t_c= t_c[val_indices]\n"
   ]
  },
  {
   "cell_type": "code",
   "execution_count": 170,
   "id": "27330788-069c-4476-9f11-43a9c1fe1a71",
   "metadata": {},
   "outputs": [],
   "source": [
    "from collections import OrderedDict"
   ]
  },
  {
   "cell_type": "code",
   "execution_count": 211,
   "id": "7177f963-d672-41a2-ad8f-9ce727ca8f03",
   "metadata": {},
   "outputs": [
    {
     "data": {
      "text/plain": [
       "Sequential(\n",
       "  (hidden_linear1): Linear(in_features=5, out_features=18, bias=True)\n",
       "  (hidden_activation1): Tanh()\n",
       "  (hidden_linear2): Linear(in_features=18, out_features=6, bias=True)\n",
       "  (hidden_activation2): Tanh()\n",
       "  (output_linear): Linear(in_features=6, out_features=1, bias=True)\n",
       ")"
      ]
     },
     "execution_count": 211,
     "metadata": {},
     "output_type": "execute_result"
    }
   ],
   "source": [
    "seq_model=nn.Sequential(OrderedDict([\n",
    "    ('hidden_linear1', nn.Linear(5, 18)),\n",
    "    ('hidden_activation1', nn.Tanh()), \n",
    "    ('hidden_linear2', nn.Linear(18,6)),\n",
    "    ('hidden_activation2', nn.Tanh()),\n",
    "    ('output_linear', nn.Linear(6, 1))\n",
    "    \n",
    "]))\n",
    "\n",
    "seq_model"
   ]
  },
  {
   "cell_type": "code",
   "execution_count": 212,
   "id": "ceba9cbe-4070-4339-8885-1097b0777e9f",
   "metadata": {},
   "outputs": [
    {
     "name": "stdout",
     "output_type": "stream",
     "text": [
      "hidden_linear1.weight torch.Size([18, 5])\n",
      "hidden_linear1.bias torch.Size([18])\n",
      "hidden_linear2.weight torch.Size([6, 18])\n",
      "hidden_linear2.bias torch.Size([6])\n",
      "output_linear.weight torch.Size([1, 6])\n",
      "output_linear.bias torch.Size([1])\n"
     ]
    }
   ],
   "source": [
    "for name, param in seq_model.named_parameters():\n",
    "    print(name, param.shape)"
   ]
  },
  {
   "cell_type": "code",
   "execution_count": 213,
   "id": "16ccceea-d37f-44b5-aca1-fbafec6517a6",
   "metadata": {},
   "outputs": [
    {
     "data": {
      "text/plain": [
       "Parameter containing:\n",
       "tensor([-0.3149], requires_grad=True)"
      ]
     },
     "execution_count": 213,
     "metadata": {},
     "output_type": "execute_result"
    }
   ],
   "source": [
    "seq_model.output_linear.bias"
   ]
  },
  {
   "cell_type": "code",
   "execution_count": 214,
   "id": "34e69ed9-7ed7-4e93-95f4-3d85bef8614e",
   "metadata": {},
   "outputs": [],
   "source": [
    "def training_loop(n_epochs, optimizer, model, loss_fn, train_t_u, val_t_u, train_t_c, val_t_c):\n",
    "    for epoch in range(1,n_epochs +1):\n",
    "        \n",
    "        t_p_train=model(train_t_u)\n",
    "        loss_train= loss_fn(t_p_train, train_t_c)\n",
    "        \n",
    "        t_p_val=model(val_t_u)\n",
    "        loss_val= loss_fn(t_p_val, val_t_c)\n",
    "        \n",
    "        optimizer.zero_grad()\n",
    "        loss_train.backward()\n",
    "        optimizer.step()\n",
    "        \n",
    "        if epoch ==1 or epoch % 20==0:\n",
    "            print(f\"Epoch {epoch}, Training loss {loss_train.item():.4f}, \"\n",
    "                  f\" Validation loss {loss_val.item():.4f}\")"
   ]
  },
  {
   "cell_type": "code",
   "execution_count": 215,
   "id": "58444eb0-e919-4c88-bf4e-039c99f394e6",
   "metadata": {},
   "outputs": [],
   "source": [
    "train_t_u = train_t_u.float()"
   ]
  },
  {
   "cell_type": "code",
   "execution_count": 216,
   "id": "27dcf1a2-59d0-4967-846e-2032f25a9d83",
   "metadata": {},
   "outputs": [
    {
     "name": "stdout",
     "output_type": "stream",
     "text": [
      "torch.float32\n"
     ]
    }
   ],
   "source": [
    "print(train_t_u.dtype)"
   ]
  },
  {
   "cell_type": "code",
   "execution_count": 217,
   "id": "a38b8a8b-2a13-4a4f-8933-3b159b17a437",
   "metadata": {},
   "outputs": [
    {
     "name": "stdout",
     "output_type": "stream",
     "text": [
      "torch.float32\n"
     ]
    }
   ],
   "source": [
    "val_t_u=val_t_u.float()\n",
    "print(val_t_u.dtype)"
   ]
  },
  {
   "cell_type": "code",
   "execution_count": 218,
   "id": "a0eed14e-b4bc-48b8-babd-a9fada38f51e",
   "metadata": {},
   "outputs": [
    {
     "name": "stdout",
     "output_type": "stream",
     "text": [
      "torch.float32\n"
     ]
    }
   ],
   "source": [
    "train_t_c=train_t_c.float()\n",
    "print(train_t_c.dtype)"
   ]
  },
  {
   "cell_type": "code",
   "execution_count": 219,
   "id": "5fd6818e-c261-4c32-99bb-bfba008e5bbb",
   "metadata": {},
   "outputs": [
    {
     "name": "stdout",
     "output_type": "stream",
     "text": [
      "torch.float32\n"
     ]
    }
   ],
   "source": [
    "val_t_c=val_t_c.float()\n",
    "print(val_t_c.dtype)"
   ]
  },
  {
   "cell_type": "code",
   "execution_count": 224,
   "id": "fa1f75db-2719-44d5-84da-0f8e2b829c53",
   "metadata": {},
   "outputs": [
    {
     "name": "stdout",
     "output_type": "stream",
     "text": [
      "Epoch 1, Training loss 0.0123,  Validation loss 0.0145\n",
      "Epoch 20, Training loss 0.0122,  Validation loss 0.0144\n",
      "Epoch 40, Training loss 0.0121,  Validation loss 0.0143\n",
      "Epoch 60, Training loss 0.0120,  Validation loss 0.0142\n",
      "Epoch 80, Training loss 0.0119,  Validation loss 0.0141\n",
      "Epoch 100, Training loss 0.0118,  Validation loss 0.0140\n",
      "Epoch 120, Training loss 0.0117,  Validation loss 0.0139\n",
      "Epoch 140, Training loss 0.0117,  Validation loss 0.0139\n",
      "Epoch 160, Training loss 0.0116,  Validation loss 0.0138\n",
      "Epoch 180, Training loss 0.0116,  Validation loss 0.0138\n",
      "Epoch 200, Training loss 0.0115,  Validation loss 0.0137\n",
      "output tensor([[0.3744],\n",
      "        [0.1018],\n",
      "        [0.2954],\n",
      "        [0.0993],\n",
      "        [0.3223],\n",
      "        [0.1412],\n",
      "        [0.2201],\n",
      "        [0.2907],\n",
      "        [0.2962],\n",
      "        [0.3000],\n",
      "        [0.1519],\n",
      "        [0.1028],\n",
      "        [0.2873],\n",
      "        [0.2819],\n",
      "        [0.3220],\n",
      "        [0.1356],\n",
      "        [0.1757],\n",
      "        [0.4353],\n",
      "        [0.3060],\n",
      "        [0.2266],\n",
      "        [0.4121],\n",
      "        [0.2138],\n",
      "        [0.1371],\n",
      "        [0.1580],\n",
      "        [0.5405],\n",
      "        [0.5425],\n",
      "        [0.1878],\n",
      "        [0.3836],\n",
      "        [0.1418],\n",
      "        [0.1018],\n",
      "        [0.4411],\n",
      "        [0.2810],\n",
      "        [0.1775],\n",
      "        [0.1242],\n",
      "        [0.2081],\n",
      "        [0.2810],\n",
      "        [0.4477],\n",
      "        [0.1175],\n",
      "        [0.2252],\n",
      "        [0.1500],\n",
      "        [0.2395],\n",
      "        [0.5149],\n",
      "        [0.2936],\n",
      "        [0.2762],\n",
      "        [0.2035],\n",
      "        [0.2215],\n",
      "        [0.3792],\n",
      "        [0.2758],\n",
      "        [0.0844],\n",
      "        [0.1581],\n",
      "        [0.2901],\n",
      "        [0.3204],\n",
      "        [0.2673],\n",
      "        [0.4046],\n",
      "        [0.2771],\n",
      "        [0.4451],\n",
      "        [0.4686],\n",
      "        [0.2373],\n",
      "        [0.0913],\n",
      "        [0.1772],\n",
      "        [0.4584],\n",
      "        [0.1190],\n",
      "        [0.2928],\n",
      "        [0.2887],\n",
      "        [0.4955],\n",
      "        [0.0912],\n",
      "        [0.0993],\n",
      "        [0.3356],\n",
      "        [0.3026],\n",
      "        [0.1399],\n",
      "        [0.1924],\n",
      "        [0.1925],\n",
      "        [0.2240],\n",
      "        [0.1991],\n",
      "        [0.4911],\n",
      "        [0.1055],\n",
      "        [0.3343],\n",
      "        [0.4550],\n",
      "        [0.1802],\n",
      "        [0.0877],\n",
      "        [0.4108],\n",
      "        [0.4108],\n",
      "        [0.4443],\n",
      "        [0.1101],\n",
      "        [0.2194],\n",
      "        [0.4649],\n",
      "        [0.1128],\n",
      "        [0.3659],\n",
      "        [0.2076],\n",
      "        [0.1321],\n",
      "        [0.1519],\n",
      "        [0.3406],\n",
      "        [0.1382],\n",
      "        [0.4456],\n",
      "        [0.1821],\n",
      "        [0.4456],\n",
      "        [0.1242],\n",
      "        [0.2968],\n",
      "        [0.3504],\n",
      "        [0.1025],\n",
      "        [0.1752],\n",
      "        [0.2626],\n",
      "        [0.1219],\n",
      "        [0.1790],\n",
      "        [0.4853],\n",
      "        [0.2326],\n",
      "        [0.0782],\n",
      "        [0.2223],\n",
      "        [0.1232]], grad_fn=<AddmmBackward0>)\n",
      "answer tensor([[0.2721],\n",
      "        [0.1667],\n",
      "        [0.3145],\n",
      "        [0.1212],\n",
      "        [0.2121],\n",
      "        [0.1048],\n",
      "        [0.2121],\n",
      "        [0.3636],\n",
      "        [0.3939],\n",
      "        [0.0955],\n",
      "        [0.1370],\n",
      "        [0.1424],\n",
      "        [0.2721],\n",
      "        [0.3758],\n",
      "        [0.3030],\n",
      "        [0.1152],\n",
      "        [0.1697],\n",
      "        [0.4333],\n",
      "        [0.3061],\n",
      "        [0.2242],\n",
      "        [0.3455],\n",
      "        [0.2418],\n",
      "        [0.0606],\n",
      "        [0.0303],\n",
      "        [0.5394],\n",
      "        [0.4061],\n",
      "        [0.1515],\n",
      "        [0.2000],\n",
      "        [0.0788],\n",
      "        [0.0727],\n",
      "        [0.6970],\n",
      "        [0.2000],\n",
      "        [0.1194],\n",
      "        [0.1303],\n",
      "        [0.2727],\n",
      "        [0.6061],\n",
      "        [0.6970],\n",
      "        [0.1182],\n",
      "        [0.1030],\n",
      "        [0.2000],\n",
      "        [0.1758],\n",
      "        [0.6242],\n",
      "        [0.5758],\n",
      "        [0.3303],\n",
      "        [0.1636],\n",
      "        [0.1545],\n",
      "        [0.6152],\n",
      "        [0.2091],\n",
      "        [0.0739],\n",
      "        [0.1515],\n",
      "        [0.1970],\n",
      "        [0.4242],\n",
      "        [0.1818],\n",
      "        [0.3379],\n",
      "        [0.3455],\n",
      "        [0.5576],\n",
      "        [0.5333],\n",
      "        [0.2061],\n",
      "        [0.0782],\n",
      "        [0.1455],\n",
      "        [0.3570],\n",
      "        [0.1485],\n",
      "        [0.3212],\n",
      "        [0.2606],\n",
      "        [0.5152],\n",
      "        [0.0485],\n",
      "        [0.0606],\n",
      "        [0.2418],\n",
      "        [0.2612],\n",
      "        [0.1212],\n",
      "        [0.1879],\n",
      "        [0.1182],\n",
      "        [0.4091],\n",
      "        [0.1212],\n",
      "        [0.5481],\n",
      "        [0.2333],\n",
      "        [0.2667],\n",
      "        [0.3636],\n",
      "        [0.0848],\n",
      "        [0.0970],\n",
      "        [0.3485],\n",
      "        [0.4182],\n",
      "        [0.3630],\n",
      "        [0.1388],\n",
      "        [0.2485],\n",
      "        [0.7879],\n",
      "        [0.1697],\n",
      "        [0.8364],\n",
      "        [0.1955],\n",
      "        [0.2033],\n",
      "        [0.1333],\n",
      "        [0.2848],\n",
      "        [0.1455],\n",
      "        [0.5000],\n",
      "        [0.2939],\n",
      "        [0.4727],\n",
      "        [0.1576],\n",
      "        [0.1515],\n",
      "        [0.3000],\n",
      "        [0.1667],\n",
      "        [0.1273],\n",
      "        [0.4242],\n",
      "        [0.0667],\n",
      "        [0.1212],\n",
      "        [1.0000],\n",
      "        [0.3030],\n",
      "        [0.0455],\n",
      "        [0.3333],\n",
      "        [0.1273]])\n",
      "hidden tensor([[-3.4839e-04, -1.0483e-04,  1.7444e-04,  9.7901e-05,  2.0754e-04],\n",
      "        [-1.1480e-04, -4.3735e-05,  4.2273e-05, -6.0922e-07,  1.4032e-05],\n",
      "        [-2.7971e-04, -7.2164e-05,  1.1121e-04,  8.3583e-06,  7.4880e-05],\n",
      "        [ 7.3804e-04,  1.6598e-05, -5.6383e-04, -3.0677e-04, -4.3269e-04],\n",
      "        [ 3.3408e-04,  8.6403e-05, -1.8787e-04, -8.4089e-05, -9.4139e-05],\n",
      "        [ 4.7249e-04,  8.3832e-05, -2.4769e-04, -1.5089e-04, -1.3929e-04],\n",
      "        [-3.6867e-04, -1.4341e-04,  1.5500e-04, -3.5543e-05,  9.7150e-05],\n",
      "        [-1.4468e-04, -2.3955e-05,  1.5476e-04,  1.5111e-04,  1.2203e-04],\n",
      "        [ 1.7983e-04,  6.9853e-05, -6.0510e-05,  1.4889e-06, -2.5342e-05],\n",
      "        [ 1.8078e-04,  1.4031e-05, -1.1665e-04, -8.2548e-05, -1.1445e-04],\n",
      "        [-4.1391e-04, -7.5753e-05,  2.5574e-04,  1.5310e-04,  1.2540e-04],\n",
      "        [ 8.5569e-04,  2.7548e-04, -3.8420e-04, -1.2345e-04, -2.8696e-04],\n",
      "        [-2.7913e-04, -6.7604e-05,  9.9124e-05,  8.7962e-05,  1.2278e-04],\n",
      "        [-3.9674e-04, -1.2579e-04,  1.2572e-04, -4.3946e-05,  3.2468e-05],\n",
      "        [-2.6949e-04, -6.8527e-05,  1.9876e-04,  1.7140e-04,  1.8712e-04],\n",
      "        [ 3.8033e-05,  1.0062e-05,  2.1749e-05,  2.1545e-05,  2.2123e-06],\n",
      "        [-1.2139e-04, -3.9226e-05,  9.7052e-05,  6.2844e-05,  6.9821e-05],\n",
      "        [ 9.9564e-04,  5.4508e-05, -8.4525e-04, -4.4098e-04, -6.7287e-04]])\n",
      "hidden tensor([[ 8.8065e-05, -2.7898e-04,  1.0462e-05, -1.5259e-04, -3.9781e-05,\n",
      "         -9.4648e-05,  2.1547e-04,  4.2176e-04, -7.2125e-05,  5.5648e-05,\n",
      "          4.6452e-05, -2.4798e-04,  3.0495e-04, -2.1652e-04, -3.6963e-04,\n",
      "          3.4376e-04,  1.5948e-04, -2.1825e-04],\n",
      "        [-5.4379e-05,  1.0909e-04, -2.9621e-05,  8.0794e-05,  4.2874e-06,\n",
      "          6.6568e-05, -5.0734e-05, -1.3412e-04,  1.9529e-05,  1.4498e-05,\n",
      "         -3.8968e-05,  9.0621e-05, -7.3780e-05,  5.8468e-05,  9.2811e-05,\n",
      "         -8.8518e-05, -6.9443e-05,  1.1789e-04],\n",
      "        [ 2.0428e-04, -3.8635e-04,  6.3608e-05, -3.0347e-04, -2.1430e-05,\n",
      "         -2.4080e-04,  1.7497e-04,  4.1512e-04, -1.1761e-04, -8.7029e-05,\n",
      "          1.7270e-04, -2.4984e-04,  1.6559e-04, -1.5257e-04, -2.6788e-04,\n",
      "          2.1877e-04,  2.0191e-04, -3.7536e-04],\n",
      "        [ 7.7018e-05, -4.5213e-04,  7.6479e-05, -8.6996e-05, -1.5533e-04,\n",
      "         -1.4552e-04,  3.0031e-04,  9.8114e-04,  4.2176e-05,  3.5268e-04,\n",
      "         -1.1013e-04, -6.6204e-04,  9.3872e-04, -6.0446e-04, -8.0697e-04,\n",
      "          9.3640e-04,  5.3003e-04, -4.5348e-04],\n",
      "        [-1.9575e-05,  3.9426e-05, -9.2249e-06,  2.9902e-05,  9.9451e-07,\n",
      "          2.3435e-05, -1.8790e-05, -4.5663e-05,  9.0772e-06,  7.2125e-06,\n",
      "         -1.5680e-05,  3.0122e-05, -2.2315e-05,  1.9101e-05,  3.1445e-05,\n",
      "         -2.8267e-05, -2.2012e-05,  4.0022e-05],\n",
      "        [ 2.4766e-04, -5.9172e-04,  1.3572e-04, -3.7777e-04, -5.9275e-05,\n",
      "         -3.7546e-04,  2.3528e-04,  7.8489e-04, -1.0156e-04, -6.4309e-06,\n",
      "          1.8065e-04, -5.3127e-04,  4.8245e-04, -3.7193e-04, -5.2950e-04,\n",
      "          5.4518e-04,  4.3707e-04, -6.1529e-04]])\n",
      "hidden tensor([[-2.4240e-04,  5.4265e-04, -1.1693e-05,  2.0204e-03,  3.5293e-04,\n",
      "          1.2636e-03]])\n"
     ]
    }
   ],
   "source": [
    "optimizer= optim.SGD(seq_model.parameters(), lr=1e-1)\n",
    "training_loop(\n",
    "    n_epochs=200,\n",
    "    optimizer= optimizer,\n",
    "    model=seq_model,\n",
    "    loss_fn=nn.MSELoss(),\n",
    "   train_t_u=train_t_u,\n",
    "   val_t_u= val_t_u,\n",
    "     train_t_c= train_t_c,\n",
    "   val_t_c= val_t_c)\n",
    "print('output', seq_model(val_t_u))\n",
    "print('answer',  val_t_c)\n",
    "print('hidden', seq_model.hidden_linear1.weight.grad)\n",
    "print('hidden', seq_model.hidden_linear2.weight.grad)\n",
    "print('hidden', seq_model.output_linear.weight.grad)"
   ]
  },
  {
   "cell_type": "code",
   "execution_count": null,
   "id": "43c55a65-f80e-4383-84af-3aa88f42eddc",
   "metadata": {},
   "outputs": [],
   "source": []
  },
  {
   "cell_type": "code",
   "execution_count": null,
   "id": "940656d9-fc99-4c7c-94a4-18b56a3200b4",
   "metadata": {},
   "outputs": [],
   "source": []
  },
  {
   "cell_type": "code",
   "execution_count": null,
   "id": "fda75c90-525e-4874-96c2-69fdf944f097",
   "metadata": {},
   "outputs": [],
   "source": []
  },
  {
   "cell_type": "code",
   "execution_count": null,
   "id": "7b5d782d-caaf-42ba-bfdf-42ca94b8b3ed",
   "metadata": {},
   "outputs": [],
   "source": []
  }
 ],
 "metadata": {
  "kernelspec": {
   "display_name": "Python 3 (ipykernel)",
   "language": "python",
   "name": "python3"
  },
  "language_info": {
   "codemirror_mode": {
    "name": "ipython",
    "version": 3
   },
   "file_extension": ".py",
   "mimetype": "text/x-python",
   "name": "python",
   "nbconvert_exporter": "python",
   "pygments_lexer": "ipython3",
   "version": "3.9.12"
  }
 },
 "nbformat": 4,
 "nbformat_minor": 5
}
