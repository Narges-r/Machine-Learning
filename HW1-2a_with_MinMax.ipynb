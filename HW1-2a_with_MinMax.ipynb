{
 "cells": [
  {
   "cell_type": "code",
   "execution_count": 1,
   "id": "14e80890-e1ec-4815-81ab-0ae8ff3e5cd4",
   "metadata": {},
   "outputs": [],
   "source": [
    "import numpy as np\n",
    "import pandas as pd\n",
    "import matplotlib.pyplot  as  plt"
   ]
  },
  {
   "cell_type": "code",
   "execution_count": 2,
   "id": "32036dee-e5ca-4574-8858-36c00116687d",
   "metadata": {},
   "outputs": [
    {
     "data": {
      "text/html": [
       "<div>\n",
       "<style scoped>\n",
       "    .dataframe tbody tr th:only-of-type {\n",
       "        vertical-align: middle;\n",
       "    }\n",
       "\n",
       "    .dataframe tbody tr th {\n",
       "        vertical-align: top;\n",
       "    }\n",
       "\n",
       "    .dataframe thead th {\n",
       "        text-align: right;\n",
       "    }\n",
       "</style>\n",
       "<table border=\"1\" class=\"dataframe\">\n",
       "  <thead>\n",
       "    <tr style=\"text-align: right;\">\n",
       "      <th></th>\n",
       "      <th>price</th>\n",
       "      <th>area</th>\n",
       "      <th>bedrooms</th>\n",
       "      <th>bathrooms</th>\n",
       "      <th>stories</th>\n",
       "      <th>mainroad</th>\n",
       "      <th>guestroom</th>\n",
       "      <th>basement</th>\n",
       "      <th>hotwaterheating</th>\n",
       "      <th>airconditioning</th>\n",
       "      <th>parking</th>\n",
       "      <th>prefarea</th>\n",
       "      <th>furnishingstatus</th>\n",
       "    </tr>\n",
       "  </thead>\n",
       "  <tbody>\n",
       "    <tr>\n",
       "      <th>0</th>\n",
       "      <td>13300000</td>\n",
       "      <td>7420</td>\n",
       "      <td>4</td>\n",
       "      <td>2</td>\n",
       "      <td>3</td>\n",
       "      <td>yes</td>\n",
       "      <td>no</td>\n",
       "      <td>no</td>\n",
       "      <td>no</td>\n",
       "      <td>yes</td>\n",
       "      <td>2</td>\n",
       "      <td>yes</td>\n",
       "      <td>furnished</td>\n",
       "    </tr>\n",
       "    <tr>\n",
       "      <th>1</th>\n",
       "      <td>12250000</td>\n",
       "      <td>8960</td>\n",
       "      <td>4</td>\n",
       "      <td>4</td>\n",
       "      <td>4</td>\n",
       "      <td>yes</td>\n",
       "      <td>no</td>\n",
       "      <td>no</td>\n",
       "      <td>no</td>\n",
       "      <td>yes</td>\n",
       "      <td>3</td>\n",
       "      <td>no</td>\n",
       "      <td>furnished</td>\n",
       "    </tr>\n",
       "    <tr>\n",
       "      <th>2</th>\n",
       "      <td>12250000</td>\n",
       "      <td>9960</td>\n",
       "      <td>3</td>\n",
       "      <td>2</td>\n",
       "      <td>2</td>\n",
       "      <td>yes</td>\n",
       "      <td>no</td>\n",
       "      <td>yes</td>\n",
       "      <td>no</td>\n",
       "      <td>no</td>\n",
       "      <td>2</td>\n",
       "      <td>yes</td>\n",
       "      <td>semi-furnished</td>\n",
       "    </tr>\n",
       "    <tr>\n",
       "      <th>3</th>\n",
       "      <td>12215000</td>\n",
       "      <td>7500</td>\n",
       "      <td>4</td>\n",
       "      <td>2</td>\n",
       "      <td>2</td>\n",
       "      <td>yes</td>\n",
       "      <td>no</td>\n",
       "      <td>yes</td>\n",
       "      <td>no</td>\n",
       "      <td>yes</td>\n",
       "      <td>3</td>\n",
       "      <td>yes</td>\n",
       "      <td>furnished</td>\n",
       "    </tr>\n",
       "    <tr>\n",
       "      <th>4</th>\n",
       "      <td>11410000</td>\n",
       "      <td>7420</td>\n",
       "      <td>4</td>\n",
       "      <td>1</td>\n",
       "      <td>2</td>\n",
       "      <td>yes</td>\n",
       "      <td>yes</td>\n",
       "      <td>yes</td>\n",
       "      <td>no</td>\n",
       "      <td>yes</td>\n",
       "      <td>2</td>\n",
       "      <td>no</td>\n",
       "      <td>furnished</td>\n",
       "    </tr>\n",
       "  </tbody>\n",
       "</table>\n",
       "</div>"
      ],
      "text/plain": [
       "      price  area  bedrooms  bathrooms  stories mainroad guestroom basement  \\\n",
       "0  13300000  7420         4          2        3      yes        no       no   \n",
       "1  12250000  8960         4          4        4      yes        no       no   \n",
       "2  12250000  9960         3          2        2      yes        no      yes   \n",
       "3  12215000  7500         4          2        2      yes        no      yes   \n",
       "4  11410000  7420         4          1        2      yes       yes      yes   \n",
       "\n",
       "  hotwaterheating airconditioning  parking prefarea furnishingstatus  \n",
       "0              no             yes        2      yes        furnished  \n",
       "1              no             yes        3       no        furnished  \n",
       "2              no              no        2      yes   semi-furnished  \n",
       "3              no             yes        3      yes        furnished  \n",
       "4              no             yes        2       no        furnished  "
      ]
     },
     "execution_count": 2,
     "metadata": {},
     "output_type": "execute_result"
    }
   ],
   "source": [
    "housing=pd.read_csv('Housing.csv')\n",
    "housing.head(5)"
   ]
  },
  {
   "cell_type": "code",
   "execution_count": 3,
   "id": "966306a7-114c-4b1e-8373-66eac0040e44",
   "metadata": {
    "tags": []
   },
   "outputs": [
    {
     "data": {
      "text/html": [
       "<div>\n",
       "<style scoped>\n",
       "    .dataframe tbody tr th:only-of-type {\n",
       "        vertical-align: middle;\n",
       "    }\n",
       "\n",
       "    .dataframe tbody tr th {\n",
       "        vertical-align: top;\n",
       "    }\n",
       "\n",
       "    .dataframe thead th {\n",
       "        text-align: right;\n",
       "    }\n",
       "</style>\n",
       "<table border=\"1\" class=\"dataframe\">\n",
       "  <thead>\n",
       "    <tr style=\"text-align: right;\">\n",
       "      <th></th>\n",
       "      <th>price</th>\n",
       "      <th>area</th>\n",
       "      <th>bedrooms</th>\n",
       "      <th>bathrooms</th>\n",
       "      <th>stories</th>\n",
       "      <th>mainroad</th>\n",
       "      <th>guestroom</th>\n",
       "      <th>basement</th>\n",
       "      <th>hotwaterheating</th>\n",
       "      <th>airconditioning</th>\n",
       "      <th>parking</th>\n",
       "      <th>prefarea</th>\n",
       "      <th>furnishingstatus</th>\n",
       "    </tr>\n",
       "  </thead>\n",
       "  <tbody>\n",
       "    <tr>\n",
       "      <th>0</th>\n",
       "      <td>13300000</td>\n",
       "      <td>7420</td>\n",
       "      <td>4</td>\n",
       "      <td>2</td>\n",
       "      <td>3</td>\n",
       "      <td>1</td>\n",
       "      <td>0</td>\n",
       "      <td>0</td>\n",
       "      <td>0</td>\n",
       "      <td>1</td>\n",
       "      <td>2</td>\n",
       "      <td>1</td>\n",
       "      <td>furnished</td>\n",
       "    </tr>\n",
       "    <tr>\n",
       "      <th>1</th>\n",
       "      <td>12250000</td>\n",
       "      <td>8960</td>\n",
       "      <td>4</td>\n",
       "      <td>4</td>\n",
       "      <td>4</td>\n",
       "      <td>1</td>\n",
       "      <td>0</td>\n",
       "      <td>0</td>\n",
       "      <td>0</td>\n",
       "      <td>1</td>\n",
       "      <td>3</td>\n",
       "      <td>0</td>\n",
       "      <td>furnished</td>\n",
       "    </tr>\n",
       "    <tr>\n",
       "      <th>2</th>\n",
       "      <td>12250000</td>\n",
       "      <td>9960</td>\n",
       "      <td>3</td>\n",
       "      <td>2</td>\n",
       "      <td>2</td>\n",
       "      <td>1</td>\n",
       "      <td>0</td>\n",
       "      <td>1</td>\n",
       "      <td>0</td>\n",
       "      <td>0</td>\n",
       "      <td>2</td>\n",
       "      <td>1</td>\n",
       "      <td>semi-furnished</td>\n",
       "    </tr>\n",
       "    <tr>\n",
       "      <th>3</th>\n",
       "      <td>12215000</td>\n",
       "      <td>7500</td>\n",
       "      <td>4</td>\n",
       "      <td>2</td>\n",
       "      <td>2</td>\n",
       "      <td>1</td>\n",
       "      <td>0</td>\n",
       "      <td>1</td>\n",
       "      <td>0</td>\n",
       "      <td>1</td>\n",
       "      <td>3</td>\n",
       "      <td>1</td>\n",
       "      <td>furnished</td>\n",
       "    </tr>\n",
       "    <tr>\n",
       "      <th>4</th>\n",
       "      <td>11410000</td>\n",
       "      <td>7420</td>\n",
       "      <td>4</td>\n",
       "      <td>1</td>\n",
       "      <td>2</td>\n",
       "      <td>1</td>\n",
       "      <td>1</td>\n",
       "      <td>1</td>\n",
       "      <td>0</td>\n",
       "      <td>1</td>\n",
       "      <td>2</td>\n",
       "      <td>0</td>\n",
       "      <td>furnished</td>\n",
       "    </tr>\n",
       "  </tbody>\n",
       "</table>\n",
       "</div>"
      ],
      "text/plain": [
       "      price  area  bedrooms  bathrooms  stories  mainroad  guestroom  \\\n",
       "0  13300000  7420         4          2        3         1          0   \n",
       "1  12250000  8960         4          4        4         1          0   \n",
       "2  12250000  9960         3          2        2         1          0   \n",
       "3  12215000  7500         4          2        2         1          0   \n",
       "4  11410000  7420         4          1        2         1          1   \n",
       "\n",
       "   basement  hotwaterheating  airconditioning  parking  prefarea  \\\n",
       "0         0                0                1        2         1   \n",
       "1         0                0                1        3         0   \n",
       "2         1                0                0        2         1   \n",
       "3         1                0                1        3         1   \n",
       "4         1                0                1        2         0   \n",
       "\n",
       "  furnishingstatus  \n",
       "0        furnished  \n",
       "1        furnished  \n",
       "2   semi-furnished  \n",
       "3        furnished  \n",
       "4        furnished  "
      ]
     },
     "execution_count": 3,
     "metadata": {},
     "output_type": "execute_result"
    }
   ],
   "source": [
    "housing.mainroad = housing.mainroad.map(dict(yes=1,no=0))\n",
    "housing.guestroom = housing.guestroom.map(dict(yes=1,no=0))\n",
    "housing.basement = housing.basement.map(dict(yes=1,no=0))\n",
    "housing.hotwaterheating = housing.hotwaterheating.map(dict(yes=1,no=0))\n",
    "housing.airconditioning = housing.airconditioning.map(dict(yes=1,no=0))\n",
    "housing.prefarea = housing.prefarea.map(dict(yes=1,no=0))\n",
    "\n",
    "housing.head(5)"
   ]
  },
  {
   "cell_type": "code",
   "execution_count": 4,
   "id": "78a75348-cd34-4bc2-8f28-5abe01717752",
   "metadata": {},
   "outputs": [
    {
     "data": {
      "text/plain": [
       "(545, 13)"
      ]
     },
     "execution_count": 4,
     "metadata": {},
     "output_type": "execute_result"
    }
   ],
   "source": [
    "housing.shape"
   ]
  },
  {
   "cell_type": "code",
   "execution_count": 5,
   "id": "b16f041d-f9c4-4a16-a67a-b5a28a2e2f31",
   "metadata": {},
   "outputs": [
    {
     "data": {
      "text/plain": [
       "(436, 13)"
      ]
     },
     "execution_count": 5,
     "metadata": {},
     "output_type": "execute_result"
    }
   ],
   "source": [
    "from sklearn.model_selection import train_test_split\n",
    "np.random.seed(0)\n",
    "df_train,df_test=train_test_split(housing, train_size=0.8, test_size=0.2)\n",
    "df_train.shape"
   ]
  },
  {
   "cell_type": "code",
   "execution_count": 6,
   "id": "a3800207-3290-41a0-bacb-dfb3cbadab1d",
   "metadata": {},
   "outputs": [
    {
     "data": {
      "text/plain": [
       "(109, 13)"
      ]
     },
     "execution_count": 6,
     "metadata": {},
     "output_type": "execute_result"
    }
   ],
   "source": [
    "df_test.shape"
   ]
  },
  {
   "cell_type": "code",
   "execution_count": 7,
   "id": "967c8869-88dd-4a24-8131-6775f59219d7",
   "metadata": {},
   "outputs": [
    {
     "data": {
      "text/html": [
       "<div>\n",
       "<style scoped>\n",
       "    .dataframe tbody tr th:only-of-type {\n",
       "        vertical-align: middle;\n",
       "    }\n",
       "\n",
       "    .dataframe tbody tr th {\n",
       "        vertical-align: top;\n",
       "    }\n",
       "\n",
       "    .dataframe thead th {\n",
       "        text-align: right;\n",
       "    }\n",
       "</style>\n",
       "<table border=\"1\" class=\"dataframe\">\n",
       "  <thead>\n",
       "    <tr style=\"text-align: right;\">\n",
       "      <th></th>\n",
       "      <th>area</th>\n",
       "      <th>bathrooms</th>\n",
       "      <th>bedrooms</th>\n",
       "      <th>stories</th>\n",
       "      <th>parking</th>\n",
       "      <th>price</th>\n",
       "    </tr>\n",
       "  </thead>\n",
       "  <tbody>\n",
       "    <tr>\n",
       "      <th>542</th>\n",
       "      <td>3620</td>\n",
       "      <td>1</td>\n",
       "      <td>2</td>\n",
       "      <td>1</td>\n",
       "      <td>0</td>\n",
       "      <td>1750000</td>\n",
       "    </tr>\n",
       "    <tr>\n",
       "      <th>496</th>\n",
       "      <td>4000</td>\n",
       "      <td>1</td>\n",
       "      <td>2</td>\n",
       "      <td>1</td>\n",
       "      <td>0</td>\n",
       "      <td>2695000</td>\n",
       "    </tr>\n",
       "    <tr>\n",
       "      <th>484</th>\n",
       "      <td>3040</td>\n",
       "      <td>1</td>\n",
       "      <td>2</td>\n",
       "      <td>1</td>\n",
       "      <td>0</td>\n",
       "      <td>2870000</td>\n",
       "    </tr>\n",
       "    <tr>\n",
       "      <th>507</th>\n",
       "      <td>3600</td>\n",
       "      <td>1</td>\n",
       "      <td>2</td>\n",
       "      <td>1</td>\n",
       "      <td>0</td>\n",
       "      <td>2590000</td>\n",
       "    </tr>\n",
       "    <tr>\n",
       "      <th>252</th>\n",
       "      <td>9860</td>\n",
       "      <td>1</td>\n",
       "      <td>3</td>\n",
       "      <td>1</td>\n",
       "      <td>0</td>\n",
       "      <td>4515000</td>\n",
       "    </tr>\n",
       "  </tbody>\n",
       "</table>\n",
       "</div>"
      ],
      "text/plain": [
       "     area  bathrooms  bedrooms  stories  parking    price\n",
       "542  3620          1         2        1        0  1750000\n",
       "496  4000          1         2        1        0  2695000\n",
       "484  3040          1         2        1        0  2870000\n",
       "507  3600          1         2        1        0  2590000\n",
       "252  9860          1         3        1        0  4515000"
      ]
     },
     "execution_count": 7,
     "metadata": {},
     "output_type": "execute_result"
    }
   ],
   "source": [
    "num_vars=['area','bathrooms','bedrooms', 'stories','parking', 'price']\n",
    "df_Newtrain=df_train[num_vars]\n",
    "df_Newtest=df_test[num_vars]\n",
    "df_Newtrain.head(5)"
   ]
  },
  {
   "cell_type": "code",
   "execution_count": 8,
   "id": "f426a0d0-d375-40b2-8060-9bbd86916ec6",
   "metadata": {},
   "outputs": [
    {
     "data": {
      "text/plain": [
       "(436, 6)"
      ]
     },
     "execution_count": 8,
     "metadata": {},
     "output_type": "execute_result"
    }
   ],
   "source": [
    "df_Newtrain.shape"
   ]
  },
  {
   "cell_type": "code",
   "execution_count": 9,
   "id": "0e8df6f2-c9e8-4d8f-868c-757fea7e6cc5",
   "metadata": {},
   "outputs": [
    {
     "data": {
      "text/plain": [
       "(109, 6)"
      ]
     },
     "execution_count": 9,
     "metadata": {},
     "output_type": "execute_result"
    }
   ],
   "source": [
    "df_Newtest.shape"
   ]
  },
  {
   "cell_type": "code",
   "execution_count": 10,
   "id": "7620f0a3-fb52-42bc-98bb-22d057af5ec0",
   "metadata": {},
   "outputs": [
    {
     "name": "stderr",
     "output_type": "stream",
     "text": [
      "<ipython-input-10-8411c2f314fc>:3: SettingWithCopyWarning: \n",
      "A value is trying to be set on a copy of a slice from a DataFrame.\n",
      "Try using .loc[row_indexer,col_indexer] = value instead\n",
      "\n",
      "See the caveats in the documentation: https://pandas.pydata.org/pandas-docs/stable/user_guide/indexing.html#returning-a-view-versus-a-copy\n",
      "  df_Newtrain[num_vars]=scaler.fit_transform(df_Newtrain[num_vars])\n",
      "C:\\ProgramData\\Anaconda3\\lib\\site-packages\\pandas\\core\\indexing.py:1738: SettingWithCopyWarning: \n",
      "A value is trying to be set on a copy of a slice from a DataFrame.\n",
      "Try using .loc[row_indexer,col_indexer] = value instead\n",
      "\n",
      "See the caveats in the documentation: https://pandas.pydata.org/pandas-docs/stable/user_guide/indexing.html#returning-a-view-versus-a-copy\n",
      "  self._setitem_single_column(loc, value[:, i].tolist(), pi)\n"
     ]
    },
    {
     "data": {
      "text/html": [
       "<div>\n",
       "<style scoped>\n",
       "    .dataframe tbody tr th:only-of-type {\n",
       "        vertical-align: middle;\n",
       "    }\n",
       "\n",
       "    .dataframe tbody tr th {\n",
       "        vertical-align: top;\n",
       "    }\n",
       "\n",
       "    .dataframe thead th {\n",
       "        text-align: right;\n",
       "    }\n",
       "</style>\n",
       "<table border=\"1\" class=\"dataframe\">\n",
       "  <thead>\n",
       "    <tr style=\"text-align: right;\">\n",
       "      <th></th>\n",
       "      <th>area</th>\n",
       "      <th>bathrooms</th>\n",
       "      <th>bedrooms</th>\n",
       "      <th>stories</th>\n",
       "      <th>parking</th>\n",
       "      <th>price</th>\n",
       "    </tr>\n",
       "  </thead>\n",
       "  <tbody>\n",
       "    <tr>\n",
       "      <th>542</th>\n",
       "      <td>0.124199</td>\n",
       "      <td>0.0</td>\n",
       "      <td>0.2</td>\n",
       "      <td>0.0</td>\n",
       "      <td>0.0</td>\n",
       "      <td>0.000000</td>\n",
       "    </tr>\n",
       "    <tr>\n",
       "      <th>496</th>\n",
       "      <td>0.150654</td>\n",
       "      <td>0.0</td>\n",
       "      <td>0.2</td>\n",
       "      <td>0.0</td>\n",
       "      <td>0.0</td>\n",
       "      <td>0.081818</td>\n",
       "    </tr>\n",
       "    <tr>\n",
       "      <th>484</th>\n",
       "      <td>0.083821</td>\n",
       "      <td>0.0</td>\n",
       "      <td>0.2</td>\n",
       "      <td>0.0</td>\n",
       "      <td>0.0</td>\n",
       "      <td>0.096970</td>\n",
       "    </tr>\n",
       "    <tr>\n",
       "      <th>507</th>\n",
       "      <td>0.122807</td>\n",
       "      <td>0.0</td>\n",
       "      <td>0.2</td>\n",
       "      <td>0.0</td>\n",
       "      <td>0.0</td>\n",
       "      <td>0.072727</td>\n",
       "    </tr>\n",
       "    <tr>\n",
       "      <th>252</th>\n",
       "      <td>0.558619</td>\n",
       "      <td>0.0</td>\n",
       "      <td>0.4</td>\n",
       "      <td>0.0</td>\n",
       "      <td>0.0</td>\n",
       "      <td>0.239394</td>\n",
       "    </tr>\n",
       "  </tbody>\n",
       "</table>\n",
       "</div>"
      ],
      "text/plain": [
       "         area  bathrooms  bedrooms  stories  parking     price\n",
       "542  0.124199        0.0       0.2      0.0      0.0  0.000000\n",
       "496  0.150654        0.0       0.2      0.0      0.0  0.081818\n",
       "484  0.083821        0.0       0.2      0.0      0.0  0.096970\n",
       "507  0.122807        0.0       0.2      0.0      0.0  0.072727\n",
       "252  0.558619        0.0       0.4      0.0      0.0  0.239394"
      ]
     },
     "execution_count": 10,
     "metadata": {},
     "output_type": "execute_result"
    }
   ],
   "source": [
    "from sklearn.preprocessing import MinMaxScaler,StandardScaler\n",
    "scaler=MinMaxScaler()\n",
    "df_Newtrain[num_vars]=scaler.fit_transform(df_Newtrain[num_vars])\n",
    "df_Newtrain.head(5)"
   ]
  },
  {
   "cell_type": "code",
   "execution_count": 11,
   "id": "1e731d44-b12e-4fe9-9508-3b1d7aa29a76",
   "metadata": {},
   "outputs": [
    {
     "name": "stdout",
     "output_type": "stream",
     "text": [
      "dataset= [[0.12419939 0.         0.2        0.         0.         0.        ]\n",
      " [0.15065441 0.         0.2        0.         0.         0.08181818]\n",
      " [0.08382066 0.         0.2        0.         0.         0.0969697 ]\n",
      " [0.12280702 0.         0.2        0.         0.         0.07272727]\n",
      " [0.55861877 0.         0.4        0.         0.         0.23939394]\n",
      " [0.14842662 0.         0.4        0.33333333 0.         0.23030303]\n",
      " [0.13951546 0.         0.4        0.33333333 0.33333333 0.24545455]\n",
      " [0.55444166 0.5        0.6        0.33333333 0.66666667 0.3030303 ]\n",
      " [0.12559176 0.         0.2        0.         0.         0.15757576]\n",
      " [0.11723754 0.5        0.2        0.         0.         0.16363636]\n",
      " [0.79114453 0.         0.4        0.33333333 0.66666667 0.6969697 ]\n",
      " [0.06015038 0.         0.2        0.         0.         0.1030303 ]\n",
      " [0.17153996 0.5        1.         0.33333333 0.         0.37515152]\n",
      " [0.18546366 0.         0.2        0.         0.         0.13030303]\n",
      " [0.21992481 0.5        0.6        0.         0.         0.27212121]\n",
      " [0.0858396  0.         0.2        0.         0.33333333 0.12121212]\n",
      " [0.17516012 0.         0.6        0.33333333 0.33333333 0.10606061]\n",
      " [0.49039265 0.5        0.4        0.33333333 0.33333333 0.44848485]\n",
      " [0.77332219 0.         0.4        0.         0.         0.15151515]\n",
      " [0.37064884 0.         0.4        0.         0.66666667 0.35757576]]\n"
     ]
    }
   ],
   "source": [
    "dataset= df_Newtrain.values[:,:]\n",
    "print('dataset=', dataset [:20,:])"
   ]
  },
  {
   "cell_type": "code",
   "execution_count": 12,
   "id": "ccc5b424-30ba-4d25-9134-ccc8ad68b0ea",
   "metadata": {},
   "outputs": [
    {
     "data": {
      "text/plain": [
       "array([0.        , 0.08181818, 0.0969697 , 0.07272727, 0.23939394,\n",
       "       0.23030303, 0.24545455, 0.3030303 , 0.15757576, 0.16363636,\n",
       "       0.6969697 , 0.1030303 , 0.37515152, 0.13030303, 0.27212121,\n",
       "       0.12121212, 0.10606061, 0.44848485, 0.15151515, 0.35757576,\n",
       "       0.15151515, 0.21515152, 0.16969697, 0.2       , 0.05151515,\n",
       "       0.24242424, 0.72727273, 0.16363636, 0.07878788, 0.04181818,\n",
       "       0.03333333, 0.21878788, 0.38787879, 0.39393939, 0.18787879,\n",
       "       0.48484848, 0.57575758, 0.3       , 0.49090909, 0.38787879,\n",
       "       0.27272727, 0.24242424, 0.2       , 0.10909091, 0.48424242,\n",
       "       0.33333333, 0.46666667, 0.72727273, 0.7030303 , 0.17575758,\n",
       "       0.1030303 , 0.07818182, 0.18060606, 0.26060606, 0.53787879,\n",
       "       0.12060606, 0.15151515, 0.25454545, 0.22424242, 0.23939394,\n",
       "       0.00148485, 0.11515152, 0.36363636, 0.32727273, 0.12121212,\n",
       "       0.47272727, 0.09090909, 0.11212121, 0.09393939, 0.00606061,\n",
       "       0.14848485, 0.21212121, 0.28484848, 0.48484848, 0.3030303 ,\n",
       "       0.25454545, 0.27272727, 0.32424242, 0.        , 0.55151515,\n",
       "       0.16666667, 0.61818182, 0.18787879, 0.24242424, 0.04545455,\n",
       "       0.48484848, 0.42424242, 0.58121212, 0.3030303 , 0.4030303 ,\n",
       "       0.30606061, 0.83636364, 0.07393939, 0.3       , 0.24242424,\n",
       "       0.10909091, 0.78787879, 0.33787879, 0.18181818, 0.27272727,\n",
       "       0.34848485, 0.1030303 , 0.36363636, 0.5969697 , 0.44242424,\n",
       "       0.27272727, 0.60606061, 0.07818182, 0.16060606, 0.64848485,\n",
       "       0.3030303 , 0.19393939, 0.09090909, 0.24181818, 0.26363636,\n",
       "       0.0969697 , 0.45454545, 0.06060606, 0.24242424, 0.36363636,\n",
       "       0.42121212, 0.13939394, 0.17515152, 0.13333333, 0.21212121,\n",
       "       0.03030303, 0.04545455, 0.32121212, 0.03030303, 0.13636364,\n",
       "       0.23575758, 0.22787879, 0.17515152, 0.15151515, 0.49090909,\n",
       "       0.27878788, 0.28484848, 0.36969697, 0.10909091, 0.12727273,\n",
       "       0.31515152, 0.38181818, 0.15151515, 0.45757576, 0.06666667,\n",
       "       0.14848485, 0.29090909, 0.0569697 , 0.21818182, 0.06060606,\n",
       "       0.12727273, 0.2030303 , 0.39393939, 0.16909091, 0.10909091,\n",
       "       0.27575758, 0.33333333, 0.33333333, 0.53333333, 0.08484848,\n",
       "       0.1969697 , 0.23939394, 0.21212121, 0.11515152, 0.90909091,\n",
       "       0.26121212, 0.06363636, 0.33333333, 0.24242424, 0.2030303 ,\n",
       "       0.36969697, 0.16666667, 0.3030303 , 0.3030303 , 0.07878788,\n",
       "       0.18181818, 0.10484848, 0.34545455, 0.14545455, 0.23636364,\n",
       "       0.18787879, 0.21212121, 0.11851515, 0.1030303 , 0.23636364,\n",
       "       0.25151515, 0.35151515, 0.55757576, 0.40909091, 0.21212121,\n",
       "       0.5030303 , 0.46060606, 0.27333333, 0.2       , 0.05454545,\n",
       "       0.07878788, 0.18484848, 0.26666667, 0.21212121, 0.21212121,\n",
       "       0.42727273, 0.21212121, 0.54813333, 0.18181818, 0.57575758,\n",
       "       0.07878788, 0.15090909, 0.04848485, 0.20606061, 0.05454545,\n",
       "       0.26666667, 0.57575758, 0.09393939, 0.18181818, 0.32666667,\n",
       "       0.10909091, 0.14545455, 0.34545455, 0.27212121, 0.38484848,\n",
       "       0.14545455, 0.14545455, 0.14242424, 0.26666667, 0.11818182,\n",
       "       0.28484848, 0.26969697, 0.07878788, 0.27272727, 0.24848485,\n",
       "       0.23575758, 0.44545455, 0.59090909, 0.26666667, 0.21212121,\n",
       "       0.26060606, 0.3569697 , 0.37575758, 0.30909091, 0.07878788,\n",
       "       0.10909091, 0.53030303, 0.22424242, 0.13939394, 0.42424242,\n",
       "       0.12848485, 0.16363636, 0.19393939, 0.64848485, 0.21212121,\n",
       "       0.19393939, 0.06363636, 0.23939394, 0.25454545, 0.14484848,\n",
       "       0.32121212, 0.41818182, 0.36363636, 0.58787879, 0.37575758,\n",
       "       0.33333333, 0.33030303, 0.63636364, 0.15151515, 0.18787879,\n",
       "       0.37575758, 0.14242424, 0.34545455, 0.24848485, 0.23575758,\n",
       "       0.17575758, 0.13939394, 0.2       , 0.1969697 , 0.1030303 ,\n",
       "       0.24181818, 0.06666667, 0.06060606, 0.61515152, 0.19393939,\n",
       "       0.21212121, 0.12121212, 0.22727273, 0.16969697, 0.25454545,\n",
       "       0.11818182, 0.90606061, 0.14545455, 0.3630303 , 0.21818182,\n",
       "       0.21515152, 0.42424242, 0.29090909, 0.16363636, 0.12121212,\n",
       "       0.03030303, 0.22242424, 0.21212121, 0.06060606, 0.29393939,\n",
       "       0.56666667, 0.42242424, 0.20909091, 0.23636364, 0.68666667,\n",
       "       0.16969697, 0.13030303, 0.41212121, 0.22969697, 0.54484848,\n",
       "       0.28424242, 0.47272727, 0.52727273, 0.22424242, 0.14545455,\n",
       "       0.49090909, 0.27272727, 0.10848485, 0.00909091, 0.08484848,\n",
       "       0.36363636, 0.26060606, 0.13939394, 0.46060606, 0.1030303 ,\n",
       "       0.16363636, 0.35636364, 0.29090909, 0.5969697 , 0.12727273,\n",
       "       0.51515152, 0.16363636, 0.15151515, 1.        , 0.15757576,\n",
       "       0.27272727, 0.14848485, 0.16666667, 0.07272727, 0.39333333,\n",
       "       0.15151515, 0.17575758, 0.21151515, 0.13939394, 0.21212121,\n",
       "       0.30121212, 0.16666667, 0.23636364, 0.39393939, 0.27757576,\n",
       "       0.39393939, 0.04242424, 0.31818182, 0.3030303 , 0.43636364,\n",
       "       0.21151515, 0.49393939, 0.18181818, 0.16363636, 0.15151515,\n",
       "       0.27272727, 0.21818182, 0.07272727, 0.25454545, 0.33333333,\n",
       "       0.33333333, 0.18787879, 0.3       , 0.17515152, 0.11575758,\n",
       "       0.35151515, 0.35757576, 0.4969697 , 0.12121212, 0.23333333,\n",
       "       0.19545455, 0.27272727, 0.41212121, 0.13878788, 0.36363636,\n",
       "       0.01212121, 0.06060606, 0.04545455, 0.15151515, 0.15757576,\n",
       "       0.40424242, 0.42121212, 0.13333333, 0.22969697, 0.36363636,\n",
       "       0.17272727, 0.21212121, 0.47575758, 0.13939394, 0.0969697 ,\n",
       "       0.1969697 , 0.23636364, 0.16363636, 0.57575758, 0.12727273,\n",
       "       0.51515152, 0.38181818, 0.15151515, 0.18787879, 0.22424242,\n",
       "       0.09545455, 0.48484848, 0.06060606, 0.3569697 , 0.57575758,\n",
       "       0.29393939, 0.11818182, 0.06666667, 0.33030303, 0.24242424,\n",
       "       0.22969697, 0.21212121, 0.13939394, 0.33333333, 0.30242424,\n",
       "       0.39090909, 0.12121212, 0.13333333, 0.36969697, 0.43030303,\n",
       "       0.3030303 , 0.40909091, 0.0969697 , 0.2030303 , 0.15151515,\n",
       "       0.10909091, 0.43636364, 0.22121212, 0.6969697 , 0.16969697,\n",
       "       0.28484848])"
      ]
     },
     "execution_count": 12,
     "metadata": {},
     "output_type": "execute_result"
    }
   ],
   "source": [
    "x1= df_Newtrain.values [:,0]\n",
    "x2= df_Newtrain.values [:,1]\n",
    "x3= df_Newtrain.values [:,2]\n",
    "x4= df_Newtrain.values [:,3]\n",
    "x5= df_Newtrain.values [:,4]\n",
    "y= df_Newtrain.values[:,5]\n",
    "m= len(y)\n",
    "y\n"
   ]
  },
  {
   "cell_type": "code",
   "execution_count": 13,
   "id": "6ddc07d0-a00e-4584-91a4-375b88309ef5",
   "metadata": {},
   "outputs": [
    {
     "name": "stdout",
     "output_type": "stream",
     "text": [
      "x_1= [[0.12419939]\n",
      " [0.15065441]\n",
      " [0.08382066]\n",
      " [0.12280702]\n",
      " [0.55861877]]\n"
     ]
    }
   ],
   "source": [
    "x_1=x1.reshape(m,1)\n",
    "print('x_1=', x_1[:5,:])"
   ]
  },
  {
   "cell_type": "code",
   "execution_count": 14,
   "id": "13ff3d34-b143-4d9f-82d0-a24cfe3e5151",
   "metadata": {},
   "outputs": [],
   "source": [
    "x_2=x2.reshape(m,1)\n",
    "x_3=x3.reshape(m,1)\n",
    "x_4=x4.reshape(m,1)\n",
    "x_5=x5.reshape(m,1)"
   ]
  },
  {
   "cell_type": "code",
   "execution_count": 15,
   "id": "5a1dce2f-5612-402a-bf76-72e4c54d262a",
   "metadata": {},
   "outputs": [
    {
     "data": {
      "text/plain": [
       "(array([[1.],\n",
       "        [1.],\n",
       "        [1.],\n",
       "        [1.],\n",
       "        [1.]]),\n",
       " 436)"
      ]
     },
     "execution_count": 15,
     "metadata": {},
     "output_type": "execute_result"
    }
   ],
   "source": [
    "x_0=np.ones((m,1))\n",
    "x_0[:5], len(x_0)\n"
   ]
  },
  {
   "cell_type": "code",
   "execution_count": 16,
   "id": "63bcb443-4491-4c52-bdab-c98c9089ba8b",
   "metadata": {},
   "outputs": [
    {
     "data": {
      "text/plain": [
       "array([[1.        , 0.12419939, 0.        , 0.2       , 0.        ,\n",
       "        0.        ],\n",
       "       [1.        , 0.15065441, 0.        , 0.2       , 0.        ,\n",
       "        0.        ],\n",
       "       [1.        , 0.08382066, 0.        , 0.2       , 0.        ,\n",
       "        0.        ],\n",
       "       [1.        , 0.12280702, 0.        , 0.2       , 0.        ,\n",
       "        0.        ],\n",
       "       [1.        , 0.55861877, 0.        , 0.4       , 0.        ,\n",
       "        0.        ]])"
      ]
     },
     "execution_count": 16,
     "metadata": {},
     "output_type": "execute_result"
    }
   ],
   "source": [
    "x=np.hstack((x_0, x_1, x_2, x_3, x_4, x_5))\n",
    "x[:5]"
   ]
  },
  {
   "cell_type": "code",
   "execution_count": 17,
   "id": "67eed3ec-202a-4df9-a322-2ee130fddabc",
   "metadata": {},
   "outputs": [
    {
     "name": "stderr",
     "output_type": "stream",
     "text": [
      "<ipython-input-17-76df33ce5514>:1: SettingWithCopyWarning: \n",
      "A value is trying to be set on a copy of a slice from a DataFrame.\n",
      "Try using .loc[row_indexer,col_indexer] = value instead\n",
      "\n",
      "See the caveats in the documentation: https://pandas.pydata.org/pandas-docs/stable/user_guide/indexing.html#returning-a-view-versus-a-copy\n",
      "  df_Newtest[num_vars]=scaler.fit_transform(df_Newtest[num_vars])\n",
      "C:\\ProgramData\\Anaconda3\\lib\\site-packages\\pandas\\core\\indexing.py:1738: SettingWithCopyWarning: \n",
      "A value is trying to be set on a copy of a slice from a DataFrame.\n",
      "Try using .loc[row_indexer,col_indexer] = value instead\n",
      "\n",
      "See the caveats in the documentation: https://pandas.pydata.org/pandas-docs/stable/user_guide/indexing.html#returning-a-view-versus-a-copy\n",
      "  self._setitem_single_column(loc, value[:, i].tolist(), pi)\n"
     ]
    },
    {
     "data": {
      "text/html": [
       "<div>\n",
       "<style scoped>\n",
       "    .dataframe tbody tr th:only-of-type {\n",
       "        vertical-align: middle;\n",
       "    }\n",
       "\n",
       "    .dataframe tbody tr th {\n",
       "        vertical-align: top;\n",
       "    }\n",
       "\n",
       "    .dataframe thead th {\n",
       "        text-align: right;\n",
       "    }\n",
       "</style>\n",
       "<table border=\"1\" class=\"dataframe\">\n",
       "  <thead>\n",
       "    <tr style=\"text-align: right;\">\n",
       "      <th></th>\n",
       "      <th>area</th>\n",
       "      <th>bathrooms</th>\n",
       "      <th>bedrooms</th>\n",
       "      <th>stories</th>\n",
       "      <th>parking</th>\n",
       "      <th>price</th>\n",
       "    </tr>\n",
       "  </thead>\n",
       "  <tbody>\n",
       "    <tr>\n",
       "      <th>239</th>\n",
       "      <td>0.203463</td>\n",
       "      <td>0.0</td>\n",
       "      <td>0.50</td>\n",
       "      <td>0.333333</td>\n",
       "      <td>0.333333</td>\n",
       "      <td>0.270000</td>\n",
       "    </tr>\n",
       "    <tr>\n",
       "      <th>113</th>\n",
       "      <td>0.690043</td>\n",
       "      <td>0.0</td>\n",
       "      <td>0.50</td>\n",
       "      <td>0.000000</td>\n",
       "      <td>0.666667</td>\n",
       "      <td>0.412667</td>\n",
       "    </tr>\n",
       "    <tr>\n",
       "      <th>325</th>\n",
       "      <td>0.156710</td>\n",
       "      <td>0.0</td>\n",
       "      <td>0.75</td>\n",
       "      <td>0.333333</td>\n",
       "      <td>0.000000</td>\n",
       "      <td>0.215000</td>\n",
       "    </tr>\n",
       "    <tr>\n",
       "      <th>66</th>\n",
       "      <td>1.000000</td>\n",
       "      <td>0.0</td>\n",
       "      <td>0.25</td>\n",
       "      <td>0.000000</td>\n",
       "      <td>0.333333</td>\n",
       "      <td>0.493333</td>\n",
       "    </tr>\n",
       "    <tr>\n",
       "      <th>479</th>\n",
       "      <td>0.174026</td>\n",
       "      <td>0.0</td>\n",
       "      <td>0.75</td>\n",
       "      <td>0.333333</td>\n",
       "      <td>0.000000</td>\n",
       "      <td>0.113333</td>\n",
       "    </tr>\n",
       "  </tbody>\n",
       "</table>\n",
       "</div>"
      ],
      "text/plain": [
       "         area  bathrooms  bedrooms   stories   parking     price\n",
       "239  0.203463        0.0      0.50  0.333333  0.333333  0.270000\n",
       "113  0.690043        0.0      0.50  0.000000  0.666667  0.412667\n",
       "325  0.156710        0.0      0.75  0.333333  0.000000  0.215000\n",
       "66   1.000000        0.0      0.25  0.000000  0.333333  0.493333\n",
       "479  0.174026        0.0      0.75  0.333333  0.000000  0.113333"
      ]
     },
     "execution_count": 17,
     "metadata": {},
     "output_type": "execute_result"
    }
   ],
   "source": [
    "df_Newtest[num_vars]=scaler.fit_transform(df_Newtest[num_vars])\n",
    "df_Newtest.head(5)\n"
   ]
  },
  {
   "cell_type": "code",
   "execution_count": 18,
   "id": "707e30bd-d61c-4c4f-b237-4b1b52ef2220",
   "metadata": {},
   "outputs": [
    {
     "name": "stdout",
     "output_type": "stream",
     "text": [
      "dataset= [[0.2034632  0.         0.5        0.33333333 0.33333333 0.27      ]\n",
      " [0.69004329 0.         0.5        0.         0.66666667 0.41266667]\n",
      " [0.15670996 0.         0.75       0.33333333 0.         0.215     ]\n",
      " [1.         0.         0.25       0.         0.33333333 0.49333333]\n",
      " [0.17402597 0.         0.75       0.33333333 0.         0.11333333]\n",
      " [0.40692641 0.33333333 0.5        0.66666667 0.         0.42333333]\n",
      " [0.19047619 0.         0.5        0.         0.66666667 0.17      ]\n",
      " [0.15844156 0.         0.5        0.33333333 0.33333333 0.11333333]\n",
      " [0.16121212 0.         0.25       0.         0.33333333 0.16666667]\n",
      " [0.63636364 0.33333333 0.75       1.         0.66666667 0.59333333]\n",
      " [0.37662338 0.33333333 0.75       1.         0.         0.47666667]\n",
      " [0.2        0.         0.5        0.33333333 0.         0.21333333]\n",
      " [0.15584416 0.         0.5        0.33333333 0.         0.13333333]\n",
      " [0.38181818 0.         0.5        0.         0.         0.14666667]\n",
      " [0.37532468 0.         0.5        0.         0.         0.22666667]\n",
      " [0.06753247 0.         0.5        0.         0.         0.08666667]\n",
      " [0.28138528 0.         0.25       0.33333333 0.         0.25333333]\n",
      " [0.37835498 0.         0.5        0.         0.         0.18666667]\n",
      " [0.12554113 0.         0.5        0.33333333 0.         0.15333333]\n",
      " [0.24675325 0.         0.25       0.         0.66666667 0.24      ]]\n"
     ]
    }
   ],
   "source": [
    "dataset_test= df_Newtest.values[:,:]\n",
    "print('dataset=', dataset_test[:20,:])"
   ]
  },
  {
   "cell_type": "code",
   "execution_count": 19,
   "id": "a0920d50-edfa-4c6c-86f9-c18c1c36b291",
   "metadata": {},
   "outputs": [
    {
     "data": {
      "text/plain": [
       "array([0.2034632 , 0.69004329, 0.15670996, 1.        , 0.17402597,\n",
       "       0.40692641, 0.19047619, 0.15844156, 0.16121212, 0.63636364,\n",
       "       0.37662338, 0.2       , 0.15584416, 0.38181818, 0.37532468,\n",
       "       0.06753247, 0.28138528, 0.37835498, 0.12554113, 0.24675325,\n",
       "       0.56277056, 0.41558442, 0.29004329, 0.004329  , 0.41298701,\n",
       "       0.12987013, 0.46320346, 0.34891775, 0.14285714, 0.41298701,\n",
       "       0.23809524, 0.05411255, 0.58441558, 0.20692641, 0.12727273,\n",
       "       0.41471861, 0.37662338, 0.12      , 0.15584416, 0.04545455,\n",
       "       0.59307359, 0.36796537, 0.35930736, 0.33290043, 0.16190476,\n",
       "       0.37662338, 0.21731602, 0.20692641, 0.20744589, 0.35064935,\n",
       "       0.27619048, 0.69411255, 0.        , 0.19047619, 0.36623377,\n",
       "       0.35238095, 0.57142857, 0.25887446, 0.16883117, 0.46320346,\n",
       "       0.97402597, 0.42857143, 0.04199134, 0.37662338, 0.08571429,\n",
       "       0.10103896, 0.47662338, 0.23896104, 0.24675325, 0.4025974 ,\n",
       "       0.04285714, 0.33333333, 0.16883117, 0.22597403, 0.18441558,\n",
       "       0.10562771, 0.15324675, 0.6       , 0.10909091, 0.2034632 ,\n",
       "       0.04285714, 0.5225974 , 0.24761905, 0.47636364, 0.25541126,\n",
       "       0.13766234, 0.15324675, 0.35930736, 0.12987013, 0.20995671,\n",
       "       0.49991342, 0.63636364, 0.17229437, 0.12987013, 0.04285714,\n",
       "       0.63290043, 0.04415584, 0.42424242, 0.52987013, 0.58441558,\n",
       "       0.76623377, 0.15844156, 0.09844156, 0.11688312, 0.41298701,\n",
       "       0.30735931, 0.38181818, 0.24675325, 0.38528139])"
      ]
     },
     "execution_count": 19,
     "metadata": {},
     "output_type": "execute_result"
    }
   ],
   "source": [
    "x1t= df_Newtest.values [:,0]\n",
    "x2t= df_Newtest.values [:,1]\n",
    "x3t= df_Newtest.values [:,2]\n",
    "x4t= df_Newtest.values [:,3]\n",
    "x5t= df_Newtest.values [:,4]\n",
    "yt= df_Newtest.values[:,5]\n",
    "n= len(yt)\n",
    "x1t"
   ]
  },
  {
   "cell_type": "code",
   "execution_count": 20,
   "id": "aba11696-a4b8-4b26-84be-aa4ecf79fb07",
   "metadata": {},
   "outputs": [
    {
     "data": {
      "text/plain": [
       "array([0.27      , 0.41266667, 0.215     , 0.49333333, 0.11333333,\n",
       "       0.42333333, 0.17      , 0.11333333, 0.16666667, 0.59333333,\n",
       "       0.47666667, 0.21333333, 0.13333333, 0.14666667, 0.22666667,\n",
       "       0.08666667, 0.25333333, 0.18666667, 0.15333333, 0.24      ,\n",
       "       0.31      , 0.346     , 0.44666667, 0.01333333, 0.41666667,\n",
       "       0.35333333, 0.386     , 0.27333333, 0.36      , 0.4       ,\n",
       "       0.24333333, 0.18      , 0.33333333, 0.15      , 0.186     ,\n",
       "       0.286     , 0.7       , 0.16666667, 0.13333333, 0.24      ,\n",
       "       0.68666667, 0.22      , 0.38      , 0.13133333, 0.17933333,\n",
       "       0.55333333, 0.27333333, 0.14666667, 0.23      , 0.46666667,\n",
       "       0.23      , 0.28      , 0.13333333, 0.2       , 0.14666667,\n",
       "       0.31666667, 0.45333333, 0.38      , 0.19333333, 0.29      ,\n",
       "       0.3       , 0.35333333, 0.16666667, 0.55      , 0.10333333,\n",
       "       0.35666667, 0.66      , 0.23333333, 0.23333333, 0.3       ,\n",
       "       0.15066667, 0.42333333, 0.22366667, 0.46666667, 0.20333333,\n",
       "       0.27333333, 0.02      , 0.44666667, 0.        , 0.17666667,\n",
       "       0.14666667, 0.30666667, 0.27266667, 0.2       , 0.16666667,\n",
       "       0.415     , 0.19333333, 0.3       , 0.17333333, 0.24666667,\n",
       "       0.16666667, 0.43333333, 0.15666667, 0.19666667, 0.20666667,\n",
       "       1.        , 0.12666667, 0.72      , 0.24      , 0.19333333,\n",
       "       0.36666667, 0.14666667, 0.06      , 0.32      , 0.46666667,\n",
       "       0.38666667, 0.226     , 0.12666667, 0.36      ])"
      ]
     },
     "execution_count": 20,
     "metadata": {},
     "output_type": "execute_result"
    }
   ],
   "source": [
    "yt"
   ]
  },
  {
   "cell_type": "code",
   "execution_count": 21,
   "id": "1a0e9683-f034-4aac-93f1-126cf5cf3398",
   "metadata": {},
   "outputs": [
    {
     "data": {
      "text/plain": [
       "(array([[1.],\n",
       "        [1.],\n",
       "        [1.],\n",
       "        [1.],\n",
       "        [1.]]),\n",
       " 436)"
      ]
     },
     "execution_count": 21,
     "metadata": {},
     "output_type": "execute_result"
    }
   ],
   "source": [
    "x_1t=x1t.reshape(n,1)\n",
    "x_2t=x2t.reshape(n,1)\n",
    "x_3t=x3t.reshape(n,1)\n",
    "x_4t=x4t.reshape(n,1)\n",
    "x_5t=x5t.reshape(n,1)\n",
    "x_0t=np.ones((n,1))\n",
    "x_0t[:5], len(x_0)\n"
   ]
  },
  {
   "cell_type": "code",
   "execution_count": 22,
   "id": "f6538b9a-82a2-4a4c-aa6d-46c2f72bdaed",
   "metadata": {},
   "outputs": [
    {
     "data": {
      "text/plain": [
       "array([[1.        , 0.2034632 , 0.        , 0.5       , 0.33333333,\n",
       "        0.33333333],\n",
       "       [1.        , 0.69004329, 0.        , 0.5       , 0.        ,\n",
       "        0.66666667],\n",
       "       [1.        , 0.15670996, 0.        , 0.75      , 0.33333333,\n",
       "        0.        ],\n",
       "       [1.        , 1.        , 0.        , 0.25      , 0.        ,\n",
       "        0.33333333],\n",
       "       [1.        , 0.17402597, 0.        , 0.75      , 0.33333333,\n",
       "        0.        ]])"
      ]
     },
     "execution_count": 22,
     "metadata": {},
     "output_type": "execute_result"
    }
   ],
   "source": [
    "xt=np.hstack((x_0t, x_1t, x_2t, x_3t, x_4t, x_5t))\n",
    "xt[:5]"
   ]
  },
  {
   "cell_type": "code",
   "execution_count": 23,
   "id": "dbfe5e69-0633-444b-9ec2-6613f00734e4",
   "metadata": {},
   "outputs": [
    {
     "data": {
      "text/plain": [
       "array([[0.],\n",
       "       [0.],\n",
       "       [0.],\n",
       "       [0.],\n",
       "       [0.],\n",
       "       [0.]])"
      ]
     },
     "execution_count": 23,
     "metadata": {},
     "output_type": "execute_result"
    }
   ],
   "source": [
    "theta=np.zeros((6,1))\n",
    "theta"
   ]
  },
  {
   "cell_type": "code",
   "execution_count": 24,
   "id": "8f290e52-d51c-4554-8156-8de816b8dca2",
   "metadata": {},
   "outputs": [],
   "source": [
    "def compute_loss(x,y, theta):\n",
    "    \n",
    "    predictions = x.dot(theta)\n",
    "    errors = np.subtract(predictions, y)\n",
    "    sqrErrors = np.square(errors)\n",
    "    J= 1 / (2 * m) * np.sum(sqrErrors) \n",
    "    \n",
    "    return J"
   ]
  },
  {
   "cell_type": "code",
   "execution_count": 25,
   "id": "ae95cc20-fd93-4810-be82-b5f1c9f57a29",
   "metadata": {},
   "outputs": [
    {
     "name": "stdout",
     "output_type": "stream",
     "text": [
      "The cost for given values of theta_0,_1,_2,_3, ..., -6 is: 20.934727519081726\n"
     ]
    }
   ],
   "source": [
    "cost = compute_loss(x, y, theta)\n",
    "print('The cost for given values of theta_0,_1,_2,_3, ..., -6 is:', cost)"
   ]
  },
  {
   "cell_type": "code",
   "execution_count": 26,
   "id": "0b88f827-9dc6-4ba8-b372-ed68139eef6e",
   "metadata": {},
   "outputs": [],
   "source": [
    "def gradient_descent(x, y, theta, alpha, iterations,xt,yt):\n",
    "    \n",
    "    loss_history= np.zeros(iterations)\n",
    "    t_loss_history= np.zeros(iterations)  \n",
    "    \n",
    "    for i in range(iterations):\n",
    "        predictions= x.dot(theta)\n",
    "        errors=np.subtract(predictions, y)\n",
    "        sum_delta=(alpha/ m)* x.transpose().dot(errors)\n",
    "        theta= theta - sum_delta\n",
    "        loss_history[i]= compute_loss(x,y,theta)\n",
    "        t_loss_history[i]=compute_loss(xt,yt,theta)\n",
    "        \n",
    "        \n",
    "    return theta, loss_history,t_loss_history"
   ]
  },
  {
   "cell_type": "code",
   "execution_count": 27,
   "id": "5a396577-b004-48b1-8abc-7230b04e8ae8",
   "metadata": {},
   "outputs": [],
   "source": [
    "theta=[0,0,0,0,0,0]\n",
    "iterations=5000;\n",
    "alpha=0.01;"
   ]
  },
  {
   "cell_type": "code",
   "execution_count": 28,
   "id": "666dcb95-e926-42be-ab54-e7e77bdc725c",
   "metadata": {},
   "outputs": [
    {
     "name": "stdout",
     "output_type": "stream",
     "text": [
      "Final value of theta= [0.06201977 0.28374771 0.20680751 0.10037865 0.14105219 0.11979515]\n",
      "loss_history= [0.04697501 0.04596297 0.04497855 ... 0.00630829 0.00630821 0.00630813]\n",
      "validation_loss_history= [0.01300141 0.01272153 0.01244911 ... 0.00129497 0.00129496 0.00129495]\n"
     ]
    }
   ],
   "source": [
    "theta, loss_history,t_loss_history = gradient_descent(x,y, theta, alpha, iterations,xt,yt)\n",
    "print('Final value of theta=', theta)\n",
    "print('loss_history=', loss_history)\n",
    "print('validation_loss_history=', t_loss_history)"
   ]
  },
  {
   "cell_type": "code",
   "execution_count": 30,
   "id": "42ca19c6-9710-45fa-873f-05d5ebe1aab9",
   "metadata": {},
   "outputs": [
    {
     "data": {
      "text/plain": [
       "Text(0.5, 1.0, 'Convergence of gradient descent')"
      ]
     },
     "execution_count": 30,
     "metadata": {},
     "output_type": "execute_result"
    },
    {
     "data": {
      "image/png": "[encoded data removed]",
      "text/plain": [
       "<Figure size 720x432 with 1 Axes>"
      ]
     },
     "metadata": {
      "needs_background": "light"
     },
     "output_type": "display_data"
    }
   ],
   "source": [
    "plt.plot(range(1, iterations +1), loss_history, color='blue')\n",
    "plt.plot(range(1, iterations +1), t_loss_history, color='green')\n",
    "plt.rcParams[\"figure.figsize\"]= (10,6)\n",
    "plt.grid()\n",
    "plt.xlabel('Number of iterations')\n",
    "plt.ylabel('loss (J)')\n",
    "plt.title('Convergence of gradient descent')"
   ]
  },
  {
   "cell_type": "code",
   "execution_count": null,
   "id": "9188d707-80d0-44d8-8e60-1d24b04f9274",
   "metadata": {},
   "outputs": [],
   "source": []
  },
  {
   "cell_type": "code",
   "execution_count": null,
   "id": "2c192d21-24b6-4a3c-8cc0-575f6732255b",
   "metadata": {},
   "outputs": [],
   "source": []
  },
  {
   "cell_type": "code",
   "execution_count": null,
   "id": "f8addd6e-0e02-4ae7-a25c-a140f5547498",
   "metadata": {},
   "outputs": [],
   "source": []
  },
  {
   "cell_type": "code",
   "execution_count": null,
   "id": "98c4baff-885d-4b00-82f8-f0785afe82be",
   "metadata": {},
   "outputs": [],
   "source": []
  },
  {
   "cell_type": "code",
   "execution_count": null,
   "id": "a2319c36-fef5-4746-9820-8091c5febf1d",
   "metadata": {},
   "outputs": [],
   "source": []
  }
 ],
 "metadata": {
  "kernelspec": {
   "display_name": "Python 3",
   "language": "python",
   "name": "python3"
  },
  "language_info": {
   "codemirror_mode": {
    "name": "ipython",
    "version": 3
   },
   "file_extension": ".py",
   "mimetype": "text/x-python",
   "name": "python",
   "nbconvert_exporter": "python",
   "pygments_lexer": "ipython3",
   "version": "3.8.8"
  }
 },
 "nbformat": 4,
 "nbformat_minor": 5
}
