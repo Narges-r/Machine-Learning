{
 "cells": [
  {
   "cell_type": "code",
   "execution_count": 3,
   "id": "a0929fe1-1bd5-4be5-a266-cec48d963659",
   "metadata": {},
   "outputs": [],
   "source": [
    "import numpy as np\n",
    "import pandas as pd\n",
    "import matplotlib.pyplot  as  plt"
   ]
  },
  {
   "cell_type": "code",
   "execution_count": 4,
   "id": "acac9b20-c80d-4d79-b2bc-fc43f75b0bfc",
   "metadata": {},
   "outputs": [],
   "source": [
    "df=pd.read_csv('Documents/D3.csv')\n"
   ]
  },
  {
   "cell_type": "code",
   "execution_count": 5,
   "id": "77bac34a-8ebf-450a-a038-52987f1c6976",
   "metadata": {},
   "outputs": [
    {
     "data": {
      "text/html": [
       "<div>\n",
       "<style scoped>\n",
       "    .dataframe tbody tr th:only-of-type {\n",
       "        vertical-align: middle;\n",
       "    }\n",
       "\n",
       "    .dataframe tbody tr th {\n",
       "        vertical-align: top;\n",
       "    }\n",
       "\n",
       "    .dataframe thead th {\n",
       "        text-align: right;\n",
       "    }\n",
       "</style>\n",
       "<table border=\"1\" class=\"dataframe\">\n",
       "  <thead>\n",
       "    <tr style=\"text-align: right;\">\n",
       "      <th></th>\n",
       "      <th>X1</th>\n",
       "      <th>X2</th>\n",
       "      <th>X3</th>\n",
       "      <th>Y</th>\n",
       "    </tr>\n",
       "  </thead>\n",
       "  <tbody>\n",
       "    <tr>\n",
       "      <th>0</th>\n",
       "      <td>0.000000</td>\n",
       "      <td>3.440000</td>\n",
       "      <td>0.440000</td>\n",
       "      <td>4.387545</td>\n",
       "    </tr>\n",
       "    <tr>\n",
       "      <th>1</th>\n",
       "      <td>0.040404</td>\n",
       "      <td>0.134949</td>\n",
       "      <td>0.888485</td>\n",
       "      <td>2.679650</td>\n",
       "    </tr>\n",
       "    <tr>\n",
       "      <th>2</th>\n",
       "      <td>0.080808</td>\n",
       "      <td>0.829899</td>\n",
       "      <td>1.336970</td>\n",
       "      <td>2.968490</td>\n",
       "    </tr>\n",
       "    <tr>\n",
       "      <th>3</th>\n",
       "      <td>0.121212</td>\n",
       "      <td>1.524848</td>\n",
       "      <td>1.785455</td>\n",
       "      <td>3.254065</td>\n",
       "    </tr>\n",
       "    <tr>\n",
       "      <th>4</th>\n",
       "      <td>0.161616</td>\n",
       "      <td>2.219798</td>\n",
       "      <td>2.233939</td>\n",
       "      <td>3.536375</td>\n",
       "    </tr>\n",
       "    <tr>\n",
       "      <th>...</th>\n",
       "      <td>...</td>\n",
       "      <td>...</td>\n",
       "      <td>...</td>\n",
       "      <td>...</td>\n",
       "    </tr>\n",
       "    <tr>\n",
       "      <th>95</th>\n",
       "      <td>3.838384</td>\n",
       "      <td>1.460202</td>\n",
       "      <td>3.046061</td>\n",
       "      <td>-4.440595</td>\n",
       "    </tr>\n",
       "    <tr>\n",
       "      <th>96</th>\n",
       "      <td>3.878788</td>\n",
       "      <td>2.155152</td>\n",
       "      <td>3.494545</td>\n",
       "      <td>-4.458663</td>\n",
       "    </tr>\n",
       "    <tr>\n",
       "      <th>97</th>\n",
       "      <td>3.919192</td>\n",
       "      <td>2.850101</td>\n",
       "      <td>3.943030</td>\n",
       "      <td>-4.479995</td>\n",
       "    </tr>\n",
       "    <tr>\n",
       "      <th>98</th>\n",
       "      <td>3.959596</td>\n",
       "      <td>3.545051</td>\n",
       "      <td>0.391515</td>\n",
       "      <td>-3.304593</td>\n",
       "    </tr>\n",
       "    <tr>\n",
       "      <th>99</th>\n",
       "      <td>4.000000</td>\n",
       "      <td>0.240000</td>\n",
       "      <td>0.840000</td>\n",
       "      <td>-5.332455</td>\n",
       "    </tr>\n",
       "  </tbody>\n",
       "</table>\n",
       "<p>100 rows × 4 columns</p>\n",
       "</div>"
      ],
      "text/plain": [
       "          X1        X2        X3         Y\n",
       "0   0.000000  3.440000  0.440000  4.387545\n",
       "1   0.040404  0.134949  0.888485  2.679650\n",
       "2   0.080808  0.829899  1.336970  2.968490\n",
       "3   0.121212  1.524848  1.785455  3.254065\n",
       "4   0.161616  2.219798  2.233939  3.536375\n",
       "..       ...       ...       ...       ...\n",
       "95  3.838384  1.460202  3.046061 -4.440595\n",
       "96  3.878788  2.155152  3.494545 -4.458663\n",
       "97  3.919192  2.850101  3.943030 -4.479995\n",
       "98  3.959596  3.545051  0.391515 -3.304593\n",
       "99  4.000000  0.240000  0.840000 -5.332455\n",
       "\n",
       "[100 rows x 4 columns]"
      ]
     },
     "execution_count": 5,
     "metadata": {},
     "output_type": "execute_result"
    }
   ],
   "source": [
    "df.head(100)"
   ]
  },
  {
   "cell_type": "code",
   "execution_count": 6,
   "id": "a402f908-08a2-4c41-9135-d0685b76252c",
   "metadata": {},
   "outputs": [
    {
     "name": "stdout",
     "output_type": "stream",
     "text": [
      "dataset= [[ 0.          3.44        0.44        4.38754501]\n",
      " [ 0.04040404  0.1349495   0.88848485  2.6796499 ]\n",
      " [ 0.08080808  0.82989899  1.3369697   2.96848981]\n",
      " [ 0.12121212  1.52484848  1.78545454  3.25406475]\n",
      " [ 0.16161616  2.21979798  2.23393939  3.53637472]\n",
      " [ 0.2020202   2.91474747  2.68242424  3.81541972]\n",
      " [ 0.24242424  3.60969697  3.13090909  4.09119974]\n",
      " [ 0.28282828  0.30464646  3.57939394  2.36371479]\n",
      " [ 0.32323232  0.99959596  0.02787879  3.83296487]\n",
      " [ 0.36363636  1.69454546  0.47636364  4.09894997]\n",
      " [ 0.4040404   2.38949495  0.92484849  4.3616701 ]\n",
      " [ 0.44444444  3.08444444  1.37333333  4.62112526]\n",
      " [ 0.48484848  3.77939394  1.82181818  4.87731544]\n",
      " [ 0.52525252  0.47434343  2.27030303  3.13024065]\n",
      " [ 0.56565657  1.16929293  2.71878788  3.37990089]\n",
      " [ 0.60606061  1.86424242  3.16727273  3.62629616]\n",
      " [ 0.64646465  2.55919192  3.61575758  3.86942645]\n",
      " [ 0.68686869  3.25414141  0.06424242  5.30929177]\n",
      " [ 0.72727273  3.94909091  0.51272727  5.54589212]\n",
      " [ 0.76767677  0.6440404   0.96121212  3.77922749]\n",
      " [ 0.80808081  1.3389899   1.40969697  4.00929789]\n",
      " [ 0.84848485  2.03393939  1.85818182  4.23610332]\n",
      " [ 0.88888889  2.72888889  2.30666667  4.45964378]\n",
      " [ 0.92929293  3.42383838  2.75515152  4.67991926]\n",
      " [ 0.96969697  0.11878788  3.20363636  2.89692977]\n",
      " [ 1.01010101  0.81373737  3.65212121  3.1106753 ]\n",
      " [ 1.05050505  1.50868687  0.10060606  4.52115587]\n",
      " [ 1.09090909  2.20363636  0.54909091  4.72837146]\n",
      " [ 1.13131313  2.89858586  0.99757576  4.93232208]\n",
      " [ 1.17171717  3.59353535  1.44606061  5.13300772]\n",
      " [ 1.21212121  0.28848485  1.89454546  3.33042839]\n",
      " [ 1.25252525  0.98343434  2.3430303   3.52458409]\n",
      " [ 1.29292929  1.67838384  2.79151515  3.71547481]\n",
      " [ 1.33333333  2.37333333  3.24        3.90310057]\n",
      " [ 1.37373737  3.06828283  3.68848485  4.08746135]\n",
      " [ 1.41414141  3.76323232  0.1369697   5.46855715]\n",
      " [ 1.45454546  0.45818182  0.58545455  3.64638799]\n",
      " [ 1.49494949  1.15313131  1.03393939  3.82095385]\n",
      " [ 1.53535354  1.84808081  1.48242424  3.99225473]\n",
      " [ 1.57575758  2.5430303   1.93090909  4.16029065]\n",
      " [ 1.61616162  3.2379798   2.37939394  4.32506159]\n",
      " [ 1.65656566  3.93292929  2.82787879  4.48656756]\n",
      " [ 1.6969697   0.62787879  3.27636364  2.64480856]\n",
      " [ 1.73737374  1.32282828  3.72484848  2.79978458]\n",
      " [ 1.77777778  2.01777778  0.17333333  4.15149563]\n",
      " [ 1.81818182  2.71272727  0.62181818  4.29994171]\n",
      " [ 1.85858586  3.40767677  1.07030303  4.44512281]\n",
      " [ 1.8989899   0.10262626  1.51878788  2.58703894]\n",
      " [ 1.93939394  0.79757576  1.96727273  2.7256901 ]\n",
      " [ 1.97979798  1.49252525  2.41575758  2.86107628]\n",
      " [ 2.02020202  2.18747475  2.86424242  2.99319749]\n",
      " [ 2.06060606  2.88242424  3.31272727  3.12205374]\n",
      " [ 2.1010101   3.57737374  3.76121212  3.247645  ]\n",
      " [ 2.14141414  0.27232323  0.20969697  2.56997129]\n",
      " [ 2.18181818  0.96727273  0.65818182  2.68903261]\n",
      " [ 2.22222222  1.66222222  1.10666667  2.80482896]\n",
      " [ 2.26262626  2.35717172  1.55515151  2.91736034]\n",
      " [ 2.3030303   3.05212121  2.00363636  3.02662674]\n",
      " [ 2.34343434  3.74707071  2.45212121  3.13262817]\n",
      " [ 2.38383838  0.4420202   2.90060606  1.23536462]\n",
      " [ 2.42424242  1.1369697   3.34909091  1.3348361 ]\n",
      " [ 2.46464646  1.83191919  3.79757576  1.43104261]\n",
      " [ 2.5050505   2.52686869  0.24606061  2.72398415]\n",
      " [ 2.54545455  3.22181818  0.69454545  2.81366071]\n",
      " [ 2.58585859  3.91676768  1.1430303   2.9000723 ]\n",
      " [ 2.62626263  0.61171717  1.59151515  0.98321892]\n",
      " [ 2.66666667  1.30666667  2.04        1.06310057]\n",
      " [ 2.70707071  2.00161616  2.48848485  1.13971724]\n",
      " [ 2.74747475  2.69656566  2.9369697   1.21306894]\n",
      " [ 2.78787879  3.39151515  3.38545454  1.28315566]\n",
      " [ 2.82828283  0.08646465  3.83393939 -0.65002258]\n",
      " [ 2.86868687  0.78141414  0.28242424  0.6135342 ]\n",
      " [ 2.90909091  1.47636364  0.73090909  0.673826  ]\n",
      " [ 2.94949495  2.17131313  1.17939394  0.73085284]\n",
      " [ 2.98989899  2.86626263  1.62787879  0.7846147 ]\n",
      " [ 3.03030303  3.56121212  2.07636364  0.83511159]\n",
      " [ 3.07070707  0.25616162  2.52484849 -1.1176565 ]\n",
      " [ 3.11111111  0.95111111  2.97333333 -1.07368956]\n",
      " [ 3.15151515  1.64606061  3.42181818 -1.03298759]\n",
      " [ 3.19191919  2.3410101   3.87030303 -0.99555059]\n",
      " [ 3.23232323  3.0359596   0.31878788  0.23862143]\n",
      " [ 3.27272727  3.73090909  0.76727273  0.26952848]\n",
      " [ 3.31313131  0.42585859  1.21575758 -1.70282944]\n",
      " [ 3.35353535  1.12080808  1.66424242 -1.67845234]\n",
      " [ 3.39393939  1.81575758  2.11272727 -1.6573402 ]\n",
      " [ 3.43434343  2.51070707  2.56121212 -1.63949305]\n",
      " [ 3.47474748  3.20565657  3.00969697 -1.62491086]\n",
      " [ 3.51515151  3.90060606  3.45818182 -1.61359365]\n",
      " [ 3.55555556  0.59555556  3.90666667 -3.60554141]\n",
      " [ 3.5959596   1.29050505  0.35515151 -2.40075414]\n",
      " [ 3.63636364  1.98545455  0.80363636 -2.39923185]\n",
      " [ 3.67676768  2.68040404  1.25212121 -2.40097453]\n",
      " [ 3.71717172  3.37535353  1.70060606 -2.40598218]\n",
      " [ 3.75757576  0.07030303  2.14909091 -4.4142548 ]\n",
      " [ 3.7979798   0.76525252  2.59757576 -4.4257924 ]\n",
      " [ 3.83838384  1.46020202  3.04606061 -4.44059497]\n",
      " [ 3.87878788  2.15515152  3.49454545 -4.45866252]\n",
      " [ 3.91919192  2.85010101  3.9430303  -4.47999504]\n",
      " [ 3.95959596  3.5450505   0.39151515 -3.30459253]\n",
      " [ 4.          0.24        0.84       -5.33245499]]\n"
     ]
    }
   ],
   "source": [
    "dataset= df.values[:,:]\n",
    "print('dataset=', dataset [:100,:])"
   ]
  },
  {
   "cell_type": "code",
   "execution_count": 7,
   "id": "4867f10a-fdd6-46f1-9776-e1e8ad4dede5",
   "metadata": {},
   "outputs": [],
   "source": [
    "x1=df.values [:,0]\n",
    "x2=df.values [:,1]\n",
    "x3=df.values [:,2]\n",
    "y=df.values[:,3]\n",
    "m= len(y)"
   ]
  },
  {
   "cell_type": "code",
   "execution_count": 8,
   "id": "d9536ce6-28eb-487b-a5b6-48662d707c6f",
   "metadata": {},
   "outputs": [
    {
     "name": "stdout",
     "output_type": "stream",
     "text": [
      "x_1= [[0.        ]\n",
      " [0.04040404]\n",
      " [0.08080808]\n",
      " [0.12121212]\n",
      " [0.16161616]]\n",
      "x_2= [[3.44      ]\n",
      " [0.1349495 ]\n",
      " [0.82989899]\n",
      " [1.52484848]\n",
      " [2.21979798]]\n",
      "x_3= [[0.44      ]\n",
      " [0.88848485]\n",
      " [1.3369697 ]\n",
      " [1.78545454]\n",
      " [2.23393939]]\n",
      "x_0= [[1.]\n",
      " [1.]\n",
      " [1.]\n",
      " [1.]\n",
      " [1.]]\n"
     ]
    }
   ],
   "source": [
    "x_1=x1.reshape(m,1)\n",
    "print('x_1=', x_1[:5,:])\n",
    "x_2=x2.reshape(m,1)\n",
    "print('x_2=', x_2[:5,:])\n",
    "x_3=x3.reshape(m,1)\n",
    "print('x_3=', x_3[:5,:])\n",
    "x_0=np.ones((m,1))\n",
    "print('x_0=', x_0[:5,:])"
   ]
  },
  {
   "cell_type": "code",
   "execution_count": 9,
   "id": "06af6e54-69a2-421b-b3f2-f7c2f0deabfb",
   "metadata": {},
   "outputs": [
    {
     "data": {
      "text/plain": [
       "array([[1.        , 0.        , 3.44      , 0.44      ],\n",
       "       [1.        , 0.04040404, 0.1349495 , 0.88848485],\n",
       "       [1.        , 0.08080808, 0.82989899, 1.3369697 ],\n",
       "       [1.        , 0.12121212, 1.52484848, 1.78545454],\n",
       "       [1.        , 0.16161616, 2.21979798, 2.23393939]])"
      ]
     },
     "execution_count": 9,
     "metadata": {},
     "output_type": "execute_result"
    }
   ],
   "source": [
    "x=np.hstack((x_0, x_1, x_2, x_3))\n",
    "x[:5]"
   ]
  },
  {
   "cell_type": "code",
   "execution_count": 10,
   "id": "6bb9947a-1ca5-4783-a5cd-1f9f0af52e1b",
   "metadata": {},
   "outputs": [
    {
     "data": {
      "text/plain": [
       "array([[0.],\n",
       "       [0.],\n",
       "       [0.],\n",
       "       [0.]])"
      ]
     },
     "execution_count": 10,
     "metadata": {},
     "output_type": "execute_result"
    }
   ],
   "source": [
    "theta=np.zeros((4,1))\n",
    "theta"
   ]
  },
  {
   "cell_type": "code",
   "execution_count": 11,
   "id": "e0124408-5fd0-41a3-8416-994de86aad72",
   "metadata": {},
   "outputs": [],
   "source": [
    "def compute_loss(x,y, theta):\n",
    "    \n",
    "    predictions = x.dot(theta)\n",
    "    errors = np.subtract(predictions, y)\n",
    "    sqrErrors = np.square(errors)\n",
    "    J= 1 / (2 * m) * np.sum(sqrErrors) \n",
    "    \n",
    "    return J"
   ]
  },
  {
   "cell_type": "code",
   "execution_count": 12,
   "id": "047cfae0-b1b1-415f-a8ef-53a49287ba98",
   "metadata": {},
   "outputs": [
    {
     "name": "stdout",
     "output_type": "stream",
     "text": [
      "The cost for given values of theta_0,_1,_2,_3 is: 552.4438459196241\n"
     ]
    }
   ],
   "source": [
    "cost = compute_loss(x, y, theta)\n",
    "print('The cost for given values of theta_0,_1,_2,_3 is:', cost)"
   ]
  },
  {
   "cell_type": "code",
   "execution_count": 18,
   "id": "56b55130-0616-4013-b646-ec8f8b807acf",
   "metadata": {},
   "outputs": [],
   "source": [
    "def gradient_descent(x, y, theta, alpha, iterations):\n",
    "    \n",
    "    loss_history= np.zeros(iterations)\n",
    "                    \n",
    "    for i in range(iterations):\n",
    "        predictions= x.dot(theta)\n",
    "        errors=np.subtract(predictions, y)\n",
    "        sum_delta=(alpha/ m)* x.transpose().dot(errors)\n",
    "        theta= theta - sum_delta\n",
    "        loss_history[i]= compute_loss(x,y,theta)\n",
    "        \n",
    "        \n",
    "    return theta, loss_history"
   ]
  },
  {
   "cell_type": "code",
   "execution_count": 19,
   "id": "ccdfed45-e29b-4321-8bef-e5670930e7ae",
   "metadata": {},
   "outputs": [],
   "source": [
    "theta=[0,0,0,0]\n",
    "iterations=2000;\n",
    "alpha=0.1;"
   ]
  },
  {
   "cell_type": "code",
   "execution_count": 20,
   "id": "eb4cd981-9c67-428b-8c96-bb01ff4287c5",
   "metadata": {},
   "outputs": [
    {
     "name": "stdout",
     "output_type": "stream",
     "text": [
      "Final value of theta= [ 5.31416716 -2.00371927  0.53256334 -0.26560186]\n",
      "cost_history= [4.13064348 3.51770697 3.12758306 ... 0.73846424 0.73846424 0.73846424]\n"
     ]
    }
   ],
   "source": [
    "theta, loss_history= gradient_descent(x,y, theta, alpha, iterations)\n",
    "print('Final value of theta=', theta)\n",
    "print('cost_history=', loss_history)"
   ]
  },
  {
   "cell_type": "code",
   "execution_count": 21,
   "id": "3d35ff74-255e-4ba1-8498-daed307cc914",
   "metadata": {},
   "outputs": [
    {
     "data": {
      "text/plain": [
       "Text(0.5, 1.0, 'Convergence of gradient descent')"
      ]
     },
     "execution_count": 21,
     "metadata": {},
     "output_type": "execute_result"
    },
    {
     "data": {
      "image/png": "[encoded data removed]",
      "text/plain": [
       "<Figure size 720x432 with 1 Axes>"
      ]
     },
     "metadata": {
      "needs_background": "light"
     },
     "output_type": "display_data"
    }
   ],
   "source": [
    "plt.plot(range(1, iterations +1), loss_history, color='blue')\n",
    "plt.rcParams[\"figure.figsize\"]= (10,6)\n",
    "plt.grid()\n",
    "plt.xlabel('Number of iterations')\n",
    "plt.ylabel('loss (J)')\n",
    "plt.title('Convergence of gradient descent')"
   ]
  },
  {
   "cell_type": "code",
   "execution_count": 29,
   "id": "203847b8-b25b-493c-ad8b-244f71a22b8b",
   "metadata": {},
   "outputs": [
    {
     "name": "stdout",
     "output_type": "stream",
     "text": [
      "3.5774093700000003\n"
     ]
    }
   ],
   "source": [
    "test1=np.array([1,1,1,1])\n",
    "theta=np.array([5.31416716, -2.00371927, 0.53256334, -0.26560186])\n",
    "predictions= test1.dot(theta)\n",
    "print (predictions)"
   ]
  },
  {
   "cell_type": "code",
   "execution_count": 32,
   "id": "abe64d2b-fa69-439c-b0ca-74dd555ba6d8",
   "metadata": {},
   "outputs": [
    {
     "name": "stdout",
     "output_type": "stream",
     "text": [
      "0.24432118000000025\n"
     ]
    }
   ],
   "source": [
    "test2=np.array([1,2,0,4])\n",
    "theta=np.array([5.31416716, -2.00371927, 0.53256334, -0.26560186])\n",
    "predictions= test2.dot(theta)\n",
    "print (predictions)"
   ]
  },
  {
   "cell_type": "code",
   "execution_count": 33,
   "id": "67c18974-fa3c-4f94-ad2c-29bb2942ac5b",
   "metadata": {},
   "outputs": [
    {
     "name": "stdout",
     "output_type": "stream",
     "text": [
      "0.10253417000000004\n"
     ]
    }
   ],
   "source": [
    "test3=np.array([1,3,2,1])\n",
    "theta=np.array([5.31416716, -2.00371927, 0.53256334, -0.26560186])\n",
    "predictions= test3.dot(theta)\n",
    "print (predictions)"
   ]
  },
  {
   "cell_type": "code",
   "execution_count": null,
   "id": "026d7f2a-6014-445c-8f59-6ff124c68538",
   "metadata": {},
   "outputs": [],
   "source": []
  }
 ],
 "metadata": {
  "kernelspec": {
   "display_name": "Python 3",
   "language": "python",
   "name": "python3"
  },
  "language_info": {
   "codemirror_mode": {
    "name": "ipython",
    "version": 3
   },
   "file_extension": ".py",
   "mimetype": "text/x-python",
   "name": "python",
   "nbconvert_exporter": "python",
   "pygments_lexer": "ipython3",
   "version": "3.8.8"
  }
 },
 "nbformat": 4,
 "nbformat_minor": 5
}
